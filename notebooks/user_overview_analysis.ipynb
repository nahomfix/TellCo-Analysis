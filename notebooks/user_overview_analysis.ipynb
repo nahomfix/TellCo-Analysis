{
 "cells": [
  {
   "cell_type": "code",
   "execution_count": 115,
   "metadata": {},
   "outputs": [],
   "source": [
    "import pandas as pd\n",
    "import numpy as np\n",
    "import os\n",
    "import matplotlib.pyplot as plt\n",
    "import seaborn as sns\n",
    "%matplotlib inline"
   ]
  },
  {
   "cell_type": "code",
   "execution_count": 116,
   "metadata": {},
   "outputs": [],
   "source": [
    "pwd = os.getcwd()\n",
    "# file_path = os.path.join(pwd, os.pardir, 'data/Week1_challenge_data_source(CSV).csv')\n",
    "# file_path = os.path.join(pwd, os.pardir, 'data/clean_data.csv')\n",
    "file_path = os.path.join(pwd, os.pardir, 'data/sample_data.csv')"
   ]
  },
  {
   "cell_type": "code",
   "execution_count": 117,
   "metadata": {},
   "outputs": [],
   "source": [
    "# data = pd.read_csv(file_path, na_values=[\"undefined\"], keep_default_na=True, parse_dates=[\"Start\", \"End\"])\n",
    "data = pd.read_csv(file_path, parse_dates=[\"Start\", \"End\"])"
   ]
  },
  {
   "cell_type": "code",
   "execution_count": 118,
   "metadata": {},
   "outputs": [
    {
     "data": {
      "text/html": [
       "<div>\n",
       "<style scoped>\n",
       "    .dataframe tbody tr th:only-of-type {\n",
       "        vertical-align: middle;\n",
       "    }\n",
       "\n",
       "    .dataframe tbody tr th {\n",
       "        vertical-align: top;\n",
       "    }\n",
       "\n",
       "    .dataframe thead th {\n",
       "        text-align: right;\n",
       "    }\n",
       "</style>\n",
       "<table border=\"1\" class=\"dataframe\">\n",
       "  <thead>\n",
       "    <tr style=\"text-align: right;\">\n",
       "      <th></th>\n",
       "      <th>Bearer Id</th>\n",
       "      <th>Start</th>\n",
       "      <th>Start ms</th>\n",
       "      <th>End</th>\n",
       "      <th>End ms</th>\n",
       "      <th>Dur. (s)</th>\n",
       "      <th>IMSI</th>\n",
       "      <th>MSISDN/Number</th>\n",
       "      <th>IMEI</th>\n",
       "      <th>Last Location Name</th>\n",
       "      <th>...</th>\n",
       "      <th>Youtube DL (Bytes)</th>\n",
       "      <th>Youtube UL (Bytes)</th>\n",
       "      <th>Netflix DL (Bytes)</th>\n",
       "      <th>Netflix UL (Bytes)</th>\n",
       "      <th>Gaming DL (Bytes)</th>\n",
       "      <th>Gaming UL (Bytes)</th>\n",
       "      <th>Other DL (Bytes)</th>\n",
       "      <th>Other UL (Bytes)</th>\n",
       "      <th>Total UL (Bytes)</th>\n",
       "      <th>Total DL (Bytes)</th>\n",
       "    </tr>\n",
       "  </thead>\n",
       "  <tbody>\n",
       "    <tr>\n",
       "      <th>0</th>\n",
       "      <td>13114500000000000000.00</td>\n",
       "      <td>43559.50069</td>\n",
       "      <td>770</td>\n",
       "      <td>43580.60764</td>\n",
       "      <td>662</td>\n",
       "      <td>1823652</td>\n",
       "      <td>208201000000000.00</td>\n",
       "      <td>33664962239</td>\n",
       "      <td>35521200000000.00</td>\n",
       "      <td>9.16457E+15</td>\n",
       "      <td>...</td>\n",
       "      <td>15854611</td>\n",
       "      <td>2501332</td>\n",
       "      <td>8198936</td>\n",
       "      <td>9656251</td>\n",
       "      <td>278082303</td>\n",
       "      <td>14344150</td>\n",
       "      <td>171744450</td>\n",
       "      <td>8814393</td>\n",
       "      <td>36749741</td>\n",
       "      <td>308879636</td>\n",
       "    </tr>\n",
       "    <tr>\n",
       "      <th>1</th>\n",
       "      <td>13114500000000000000.00</td>\n",
       "      <td>43564.54444</td>\n",
       "      <td>235</td>\n",
       "      <td>43580.34375</td>\n",
       "      <td>606</td>\n",
       "      <td>1365104</td>\n",
       "      <td>208202000000000.00</td>\n",
       "      <td>33681854413</td>\n",
       "      <td>35794000000000.00</td>\n",
       "      <td>L77566A</td>\n",
       "      <td>...</td>\n",
       "      <td>20247395</td>\n",
       "      <td>19111729</td>\n",
       "      <td>18338413</td>\n",
       "      <td>17227132</td>\n",
       "      <td>608750074</td>\n",
       "      <td>1170709</td>\n",
       "      <td>526904238</td>\n",
       "      <td>15055145</td>\n",
       "      <td>53800391</td>\n",
       "      <td>653384965</td>\n",
       "    </tr>\n",
       "    <tr>\n",
       "      <th>2</th>\n",
       "      <td>13114500000000000000.00</td>\n",
       "      <td>43564.7375</td>\n",
       "      <td>1</td>\n",
       "      <td>43580.49861</td>\n",
       "      <td>652</td>\n",
       "      <td>1361762</td>\n",
       "      <td>208200000000000.00</td>\n",
       "      <td>33760627129</td>\n",
       "      <td>35281500000000.00</td>\n",
       "      <td>D42335A</td>\n",
       "      <td>...</td>\n",
       "      <td>19725661</td>\n",
       "      <td>14699576</td>\n",
       "      <td>17587794</td>\n",
       "      <td>6163408</td>\n",
       "      <td>229584621</td>\n",
       "      <td>395630</td>\n",
       "      <td>410692588</td>\n",
       "      <td>4215763</td>\n",
       "      <td>27883638</td>\n",
       "      <td>279807335</td>\n",
       "    </tr>\n",
       "    <tr>\n",
       "      <th>3</th>\n",
       "      <td>13114500000000000000.00</td>\n",
       "      <td>43565.02153</td>\n",
       "      <td>486</td>\n",
       "      <td>43580.31667</td>\n",
       "      <td>171</td>\n",
       "      <td>1321509</td>\n",
       "      <td>208201000000000.00</td>\n",
       "      <td>33750343200</td>\n",
       "      <td>35356600000000.00</td>\n",
       "      <td>T21824A</td>\n",
       "      <td>...</td>\n",
       "      <td>21388122</td>\n",
       "      <td>15146643</td>\n",
       "      <td>13994646</td>\n",
       "      <td>1097942</td>\n",
       "      <td>799538153</td>\n",
       "      <td>10849722</td>\n",
       "      <td>749039933</td>\n",
       "      <td>12797283</td>\n",
       "      <td>43324218</td>\n",
       "      <td>846028530</td>\n",
       "    </tr>\n",
       "    <tr>\n",
       "      <th>4</th>\n",
       "      <td>13114500000000000000.00</td>\n",
       "      <td>43567.84028</td>\n",
       "      <td>565</td>\n",
       "      <td>43580.44444</td>\n",
       "      <td>954</td>\n",
       "      <td>1089009</td>\n",
       "      <td>208201000000000.00</td>\n",
       "      <td>33699795932</td>\n",
       "      <td>35407000000000.00</td>\n",
       "      <td>D88865A</td>\n",
       "      <td>...</td>\n",
       "      <td>15259380</td>\n",
       "      <td>18962873</td>\n",
       "      <td>17124581</td>\n",
       "      <td>415218</td>\n",
       "      <td>527707248</td>\n",
       "      <td>3529801</td>\n",
       "      <td>550709500</td>\n",
       "      <td>13910322</td>\n",
       "      <td>38542814</td>\n",
       "      <td>569138589</td>\n",
       "    </tr>\n",
       "  </tbody>\n",
       "</table>\n",
       "<p>5 rows × 55 columns</p>\n",
       "</div>"
      ],
      "text/plain": [
       "                Bearer Id        Start  Start ms          End  End ms  \\\n",
       "0 13114500000000000000.00  43559.50069       770  43580.60764     662   \n",
       "1 13114500000000000000.00  43564.54444       235  43580.34375     606   \n",
       "2 13114500000000000000.00   43564.7375         1  43580.49861     652   \n",
       "3 13114500000000000000.00  43565.02153       486  43580.31667     171   \n",
       "4 13114500000000000000.00  43567.84028       565  43580.44444     954   \n",
       "\n",
       "   Dur. (s)               IMSI  MSISDN/Number              IMEI  \\\n",
       "0   1823652 208201000000000.00    33664962239 35521200000000.00   \n",
       "1   1365104 208202000000000.00    33681854413 35794000000000.00   \n",
       "2   1361762 208200000000000.00    33760627129 35281500000000.00   \n",
       "3   1321509 208201000000000.00    33750343200 35356600000000.00   \n",
       "4   1089009 208201000000000.00    33699795932 35407000000000.00   \n",
       "\n",
       "  Last Location Name  ...  Youtube DL (Bytes)  Youtube UL (Bytes)  \\\n",
       "0        9.16457E+15  ...            15854611             2501332   \n",
       "1            L77566A  ...            20247395            19111729   \n",
       "2            D42335A  ...            19725661            14699576   \n",
       "3            T21824A  ...            21388122            15146643   \n",
       "4            D88865A  ...            15259380            18962873   \n",
       "\n",
       "   Netflix DL (Bytes)  Netflix UL (Bytes)  Gaming DL (Bytes)  \\\n",
       "0             8198936             9656251          278082303   \n",
       "1            18338413            17227132          608750074   \n",
       "2            17587794             6163408          229584621   \n",
       "3            13994646             1097942          799538153   \n",
       "4            17124581              415218          527707248   \n",
       "\n",
       "   Gaming UL (Bytes)  Other DL (Bytes)  Other UL (Bytes)  Total UL (Bytes)  \\\n",
       "0           14344150         171744450           8814393          36749741   \n",
       "1            1170709         526904238          15055145          53800391   \n",
       "2             395630         410692588           4215763          27883638   \n",
       "3           10849722         749039933          12797283          43324218   \n",
       "4            3529801         550709500          13910322          38542814   \n",
       "\n",
       "   Total DL (Bytes)  \n",
       "0         308879636  \n",
       "1         653384965  \n",
       "2         279807335  \n",
       "3         846028530  \n",
       "4         569138589  \n",
       "\n",
       "[5 rows x 55 columns]"
      ]
     },
     "execution_count": 118,
     "metadata": {},
     "output_type": "execute_result"
    }
   ],
   "source": [
    "data.head()"
   ]
  },
  {
   "cell_type": "code",
   "execution_count": 119,
   "metadata": {},
   "outputs": [
    {
     "data": {
      "text/plain": [
       "(19, 55)"
      ]
     },
     "execution_count": 119,
     "metadata": {},
     "output_type": "execute_result"
    }
   ],
   "source": [
    "data.shape"
   ]
  },
  {
   "cell_type": "code",
   "execution_count": 120,
   "metadata": {},
   "outputs": [
    {
     "data": {
      "text/plain": [
       "['Bearer Id',\n",
       " 'Start',\n",
       " 'Start ms',\n",
       " 'End',\n",
       " 'End ms',\n",
       " 'Dur. (s)',\n",
       " 'IMSI',\n",
       " 'MSISDN/Number',\n",
       " 'IMEI',\n",
       " 'Last Location Name',\n",
       " 'Avg RTT DL (ms)',\n",
       " 'Avg RTT UL (ms)',\n",
       " 'Avg Bearer TP DL (kbps)',\n",
       " 'Avg Bearer TP UL (kbps)',\n",
       " 'TCP DL Retrans. Vol (Bytes)',\n",
       " 'TCP UL Retrans. Vol (Bytes)',\n",
       " 'DL TP < 50 Kbps (%)',\n",
       " '50 Kbps < DL TP < 250 Kbps (%)',\n",
       " '250 Kbps < DL TP < 1 Mbps (%)',\n",
       " 'DL TP > 1 Mbps (%)',\n",
       " 'UL TP < 10 Kbps (%)',\n",
       " '10 Kbps < UL TP < 50 Kbps (%)',\n",
       " '50 Kbps < UL TP < 300 Kbps (%)',\n",
       " 'UL TP > 300 Kbps (%)',\n",
       " 'HTTP DL (Bytes)',\n",
       " 'HTTP UL (Bytes)',\n",
       " 'Activity Duration DL (ms)',\n",
       " 'Activity Duration UL (ms)',\n",
       " 'Dur. (ms)',\n",
       " 'Handset Manufacturer',\n",
       " 'Handset Type',\n",
       " 'Nb of sec with 125000B < Vol DL',\n",
       " 'Nb of sec with 1250B < Vol UL < 6250B',\n",
       " 'Nb of sec with 31250B < Vol DL < 125000B',\n",
       " 'Nb of sec with 37500B < Vol UL',\n",
       " 'Nb of sec with 6250B < Vol DL < 31250B',\n",
       " 'Nb of sec with 6250B < Vol UL < 37500B',\n",
       " 'Nb of sec with Vol DL < 6250B',\n",
       " 'Nb of sec with Vol UL < 1250B',\n",
       " 'Social Media DL (Bytes)',\n",
       " 'Social Media UL (Bytes)',\n",
       " 'Google DL (Bytes)',\n",
       " 'Google UL (Bytes)',\n",
       " 'Email DL (Bytes)',\n",
       " 'Email UL (Bytes)',\n",
       " 'Youtube DL (Bytes)',\n",
       " 'Youtube UL (Bytes)',\n",
       " 'Netflix DL (Bytes)',\n",
       " 'Netflix UL (Bytes)',\n",
       " 'Gaming DL (Bytes)',\n",
       " 'Gaming UL (Bytes)',\n",
       " 'Other DL (Bytes)',\n",
       " 'Other UL (Bytes)',\n",
       " 'Total UL (Bytes)',\n",
       " 'Total DL (Bytes)']"
      ]
     },
     "execution_count": 120,
     "metadata": {},
     "output_type": "execute_result"
    }
   ],
   "source": [
    "data.columns.tolist()"
   ]
  },
  {
   "cell_type": "code",
   "execution_count": 121,
   "metadata": {},
   "outputs": [],
   "source": [
    "data_modified = data.copy()"
   ]
  },
  {
   "cell_type": "code",
   "execution_count": 122,
   "metadata": {},
   "outputs": [
    {
     "name": "stdout",
     "output_type": "stream",
     "text": [
      "<class 'pandas.core.frame.DataFrame'>\n",
      "RangeIndex: 19 entries, 0 to 18\n",
      "Data columns (total 55 columns):\n",
      " #   Column                                    Non-Null Count  Dtype  \n",
      "---  ------                                    --------------  -----  \n",
      " 0   Bearer Id                                 19 non-null     float64\n",
      " 1   Start                                     19 non-null     object \n",
      " 2   Start ms                                  19 non-null     int64  \n",
      " 3   End                                       19 non-null     object \n",
      " 4   End ms                                    19 non-null     int64  \n",
      " 5   Dur. (s)                                  19 non-null     int64  \n",
      " 6   IMSI                                      19 non-null     float64\n",
      " 7   MSISDN/Number                             19 non-null     int64  \n",
      " 8   IMEI                                      19 non-null     float64\n",
      " 9   Last Location Name                        19 non-null     object \n",
      " 10  Avg RTT DL (ms)                           19 non-null     int64  \n",
      " 11  Avg RTT UL (ms)                           19 non-null     int64  \n",
      " 12  Avg Bearer TP DL (kbps)                   19 non-null     int64  \n",
      " 13  Avg Bearer TP UL (kbps)                   19 non-null     int64  \n",
      " 14  TCP DL Retrans. Vol (Bytes)               19 non-null     int64  \n",
      " 15  TCP UL Retrans. Vol (Bytes)               19 non-null     int64  \n",
      " 16  DL TP < 50 Kbps (%)                       19 non-null     int64  \n",
      " 17  50 Kbps < DL TP < 250 Kbps (%)            19 non-null     int64  \n",
      " 18  250 Kbps < DL TP < 1 Mbps (%)             19 non-null     int64  \n",
      " 19  DL TP > 1 Mbps (%)                        19 non-null     int64  \n",
      " 20  UL TP < 10 Kbps (%)                       19 non-null     int64  \n",
      " 21  10 Kbps < UL TP < 50 Kbps (%)             19 non-null     int64  \n",
      " 22  50 Kbps < UL TP < 300 Kbps (%)            19 non-null     int64  \n",
      " 23  UL TP > 300 Kbps (%)                      19 non-null     int64  \n",
      " 24  HTTP DL (Bytes)                           19 non-null     int64  \n",
      " 25  HTTP UL (Bytes)                           19 non-null     int64  \n",
      " 26  Activity Duration DL (ms)                 19 non-null     int64  \n",
      " 27  Activity Duration UL (ms)                 19 non-null     int64  \n",
      " 28  Dur. (ms)                                 19 non-null     int64  \n",
      " 29  Handset Manufacturer                      19 non-null     object \n",
      " 30  Handset Type                              19 non-null     object \n",
      " 31  Nb of sec with 125000B < Vol DL           19 non-null     int64  \n",
      " 32  Nb of sec with 1250B < Vol UL < 6250B     19 non-null     int64  \n",
      " 33  Nb of sec with 31250B < Vol DL < 125000B  19 non-null     int64  \n",
      " 34  Nb of sec with 37500B < Vol UL            19 non-null     int64  \n",
      " 35  Nb of sec with 6250B < Vol DL < 31250B    19 non-null     int64  \n",
      " 36  Nb of sec with 6250B < Vol UL < 37500B    19 non-null     int64  \n",
      " 37  Nb of sec with Vol DL < 6250B             19 non-null     int64  \n",
      " 38  Nb of sec with Vol UL < 1250B             19 non-null     int64  \n",
      " 39  Social Media DL (Bytes)                   19 non-null     int64  \n",
      " 40  Social Media UL (Bytes)                   19 non-null     int64  \n",
      " 41  Google DL (Bytes)                         19 non-null     int64  \n",
      " 42  Google UL (Bytes)                         19 non-null     int64  \n",
      " 43  Email DL (Bytes)                          19 non-null     int64  \n",
      " 44  Email UL (Bytes)                          19 non-null     int64  \n",
      " 45  Youtube DL (Bytes)                        19 non-null     int64  \n",
      " 46  Youtube UL (Bytes)                        19 non-null     int64  \n",
      " 47  Netflix DL (Bytes)                        19 non-null     int64  \n",
      " 48  Netflix UL (Bytes)                        19 non-null     int64  \n",
      " 49  Gaming DL (Bytes)                         19 non-null     int64  \n",
      " 50  Gaming UL (Bytes)                         19 non-null     int64  \n",
      " 51  Other DL (Bytes)                          19 non-null     int64  \n",
      " 52  Other UL (Bytes)                          19 non-null     int64  \n",
      " 53  Total UL (Bytes)                          19 non-null     int64  \n",
      " 54  Total DL (Bytes)                          19 non-null     int64  \n",
      "dtypes: float64(3), int64(47), object(5)\n",
      "memory usage: 8.3+ KB\n"
     ]
    }
   ],
   "source": [
    "data_modified.info()"
   ]
  },
  {
   "cell_type": "code",
   "execution_count": 123,
   "metadata": {},
   "outputs": [],
   "source": [
    "# sets global styling for graphs\n",
    "plt.style.use('seaborn')"
   ]
  },
  {
   "cell_type": "markdown",
   "metadata": {},
   "source": [
    "### Top 10 used handsets by customers"
   ]
  },
  {
   "cell_type": "code",
   "execution_count": 38,
   "metadata": {},
   "outputs": [],
   "source": [
    "top_10_handsets = data_modified[\"Handset Type\"].value_counts().nlargest(10)"
   ]
  },
  {
   "cell_type": "code",
   "execution_count": 39,
   "metadata": {},
   "outputs": [
    {
     "data": {
      "text/plain": [
       "Huawei B528S-23A                19727\n",
       "Apple iPhone 6S (A1688)          9395\n",
       "Apple iPhone 6 (A1586)           8993\n",
       "Unknown                          8904\n",
       "Apple iPhone 7 (A1778)           6279\n",
       "Apple iPhone Se (A1723)          5165\n",
       "Apple iPhone 8 (A1905)           4977\n",
       "Apple iPhone Xr (A2105)          4556\n",
       "Samsung Galaxy S8 (Sm-G950F)     4464\n",
       "Apple iPhone X (A1901)           3806\n",
       "Name: Handset Type, dtype: int64"
      ]
     },
     "execution_count": 39,
     "metadata": {},
     "output_type": "execute_result"
    }
   ],
   "source": [
    "top_10_handsets"
   ]
  },
  {
   "cell_type": "code",
   "execution_count": 40,
   "metadata": {},
   "outputs": [
    {
     "data": {
      "image/png": "[encoded data removed]",
      "text/plain": [
       "<Figure size 1440x720 with 1 Axes>"
      ]
     },
     "metadata": {},
     "output_type": "display_data"
    }
   ],
   "source": [
    "top_10_handsets.plot(kind=\"barh\", figsize=(20, 10), title=\"Most used handsets by customers\").invert_yaxis()"
   ]
  },
  {
   "cell_type": "markdown",
   "metadata": {},
   "source": [
    "### Top 3 handset manufacturers"
   ]
  },
  {
   "cell_type": "code",
   "execution_count": 41,
   "metadata": {},
   "outputs": [],
   "source": [
    "top_3_handset_manufacturers = data_modified[\"Handset Manufacturer\"].value_counts().nlargest(3)"
   ]
  },
  {
   "cell_type": "code",
   "execution_count": 42,
   "metadata": {},
   "outputs": [
    {
     "data": {
      "text/plain": [
       "Apple      59339\n",
       "Samsung    40429\n",
       "Huawei     34296\n",
       "Name: Handset Manufacturer, dtype: int64"
      ]
     },
     "execution_count": 42,
     "metadata": {},
     "output_type": "execute_result"
    }
   ],
   "source": [
    "top_3_handset_manufacturers"
   ]
  },
  {
   "cell_type": "code",
   "execution_count": 44,
   "metadata": {},
   "outputs": [
    {
     "data": {
      "image/png": "[encoded data removed]",
      "text/plain": [
       "<Figure size 1440x720 with 1 Axes>"
      ]
     },
     "metadata": {},
     "output_type": "display_data"
    }
   ],
   "source": [
    "top_3_handset_manufacturers.plot(kind=\"barh\", figsize=(20, 10), title=\"Top 3 handsets manufacturers\").invert_yaxis()"
   ]
  },
  {
   "cell_type": "markdown",
   "metadata": {},
   "source": [
    "### Top 5 Handsets Manufactured by Apple"
   ]
  },
  {
   "cell_type": "code",
   "execution_count": 45,
   "metadata": {},
   "outputs": [],
   "source": [
    "top_5_apple_handsets = data_modified[data_modified[\"Handset Manufacturer\"] == \"Apple\"][[\"Handset Manufacturer\", \"Handset Type\"]].groupby(\"Handset Type\").count().nlargest(n=5, columns=\"Handset Manufacturer\")"
   ]
  },
  {
   "cell_type": "code",
   "execution_count": 46,
   "metadata": {},
   "outputs": [
    {
     "data": {
      "text/html": [
       "<div>\n",
       "<style scoped>\n",
       "    .dataframe tbody tr th:only-of-type {\n",
       "        vertical-align: middle;\n",
       "    }\n",
       "\n",
       "    .dataframe tbody tr th {\n",
       "        vertical-align: top;\n",
       "    }\n",
       "\n",
       "    .dataframe thead th {\n",
       "        text-align: right;\n",
       "    }\n",
       "</style>\n",
       "<table border=\"1\" class=\"dataframe\">\n",
       "  <thead>\n",
       "    <tr style=\"text-align: right;\">\n",
       "      <th></th>\n",
       "      <th>Handset Manufacturer</th>\n",
       "    </tr>\n",
       "    <tr>\n",
       "      <th>Handset Type</th>\n",
       "      <th></th>\n",
       "    </tr>\n",
       "  </thead>\n",
       "  <tbody>\n",
       "    <tr>\n",
       "      <th>Apple iPhone 6S (A1688)</th>\n",
       "      <td>9395</td>\n",
       "    </tr>\n",
       "    <tr>\n",
       "      <th>Apple iPhone 6 (A1586)</th>\n",
       "      <td>8993</td>\n",
       "    </tr>\n",
       "    <tr>\n",
       "      <th>Apple iPhone 7 (A1778)</th>\n",
       "      <td>6279</td>\n",
       "    </tr>\n",
       "    <tr>\n",
       "      <th>Apple iPhone Se (A1723)</th>\n",
       "      <td>5165</td>\n",
       "    </tr>\n",
       "    <tr>\n",
       "      <th>Apple iPhone 8 (A1905)</th>\n",
       "      <td>4977</td>\n",
       "    </tr>\n",
       "  </tbody>\n",
       "</table>\n",
       "</div>"
      ],
      "text/plain": [
       "                         Handset Manufacturer\n",
       "Handset Type                                 \n",
       "Apple iPhone 6S (A1688)                  9395\n",
       "Apple iPhone 6 (A1586)                   8993\n",
       "Apple iPhone 7 (A1778)                   6279\n",
       "Apple iPhone Se (A1723)                  5165\n",
       "Apple iPhone 8 (A1905)                   4977"
      ]
     },
     "execution_count": 46,
     "metadata": {},
     "output_type": "execute_result"
    }
   ],
   "source": [
    "top_5_apple_handsets"
   ]
  },
  {
   "cell_type": "code",
   "execution_count": 47,
   "metadata": {},
   "outputs": [
    {
     "data": {
      "image/png": "[encoded data removed]",
      "text/plain": [
       "<Figure size 1440x720 with 1 Axes>"
      ]
     },
     "metadata": {},
     "output_type": "display_data"
    }
   ],
   "source": [
    "top_5_apple_handsets.plot(kind=\"barh\", figsize=(20, 10), title=\"Top 5 Handsets Manufactured by Apple\", legend=False, xlabel=\"\").invert_yaxis()"
   ]
  },
  {
   "cell_type": "markdown",
   "metadata": {},
   "source": [
    "### Top 5 Handsets Manufactured by Samsung"
   ]
  },
  {
   "cell_type": "code",
   "execution_count": 48,
   "metadata": {},
   "outputs": [],
   "source": [
    "top_5_samsung_handsets = data_modified[data_modified[\"Handset Manufacturer\"] == \"Samsung\"][[\"Handset Manufacturer\", \"Handset Type\"]].groupby(\"Handset Type\").count().nlargest(n=5, columns=\"Handset Manufacturer\")"
   ]
  },
  {
   "cell_type": "code",
   "execution_count": 49,
   "metadata": {},
   "outputs": [
    {
     "data": {
      "text/html": [
       "<div>\n",
       "<style scoped>\n",
       "    .dataframe tbody tr th:only-of-type {\n",
       "        vertical-align: middle;\n",
       "    }\n",
       "\n",
       "    .dataframe tbody tr th {\n",
       "        vertical-align: top;\n",
       "    }\n",
       "\n",
       "    .dataframe thead th {\n",
       "        text-align: right;\n",
       "    }\n",
       "</style>\n",
       "<table border=\"1\" class=\"dataframe\">\n",
       "  <thead>\n",
       "    <tr style=\"text-align: right;\">\n",
       "      <th></th>\n",
       "      <th>Handset Manufacturer</th>\n",
       "    </tr>\n",
       "    <tr>\n",
       "      <th>Handset Type</th>\n",
       "      <th></th>\n",
       "    </tr>\n",
       "  </thead>\n",
       "  <tbody>\n",
       "    <tr>\n",
       "      <th>Samsung Galaxy S8 (Sm-G950F)</th>\n",
       "      <td>4464</td>\n",
       "    </tr>\n",
       "    <tr>\n",
       "      <th>Samsung Galaxy A5 Sm-A520F</th>\n",
       "      <td>3700</td>\n",
       "    </tr>\n",
       "    <tr>\n",
       "      <th>Samsung Galaxy J5 (Sm-J530)</th>\n",
       "      <td>3675</td>\n",
       "    </tr>\n",
       "    <tr>\n",
       "      <th>Samsung Galaxy J3 (Sm-J330)</th>\n",
       "      <td>3456</td>\n",
       "    </tr>\n",
       "    <tr>\n",
       "      <th>Samsung Galaxy S7 (Sm-G930X)</th>\n",
       "      <td>3171</td>\n",
       "    </tr>\n",
       "  </tbody>\n",
       "</table>\n",
       "</div>"
      ],
      "text/plain": [
       "                              Handset Manufacturer\n",
       "Handset Type                                      \n",
       "Samsung Galaxy S8 (Sm-G950F)                  4464\n",
       "Samsung Galaxy A5 Sm-A520F                    3700\n",
       "Samsung Galaxy J5 (Sm-J530)                   3675\n",
       "Samsung Galaxy J3 (Sm-J330)                   3456\n",
       "Samsung Galaxy S7 (Sm-G930X)                  3171"
      ]
     },
     "execution_count": 49,
     "metadata": {},
     "output_type": "execute_result"
    }
   ],
   "source": [
    "top_5_samsung_handsets"
   ]
  },
  {
   "cell_type": "code",
   "execution_count": 50,
   "metadata": {},
   "outputs": [
    {
     "data": {
      "image/png": "[encoded data removed]",
      "text/plain": [
       "<Figure size 1440x720 with 1 Axes>"
      ]
     },
     "metadata": {},
     "output_type": "display_data"
    }
   ],
   "source": [
    "top_5_samsung_handsets.plot(kind=\"barh\", figsize=(20, 10), title=\"Top 5 Handsets Manufactured by Samsung\", legend=False, xlabel=\"\").invert_yaxis()"
   ]
  },
  {
   "cell_type": "markdown",
   "metadata": {},
   "source": [
    "### Top 5 Handsets Manufactured by Huawei"
   ]
  },
  {
   "cell_type": "code",
   "execution_count": 51,
   "metadata": {},
   "outputs": [],
   "source": [
    "top_5_huawei_handsets = data_modified[data_modified[\"Handset Manufacturer\"] == \"Huawei\"][[\"Handset Manufacturer\", \"Handset Type\"]].groupby(\"Handset Type\").count().nlargest(n=5, columns=\"Handset Manufacturer\")"
   ]
  },
  {
   "cell_type": "code",
   "execution_count": 52,
   "metadata": {},
   "outputs": [
    {
     "data": {
      "text/html": [
       "<div>\n",
       "<style scoped>\n",
       "    .dataframe tbody tr th:only-of-type {\n",
       "        vertical-align: middle;\n",
       "    }\n",
       "\n",
       "    .dataframe tbody tr th {\n",
       "        vertical-align: top;\n",
       "    }\n",
       "\n",
       "    .dataframe thead th {\n",
       "        text-align: right;\n",
       "    }\n",
       "</style>\n",
       "<table border=\"1\" class=\"dataframe\">\n",
       "  <thead>\n",
       "    <tr style=\"text-align: right;\">\n",
       "      <th></th>\n",
       "      <th>Handset Manufacturer</th>\n",
       "    </tr>\n",
       "    <tr>\n",
       "      <th>Handset Type</th>\n",
       "      <th></th>\n",
       "    </tr>\n",
       "  </thead>\n",
       "  <tbody>\n",
       "    <tr>\n",
       "      <th>Huawei B528S-23A</th>\n",
       "      <td>19727</td>\n",
       "    </tr>\n",
       "    <tr>\n",
       "      <th>Huawei E5180</th>\n",
       "      <td>2074</td>\n",
       "    </tr>\n",
       "    <tr>\n",
       "      <th>Huawei P20 Lite Huawei Nova 3E</th>\n",
       "      <td>2012</td>\n",
       "    </tr>\n",
       "    <tr>\n",
       "      <th>Huawei P20</th>\n",
       "      <td>1475</td>\n",
       "    </tr>\n",
       "    <tr>\n",
       "      <th>Huawei Y6 2018</th>\n",
       "      <td>996</td>\n",
       "    </tr>\n",
       "  </tbody>\n",
       "</table>\n",
       "</div>"
      ],
      "text/plain": [
       "                                Handset Manufacturer\n",
       "Handset Type                                        \n",
       "Huawei B528S-23A                               19727\n",
       "Huawei E5180                                    2074\n",
       "Huawei P20 Lite Huawei Nova 3E                  2012\n",
       "Huawei P20                                      1475\n",
       "Huawei Y6 2018                                   996"
      ]
     },
     "execution_count": 52,
     "metadata": {},
     "output_type": "execute_result"
    }
   ],
   "source": [
    "top_5_huawei_handsets"
   ]
  },
  {
   "cell_type": "code",
   "execution_count": 53,
   "metadata": {},
   "outputs": [
    {
     "data": {
      "image/png": "[encoded data removed]",
      "text/plain": [
       "<Figure size 1440x720 with 1 Axes>"
      ]
     },
     "metadata": {},
     "output_type": "display_data"
    }
   ],
   "source": [
    "top_5_huawei_handsets.plot(kind=\"barh\", figsize=(20, 10), title=\"Top 5 Handsets Manufactured by Huawei\", legend=False, xlabel=\"\").invert_yaxis()"
   ]
  },
  {
   "cell_type": "markdown",
   "metadata": {},
   "source": [
    "Looking at the insights, TellCo should start selling Apple, Samsung and Huawei manufactured handsets by partnering with them. The marketing team can then let customers know that they're selling these handsets in order to generate more revenue. "
   ]
  },
  {
   "cell_type": "code",
   "execution_count": 54,
   "metadata": {},
   "outputs": [],
   "source": [
    "# to convert the scientific notation to decimal format\n",
    "pd.set_option('display.float_format', lambda x: '%.2f' % x)"
   ]
  },
  {
   "cell_type": "code",
   "execution_count": 55,
   "metadata": {},
   "outputs": [],
   "source": [
    "# reset the decimal format back to scientific notation\n",
    "# pd.reset_option('display.float_format')"
   ]
  },
  {
   "cell_type": "markdown",
   "metadata": {},
   "source": [
    "### Grouping values to look into sessions per user\n",
    "---"
   ]
  },
  {
   "cell_type": "code",
   "execution_count": 124,
   "metadata": {},
   "outputs": [
    {
     "data": {
      "text/html": [
       "<div>\n",
       "<style scoped>\n",
       "    .dataframe tbody tr th:only-of-type {\n",
       "        vertical-align: middle;\n",
       "    }\n",
       "\n",
       "    .dataframe tbody tr th {\n",
       "        vertical-align: top;\n",
       "    }\n",
       "\n",
       "    .dataframe thead th {\n",
       "        text-align: right;\n",
       "    }\n",
       "</style>\n",
       "<table border=\"1\" class=\"dataframe\">\n",
       "  <thead>\n",
       "    <tr style=\"text-align: right;\">\n",
       "      <th></th>\n",
       "      <th>Bearer Id</th>\n",
       "      <th>Start</th>\n",
       "      <th>Start ms</th>\n",
       "      <th>End</th>\n",
       "      <th>End ms</th>\n",
       "      <th>Dur. (s)</th>\n",
       "      <th>IMSI</th>\n",
       "      <th>MSISDN/Number</th>\n",
       "      <th>IMEI</th>\n",
       "      <th>Last Location Name</th>\n",
       "      <th>...</th>\n",
       "      <th>Youtube DL (Bytes)</th>\n",
       "      <th>Youtube UL (Bytes)</th>\n",
       "      <th>Netflix DL (Bytes)</th>\n",
       "      <th>Netflix UL (Bytes)</th>\n",
       "      <th>Gaming DL (Bytes)</th>\n",
       "      <th>Gaming UL (Bytes)</th>\n",
       "      <th>Other DL (Bytes)</th>\n",
       "      <th>Other UL (Bytes)</th>\n",
       "      <th>Total UL (Bytes)</th>\n",
       "      <th>Total DL (Bytes)</th>\n",
       "    </tr>\n",
       "  </thead>\n",
       "  <tbody>\n",
       "    <tr>\n",
       "      <th>0</th>\n",
       "      <td>13114500000000000000.00</td>\n",
       "      <td>43559.50069</td>\n",
       "      <td>770</td>\n",
       "      <td>43580.60764</td>\n",
       "      <td>662</td>\n",
       "      <td>1823652</td>\n",
       "      <td>208201000000000.00</td>\n",
       "      <td>33664962239</td>\n",
       "      <td>35521200000000.00</td>\n",
       "      <td>9.16457E+15</td>\n",
       "      <td>...</td>\n",
       "      <td>15854611</td>\n",
       "      <td>2501332</td>\n",
       "      <td>8198936</td>\n",
       "      <td>9656251</td>\n",
       "      <td>278082303</td>\n",
       "      <td>14344150</td>\n",
       "      <td>171744450</td>\n",
       "      <td>8814393</td>\n",
       "      <td>36749741</td>\n",
       "      <td>308879636</td>\n",
       "    </tr>\n",
       "    <tr>\n",
       "      <th>1</th>\n",
       "      <td>13114500000000000000.00</td>\n",
       "      <td>43564.54444</td>\n",
       "      <td>235</td>\n",
       "      <td>43580.34375</td>\n",
       "      <td>606</td>\n",
       "      <td>1365104</td>\n",
       "      <td>208202000000000.00</td>\n",
       "      <td>33681854413</td>\n",
       "      <td>35794000000000.00</td>\n",
       "      <td>L77566A</td>\n",
       "      <td>...</td>\n",
       "      <td>20247395</td>\n",
       "      <td>19111729</td>\n",
       "      <td>18338413</td>\n",
       "      <td>17227132</td>\n",
       "      <td>608750074</td>\n",
       "      <td>1170709</td>\n",
       "      <td>526904238</td>\n",
       "      <td>15055145</td>\n",
       "      <td>53800391</td>\n",
       "      <td>653384965</td>\n",
       "    </tr>\n",
       "    <tr>\n",
       "      <th>2</th>\n",
       "      <td>13114500000000000000.00</td>\n",
       "      <td>43564.7375</td>\n",
       "      <td>1</td>\n",
       "      <td>43580.49861</td>\n",
       "      <td>652</td>\n",
       "      <td>1361762</td>\n",
       "      <td>208200000000000.00</td>\n",
       "      <td>33760627129</td>\n",
       "      <td>35281500000000.00</td>\n",
       "      <td>D42335A</td>\n",
       "      <td>...</td>\n",
       "      <td>19725661</td>\n",
       "      <td>14699576</td>\n",
       "      <td>17587794</td>\n",
       "      <td>6163408</td>\n",
       "      <td>229584621</td>\n",
       "      <td>395630</td>\n",
       "      <td>410692588</td>\n",
       "      <td>4215763</td>\n",
       "      <td>27883638</td>\n",
       "      <td>279807335</td>\n",
       "    </tr>\n",
       "    <tr>\n",
       "      <th>3</th>\n",
       "      <td>13114500000000000000.00</td>\n",
       "      <td>43565.02153</td>\n",
       "      <td>486</td>\n",
       "      <td>43580.31667</td>\n",
       "      <td>171</td>\n",
       "      <td>1321509</td>\n",
       "      <td>208201000000000.00</td>\n",
       "      <td>33750343200</td>\n",
       "      <td>35356600000000.00</td>\n",
       "      <td>T21824A</td>\n",
       "      <td>...</td>\n",
       "      <td>21388122</td>\n",
       "      <td>15146643</td>\n",
       "      <td>13994646</td>\n",
       "      <td>1097942</td>\n",
       "      <td>799538153</td>\n",
       "      <td>10849722</td>\n",
       "      <td>749039933</td>\n",
       "      <td>12797283</td>\n",
       "      <td>43324218</td>\n",
       "      <td>846028530</td>\n",
       "    </tr>\n",
       "    <tr>\n",
       "      <th>4</th>\n",
       "      <td>13114500000000000000.00</td>\n",
       "      <td>43567.84028</td>\n",
       "      <td>565</td>\n",
       "      <td>43580.44444</td>\n",
       "      <td>954</td>\n",
       "      <td>1089009</td>\n",
       "      <td>208201000000000.00</td>\n",
       "      <td>33699795932</td>\n",
       "      <td>35407000000000.00</td>\n",
       "      <td>D88865A</td>\n",
       "      <td>...</td>\n",
       "      <td>15259380</td>\n",
       "      <td>18962873</td>\n",
       "      <td>17124581</td>\n",
       "      <td>415218</td>\n",
       "      <td>527707248</td>\n",
       "      <td>3529801</td>\n",
       "      <td>550709500</td>\n",
       "      <td>13910322</td>\n",
       "      <td>38542814</td>\n",
       "      <td>569138589</td>\n",
       "    </tr>\n",
       "  </tbody>\n",
       "</table>\n",
       "<p>5 rows × 55 columns</p>\n",
       "</div>"
      ],
      "text/plain": [
       "                Bearer Id        Start  Start ms          End  End ms  \\\n",
       "0 13114500000000000000.00  43559.50069       770  43580.60764     662   \n",
       "1 13114500000000000000.00  43564.54444       235  43580.34375     606   \n",
       "2 13114500000000000000.00   43564.7375         1  43580.49861     652   \n",
       "3 13114500000000000000.00  43565.02153       486  43580.31667     171   \n",
       "4 13114500000000000000.00  43567.84028       565  43580.44444     954   \n",
       "\n",
       "   Dur. (s)               IMSI  MSISDN/Number              IMEI  \\\n",
       "0   1823652 208201000000000.00    33664962239 35521200000000.00   \n",
       "1   1365104 208202000000000.00    33681854413 35794000000000.00   \n",
       "2   1361762 208200000000000.00    33760627129 35281500000000.00   \n",
       "3   1321509 208201000000000.00    33750343200 35356600000000.00   \n",
       "4   1089009 208201000000000.00    33699795932 35407000000000.00   \n",
       "\n",
       "  Last Location Name  ...  Youtube DL (Bytes)  Youtube UL (Bytes)  \\\n",
       "0        9.16457E+15  ...            15854611             2501332   \n",
       "1            L77566A  ...            20247395            19111729   \n",
       "2            D42335A  ...            19725661            14699576   \n",
       "3            T21824A  ...            21388122            15146643   \n",
       "4            D88865A  ...            15259380            18962873   \n",
       "\n",
       "   Netflix DL (Bytes)  Netflix UL (Bytes)  Gaming DL (Bytes)  \\\n",
       "0             8198936             9656251          278082303   \n",
       "1            18338413            17227132          608750074   \n",
       "2            17587794             6163408          229584621   \n",
       "3            13994646             1097942          799538153   \n",
       "4            17124581              415218          527707248   \n",
       "\n",
       "   Gaming UL (Bytes)  Other DL (Bytes)  Other UL (Bytes)  Total UL (Bytes)  \\\n",
       "0           14344150         171744450           8814393          36749741   \n",
       "1            1170709         526904238          15055145          53800391   \n",
       "2             395630         410692588           4215763          27883638   \n",
       "3           10849722         749039933          12797283          43324218   \n",
       "4            3529801         550709500          13910322          38542814   \n",
       "\n",
       "   Total DL (Bytes)  \n",
       "0         308879636  \n",
       "1         653384965  \n",
       "2         279807335  \n",
       "3         846028530  \n",
       "4         569138589  \n",
       "\n",
       "[5 rows x 55 columns]"
      ]
     },
     "execution_count": 124,
     "metadata": {},
     "output_type": "execute_result"
    }
   ],
   "source": [
    "data_modified.head()"
   ]
  },
  {
   "cell_type": "code",
   "execution_count": 154,
   "metadata": {},
   "outputs": [],
   "source": [
    "user_agg = data_modified.groupby([\"MSISDN/Number\"], as_index=False).agg({'Bearer Id':'count', \"Dur. (s)\": \"sum\", \"Total UL (Bytes)\": \"sum\", \"Total DL (Bytes)\": \"sum\",  \"Social Media UL (Bytes)\": \"sum\", \"Social Media DL (Bytes)\": \"sum\", \"Google UL (Bytes)\": \"sum\", \"Google DL (Bytes)\": \"sum\", \"Email UL (Bytes)\": \"sum\", \"Email DL (Bytes)\": \"sum\", \"Youtube UL (Bytes)\": \"sum\", \"Youtube DL (Bytes)\": \"sum\", \"Netflix UL (Bytes)\": \"sum\", \"Netflix DL (Bytes)\": \"sum\", \"Gaming UL (Bytes)\": \"sum\", \"Gaming DL (Bytes)\": \"sum\", \"Other UL (Bytes)\": \"sum\", \"Other DL (Bytes)\": \"sum\"})\n",
    "user_agg.reset_index(drop=True, inplace=True)"
   ]
  },
  {
   "cell_type": "code",
   "execution_count": 155,
   "metadata": {},
   "outputs": [],
   "source": [
    "# change column to string to avoid numerical calculations\n",
    "user_agg[\"MSISDN/Number\"] = user_agg[\"MSISDN/Number\"].astype(str)"
   ]
  },
  {
   "cell_type": "code",
   "execution_count": 156,
   "metadata": {},
   "outputs": [
    {
     "data": {
      "text/plain": [
       "(17, 19)"
      ]
     },
     "execution_count": 156,
     "metadata": {},
     "output_type": "execute_result"
    }
   ],
   "source": [
    "user_agg.shape"
   ]
  },
  {
   "cell_type": "code",
   "execution_count": 157,
   "metadata": {},
   "outputs": [],
   "source": [
    "user_agg.rename(columns={\"Bearer Id\": \"Session Count\"}, inplace=True)"
   ]
  },
  {
   "cell_type": "code",
   "execution_count": 158,
   "metadata": {},
   "outputs": [],
   "source": [
    "user_agg[\"Total Data Transferred\"] = user_agg[\"Total UL (Bytes)\"] + user_agg[\"Total DL (Bytes)\"]"
   ]
  },
  {
   "cell_type": "code",
   "execution_count": 159,
   "metadata": {},
   "outputs": [],
   "source": [
    "user_agg[\"Google Volume (Bytes)\"] = user_agg[\"Google UL (Bytes)\"] + user_agg[\"Google DL (Bytes)\"]\n",
    "user_agg[\"Netflix Volume (Bytes)\"] = user_agg[\"Netflix UL (Bytes)\"] + user_agg[\"Netflix DL (Bytes)\"]\n",
    "user_agg[\"Youtube Volume (Bytes)\"] = user_agg[\"Youtube UL (Bytes)\"] + user_agg[\"Youtube DL (Bytes)\"]\n",
    "user_agg[\"Gaming Volume (Bytes)\"] = user_agg[\"Gaming UL (Bytes)\"] + user_agg[\"Gaming DL (Bytes)\"]\n",
    "user_agg[\"Email Volume (Bytes)\"] = user_agg[\"Email UL (Bytes)\"] + user_agg[\"Email DL (Bytes)\"]\n",
    "user_agg[\"Social Media Volume (Bytes)\"] = user_agg[\"Social Media UL (Bytes)\"] + user_agg[\"Social Media DL (Bytes)\"]\n",
    "user_agg[\"Other Volume (Bytes)\"] = user_agg[\"Other UL (Bytes)\"] + user_agg[\"Other DL (Bytes)\"]"
   ]
  },
  {
   "cell_type": "code",
   "execution_count": 160,
   "metadata": {},
   "outputs": [],
   "source": [
    "# user_agg[\"Total Volume (Bytes)\"] = user_agg[\"Google Volume (Bytes)\"] + user_agg[\"Netflix Volume (Bytes)\"] + user_agg[\"Youtube Volume (Bytes)\"] + user_agg[\"Gaming Volume (Bytes)\"] + user_agg[\"Other Volume (Bytes)\"] + user_agg[\"Social Media Volume (Bytes)\"] + user_agg[\"Email Volume (Bytes)\"]"
   ]
  },
  {
   "cell_type": "code",
   "execution_count": 161,
   "metadata": {},
   "outputs": [
    {
     "data": {
      "text/plain": [
       "(17, 27)"
      ]
     },
     "execution_count": 161,
     "metadata": {},
     "output_type": "execute_result"
    }
   ],
   "source": [
    "user_agg.shape"
   ]
  },
  {
   "cell_type": "code",
   "execution_count": 162,
   "metadata": {},
   "outputs": [
    {
     "data": {
      "text/html": [
       "<div>\n",
       "<style scoped>\n",
       "    .dataframe tbody tr th:only-of-type {\n",
       "        vertical-align: middle;\n",
       "    }\n",
       "\n",
       "    .dataframe tbody tr th {\n",
       "        vertical-align: top;\n",
       "    }\n",
       "\n",
       "    .dataframe thead th {\n",
       "        text-align: right;\n",
       "    }\n",
       "</style>\n",
       "<table border=\"1\" class=\"dataframe\">\n",
       "  <thead>\n",
       "    <tr style=\"text-align: right;\">\n",
       "      <th></th>\n",
       "      <th>MSISDN/Number</th>\n",
       "      <th>Session Count</th>\n",
       "      <th>Dur. (s)</th>\n",
       "      <th>Total UL (Bytes)</th>\n",
       "      <th>Total DL (Bytes)</th>\n",
       "      <th>Social Media UL (Bytes)</th>\n",
       "      <th>Social Media DL (Bytes)</th>\n",
       "      <th>Google UL (Bytes)</th>\n",
       "      <th>Google DL (Bytes)</th>\n",
       "      <th>Email UL (Bytes)</th>\n",
       "      <th>...</th>\n",
       "      <th>Other UL (Bytes)</th>\n",
       "      <th>Other DL (Bytes)</th>\n",
       "      <th>Total Data Transferred</th>\n",
       "      <th>Google Volume (Bytes)</th>\n",
       "      <th>Netflix Volume (Bytes)</th>\n",
       "      <th>Youtube Volume (Bytes)</th>\n",
       "      <th>Gaming Volume (Bytes)</th>\n",
       "      <th>Email Volume (Bytes)</th>\n",
       "      <th>Social Media Volume (Bytes)</th>\n",
       "      <th>Other Volume (Bytes)</th>\n",
       "    </tr>\n",
       "  </thead>\n",
       "  <tbody>\n",
       "    <tr>\n",
       "      <th>0</th>\n",
       "      <td>33603291937</td>\n",
       "      <td>1</td>\n",
       "      <td>850766</td>\n",
       "      <td>39654040</td>\n",
       "      <td>809144948</td>\n",
       "      <td>15581</td>\n",
       "      <td>1699911</td>\n",
       "      <td>3285779</td>\n",
       "      <td>10110182</td>\n",
       "      <td>138779</td>\n",
       "      <td>...</td>\n",
       "      <td>11326781</td>\n",
       "      <td>34550147</td>\n",
       "      <td>848798988</td>\n",
       "      <td>13395961</td>\n",
       "      <td>22810379</td>\n",
       "      <td>26178247</td>\n",
       "      <td>769947925</td>\n",
       "      <td>3424203</td>\n",
       "      <td>1715492</td>\n",
       "      <td>45876928</td>\n",
       "    </tr>\n",
       "    <tr>\n",
       "      <th>1</th>\n",
       "      <td>33659219748</td>\n",
       "      <td>3</td>\n",
       "      <td>2454876</td>\n",
       "      <td>103139813</td>\n",
       "      <td>1726181013</td>\n",
       "      <td>140654</td>\n",
       "      <td>4129524</td>\n",
       "      <td>7348813</td>\n",
       "      <td>22980782</td>\n",
       "      <td>1574152</td>\n",
       "      <td>...</td>\n",
       "      <td>25458141</td>\n",
       "      <td>340572989</td>\n",
       "      <td>1829320826</td>\n",
       "      <td>30329595</td>\n",
       "      <td>66788717</td>\n",
       "      <td>86391691</td>\n",
       "      <td>1608505670</td>\n",
       "      <td>7576834</td>\n",
       "      <td>4270178</td>\n",
       "      <td>366031130</td>\n",
       "    </tr>\n",
       "    <tr>\n",
       "      <th>2</th>\n",
       "      <td>33664473872</td>\n",
       "      <td>1</td>\n",
       "      <td>889834</td>\n",
       "      <td>33691738</td>\n",
       "      <td>535118044</td>\n",
       "      <td>10046</td>\n",
       "      <td>829305</td>\n",
       "      <td>1580541</td>\n",
       "      <td>7241855</td>\n",
       "      <td>807271</td>\n",
       "      <td>...</td>\n",
       "      <td>11382619</td>\n",
       "      <td>526987098</td>\n",
       "      <td>568809782</td>\n",
       "      <td>8822396</td>\n",
       "      <td>20124838</td>\n",
       "      <td>19623308</td>\n",
       "      <td>505668618</td>\n",
       "      <td>2348652</td>\n",
       "      <td>839351</td>\n",
       "      <td>538369717</td>\n",
       "    </tr>\n",
       "    <tr>\n",
       "      <th>3</th>\n",
       "      <td>33664962239</td>\n",
       "      <td>1</td>\n",
       "      <td>1823652</td>\n",
       "      <td>36749741</td>\n",
       "      <td>308879636</td>\n",
       "      <td>24420</td>\n",
       "      <td>1545765</td>\n",
       "      <td>1271433</td>\n",
       "      <td>1634479</td>\n",
       "      <td>137762</td>\n",
       "      <td>...</td>\n",
       "      <td>8814393</td>\n",
       "      <td>171744450</td>\n",
       "      <td>345629377</td>\n",
       "      <td>2905912</td>\n",
       "      <td>17855187</td>\n",
       "      <td>18355943</td>\n",
       "      <td>292426453</td>\n",
       "      <td>3701304</td>\n",
       "      <td>1570185</td>\n",
       "      <td>180558843</td>\n",
       "    </tr>\n",
       "    <tr>\n",
       "      <th>4</th>\n",
       "      <td>33665368271</td>\n",
       "      <td>1</td>\n",
       "      <td>1035261</td>\n",
       "      <td>47925246</td>\n",
       "      <td>70562047</td>\n",
       "      <td>1482</td>\n",
       "      <td>1623509</td>\n",
       "      <td>3068975</td>\n",
       "      <td>1837897</td>\n",
       "      <td>252032</td>\n",
       "      <td>...</td>\n",
       "      <td>10649768</td>\n",
       "      <td>803653557</td>\n",
       "      <td>118487293</td>\n",
       "      <td>4906872</td>\n",
       "      <td>31212766</td>\n",
       "      <td>9120760</td>\n",
       "      <td>58881157</td>\n",
       "      <td>2090979</td>\n",
       "      <td>1624991</td>\n",
       "      <td>814303325</td>\n",
       "    </tr>\n",
       "  </tbody>\n",
       "</table>\n",
       "<p>5 rows × 27 columns</p>\n",
       "</div>"
      ],
      "text/plain": [
       "  MSISDN/Number  Session Count  Dur. (s)  Total UL (Bytes)  Total DL (Bytes)  \\\n",
       "0   33603291937              1    850766          39654040         809144948   \n",
       "1   33659219748              3   2454876         103139813        1726181013   \n",
       "2   33664473872              1    889834          33691738         535118044   \n",
       "3   33664962239              1   1823652          36749741         308879636   \n",
       "4   33665368271              1   1035261          47925246          70562047   \n",
       "\n",
       "   Social Media UL (Bytes)  Social Media DL (Bytes)  Google UL (Bytes)  \\\n",
       "0                    15581                  1699911            3285779   \n",
       "1                   140654                  4129524            7348813   \n",
       "2                    10046                   829305            1580541   \n",
       "3                    24420                  1545765            1271433   \n",
       "4                     1482                  1623509            3068975   \n",
       "\n",
       "   Google DL (Bytes)  Email UL (Bytes)  ...  Other UL (Bytes)  \\\n",
       "0           10110182            138779  ...          11326781   \n",
       "1           22980782           1574152  ...          25458141   \n",
       "2            7241855            807271  ...          11382619   \n",
       "3            1634479            137762  ...           8814393   \n",
       "4            1837897            252032  ...          10649768   \n",
       "\n",
       "   Other DL (Bytes)  Total Data Transferred  Google Volume (Bytes)  \\\n",
       "0          34550147               848798988               13395961   \n",
       "1         340572989              1829320826               30329595   \n",
       "2         526987098               568809782                8822396   \n",
       "3         171744450               345629377                2905912   \n",
       "4         803653557               118487293                4906872   \n",
       "\n",
       "   Netflix Volume (Bytes)  Youtube Volume (Bytes)  Gaming Volume (Bytes)  \\\n",
       "0                22810379                26178247              769947925   \n",
       "1                66788717                86391691             1608505670   \n",
       "2                20124838                19623308              505668618   \n",
       "3                17855187                18355943              292426453   \n",
       "4                31212766                 9120760               58881157   \n",
       "\n",
       "   Email Volume (Bytes)  Social Media Volume (Bytes)  Other Volume (Bytes)  \n",
       "0               3424203                      1715492              45876928  \n",
       "1               7576834                      4270178             366031130  \n",
       "2               2348652                       839351             538369717  \n",
       "3               3701304                      1570185             180558843  \n",
       "4               2090979                      1624991             814303325  \n",
       "\n",
       "[5 rows x 27 columns]"
      ]
     },
     "execution_count": 162,
     "metadata": {},
     "output_type": "execute_result"
    }
   ],
   "source": [
    "user_agg.head()"
   ]
  },
  {
   "cell_type": "code",
   "execution_count": 163,
   "metadata": {},
   "outputs": [],
   "source": [
    "volume_per_user = user_agg.drop(columns=[\n",
    "    \"Total UL (Bytes)\",\n",
    "    \"Total DL (Bytes)\",\n",
    "    \"Social Media UL (Bytes)\",\n",
    "    \"Social Media DL (Bytes)\",\n",
    "    \"Google UL (Bytes)\",\n",
    "    \"Google DL (Bytes)\",\n",
    "    \"Email UL (Bytes)\",\n",
    "    \"Email DL (Bytes)\",\n",
    "    \"Youtube UL (Bytes)\",\n",
    "    \"Youtube DL (Bytes)\",\n",
    "    \"Netflix UL (Bytes)\",\n",
    "    \"Netflix DL (Bytes)\",\n",
    "    \"Gaming UL (Bytes)\",\n",
    "    \"Gaming DL (Bytes)\",\n",
    "    \"Other UL (Bytes)\",\n",
    "    \"Other DL (Bytes)\"\n",
    "])"
   ]
  },
  {
   "cell_type": "code",
   "execution_count": 164,
   "metadata": {},
   "outputs": [
    {
     "data": {
      "text/plain": [
       "(17, 11)"
      ]
     },
     "execution_count": 164,
     "metadata": {},
     "output_type": "execute_result"
    }
   ],
   "source": [
    "volume_per_user.shape"
   ]
  },
  {
   "cell_type": "code",
   "execution_count": 165,
   "metadata": {},
   "outputs": [
    {
     "data": {
      "text/html": [
       "<div>\n",
       "<style scoped>\n",
       "    .dataframe tbody tr th:only-of-type {\n",
       "        vertical-align: middle;\n",
       "    }\n",
       "\n",
       "    .dataframe tbody tr th {\n",
       "        vertical-align: top;\n",
       "    }\n",
       "\n",
       "    .dataframe thead th {\n",
       "        text-align: right;\n",
       "    }\n",
       "</style>\n",
       "<table border=\"1\" class=\"dataframe\">\n",
       "  <thead>\n",
       "    <tr style=\"text-align: right;\">\n",
       "      <th></th>\n",
       "      <th>MSISDN/Number</th>\n",
       "      <th>Session Count</th>\n",
       "      <th>Dur. (s)</th>\n",
       "      <th>Total Data Transferred</th>\n",
       "      <th>Google Volume (Bytes)</th>\n",
       "      <th>Netflix Volume (Bytes)</th>\n",
       "      <th>Youtube Volume (Bytes)</th>\n",
       "      <th>Gaming Volume (Bytes)</th>\n",
       "      <th>Email Volume (Bytes)</th>\n",
       "      <th>Social Media Volume (Bytes)</th>\n",
       "      <th>Other Volume (Bytes)</th>\n",
       "    </tr>\n",
       "  </thead>\n",
       "  <tbody>\n",
       "    <tr>\n",
       "      <th>0</th>\n",
       "      <td>33603291937</td>\n",
       "      <td>1</td>\n",
       "      <td>850766</td>\n",
       "      <td>848798988</td>\n",
       "      <td>13395961</td>\n",
       "      <td>22810379</td>\n",
       "      <td>26178247</td>\n",
       "      <td>769947925</td>\n",
       "      <td>3424203</td>\n",
       "      <td>1715492</td>\n",
       "      <td>45876928</td>\n",
       "    </tr>\n",
       "    <tr>\n",
       "      <th>1</th>\n",
       "      <td>33659219748</td>\n",
       "      <td>3</td>\n",
       "      <td>2454876</td>\n",
       "      <td>1829320826</td>\n",
       "      <td>30329595</td>\n",
       "      <td>66788717</td>\n",
       "      <td>86391691</td>\n",
       "      <td>1608505670</td>\n",
       "      <td>7576834</td>\n",
       "      <td>4270178</td>\n",
       "      <td>366031130</td>\n",
       "    </tr>\n",
       "    <tr>\n",
       "      <th>2</th>\n",
       "      <td>33664473872</td>\n",
       "      <td>1</td>\n",
       "      <td>889834</td>\n",
       "      <td>568809782</td>\n",
       "      <td>8822396</td>\n",
       "      <td>20124838</td>\n",
       "      <td>19623308</td>\n",
       "      <td>505668618</td>\n",
       "      <td>2348652</td>\n",
       "      <td>839351</td>\n",
       "      <td>538369717</td>\n",
       "    </tr>\n",
       "    <tr>\n",
       "      <th>3</th>\n",
       "      <td>33664962239</td>\n",
       "      <td>1</td>\n",
       "      <td>1823652</td>\n",
       "      <td>345629377</td>\n",
       "      <td>2905912</td>\n",
       "      <td>17855187</td>\n",
       "      <td>18355943</td>\n",
       "      <td>292426453</td>\n",
       "      <td>3701304</td>\n",
       "      <td>1570185</td>\n",
       "      <td>180558843</td>\n",
       "    </tr>\n",
       "    <tr>\n",
       "      <th>4</th>\n",
       "      <td>33665368271</td>\n",
       "      <td>1</td>\n",
       "      <td>1035261</td>\n",
       "      <td>118487293</td>\n",
       "      <td>4906872</td>\n",
       "      <td>31212766</td>\n",
       "      <td>9120760</td>\n",
       "      <td>58881157</td>\n",
       "      <td>2090979</td>\n",
       "      <td>1624991</td>\n",
       "      <td>814303325</td>\n",
       "    </tr>\n",
       "  </tbody>\n",
       "</table>\n",
       "</div>"
      ],
      "text/plain": [
       "  MSISDN/Number  Session Count  Dur. (s)  Total Data Transferred  \\\n",
       "0   33603291937              1    850766               848798988   \n",
       "1   33659219748              3   2454876              1829320826   \n",
       "2   33664473872              1    889834               568809782   \n",
       "3   33664962239              1   1823652               345629377   \n",
       "4   33665368271              1   1035261               118487293   \n",
       "\n",
       "   Google Volume (Bytes)  Netflix Volume (Bytes)  Youtube Volume (Bytes)  \\\n",
       "0               13395961                22810379                26178247   \n",
       "1               30329595                66788717                86391691   \n",
       "2                8822396                20124838                19623308   \n",
       "3                2905912                17855187                18355943   \n",
       "4                4906872                31212766                 9120760   \n",
       "\n",
       "   Gaming Volume (Bytes)  Email Volume (Bytes)  Social Media Volume (Bytes)  \\\n",
       "0              769947925               3424203                      1715492   \n",
       "1             1608505670               7576834                      4270178   \n",
       "2              505668618               2348652                       839351   \n",
       "3              292426453               3701304                      1570185   \n",
       "4               58881157               2090979                      1624991   \n",
       "\n",
       "   Other Volume (Bytes)  \n",
       "0              45876928  \n",
       "1             366031130  \n",
       "2             538369717  \n",
       "3             180558843  \n",
       "4             814303325  "
      ]
     },
     "execution_count": 165,
     "metadata": {},
     "output_type": "execute_result"
    }
   ],
   "source": [
    "volume_per_user.head()"
   ]
  },
  {
   "cell_type": "code",
   "execution_count": 166,
   "metadata": {},
   "outputs": [
    {
     "data": {
      "text/html": [
       "<div>\n",
       "<style scoped>\n",
       "    .dataframe tbody tr th:only-of-type {\n",
       "        vertical-align: middle;\n",
       "    }\n",
       "\n",
       "    .dataframe tbody tr th {\n",
       "        vertical-align: top;\n",
       "    }\n",
       "\n",
       "    .dataframe thead th {\n",
       "        text-align: right;\n",
       "    }\n",
       "</style>\n",
       "<table border=\"1\" class=\"dataframe\">\n",
       "  <thead>\n",
       "    <tr style=\"text-align: right;\">\n",
       "      <th></th>\n",
       "      <th>Session Count</th>\n",
       "      <th>Dur. (s)</th>\n",
       "      <th>Total Data Transferred</th>\n",
       "      <th>Google Volume (Bytes)</th>\n",
       "      <th>Netflix Volume (Bytes)</th>\n",
       "      <th>Youtube Volume (Bytes)</th>\n",
       "      <th>Gaming Volume (Bytes)</th>\n",
       "      <th>Email Volume (Bytes)</th>\n",
       "      <th>Social Media Volume (Bytes)</th>\n",
       "      <th>Other Volume (Bytes)</th>\n",
       "    </tr>\n",
       "  </thead>\n",
       "  <tbody>\n",
       "    <tr>\n",
       "      <th>count</th>\n",
       "      <td>17.00</td>\n",
       "      <td>17.00</td>\n",
       "      <td>17.00</td>\n",
       "      <td>17.00</td>\n",
       "      <td>17.00</td>\n",
       "      <td>17.00</td>\n",
       "      <td>17.00</td>\n",
       "      <td>17.00</td>\n",
       "      <td>17.00</td>\n",
       "      <td>17.00</td>\n",
       "    </tr>\n",
       "    <tr>\n",
       "      <th>mean</th>\n",
       "      <td>1.12</td>\n",
       "      <td>1124443.82</td>\n",
       "      <td>611552430.18</td>\n",
       "      <td>8710396.12</td>\n",
       "      <td>23851621.47</td>\n",
       "      <td>30583340.65</td>\n",
       "      <td>531166627.35</td>\n",
       "      <td>3008556.41</td>\n",
       "      <td>1980999.00</td>\n",
       "      <td>389797789.41</td>\n",
       "    </tr>\n",
       "    <tr>\n",
       "      <th>std</th>\n",
       "      <td>0.49</td>\n",
       "      <td>445561.32</td>\n",
       "      <td>416514997.32</td>\n",
       "      <td>6449208.06</td>\n",
       "      <td>13168717.39</td>\n",
       "      <td>16380206.29</td>\n",
       "      <td>386822418.32</td>\n",
       "      <td>1455907.71</td>\n",
       "      <td>1071521.35</td>\n",
       "      <td>243234121.68</td>\n",
       "    </tr>\n",
       "    <tr>\n",
       "      <th>min</th>\n",
       "      <td>1.00</td>\n",
       "      <td>767722.00</td>\n",
       "      <td>101047021.00</td>\n",
       "      <td>2905912.00</td>\n",
       "      <td>5557753.00</td>\n",
       "      <td>9120760.00</td>\n",
       "      <td>42366688.00</td>\n",
       "      <td>937385.00</td>\n",
       "      <td>372625.00</td>\n",
       "      <td>45876928.00</td>\n",
       "    </tr>\n",
       "    <tr>\n",
       "      <th>25%</th>\n",
       "      <td>1.00</td>\n",
       "      <td>848637.00</td>\n",
       "      <td>307690973.00</td>\n",
       "      <td>4850460.00</td>\n",
       "      <td>17855187.00</td>\n",
       "      <td>21981135.00</td>\n",
       "      <td>229980251.00</td>\n",
       "      <td>2110349.00</td>\n",
       "      <td>1252821.00</td>\n",
       "      <td>180558843.00</td>\n",
       "    </tr>\n",
       "    <tr>\n",
       "      <th>50%</th>\n",
       "      <td>1.00</td>\n",
       "      <td>951292.00</td>\n",
       "      <td>607681403.00</td>\n",
       "      <td>6532777.00</td>\n",
       "      <td>19965376.00</td>\n",
       "      <td>26558004.00</td>\n",
       "      <td>531237049.00</td>\n",
       "      <td>2953097.00</td>\n",
       "      <td>1726277.00</td>\n",
       "      <td>371687999.00</td>\n",
       "    </tr>\n",
       "    <tr>\n",
       "      <th>75%</th>\n",
       "      <td>1.00</td>\n",
       "      <td>1321509.00</td>\n",
       "      <td>834163359.00</td>\n",
       "      <td>10229119.00</td>\n",
       "      <td>26779600.00</td>\n",
       "      <td>34425237.00</td>\n",
       "      <td>765055811.00</td>\n",
       "      <td>3424203.00</td>\n",
       "      <td>2697600.00</td>\n",
       "      <td>545316477.00</td>\n",
       "    </tr>\n",
       "    <tr>\n",
       "      <th>max</th>\n",
       "      <td>3.00</td>\n",
       "      <td>2454876.00</td>\n",
       "      <td>1829320826.00</td>\n",
       "      <td>30329595.00</td>\n",
       "      <td>66788717.00</td>\n",
       "      <td>86391691.00</td>\n",
       "      <td>1608505670.00</td>\n",
       "      <td>7576834.00</td>\n",
       "      <td>4270178.00</td>\n",
       "      <td>814303325.00</td>\n",
       "    </tr>\n",
       "  </tbody>\n",
       "</table>\n",
       "</div>"
      ],
      "text/plain": [
       "       Session Count   Dur. (s)  Total Data Transferred  \\\n",
       "count          17.00      17.00                   17.00   \n",
       "mean            1.12 1124443.82            611552430.18   \n",
       "std             0.49  445561.32            416514997.32   \n",
       "min             1.00  767722.00            101047021.00   \n",
       "25%             1.00  848637.00            307690973.00   \n",
       "50%             1.00  951292.00            607681403.00   \n",
       "75%             1.00 1321509.00            834163359.00   \n",
       "max             3.00 2454876.00           1829320826.00   \n",
       "\n",
       "       Google Volume (Bytes)  Netflix Volume (Bytes)  Youtube Volume (Bytes)  \\\n",
       "count                  17.00                   17.00                   17.00   \n",
       "mean              8710396.12             23851621.47             30583340.65   \n",
       "std               6449208.06             13168717.39             16380206.29   \n",
       "min               2905912.00              5557753.00              9120760.00   \n",
       "25%               4850460.00             17855187.00             21981135.00   \n",
       "50%               6532777.00             19965376.00             26558004.00   \n",
       "75%              10229119.00             26779600.00             34425237.00   \n",
       "max              30329595.00             66788717.00             86391691.00   \n",
       "\n",
       "       Gaming Volume (Bytes)  Email Volume (Bytes)  \\\n",
       "count                  17.00                 17.00   \n",
       "mean            531166627.35            3008556.41   \n",
       "std             386822418.32            1455907.71   \n",
       "min              42366688.00             937385.00   \n",
       "25%             229980251.00            2110349.00   \n",
       "50%             531237049.00            2953097.00   \n",
       "75%             765055811.00            3424203.00   \n",
       "max            1608505670.00            7576834.00   \n",
       "\n",
       "       Social Media Volume (Bytes)  Other Volume (Bytes)  \n",
       "count                        17.00                 17.00  \n",
       "mean                    1980999.00          389797789.41  \n",
       "std                     1071521.35          243234121.68  \n",
       "min                      372625.00           45876928.00  \n",
       "25%                     1252821.00          180558843.00  \n",
       "50%                     1726277.00          371687999.00  \n",
       "75%                     2697600.00          545316477.00  \n",
       "max                     4270178.00          814303325.00  "
      ]
     },
     "execution_count": 166,
     "metadata": {},
     "output_type": "execute_result"
    }
   ],
   "source": [
    "volume_per_user.describe()"
   ]
  },
  {
   "cell_type": "markdown",
   "metadata": {},
   "source": [
    "### Non graphical Univariate analysis\n",
    "---"
   ]
  },
  {
   "cell_type": "code",
   "execution_count": 177,
   "metadata": {},
   "outputs": [
    {
     "data": {
      "text/plain": [
       "['MSISDN/Number',\n",
       " 'Session Count',\n",
       " 'Dur. (s)',\n",
       " 'Total Data Transferred',\n",
       " 'Google Volume (Bytes)',\n",
       " 'Netflix Volume (Bytes)',\n",
       " 'Youtube Volume (Bytes)',\n",
       " 'Gaming Volume (Bytes)',\n",
       " 'Email Volume (Bytes)',\n",
       " 'Social Media Volume (Bytes)',\n",
       " 'Other Volume (Bytes)']"
      ]
     },
     "execution_count": 177,
     "metadata": {},
     "output_type": "execute_result"
    }
   ],
   "source": [
    "volume_per_user.columns.tolist()"
   ]
  },
  {
   "cell_type": "code",
   "execution_count": 178,
   "metadata": {},
   "outputs": [
    {
     "data": {
      "text/plain": [
       "count   17.00\n",
       "mean     1.12\n",
       "std      0.49\n",
       "min      1.00\n",
       "25%      1.00\n",
       "50%      1.00\n",
       "75%      1.00\n",
       "max      3.00\n",
       "Name: Session Count, dtype: float64"
      ]
     },
     "execution_count": 178,
     "metadata": {},
     "output_type": "execute_result"
    }
   ],
   "source": [
    "volume_per_user[\"Session Count\"].describe()"
   ]
  },
  {
   "cell_type": "code",
   "execution_count": 179,
   "metadata": {},
   "outputs": [
    {
     "data": {
      "text/plain": [
       "count        17.00\n",
       "mean    1124443.82\n",
       "std      445561.32\n",
       "min      767722.00\n",
       "25%      848637.00\n",
       "50%      951292.00\n",
       "75%     1321509.00\n",
       "max     2454876.00\n",
       "Name: Dur. (s), dtype: float64"
      ]
     },
     "execution_count": 179,
     "metadata": {},
     "output_type": "execute_result"
    }
   ],
   "source": [
    "volume_per_user[\"Dur. (s)\"].describe()"
   ]
  },
  {
   "cell_type": "code",
   "execution_count": 180,
   "metadata": {},
   "outputs": [
    {
     "data": {
      "text/plain": [
       "count           17.00\n",
       "mean     611552430.18\n",
       "std      416514997.32\n",
       "min      101047021.00\n",
       "25%      307690973.00\n",
       "50%      607681403.00\n",
       "75%      834163359.00\n",
       "max     1829320826.00\n",
       "Name: Total Data Transferred, dtype: float64"
      ]
     },
     "execution_count": 180,
     "metadata": {},
     "output_type": "execute_result"
    }
   ],
   "source": [
    "volume_per_user[\"Total Data Transferred\"].describe()"
   ]
  },
  {
   "cell_type": "code",
   "execution_count": 181,
   "metadata": {},
   "outputs": [
    {
     "data": {
      "text/plain": [
       "count         17.00\n",
       "mean     8710396.12\n",
       "std      6449208.06\n",
       "min      2905912.00\n",
       "25%      4850460.00\n",
       "50%      6532777.00\n",
       "75%     10229119.00\n",
       "max     30329595.00\n",
       "Name: Google Volume (Bytes), dtype: float64"
      ]
     },
     "execution_count": 181,
     "metadata": {},
     "output_type": "execute_result"
    }
   ],
   "source": [
    "volume_per_user[\"Google Volume (Bytes)\"].describe()"
   ]
  },
  {
   "cell_type": "code",
   "execution_count": 182,
   "metadata": {},
   "outputs": [
    {
     "data": {
      "text/plain": [
       "count         17.00\n",
       "mean    23851621.47\n",
       "std     13168717.39\n",
       "min      5557753.00\n",
       "25%     17855187.00\n",
       "50%     19965376.00\n",
       "75%     26779600.00\n",
       "max     66788717.00\n",
       "Name: Netflix Volume (Bytes), dtype: float64"
      ]
     },
     "execution_count": 182,
     "metadata": {},
     "output_type": "execute_result"
    }
   ],
   "source": [
    "volume_per_user[\"Netflix Volume (Bytes)\"].describe()"
   ]
  },
  {
   "cell_type": "code",
   "execution_count": 183,
   "metadata": {},
   "outputs": [
    {
     "data": {
      "text/plain": [
       "count         17.00\n",
       "mean    30583340.65\n",
       "std     16380206.29\n",
       "min      9120760.00\n",
       "25%     21981135.00\n",
       "50%     26558004.00\n",
       "75%     34425237.00\n",
       "max     86391691.00\n",
       "Name: Youtube Volume (Bytes), dtype: float64"
      ]
     },
     "execution_count": 183,
     "metadata": {},
     "output_type": "execute_result"
    }
   ],
   "source": [
    "volume_per_user[\"Youtube Volume (Bytes)\"].describe()"
   ]
  },
  {
   "cell_type": "code",
   "execution_count": 184,
   "metadata": {},
   "outputs": [
    {
     "data": {
      "text/plain": [
       "count        17.00\n",
       "mean    3008556.41\n",
       "std     1455907.71\n",
       "min      937385.00\n",
       "25%     2110349.00\n",
       "50%     2953097.00\n",
       "75%     3424203.00\n",
       "max     7576834.00\n",
       "Name: Email Volume (Bytes), dtype: float64"
      ]
     },
     "execution_count": 184,
     "metadata": {},
     "output_type": "execute_result"
    }
   ],
   "source": [
    "volume_per_user[\"Email Volume (Bytes)\"].describe()"
   ]
  },
  {
   "cell_type": "code",
   "execution_count": 185,
   "metadata": {},
   "outputs": [
    {
     "data": {
      "text/plain": [
       "count           17.00\n",
       "mean     531166627.35\n",
       "std      386822418.32\n",
       "min       42366688.00\n",
       "25%      229980251.00\n",
       "50%      531237049.00\n",
       "75%      765055811.00\n",
       "max     1608505670.00\n",
       "Name: Gaming Volume (Bytes), dtype: float64"
      ]
     },
     "execution_count": 185,
     "metadata": {},
     "output_type": "execute_result"
    }
   ],
   "source": [
    "volume_per_user[\"Gaming Volume (Bytes)\"].describe()"
   ]
  },
  {
   "cell_type": "code",
   "execution_count": 186,
   "metadata": {},
   "outputs": [
    {
     "data": {
      "text/plain": [
       "count        17.00\n",
       "mean    1980999.00\n",
       "std     1071521.35\n",
       "min      372625.00\n",
       "25%     1252821.00\n",
       "50%     1726277.00\n",
       "75%     2697600.00\n",
       "max     4270178.00\n",
       "Name: Social Media Volume (Bytes), dtype: float64"
      ]
     },
     "execution_count": 186,
     "metadata": {},
     "output_type": "execute_result"
    }
   ],
   "source": [
    "volume_per_user[\"Social Media Volume (Bytes)\"].describe()"
   ]
  },
  {
   "cell_type": "code",
   "execution_count": 187,
   "metadata": {},
   "outputs": [
    {
     "data": {
      "text/plain": [
       "count          17.00\n",
       "mean    389797789.41\n",
       "std     243234121.68\n",
       "min      45876928.00\n",
       "25%     180558843.00\n",
       "50%     371687999.00\n",
       "75%     545316477.00\n",
       "max     814303325.00\n",
       "Name: Other Volume (Bytes), dtype: float64"
      ]
     },
     "execution_count": 187,
     "metadata": {},
     "output_type": "execute_result"
    }
   ],
   "source": [
    "volume_per_user[\"Other Volume (Bytes)\"].describe()"
   ]
  },
  {
   "cell_type": "code",
   "execution_count": 188,
   "metadata": {},
   "outputs": [],
   "source": [
    "# volume_per_user[\"Total Volume (Bytes)\"].describe()"
   ]
  },
  {
   "cell_type": "code",
   "execution_count": 189,
   "metadata": {},
   "outputs": [
    {
     "data": {
      "text/html": [
       "<div>\n",
       "<style scoped>\n",
       "    .dataframe tbody tr th:only-of-type {\n",
       "        vertical-align: middle;\n",
       "    }\n",
       "\n",
       "    .dataframe tbody tr th {\n",
       "        vertical-align: top;\n",
       "    }\n",
       "\n",
       "    .dataframe thead th {\n",
       "        text-align: right;\n",
       "    }\n",
       "</style>\n",
       "<table border=\"1\" class=\"dataframe\">\n",
       "  <thead>\n",
       "    <tr style=\"text-align: right;\">\n",
       "      <th></th>\n",
       "      <th>Session Count</th>\n",
       "      <th>Dur. (s)</th>\n",
       "      <th>Total Data Transferred</th>\n",
       "      <th>Google Volume (Bytes)</th>\n",
       "      <th>Netflix Volume (Bytes)</th>\n",
       "      <th>Youtube Volume (Bytes)</th>\n",
       "      <th>Gaming Volume (Bytes)</th>\n",
       "      <th>Email Volume (Bytes)</th>\n",
       "      <th>Social Media Volume (Bytes)</th>\n",
       "      <th>Other Volume (Bytes)</th>\n",
       "    </tr>\n",
       "  </thead>\n",
       "  <tbody>\n",
       "    <tr>\n",
       "      <th>count</th>\n",
       "      <td>17.00</td>\n",
       "      <td>17.00</td>\n",
       "      <td>17.00</td>\n",
       "      <td>17.00</td>\n",
       "      <td>17.00</td>\n",
       "      <td>17.00</td>\n",
       "      <td>17.00</td>\n",
       "      <td>17.00</td>\n",
       "      <td>17.00</td>\n",
       "      <td>17.00</td>\n",
       "    </tr>\n",
       "    <tr>\n",
       "      <th>mean</th>\n",
       "      <td>1.12</td>\n",
       "      <td>1124443.82</td>\n",
       "      <td>611552430.18</td>\n",
       "      <td>8710396.12</td>\n",
       "      <td>23851621.47</td>\n",
       "      <td>30583340.65</td>\n",
       "      <td>531166627.35</td>\n",
       "      <td>3008556.41</td>\n",
       "      <td>1980999.00</td>\n",
       "      <td>389797789.41</td>\n",
       "    </tr>\n",
       "    <tr>\n",
       "      <th>std</th>\n",
       "      <td>0.49</td>\n",
       "      <td>445561.32</td>\n",
       "      <td>416514997.32</td>\n",
       "      <td>6449208.06</td>\n",
       "      <td>13168717.39</td>\n",
       "      <td>16380206.29</td>\n",
       "      <td>386822418.32</td>\n",
       "      <td>1455907.71</td>\n",
       "      <td>1071521.35</td>\n",
       "      <td>243234121.68</td>\n",
       "    </tr>\n",
       "    <tr>\n",
       "      <th>min</th>\n",
       "      <td>1.00</td>\n",
       "      <td>767722.00</td>\n",
       "      <td>101047021.00</td>\n",
       "      <td>2905912.00</td>\n",
       "      <td>5557753.00</td>\n",
       "      <td>9120760.00</td>\n",
       "      <td>42366688.00</td>\n",
       "      <td>937385.00</td>\n",
       "      <td>372625.00</td>\n",
       "      <td>45876928.00</td>\n",
       "    </tr>\n",
       "    <tr>\n",
       "      <th>25%</th>\n",
       "      <td>1.00</td>\n",
       "      <td>848637.00</td>\n",
       "      <td>307690973.00</td>\n",
       "      <td>4850460.00</td>\n",
       "      <td>17855187.00</td>\n",
       "      <td>21981135.00</td>\n",
       "      <td>229980251.00</td>\n",
       "      <td>2110349.00</td>\n",
       "      <td>1252821.00</td>\n",
       "      <td>180558843.00</td>\n",
       "    </tr>\n",
       "    <tr>\n",
       "      <th>50%</th>\n",
       "      <td>1.00</td>\n",
       "      <td>951292.00</td>\n",
       "      <td>607681403.00</td>\n",
       "      <td>6532777.00</td>\n",
       "      <td>19965376.00</td>\n",
       "      <td>26558004.00</td>\n",
       "      <td>531237049.00</td>\n",
       "      <td>2953097.00</td>\n",
       "      <td>1726277.00</td>\n",
       "      <td>371687999.00</td>\n",
       "    </tr>\n",
       "    <tr>\n",
       "      <th>75%</th>\n",
       "      <td>1.00</td>\n",
       "      <td>1321509.00</td>\n",
       "      <td>834163359.00</td>\n",
       "      <td>10229119.00</td>\n",
       "      <td>26779600.00</td>\n",
       "      <td>34425237.00</td>\n",
       "      <td>765055811.00</td>\n",
       "      <td>3424203.00</td>\n",
       "      <td>2697600.00</td>\n",
       "      <td>545316477.00</td>\n",
       "    </tr>\n",
       "    <tr>\n",
       "      <th>max</th>\n",
       "      <td>3.00</td>\n",
       "      <td>2454876.00</td>\n",
       "      <td>1829320826.00</td>\n",
       "      <td>30329595.00</td>\n",
       "      <td>66788717.00</td>\n",
       "      <td>86391691.00</td>\n",
       "      <td>1608505670.00</td>\n",
       "      <td>7576834.00</td>\n",
       "      <td>4270178.00</td>\n",
       "      <td>814303325.00</td>\n",
       "    </tr>\n",
       "  </tbody>\n",
       "</table>\n",
       "</div>"
      ],
      "text/plain": [
       "       Session Count   Dur. (s)  Total Data Transferred  \\\n",
       "count          17.00      17.00                   17.00   \n",
       "mean            1.12 1124443.82            611552430.18   \n",
       "std             0.49  445561.32            416514997.32   \n",
       "min             1.00  767722.00            101047021.00   \n",
       "25%             1.00  848637.00            307690973.00   \n",
       "50%             1.00  951292.00            607681403.00   \n",
       "75%             1.00 1321509.00            834163359.00   \n",
       "max             3.00 2454876.00           1829320826.00   \n",
       "\n",
       "       Google Volume (Bytes)  Netflix Volume (Bytes)  Youtube Volume (Bytes)  \\\n",
       "count                  17.00                   17.00                   17.00   \n",
       "mean              8710396.12             23851621.47             30583340.65   \n",
       "std               6449208.06             13168717.39             16380206.29   \n",
       "min               2905912.00              5557753.00              9120760.00   \n",
       "25%               4850460.00             17855187.00             21981135.00   \n",
       "50%               6532777.00             19965376.00             26558004.00   \n",
       "75%              10229119.00             26779600.00             34425237.00   \n",
       "max              30329595.00             66788717.00             86391691.00   \n",
       "\n",
       "       Gaming Volume (Bytes)  Email Volume (Bytes)  \\\n",
       "count                  17.00                 17.00   \n",
       "mean            531166627.35            3008556.41   \n",
       "std             386822418.32            1455907.71   \n",
       "min              42366688.00             937385.00   \n",
       "25%             229980251.00            2110349.00   \n",
       "50%             531237049.00            2953097.00   \n",
       "75%             765055811.00            3424203.00   \n",
       "max            1608505670.00            7576834.00   \n",
       "\n",
       "       Social Media Volume (Bytes)  Other Volume (Bytes)  \n",
       "count                        17.00                 17.00  \n",
       "mean                    1980999.00          389797789.41  \n",
       "std                     1071521.35          243234121.68  \n",
       "min                      372625.00           45876928.00  \n",
       "25%                     1252821.00          180558843.00  \n",
       "50%                     1726277.00          371687999.00  \n",
       "75%                     2697600.00          545316477.00  \n",
       "max                     4270178.00          814303325.00  "
      ]
     },
     "execution_count": 189,
     "metadata": {},
     "output_type": "execute_result"
    }
   ],
   "source": [
    "volume_per_user.describe()"
   ]
  },
  {
   "cell_type": "markdown",
   "metadata": {},
   "source": [
    "### Graphical Univariate analysis\n",
    "---"
   ]
  },
  {
   "cell_type": "code",
   "execution_count": 190,
   "metadata": {},
   "outputs": [
    {
     "data": {
      "text/plain": [
       "<AxesSubplot:>"
      ]
     },
     "execution_count": 190,
     "metadata": {},
     "output_type": "execute_result"
    },
    {
     "data": {
      "image/png": "[encoded data removed]",
      "text/plain": [
       "<Figure size 1440x720 with 1 Axes>"
      ]
     },
     "metadata": {},
     "output_type": "display_data"
    }
   ],
   "source": [
    "volume_per_user[\"Session Count\"].hist(bins=20, figsize=(20, 10))"
   ]
  },
  {
   "cell_type": "code",
   "execution_count": 173,
   "metadata": {},
   "outputs": [
    {
     "data": {
      "text/plain": [
       "<AxesSubplot:>"
      ]
     },
     "execution_count": 173,
     "metadata": {},
     "output_type": "execute_result"
    },
    {
     "data": {
      "image/png": "[encoded data removed]",
      "text/plain": [
       "<Figure size 1440x720 with 1 Axes>"
      ]
     },
     "metadata": {
      "needs_background": "light"
     },
     "output_type": "display_data"
    }
   ],
   "source": [
    "volume_per_user[\"Dur. (s)\"].hist(bins=20, figsize=(20, 10))"
   ]
  },
  {
   "cell_type": "code",
   "execution_count": null,
   "metadata": {},
   "outputs": [
    {
     "data": {
      "text/plain": [
       "<AxesSubplot:>"
      ]
     },
     "execution_count": 93,
     "metadata": {},
     "output_type": "execute_result"
    },
    {
     "data": {
      "image/png": "[encoded data removed]",
      "text/plain": [
       "<Figure size 1440x720 with 1 Axes>"
      ]
     },
     "metadata": {
      "needs_background": "light"
     },
     "output_type": "display_data"
    }
   ],
   "source": [
    "volume_per_user[\"Total Data Transferred\"].hist(bins=20, figsize=(20, 10))"
   ]
  },
  {
   "cell_type": "code",
   "execution_count": null,
   "metadata": {},
   "outputs": [
    {
     "data": {
      "text/plain": [
       "<AxesSubplot:>"
      ]
     },
     "execution_count": 94,
     "metadata": {},
     "output_type": "execute_result"
    },
    {
     "data": {
      "image/png": "[encoded data removed]",
      "text/plain": [
       "<Figure size 1440x720 with 1 Axes>"
      ]
     },
     "metadata": {
      "needs_background": "light"
     },
     "output_type": "display_data"
    }
   ],
   "source": [
    "volume_per_user[\"Google Volume (Bytes)\"].hist(bins=20, figsize=(20, 10))"
   ]
  },
  {
   "cell_type": "code",
   "execution_count": null,
   "metadata": {},
   "outputs": [
    {
     "data": {
      "text/plain": [
       "<AxesSubplot:>"
      ]
     },
     "execution_count": 185,
     "metadata": {},
     "output_type": "execute_result"
    },
    {
     "data": {
      "image/png": "[encoded data removed]",
      "text/plain": [
       "<Figure size 1440x720 with 1 Axes>"
      ]
     },
     "metadata": {},
     "output_type": "display_data"
    }
   ],
   "source": [
    "volume_per_user[\"Netflix Volume (Bytes)\"].hist(bins=20, figsize=(20, 10))"
   ]
  },
  {
   "cell_type": "code",
   "execution_count": null,
   "metadata": {},
   "outputs": [
    {
     "data": {
      "text/plain": [
       "<AxesSubplot:>"
      ]
     },
     "execution_count": 186,
     "metadata": {},
     "output_type": "execute_result"
    },
    {
     "data": {
      "image/png": "[encoded data removed]",
      "text/plain": [
       "<Figure size 1440x720 with 1 Axes>"
      ]
     },
     "metadata": {},
     "output_type": "display_data"
    }
   ],
   "source": [
    "volume_per_user[\"Youtube Volume (Bytes)\"].hist(bins=20, figsize=(20, 10))"
   ]
  },
  {
   "cell_type": "code",
   "execution_count": null,
   "metadata": {},
   "outputs": [
    {
     "data": {
      "text/plain": [
       "<AxesSubplot:>"
      ]
     },
     "execution_count": 187,
     "metadata": {},
     "output_type": "execute_result"
    },
    {
     "data": {
      "image/png": "[encoded data removed]",
      "text/plain": [
       "<Figure size 1440x720 with 1 Axes>"
      ]
     },
     "metadata": {},
     "output_type": "display_data"
    }
   ],
   "source": [
    "volume_per_user[\"Email Volume (Bytes)\"].hist(bins=20, figsize=(20, 10))"
   ]
  },
  {
   "cell_type": "code",
   "execution_count": null,
   "metadata": {},
   "outputs": [
    {
     "data": {
      "text/plain": [
       "<AxesSubplot:>"
      ]
     },
     "execution_count": 188,
     "metadata": {},
     "output_type": "execute_result"
    },
    {
     "data": {
      "image/png": "[encoded data removed]",
      "text/plain": [
       "<Figure size 1440x720 with 1 Axes>"
      ]
     },
     "metadata": {},
     "output_type": "display_data"
    }
   ],
   "source": [
    "volume_per_user[\"Gaming Volume (Bytes)\"].hist(bins=20, figsize=(20, 10))"
   ]
  },
  {
   "cell_type": "code",
   "execution_count": null,
   "metadata": {},
   "outputs": [
    {
     "data": {
      "text/plain": [
       "<AxesSubplot:>"
      ]
     },
     "execution_count": 189,
     "metadata": {},
     "output_type": "execute_result"
    },
    {
     "data": {
      "image/png": "[encoded data removed]",
      "text/plain": [
       "<Figure size 1440x720 with 1 Axes>"
      ]
     },
     "metadata": {},
     "output_type": "display_data"
    }
   ],
   "source": [
    "volume_per_user[\"Social Media Volume (Bytes)\"].hist(bins=20, figsize=(20, 10))"
   ]
  },
  {
   "cell_type": "code",
   "execution_count": null,
   "metadata": {},
   "outputs": [
    {
     "data": {
      "text/plain": [
       "<AxesSubplot:>"
      ]
     },
     "execution_count": 190,
     "metadata": {},
     "output_type": "execute_result"
    },
    {
     "data": {
      "image/png": "[encoded data removed]",
      "text/plain": [
       "<Figure size 1440x720 with 1 Axes>"
      ]
     },
     "metadata": {},
     "output_type": "display_data"
    }
   ],
   "source": [
    "volume_per_user[\"Other Volume (Bytes)\"].hist(bins=20, figsize=(20, 10))"
   ]
  },
  {
   "cell_type": "code",
   "execution_count": null,
   "metadata": {},
   "outputs": [
    {
     "data": {
      "text/plain": [
       "<AxesSubplot:>"
      ]
     },
     "execution_count": 191,
     "metadata": {},
     "output_type": "execute_result"
    },
    {
     "data": {
      "image/png": "[encoded data removed]",
      "text/plain": [
       "<Figure size 1440x720 with 1 Axes>"
      ]
     },
     "metadata": {},
     "output_type": "display_data"
    }
   ],
   "source": [
    "volume_per_user[\"Total Volume (Bytes)\"].hist(bins=20, figsize=(20, 10))"
   ]
  },
  {
   "cell_type": "code",
   "execution_count": 174,
   "metadata": {},
   "outputs": [
    {
     "data": {
      "text/plain": [
       "array([[<AxesSubplot:title={'center':'Session Count'}>,\n",
       "        <AxesSubplot:title={'center':'Dur. (s)'}>,\n",
       "        <AxesSubplot:title={'center':'Total Data Transferred'}>],\n",
       "       [<AxesSubplot:title={'center':'Google Volume (Bytes)'}>,\n",
       "        <AxesSubplot:title={'center':'Netflix Volume (Bytes)'}>,\n",
       "        <AxesSubplot:title={'center':'Youtube Volume (Bytes)'}>],\n",
       "       [<AxesSubplot:title={'center':'Gaming Volume (Bytes)'}>,\n",
       "        <AxesSubplot:title={'center':'Email Volume (Bytes)'}>,\n",
       "        <AxesSubplot:title={'center':'Social Media Volume (Bytes)'}>],\n",
       "       [<AxesSubplot:title={'center':'Other Volume (Bytes)'}>,\n",
       "        <AxesSubplot:>, <AxesSubplot:>]], dtype=object)"
      ]
     },
     "execution_count": 174,
     "metadata": {},
     "output_type": "execute_result"
    },
    {
     "data": {
      "image/png": "[encoded data removed]",
      "text/plain": [
       "<Figure size 1440x1440 with 12 Axes>"
      ]
     },
     "metadata": {
      "needs_background": "light"
     },
     "output_type": "display_data"
    }
   ],
   "source": [
    "volume_per_user.hist(bins=20, figsize=(20, 20))"
   ]
  },
  {
   "cell_type": "code",
   "execution_count": 75,
   "metadata": {},
   "outputs": [
    {
     "data": {
      "text/plain": [
       "<AxesSubplot:>"
      ]
     },
     "execution_count": 75,
     "metadata": {},
     "output_type": "execute_result"
    },
    {
     "data": {
      "image/png": "[encoded data removed]",
      "text/plain": [
       "<Figure size 1440x720 with 1 Axes>"
      ]
     },
     "metadata": {},
     "output_type": "display_data"
    }
   ],
   "source": [
    "volume_per_user.boxplot(column=[\"Session Count\"], figsize=(20, 10))"
   ]
  },
  {
   "cell_type": "markdown",
   "metadata": {},
   "source": [
    "### Bivariate analysis\n",
    "---"
   ]
  },
  {
   "cell_type": "code",
   "execution_count": 76,
   "metadata": {},
   "outputs": [
    {
     "data": {
      "text/html": [
       "<div>\n",
       "<style scoped>\n",
       "    .dataframe tbody tr th:only-of-type {\n",
       "        vertical-align: middle;\n",
       "    }\n",
       "\n",
       "    .dataframe tbody tr th {\n",
       "        vertical-align: top;\n",
       "    }\n",
       "\n",
       "    .dataframe thead th {\n",
       "        text-align: right;\n",
       "    }\n",
       "</style>\n",
       "<table border=\"1\" class=\"dataframe\">\n",
       "  <thead>\n",
       "    <tr style=\"text-align: right;\">\n",
       "      <th></th>\n",
       "      <th>Session Count</th>\n",
       "      <th>Dur. (s)</th>\n",
       "      <th>Total Data Transferred</th>\n",
       "      <th>Google Volume (Bytes)</th>\n",
       "      <th>Netflix Volume (Bytes)</th>\n",
       "      <th>Youtube Volume (Bytes)</th>\n",
       "      <th>Gaming Volume (Bytes)</th>\n",
       "      <th>Email Volume (Bytes)</th>\n",
       "      <th>Social Media Volume (Bytes)</th>\n",
       "      <th>Other Volume (Bytes)</th>\n",
       "    </tr>\n",
       "  </thead>\n",
       "  <tbody>\n",
       "    <tr>\n",
       "      <th>Session Count</th>\n",
       "      <td>1.00</td>\n",
       "      <td>0.64</td>\n",
       "      <td>0.81</td>\n",
       "      <td>0.84</td>\n",
       "      <td>0.86</td>\n",
       "      <td>0.86</td>\n",
       "      <td>0.77</td>\n",
       "      <td>0.82</td>\n",
       "      <td>0.77</td>\n",
       "      <td>0.77</td>\n",
       "    </tr>\n",
       "    <tr>\n",
       "      <th>Dur. (s)</th>\n",
       "      <td>0.64</td>\n",
       "      <td>1.00</td>\n",
       "      <td>0.52</td>\n",
       "      <td>0.53</td>\n",
       "      <td>0.54</td>\n",
       "      <td>0.55</td>\n",
       "      <td>0.49</td>\n",
       "      <td>0.53</td>\n",
       "      <td>0.49</td>\n",
       "      <td>0.49</td>\n",
       "    </tr>\n",
       "    <tr>\n",
       "      <th>Total Data Transferred</th>\n",
       "      <td>0.81</td>\n",
       "      <td>0.52</td>\n",
       "      <td>1.00</td>\n",
       "      <td>0.68</td>\n",
       "      <td>0.71</td>\n",
       "      <td>0.71</td>\n",
       "      <td>1.00</td>\n",
       "      <td>0.66</td>\n",
       "      <td>0.62</td>\n",
       "      <td>0.62</td>\n",
       "    </tr>\n",
       "    <tr>\n",
       "      <th>Google Volume (Bytes)</th>\n",
       "      <td>0.84</td>\n",
       "      <td>0.53</td>\n",
       "      <td>0.68</td>\n",
       "      <td>1.00</td>\n",
       "      <td>0.72</td>\n",
       "      <td>0.72</td>\n",
       "      <td>0.64</td>\n",
       "      <td>0.69</td>\n",
       "      <td>0.64</td>\n",
       "      <td>0.64</td>\n",
       "    </tr>\n",
       "    <tr>\n",
       "      <th>Netflix Volume (Bytes)</th>\n",
       "      <td>0.86</td>\n",
       "      <td>0.54</td>\n",
       "      <td>0.71</td>\n",
       "      <td>0.72</td>\n",
       "      <td>1.00</td>\n",
       "      <td>0.74</td>\n",
       "      <td>0.66</td>\n",
       "      <td>0.71</td>\n",
       "      <td>0.66</td>\n",
       "      <td>0.66</td>\n",
       "    </tr>\n",
       "    <tr>\n",
       "      <th>Youtube Volume (Bytes)</th>\n",
       "      <td>0.86</td>\n",
       "      <td>0.55</td>\n",
       "      <td>0.71</td>\n",
       "      <td>0.72</td>\n",
       "      <td>0.74</td>\n",
       "      <td>1.00</td>\n",
       "      <td>0.66</td>\n",
       "      <td>0.71</td>\n",
       "      <td>0.66</td>\n",
       "      <td>0.66</td>\n",
       "    </tr>\n",
       "    <tr>\n",
       "      <th>Gaming Volume (Bytes)</th>\n",
       "      <td>0.77</td>\n",
       "      <td>0.49</td>\n",
       "      <td>1.00</td>\n",
       "      <td>0.64</td>\n",
       "      <td>0.66</td>\n",
       "      <td>0.66</td>\n",
       "      <td>1.00</td>\n",
       "      <td>0.63</td>\n",
       "      <td>0.59</td>\n",
       "      <td>0.59</td>\n",
       "    </tr>\n",
       "    <tr>\n",
       "      <th>Email Volume (Bytes)</th>\n",
       "      <td>0.82</td>\n",
       "      <td>0.53</td>\n",
       "      <td>0.66</td>\n",
       "      <td>0.69</td>\n",
       "      <td>0.71</td>\n",
       "      <td>0.71</td>\n",
       "      <td>0.63</td>\n",
       "      <td>1.00</td>\n",
       "      <td>0.63</td>\n",
       "      <td>0.63</td>\n",
       "    </tr>\n",
       "    <tr>\n",
       "      <th>Social Media Volume (Bytes)</th>\n",
       "      <td>0.77</td>\n",
       "      <td>0.49</td>\n",
       "      <td>0.62</td>\n",
       "      <td>0.64</td>\n",
       "      <td>0.66</td>\n",
       "      <td>0.66</td>\n",
       "      <td>0.59</td>\n",
       "      <td>0.63</td>\n",
       "      <td>1.00</td>\n",
       "      <td>0.59</td>\n",
       "    </tr>\n",
       "    <tr>\n",
       "      <th>Other Volume (Bytes)</th>\n",
       "      <td>0.77</td>\n",
       "      <td>0.49</td>\n",
       "      <td>0.62</td>\n",
       "      <td>0.64</td>\n",
       "      <td>0.66</td>\n",
       "      <td>0.66</td>\n",
       "      <td>0.59</td>\n",
       "      <td>0.63</td>\n",
       "      <td>0.59</td>\n",
       "      <td>1.00</td>\n",
       "    </tr>\n",
       "  </tbody>\n",
       "</table>\n",
       "</div>"
      ],
      "text/plain": [
       "                             Session Count  Dur. (s)  Total Data Transferred  \\\n",
       "Session Count                         1.00      0.64                    0.81   \n",
       "Dur. (s)                              0.64      1.00                    0.52   \n",
       "Total Data Transferred                0.81      0.52                    1.00   \n",
       "Google Volume (Bytes)                 0.84      0.53                    0.68   \n",
       "Netflix Volume (Bytes)                0.86      0.54                    0.71   \n",
       "Youtube Volume (Bytes)                0.86      0.55                    0.71   \n",
       "Gaming Volume (Bytes)                 0.77      0.49                    1.00   \n",
       "Email Volume (Bytes)                  0.82      0.53                    0.66   \n",
       "Social Media Volume (Bytes)           0.77      0.49                    0.62   \n",
       "Other Volume (Bytes)                  0.77      0.49                    0.62   \n",
       "\n",
       "                             Google Volume (Bytes)  Netflix Volume (Bytes)  \\\n",
       "Session Count                                 0.84                    0.86   \n",
       "Dur. (s)                                      0.53                    0.54   \n",
       "Total Data Transferred                        0.68                    0.71   \n",
       "Google Volume (Bytes)                         1.00                    0.72   \n",
       "Netflix Volume (Bytes)                        0.72                    1.00   \n",
       "Youtube Volume (Bytes)                        0.72                    0.74   \n",
       "Gaming Volume (Bytes)                         0.64                    0.66   \n",
       "Email Volume (Bytes)                          0.69                    0.71   \n",
       "Social Media Volume (Bytes)                   0.64                    0.66   \n",
       "Other Volume (Bytes)                          0.64                    0.66   \n",
       "\n",
       "                             Youtube Volume (Bytes)  Gaming Volume (Bytes)  \\\n",
       "Session Count                                  0.86                   0.77   \n",
       "Dur. (s)                                       0.55                   0.49   \n",
       "Total Data Transferred                         0.71                   1.00   \n",
       "Google Volume (Bytes)                          0.72                   0.64   \n",
       "Netflix Volume (Bytes)                         0.74                   0.66   \n",
       "Youtube Volume (Bytes)                         1.00                   0.66   \n",
       "Gaming Volume (Bytes)                          0.66                   1.00   \n",
       "Email Volume (Bytes)                           0.71                   0.63   \n",
       "Social Media Volume (Bytes)                    0.66                   0.59   \n",
       "Other Volume (Bytes)                           0.66                   0.59   \n",
       "\n",
       "                             Email Volume (Bytes)  \\\n",
       "Session Count                                0.82   \n",
       "Dur. (s)                                     0.53   \n",
       "Total Data Transferred                       0.66   \n",
       "Google Volume (Bytes)                        0.69   \n",
       "Netflix Volume (Bytes)                       0.71   \n",
       "Youtube Volume (Bytes)                       0.71   \n",
       "Gaming Volume (Bytes)                        0.63   \n",
       "Email Volume (Bytes)                         1.00   \n",
       "Social Media Volume (Bytes)                  0.63   \n",
       "Other Volume (Bytes)                         0.63   \n",
       "\n",
       "                             Social Media Volume (Bytes)  Other Volume (Bytes)  \n",
       "Session Count                                       0.77                  0.77  \n",
       "Dur. (s)                                            0.49                  0.49  \n",
       "Total Data Transferred                              0.62                  0.62  \n",
       "Google Volume (Bytes)                               0.64                  0.64  \n",
       "Netflix Volume (Bytes)                              0.66                  0.66  \n",
       "Youtube Volume (Bytes)                              0.66                  0.66  \n",
       "Gaming Volume (Bytes)                               0.59                  0.59  \n",
       "Email Volume (Bytes)                                0.63                  0.63  \n",
       "Social Media Volume (Bytes)                         1.00                  0.59  \n",
       "Other Volume (Bytes)                                0.59                  1.00  "
      ]
     },
     "execution_count": 76,
     "metadata": {},
     "output_type": "execute_result"
    }
   ],
   "source": [
    "volume_per_user.corr()"
   ]
  },
  {
   "cell_type": "code",
   "execution_count": 77,
   "metadata": {},
   "outputs": [
    {
     "data": {
      "image/png": "[encoded data removed]",
      "text/plain": [
       "<Figure size 1440x1440 with 2 Axes>"
      ]
     },
     "metadata": {},
     "output_type": "display_data"
    }
   ],
   "source": [
    "fig, ax = plt.subplots(figsize=(20, 20))\n",
    "ax = sns.heatmap(volume_per_user.corr(), cmap=\"Blues\", square=True)"
   ]
  },
  {
   "cell_type": "code",
   "execution_count": 79,
   "metadata": {},
   "outputs": [
    {
     "data": {
      "image/png": "[encoded data removed]",
      "text/plain": [
       "<Figure size 1440x720 with 1 Axes>"
      ]
     },
     "metadata": {},
     "output_type": "display_data"
    }
   ],
   "source": [
    "fig, ax = plt.subplots(figsize=(20, 10))\n",
    "ax = sns.scatterplot(x= volume_per_user[\"Gaming Volume (Bytes)\"], y= volume_per_user[\"Total Data Transferred\"])"
   ]
  },
  {
   "cell_type": "code",
   "execution_count": 80,
   "metadata": {},
   "outputs": [],
   "source": [
    "bivariate = volume_per_user.drop(columns=[\"MSISDN/Number\", \"Session Count\", \"Dur. (s)\"])"
   ]
  },
  {
   "cell_type": "code",
   "execution_count": 81,
   "metadata": {},
   "outputs": [
    {
     "data": {
      "text/html": [
       "<div>\n",
       "<style scoped>\n",
       "    .dataframe tbody tr th:only-of-type {\n",
       "        vertical-align: middle;\n",
       "    }\n",
       "\n",
       "    .dataframe tbody tr th {\n",
       "        vertical-align: top;\n",
       "    }\n",
       "\n",
       "    .dataframe thead th {\n",
       "        text-align: right;\n",
       "    }\n",
       "</style>\n",
       "<table border=\"1\" class=\"dataframe\">\n",
       "  <thead>\n",
       "    <tr style=\"text-align: right;\">\n",
       "      <th></th>\n",
       "      <th>Total Data Transferred</th>\n",
       "      <th>Google Volume (Bytes)</th>\n",
       "      <th>Netflix Volume (Bytes)</th>\n",
       "      <th>Youtube Volume (Bytes)</th>\n",
       "      <th>Gaming Volume (Bytes)</th>\n",
       "      <th>Email Volume (Bytes)</th>\n",
       "      <th>Social Media Volume (Bytes)</th>\n",
       "      <th>Other Volume (Bytes)</th>\n",
       "    </tr>\n",
       "  </thead>\n",
       "  <tbody>\n",
       "    <tr>\n",
       "      <th>0</th>\n",
       "      <td>878690574.00</td>\n",
       "      <td>4389005.00</td>\n",
       "      <td>27180981.00</td>\n",
       "      <td>21624548.00</td>\n",
       "      <td>812458661.00</td>\n",
       "      <td>1331362.00</td>\n",
       "      <td>2232135.00</td>\n",
       "      <td>386570872.00</td>\n",
       "    </tr>\n",
       "    <tr>\n",
       "      <th>1</th>\n",
       "      <td>156859643.00</td>\n",
       "      <td>5334863.00</td>\n",
       "      <td>11221763.00</td>\n",
       "      <td>12432223.00</td>\n",
       "      <td>119750078.00</td>\n",
       "      <td>3307781.00</td>\n",
       "      <td>2660565.00</td>\n",
       "      <td>281710071.00</td>\n",
       "    </tr>\n",
       "    <tr>\n",
       "      <th>2</th>\n",
       "      <td>595966483.00</td>\n",
       "      <td>3443126.00</td>\n",
       "      <td>19353900.00</td>\n",
       "      <td>21333570.00</td>\n",
       "      <td>538827713.00</td>\n",
       "      <td>3205380.00</td>\n",
       "      <td>3195623.00</td>\n",
       "      <td>501693672.00</td>\n",
       "    </tr>\n",
       "    <tr>\n",
       "      <th>3</th>\n",
       "      <td>422320698.00</td>\n",
       "      <td>9678493.00</td>\n",
       "      <td>1942092.00</td>\n",
       "      <td>6977321.00</td>\n",
       "      <td>391126127.00</td>\n",
       "      <td>2284670.00</td>\n",
       "      <td>280294.00</td>\n",
       "      <td>35279702.00</td>\n",
       "    </tr>\n",
       "    <tr>\n",
       "      <th>4</th>\n",
       "      <td>1457410944.00</td>\n",
       "      <td>18499616.00</td>\n",
       "      <td>49201724.00</td>\n",
       "      <td>41533002.00</td>\n",
       "      <td>1314797820.00</td>\n",
       "      <td>3305469.00</td>\n",
       "      <td>2912542.00</td>\n",
       "      <td>804804484.00</td>\n",
       "    </tr>\n",
       "  </tbody>\n",
       "</table>\n",
       "</div>"
      ],
      "text/plain": [
       "   Total Data Transferred  Google Volume (Bytes)  Netflix Volume (Bytes)  \\\n",
       "0            878690574.00             4389005.00             27180981.00   \n",
       "1            156859643.00             5334863.00             11221763.00   \n",
       "2            595966483.00             3443126.00             19353900.00   \n",
       "3            422320698.00             9678493.00              1942092.00   \n",
       "4           1457410944.00            18499616.00             49201724.00   \n",
       "\n",
       "   Youtube Volume (Bytes)  Gaming Volume (Bytes)  Email Volume (Bytes)  \\\n",
       "0             21624548.00           812458661.00            1331362.00   \n",
       "1             12432223.00           119750078.00            3307781.00   \n",
       "2             21333570.00           538827713.00            3205380.00   \n",
       "3              6977321.00           391126127.00            2284670.00   \n",
       "4             41533002.00          1314797820.00            3305469.00   \n",
       "\n",
       "   Social Media Volume (Bytes)  Other Volume (Bytes)  \n",
       "0                   2232135.00          386570872.00  \n",
       "1                   2660565.00          281710071.00  \n",
       "2                   3195623.00          501693672.00  \n",
       "3                    280294.00           35279702.00  \n",
       "4                   2912542.00          804804484.00  "
      ]
     },
     "execution_count": 81,
     "metadata": {},
     "output_type": "execute_result"
    }
   ],
   "source": [
    "bivariate.head()"
   ]
  },
  {
   "cell_type": "code",
   "execution_count": 82,
   "metadata": {},
   "outputs": [
    {
     "data": {
      "text/plain": [
       "<AxesSubplot:xlabel='Netflix Volume (Bytes)', ylabel='Total Data Transferred'>"
      ]
     },
     "execution_count": 82,
     "metadata": {},
     "output_type": "execute_result"
    },
    {
     "data": {
      "image/png": "[encoded data removed]",
      "text/plain": [
       "<Figure size 1440x720 with 1 Axes>"
      ]
     },
     "metadata": {},
     "output_type": "display_data"
    }
   ],
   "source": [
    "fig, ax = plt.subplots(figsize=(20, 10))\n",
    "\n",
    "sns.scatterplot(x=bivariate[\"Netflix Volume (Bytes)\"], y=bivariate[\"Total Data Transferred\"], ax=ax)"
   ]
  },
  {
   "cell_type": "markdown",
   "metadata": {},
   "source": [
    "### Decile Rank\n",
    "---"
   ]
  },
  {
   "cell_type": "code",
   "execution_count": 192,
   "metadata": {},
   "outputs": [
    {
     "data": {
      "text/html": [
       "<div>\n",
       "<style scoped>\n",
       "    .dataframe tbody tr th:only-of-type {\n",
       "        vertical-align: middle;\n",
       "    }\n",
       "\n",
       "    .dataframe tbody tr th {\n",
       "        vertical-align: top;\n",
       "    }\n",
       "\n",
       "    .dataframe thead th {\n",
       "        text-align: right;\n",
       "    }\n",
       "</style>\n",
       "<table border=\"1\" class=\"dataframe\">\n",
       "  <thead>\n",
       "    <tr style=\"text-align: right;\">\n",
       "      <th></th>\n",
       "      <th>MSISDN/Number</th>\n",
       "      <th>Session Count</th>\n",
       "      <th>Dur. (s)</th>\n",
       "      <th>Total Data Transferred</th>\n",
       "      <th>Google Volume (Bytes)</th>\n",
       "      <th>Netflix Volume (Bytes)</th>\n",
       "      <th>Youtube Volume (Bytes)</th>\n",
       "      <th>Gaming Volume (Bytes)</th>\n",
       "      <th>Email Volume (Bytes)</th>\n",
       "      <th>Social Media Volume (Bytes)</th>\n",
       "      <th>Other Volume (Bytes)</th>\n",
       "      <th>Decile Rank</th>\n",
       "    </tr>\n",
       "  </thead>\n",
       "  <tbody>\n",
       "    <tr>\n",
       "      <th>0</th>\n",
       "      <td>33603291937</td>\n",
       "      <td>1</td>\n",
       "      <td>850766</td>\n",
       "      <td>848798988</td>\n",
       "      <td>13395961</td>\n",
       "      <td>22810379</td>\n",
       "      <td>26178247</td>\n",
       "      <td>769947925</td>\n",
       "      <td>3424203</td>\n",
       "      <td>1715492</td>\n",
       "      <td>45876928</td>\n",
       "      <td>3</td>\n",
       "    </tr>\n",
       "    <tr>\n",
       "      <th>1</th>\n",
       "      <td>33659219748</td>\n",
       "      <td>3</td>\n",
       "      <td>2454876</td>\n",
       "      <td>1829320826</td>\n",
       "      <td>30329595</td>\n",
       "      <td>66788717</td>\n",
       "      <td>86391691</td>\n",
       "      <td>1608505670</td>\n",
       "      <td>7576834</td>\n",
       "      <td>4270178</td>\n",
       "      <td>366031130</td>\n",
       "      <td>9</td>\n",
       "    </tr>\n",
       "    <tr>\n",
       "      <th>2</th>\n",
       "      <td>33664473872</td>\n",
       "      <td>1</td>\n",
       "      <td>889834</td>\n",
       "      <td>568809782</td>\n",
       "      <td>8822396</td>\n",
       "      <td>20124838</td>\n",
       "      <td>19623308</td>\n",
       "      <td>505668618</td>\n",
       "      <td>2348652</td>\n",
       "      <td>839351</td>\n",
       "      <td>538369717</td>\n",
       "      <td>3</td>\n",
       "    </tr>\n",
       "    <tr>\n",
       "      <th>3</th>\n",
       "      <td>33664962239</td>\n",
       "      <td>1</td>\n",
       "      <td>1823652</td>\n",
       "      <td>345629377</td>\n",
       "      <td>2905912</td>\n",
       "      <td>17855187</td>\n",
       "      <td>18355943</td>\n",
       "      <td>292426453</td>\n",
       "      <td>3701304</td>\n",
       "      <td>1570185</td>\n",
       "      <td>180558843</td>\n",
       "      <td>9</td>\n",
       "    </tr>\n",
       "    <tr>\n",
       "      <th>4</th>\n",
       "      <td>33665368271</td>\n",
       "      <td>1</td>\n",
       "      <td>1035261</td>\n",
       "      <td>118487293</td>\n",
       "      <td>4906872</td>\n",
       "      <td>31212766</td>\n",
       "      <td>9120760</td>\n",
       "      <td>58881157</td>\n",
       "      <td>2090979</td>\n",
       "      <td>1624991</td>\n",
       "      <td>814303325</td>\n",
       "      <td>5</td>\n",
       "    </tr>\n",
       "  </tbody>\n",
       "</table>\n",
       "</div>"
      ],
      "text/plain": [
       "  MSISDN/Number  Session Count  Dur. (s)  Total Data Transferred  \\\n",
       "0   33603291937              1    850766               848798988   \n",
       "1   33659219748              3   2454876              1829320826   \n",
       "2   33664473872              1    889834               568809782   \n",
       "3   33664962239              1   1823652               345629377   \n",
       "4   33665368271              1   1035261               118487293   \n",
       "\n",
       "   Google Volume (Bytes)  Netflix Volume (Bytes)  Youtube Volume (Bytes)  \\\n",
       "0               13395961                22810379                26178247   \n",
       "1               30329595                66788717                86391691   \n",
       "2                8822396                20124838                19623308   \n",
       "3                2905912                17855187                18355943   \n",
       "4                4906872                31212766                 9120760   \n",
       "\n",
       "   Gaming Volume (Bytes)  Email Volume (Bytes)  Social Media Volume (Bytes)  \\\n",
       "0              769947925               3424203                      1715492   \n",
       "1             1608505670               7576834                      4270178   \n",
       "2              505668618               2348652                       839351   \n",
       "3              292426453               3701304                      1570185   \n",
       "4               58881157               2090979                      1624991   \n",
       "\n",
       "   Other Volume (Bytes)  Decile Rank  \n",
       "0              45876928            3  \n",
       "1             366031130            9  \n",
       "2             538369717            3  \n",
       "3             180558843            9  \n",
       "4             814303325            5  "
      ]
     },
     "execution_count": 192,
     "metadata": {},
     "output_type": "execute_result"
    }
   ],
   "source": [
    "volume_per_user[\"Decile Rank\"] = pd.qcut(volume_per_user[\"Dur. (s)\"], 10, labels=False)\n",
    "volume_per_user.head()"
   ]
  },
  {
   "cell_type": "code",
   "execution_count": 196,
   "metadata": {},
   "outputs": [
    {
     "data": {
      "text/html": [
       "<div>\n",
       "<style scoped>\n",
       "    .dataframe tbody tr th:only-of-type {\n",
       "        vertical-align: middle;\n",
       "    }\n",
       "\n",
       "    .dataframe tbody tr th {\n",
       "        vertical-align: top;\n",
       "    }\n",
       "\n",
       "    .dataframe thead th {\n",
       "        text-align: right;\n",
       "    }\n",
       "</style>\n",
       "<table border=\"1\" class=\"dataframe\">\n",
       "  <thead>\n",
       "    <tr style=\"text-align: right;\">\n",
       "      <th></th>\n",
       "      <th>MSISDN/Number</th>\n",
       "      <th>Session Count</th>\n",
       "      <th>Dur. (s)</th>\n",
       "      <th>Total Data Transferred</th>\n",
       "      <th>Google Volume (Bytes)</th>\n",
       "      <th>Netflix Volume (Bytes)</th>\n",
       "      <th>Youtube Volume (Bytes)</th>\n",
       "      <th>Gaming Volume (Bytes)</th>\n",
       "      <th>Email Volume (Bytes)</th>\n",
       "      <th>Social Media Volume (Bytes)</th>\n",
       "      <th>Other Volume (Bytes)</th>\n",
       "      <th>Decile Rank</th>\n",
       "    </tr>\n",
       "  </thead>\n",
       "  <tbody>\n",
       "    <tr>\n",
       "      <th>8</th>\n",
       "      <td>33669013307</td>\n",
       "      <td>1</td>\n",
       "      <td>767722</td>\n",
       "      <td>199593503</td>\n",
       "      <td>3793544</td>\n",
       "      <td>19965376</td>\n",
       "      <td>36068912</td>\n",
       "      <td>124373236</td>\n",
       "      <td>1055306</td>\n",
       "      <td>1252821</td>\n",
       "      <td>371687999</td>\n",
       "      <td>0</td>\n",
       "    </tr>\n",
       "    <tr>\n",
       "      <th>11</th>\n",
       "      <td>33698759051</td>\n",
       "      <td>1</td>\n",
       "      <td>778387</td>\n",
       "      <td>410517220</td>\n",
       "      <td>6134557</td>\n",
       "      <td>30899577</td>\n",
       "      <td>21482026</td>\n",
       "      <td>330372600</td>\n",
       "      <td>3295932</td>\n",
       "      <td>3345436</td>\n",
       "      <td>56842974</td>\n",
       "      <td>0</td>\n",
       "    </tr>\n",
       "    <tr>\n",
       "      <th>7</th>\n",
       "      <td>33668779552</td>\n",
       "      <td>1</td>\n",
       "      <td>780991</td>\n",
       "      <td>287850908</td>\n",
       "      <td>4850460</td>\n",
       "      <td>19664286</td>\n",
       "      <td>24448878</td>\n",
       "      <td>224103562</td>\n",
       "      <td>2953097</td>\n",
       "      <td>2330089</td>\n",
       "      <td>314117834</td>\n",
       "      <td>1</td>\n",
       "    </tr>\n",
       "    <tr>\n",
       "      <th>14</th>\n",
       "      <td>33753758738</td>\n",
       "      <td>1</td>\n",
       "      <td>780471</td>\n",
       "      <td>101047021</td>\n",
       "      <td>6491896</td>\n",
       "      <td>5557753</td>\n",
       "      <td>26558004</td>\n",
       "      <td>42366688</td>\n",
       "      <td>2653810</td>\n",
       "      <td>2066962</td>\n",
       "      <td>152500509</td>\n",
       "      <td>1</td>\n",
       "    </tr>\n",
       "    <tr>\n",
       "      <th>5</th>\n",
       "      <td>33665646348</td>\n",
       "      <td>1</td>\n",
       "      <td>848637</td>\n",
       "      <td>651527183</td>\n",
       "      <td>6532777</td>\n",
       "      <td>26779600</td>\n",
       "      <td>21981135</td>\n",
       "      <td>574923841</td>\n",
       "      <td>3780918</td>\n",
       "      <td>2697600</td>\n",
       "      <td>110548061</td>\n",
       "      <td>2</td>\n",
       "    </tr>\n",
       "  </tbody>\n",
       "</table>\n",
       "</div>"
      ],
      "text/plain": [
       "   MSISDN/Number  Session Count  Dur. (s)  Total Data Transferred  \\\n",
       "8    33669013307              1    767722               199593503   \n",
       "11   33698759051              1    778387               410517220   \n",
       "7    33668779552              1    780991               287850908   \n",
       "14   33753758738              1    780471               101047021   \n",
       "5    33665646348              1    848637               651527183   \n",
       "\n",
       "    Google Volume (Bytes)  Netflix Volume (Bytes)  Youtube Volume (Bytes)  \\\n",
       "8                 3793544                19965376                36068912   \n",
       "11                6134557                30899577                21482026   \n",
       "7                 4850460                19664286                24448878   \n",
       "14                6491896                 5557753                26558004   \n",
       "5                 6532777                26779600                21981135   \n",
       "\n",
       "    Gaming Volume (Bytes)  Email Volume (Bytes)  Social Media Volume (Bytes)  \\\n",
       "8               124373236               1055306                      1252821   \n",
       "11              330372600               3295932                      3345436   \n",
       "7               224103562               2953097                      2330089   \n",
       "14               42366688               2653810                      2066962   \n",
       "5               574923841               3780918                      2697600   \n",
       "\n",
       "    Other Volume (Bytes)  Decile Rank  \n",
       "8              371687999            0  \n",
       "11              56842974            0  \n",
       "7              314117834            1  \n",
       "14             152500509            1  \n",
       "5              110548061            2  "
      ]
     },
     "execution_count": 196,
     "metadata": {},
     "output_type": "execute_result"
    }
   ],
   "source": [
    "# top 5 decile ranks\n",
    "volume_per_user.nsmallest(columns=[\"Decile Rank\"], n=5)"
   ]
  },
  {
   "cell_type": "code",
   "execution_count": 201,
   "metadata": {},
   "outputs": [
    {
     "data": {
      "text/plain": [
       "610110723"
      ]
     },
     "execution_count": 201,
     "metadata": {},
     "output_type": "execute_result"
    }
   ],
   "source": [
    "volume_per_user.loc[volume_per_user[\"Decile Rank\"] == 0][\"Total Data Transferred\"].sum()"
   ]
  },
  {
   "cell_type": "code",
   "execution_count": 202,
   "metadata": {},
   "outputs": [
    {
     "data": {
      "text/plain": [
       "388897929"
      ]
     },
     "execution_count": 202,
     "metadata": {},
     "output_type": "execute_result"
    }
   ],
   "source": [
    "volume_per_user.loc[volume_per_user[\"Decile Rank\"] == 1][\"Total Data Transferred\"].sum()"
   ]
  },
  {
   "cell_type": "code",
   "execution_count": 203,
   "metadata": {},
   "outputs": [
    {
     "data": {
      "text/plain": [
       "651527183"
      ]
     },
     "execution_count": 203,
     "metadata": {},
     "output_type": "execute_result"
    }
   ],
   "source": [
    "volume_per_user.loc[volume_per_user[\"Decile Rank\"] == 2][\"Total Data Transferred\"].sum()"
   ]
  },
  {
   "cell_type": "code",
   "execution_count": 204,
   "metadata": {},
   "outputs": [
    {
     "data": {
      "text/plain": [
       "1417608770"
      ]
     },
     "execution_count": 204,
     "metadata": {},
     "output_type": "execute_result"
    }
   ],
   "source": [
    "volume_per_user.loc[volume_per_user[\"Decile Rank\"] == 3][\"Total Data Transferred\"].sum()"
   ]
  },
  {
   "cell_type": "code",
   "execution_count": 205,
   "metadata": {},
   "outputs": [
    {
     "data": {
      "text/plain": [
       "1738138766"
      ]
     },
     "execution_count": 205,
     "metadata": {},
     "output_type": "execute_result"
    }
   ],
   "source": [
    "volume_per_user.loc[volume_per_user[\"Decile Rank\"] == 4][\"Total Data Transferred\"].sum()"
   ]
  },
  {
   "cell_type": "markdown",
   "metadata": {},
   "source": [
    "### PCA Analysis\n",
    "---"
   ]
  },
  {
   "cell_type": "code",
   "execution_count": 207,
   "metadata": {},
   "outputs": [],
   "source": [
    "from sklearn.decomposition import PCA"
   ]
  },
  {
   "cell_type": "code",
   "execution_count": 208,
   "metadata": {},
   "outputs": [],
   "source": [
    "pca = PCA(n_components=2)"
   ]
  },
  {
   "cell_type": "code",
   "execution_count": 212,
   "metadata": {},
   "outputs": [],
   "source": [
    "principal_components = pca.fit_transform(volume_per_user)"
   ]
  },
  {
   "cell_type": "code",
   "execution_count": 213,
   "metadata": {},
   "outputs": [],
   "source": [
    "principal_df = pd.DataFrame(data = principal_components, columns = ['principal component 1', 'principal component 2'])"
   ]
  },
  {
   "cell_type": "code",
   "execution_count": 214,
   "metadata": {},
   "outputs": [
    {
     "data": {
      "text/html": [
       "<div>\n",
       "<style scoped>\n",
       "    .dataframe tbody tr th:only-of-type {\n",
       "        vertical-align: middle;\n",
       "    }\n",
       "\n",
       "    .dataframe tbody tr th {\n",
       "        vertical-align: top;\n",
       "    }\n",
       "\n",
       "    .dataframe thead th {\n",
       "        text-align: right;\n",
       "    }\n",
       "</style>\n",
       "<table border=\"1\" class=\"dataframe\">\n",
       "  <thead>\n",
       "    <tr style=\"text-align: right;\">\n",
       "      <th></th>\n",
       "      <th>principal component 1</th>\n",
       "      <th>principal component 2</th>\n",
       "    </tr>\n",
       "  </thead>\n",
       "  <tbody>\n",
       "    <tr>\n",
       "      <th>0</th>\n",
       "      <td>328771813.70</td>\n",
       "      <td>-355271462.03</td>\n",
       "    </tr>\n",
       "    <tr>\n",
       "      <th>1</th>\n",
       "      <td>1626075947.44</td>\n",
       "      <td>-63963639.51</td>\n",
       "    </tr>\n",
       "    <tr>\n",
       "      <th>2</th>\n",
       "      <td>-45007348.98</td>\n",
       "      <td>148425229.13</td>\n",
       "    </tr>\n",
       "    <tr>\n",
       "      <th>3</th>\n",
       "      <td>-362200847.04</td>\n",
       "      <td>-201627449.95</td>\n",
       "    </tr>\n",
       "    <tr>\n",
       "      <th>4</th>\n",
       "      <td>-671975223.92</td>\n",
       "      <td>438765269.36</td>\n",
       "    </tr>\n",
       "  </tbody>\n",
       "</table>\n",
       "</div>"
      ],
      "text/plain": [
       "   principal component 1  principal component 2\n",
       "0           328771813.70          -355271462.03\n",
       "1          1626075947.44           -63963639.51\n",
       "2           -45007348.98           148425229.13\n",
       "3          -362200847.04          -201627449.95\n",
       "4          -671975223.92           438765269.36"
      ]
     },
     "execution_count": 214,
     "metadata": {},
     "output_type": "execute_result"
    }
   ],
   "source": [
    "principal_df.head()"
   ]
  }
 ],
 "metadata": {
  "interpreter": {
   "hash": "63fd5069d213b44bf678585dea6b12cceca9941eaf7f819626cde1f2670de90d"
  },
  "kernelspec": {
   "display_name": "Python 3.9.6 64-bit",
   "language": "python",
   "name": "python3"
  },
  "language_info": {
   "codemirror_mode": {
    "name": "ipython",
    "version": 3
   },
   "file_extension": ".py",
   "mimetype": "text/x-python",
   "name": "python",
   "nbconvert_exporter": "python",
   "pygments_lexer": "ipython3",
   "version": "3.9.6"
  },
  "orig_nbformat": 4
 },
 "nbformat": 4,
 "nbformat_minor": 2
}
