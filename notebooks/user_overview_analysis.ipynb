{
 "cells": [
  {
   "cell_type": "code",
   "execution_count": 104,
   "metadata": {},
   "outputs": [
    {
     "name": "stdout",
     "output_type": "stream",
     "text": [
      "The autoreload extension is already loaded. To reload it, use:\n",
      "  %reload_ext autoreload\n"
     ]
    }
   ],
   "source": [
    "%load_ext autoreload\n",
    "%autoreload 2"
   ]
  },
  {
   "cell_type": "code",
   "execution_count": 105,
   "metadata": {},
   "outputs": [],
   "source": [
    "import sys\n",
    "sys.path.insert(0, '../scripts/')"
   ]
  },
  {
   "cell_type": "markdown",
   "metadata": {},
   "source": [
    "Import packages"
   ]
  },
  {
   "cell_type": "code",
   "execution_count": 106,
   "metadata": {},
   "outputs": [],
   "source": [
    "import pandas as pd\n",
    "import numpy as np\n",
    "import os\n",
    "import matplotlib.pyplot as plt\n",
    "import seaborn as sns\n",
    "from pathlib import Path\n",
    "from data_cleaner import DataCleaner\n",
    "%matplotlib inline"
   ]
  },
  {
   "cell_type": "markdown",
   "metadata": {},
   "source": [
    "Initalize configs"
   ]
  },
  {
   "cell_type": "code",
   "execution_count": 107,
   "metadata": {},
   "outputs": [],
   "source": [
    "pwd = Path().cwd()\n",
    "root_dir = pwd.parent\n",
    "data_dir = root_dir / \"data\"\n",
    "file_path = root_dir / \"data/Week1_challenge_data_source(CSV).csv\"\n",
    "\n",
    "# sets global styling for graphs\n",
    "plt.style.use('seaborn')\n",
    "\n",
    "# to convert the scientific notation to decimal format\n",
    "pd.set_option('display.float_format', lambda x: '%.2f' % x)\n",
    "\n",
    "# reset the decimal format back to scientific notation\n",
    "# pd.reset_option('display.float_format')"
   ]
  },
  {
   "cell_type": "code",
   "execution_count": 108,
   "metadata": {},
   "outputs": [],
   "source": [
    "# data = pd.read_csv(file_path, na_values=[\"undefined\"], keep_default_na=True, parse_dates=[\"Start\", \"End\"])\n",
    "data = pd.read_csv(file_path, parse_dates=[\"Start\", \"End\"])"
   ]
  },
  {
   "cell_type": "code",
   "execution_count": 109,
   "metadata": {},
   "outputs": [
    {
     "data": {
      "text/html": [
       "<div>\n",
       "<style scoped>\n",
       "    .dataframe tbody tr th:only-of-type {\n",
       "        vertical-align: middle;\n",
       "    }\n",
       "\n",
       "    .dataframe tbody tr th {\n",
       "        vertical-align: top;\n",
       "    }\n",
       "\n",
       "    .dataframe thead th {\n",
       "        text-align: right;\n",
       "    }\n",
       "</style>\n",
       "<table border=\"1\" class=\"dataframe\">\n",
       "  <thead>\n",
       "    <tr style=\"text-align: right;\">\n",
       "      <th></th>\n",
       "      <th>Bearer Id</th>\n",
       "      <th>Start</th>\n",
       "      <th>Start ms</th>\n",
       "      <th>End</th>\n",
       "      <th>End ms</th>\n",
       "      <th>Dur. (ms)</th>\n",
       "      <th>IMSI</th>\n",
       "      <th>MSISDN/Number</th>\n",
       "      <th>IMEI</th>\n",
       "      <th>Last Location Name</th>\n",
       "      <th>Avg RTT DL (ms)</th>\n",
       "      <th>Avg RTT UL (ms)</th>\n",
       "      <th>Avg Bearer TP DL (kbps)</th>\n",
       "      <th>Avg Bearer TP UL (kbps)</th>\n",
       "      <th>TCP DL Retrans. Vol (Bytes)</th>\n",
       "      <th>TCP UL Retrans. Vol (Bytes)</th>\n",
       "      <th>DL TP &lt; 50 Kbps (%)</th>\n",
       "      <th>50 Kbps &lt; DL TP &lt; 250 Kbps (%)</th>\n",
       "      <th>250 Kbps &lt; DL TP &lt; 1 Mbps (%)</th>\n",
       "      <th>DL TP &gt; 1 Mbps (%)</th>\n",
       "      <th>UL TP &lt; 10 Kbps (%)</th>\n",
       "      <th>10 Kbps &lt; UL TP &lt; 50 Kbps (%)</th>\n",
       "      <th>50 Kbps &lt; UL TP &lt; 300 Kbps (%)</th>\n",
       "      <th>UL TP &gt; 300 Kbps (%)</th>\n",
       "      <th>HTTP DL (Bytes)</th>\n",
       "      <th>HTTP UL (Bytes)</th>\n",
       "      <th>Activity Duration DL (ms)</th>\n",
       "      <th>Activity Duration UL (ms)</th>\n",
       "      <th>Dur. (ms).1</th>\n",
       "      <th>Handset Manufacturer</th>\n",
       "      <th>Handset Type</th>\n",
       "      <th>Nb of sec with 125000B &lt; Vol DL</th>\n",
       "      <th>Nb of sec with 1250B &lt; Vol UL &lt; 6250B</th>\n",
       "      <th>Nb of sec with 31250B &lt; Vol DL &lt; 125000B</th>\n",
       "      <th>Nb of sec with 37500B &lt; Vol UL</th>\n",
       "      <th>Nb of sec with 6250B &lt; Vol DL &lt; 31250B</th>\n",
       "      <th>Nb of sec with 6250B &lt; Vol UL &lt; 37500B</th>\n",
       "      <th>Nb of sec with Vol DL &lt; 6250B</th>\n",
       "      <th>Nb of sec with Vol UL &lt; 1250B</th>\n",
       "      <th>Social Media DL (Bytes)</th>\n",
       "      <th>Social Media UL (Bytes)</th>\n",
       "      <th>Google DL (Bytes)</th>\n",
       "      <th>Google UL (Bytes)</th>\n",
       "      <th>Email DL (Bytes)</th>\n",
       "      <th>Email UL (Bytes)</th>\n",
       "      <th>Youtube DL (Bytes)</th>\n",
       "      <th>Youtube UL (Bytes)</th>\n",
       "      <th>Netflix DL (Bytes)</th>\n",
       "      <th>Netflix UL (Bytes)</th>\n",
       "      <th>Gaming DL (Bytes)</th>\n",
       "      <th>Gaming UL (Bytes)</th>\n",
       "      <th>Other DL (Bytes)</th>\n",
       "      <th>Other UL (Bytes)</th>\n",
       "      <th>Total UL (Bytes)</th>\n",
       "      <th>Total DL (Bytes)</th>\n",
       "    </tr>\n",
       "  </thead>\n",
       "  <tbody>\n",
       "    <tr>\n",
       "      <th>0</th>\n",
       "      <td>13114483460844900352.00</td>\n",
       "      <td>2019-04-04 12:01:00</td>\n",
       "      <td>770.00</td>\n",
       "      <td>2019-04-25 14:35:00</td>\n",
       "      <td>662.00</td>\n",
       "      <td>1823652.00</td>\n",
       "      <td>208201448079117.00</td>\n",
       "      <td>33664962239.00</td>\n",
       "      <td>35521209507511.00</td>\n",
       "      <td>9.16456699548519E+015</td>\n",
       "      <td>42.00</td>\n",
       "      <td>5.00</td>\n",
       "      <td>23.00</td>\n",
       "      <td>44.00</td>\n",
       "      <td>NaN</td>\n",
       "      <td>NaN</td>\n",
       "      <td>100.00</td>\n",
       "      <td>0.00</td>\n",
       "      <td>0.00</td>\n",
       "      <td>0.00</td>\n",
       "      <td>100.00</td>\n",
       "      <td>0.00</td>\n",
       "      <td>0.00</td>\n",
       "      <td>0.00</td>\n",
       "      <td>NaN</td>\n",
       "      <td>NaN</td>\n",
       "      <td>37624.00</td>\n",
       "      <td>38787.00</td>\n",
       "      <td>1823652892.00</td>\n",
       "      <td>Samsung</td>\n",
       "      <td>Samsung Galaxy A5 Sm-A520F</td>\n",
       "      <td>NaN</td>\n",
       "      <td>NaN</td>\n",
       "      <td>NaN</td>\n",
       "      <td>NaN</td>\n",
       "      <td>NaN</td>\n",
       "      <td>NaN</td>\n",
       "      <td>213.00</td>\n",
       "      <td>214.00</td>\n",
       "      <td>1545765.00</td>\n",
       "      <td>24420.00</td>\n",
       "      <td>1634479.00</td>\n",
       "      <td>1271433.00</td>\n",
       "      <td>3563542.00</td>\n",
       "      <td>137762.00</td>\n",
       "      <td>15854611.00</td>\n",
       "      <td>2501332.00</td>\n",
       "      <td>8198936.00</td>\n",
       "      <td>9656251.00</td>\n",
       "      <td>278082303.00</td>\n",
       "      <td>14344150.00</td>\n",
       "      <td>171744450.00</td>\n",
       "      <td>8814393.00</td>\n",
       "      <td>36749741.00</td>\n",
       "      <td>308879636.00</td>\n",
       "    </tr>\n",
       "    <tr>\n",
       "      <th>1</th>\n",
       "      <td>13114483482878900224.00</td>\n",
       "      <td>2019-04-09 13:04:00</td>\n",
       "      <td>235.00</td>\n",
       "      <td>2019-04-25 08:15:00</td>\n",
       "      <td>606.00</td>\n",
       "      <td>1365104.00</td>\n",
       "      <td>208201909211140.00</td>\n",
       "      <td>33681854413.00</td>\n",
       "      <td>35794009006359.00</td>\n",
       "      <td>L77566A</td>\n",
       "      <td>65.00</td>\n",
       "      <td>5.00</td>\n",
       "      <td>16.00</td>\n",
       "      <td>26.00</td>\n",
       "      <td>NaN</td>\n",
       "      <td>NaN</td>\n",
       "      <td>100.00</td>\n",
       "      <td>0.00</td>\n",
       "      <td>0.00</td>\n",
       "      <td>0.00</td>\n",
       "      <td>100.00</td>\n",
       "      <td>0.00</td>\n",
       "      <td>0.00</td>\n",
       "      <td>0.00</td>\n",
       "      <td>NaN</td>\n",
       "      <td>NaN</td>\n",
       "      <td>168.00</td>\n",
       "      <td>3560.00</td>\n",
       "      <td>1365104371.00</td>\n",
       "      <td>Samsung</td>\n",
       "      <td>Samsung Galaxy J5 (Sm-J530)</td>\n",
       "      <td>NaN</td>\n",
       "      <td>NaN</td>\n",
       "      <td>NaN</td>\n",
       "      <td>NaN</td>\n",
       "      <td>NaN</td>\n",
       "      <td>NaN</td>\n",
       "      <td>971.00</td>\n",
       "      <td>1022.00</td>\n",
       "      <td>1926113.00</td>\n",
       "      <td>7165.00</td>\n",
       "      <td>3493924.00</td>\n",
       "      <td>920172.00</td>\n",
       "      <td>629046.00</td>\n",
       "      <td>308339.00</td>\n",
       "      <td>20247395.00</td>\n",
       "      <td>19111729.00</td>\n",
       "      <td>18338413.00</td>\n",
       "      <td>17227132.00</td>\n",
       "      <td>608750074.00</td>\n",
       "      <td>1170709.00</td>\n",
       "      <td>526904238.00</td>\n",
       "      <td>15055145.00</td>\n",
       "      <td>53800391.00</td>\n",
       "      <td>653384965.00</td>\n",
       "    </tr>\n",
       "    <tr>\n",
       "      <th>2</th>\n",
       "      <td>13114483484080500736.00</td>\n",
       "      <td>2019-04-09 17:42:00</td>\n",
       "      <td>1.00</td>\n",
       "      <td>2019-04-25 11:58:00</td>\n",
       "      <td>652.00</td>\n",
       "      <td>1361762.00</td>\n",
       "      <td>208200314458056.00</td>\n",
       "      <td>33760627129.00</td>\n",
       "      <td>35281510359387.00</td>\n",
       "      <td>D42335A</td>\n",
       "      <td>NaN</td>\n",
       "      <td>NaN</td>\n",
       "      <td>6.00</td>\n",
       "      <td>9.00</td>\n",
       "      <td>NaN</td>\n",
       "      <td>NaN</td>\n",
       "      <td>100.00</td>\n",
       "      <td>0.00</td>\n",
       "      <td>0.00</td>\n",
       "      <td>0.00</td>\n",
       "      <td>100.00</td>\n",
       "      <td>0.00</td>\n",
       "      <td>0.00</td>\n",
       "      <td>0.00</td>\n",
       "      <td>NaN</td>\n",
       "      <td>NaN</td>\n",
       "      <td>0.00</td>\n",
       "      <td>0.00</td>\n",
       "      <td>1361762651.00</td>\n",
       "      <td>Samsung</td>\n",
       "      <td>Samsung Galaxy A8 (2018)</td>\n",
       "      <td>NaN</td>\n",
       "      <td>NaN</td>\n",
       "      <td>NaN</td>\n",
       "      <td>NaN</td>\n",
       "      <td>NaN</td>\n",
       "      <td>NaN</td>\n",
       "      <td>751.00</td>\n",
       "      <td>695.00</td>\n",
       "      <td>1684053.00</td>\n",
       "      <td>42224.00</td>\n",
       "      <td>8535055.00</td>\n",
       "      <td>1694064.00</td>\n",
       "      <td>2690151.00</td>\n",
       "      <td>672973.00</td>\n",
       "      <td>19725661.00</td>\n",
       "      <td>14699576.00</td>\n",
       "      <td>17587794.00</td>\n",
       "      <td>6163408.00</td>\n",
       "      <td>229584621.00</td>\n",
       "      <td>395630.00</td>\n",
       "      <td>410692588.00</td>\n",
       "      <td>4215763.00</td>\n",
       "      <td>27883638.00</td>\n",
       "      <td>279807335.00</td>\n",
       "    </tr>\n",
       "    <tr>\n",
       "      <th>3</th>\n",
       "      <td>13114483485442799616.00</td>\n",
       "      <td>2019-04-10 00:31:00</td>\n",
       "      <td>486.00</td>\n",
       "      <td>2019-04-25 07:36:00</td>\n",
       "      <td>171.00</td>\n",
       "      <td>1321509.00</td>\n",
       "      <td>208201402342131.00</td>\n",
       "      <td>33750343200.00</td>\n",
       "      <td>35356610164913.00</td>\n",
       "      <td>T21824A</td>\n",
       "      <td>NaN</td>\n",
       "      <td>NaN</td>\n",
       "      <td>44.00</td>\n",
       "      <td>44.00</td>\n",
       "      <td>NaN</td>\n",
       "      <td>NaN</td>\n",
       "      <td>100.00</td>\n",
       "      <td>0.00</td>\n",
       "      <td>0.00</td>\n",
       "      <td>0.00</td>\n",
       "      <td>100.00</td>\n",
       "      <td>0.00</td>\n",
       "      <td>0.00</td>\n",
       "      <td>0.00</td>\n",
       "      <td>NaN</td>\n",
       "      <td>NaN</td>\n",
       "      <td>3330.00</td>\n",
       "      <td>37882.00</td>\n",
       "      <td>1321509685.00</td>\n",
       "      <td>undefined</td>\n",
       "      <td>undefined</td>\n",
       "      <td>NaN</td>\n",
       "      <td>NaN</td>\n",
       "      <td>NaN</td>\n",
       "      <td>NaN</td>\n",
       "      <td>NaN</td>\n",
       "      <td>NaN</td>\n",
       "      <td>17.00</td>\n",
       "      <td>207.00</td>\n",
       "      <td>644121.00</td>\n",
       "      <td>13372.00</td>\n",
       "      <td>9023734.00</td>\n",
       "      <td>2788027.00</td>\n",
       "      <td>1439754.00</td>\n",
       "      <td>631229.00</td>\n",
       "      <td>21388122.00</td>\n",
       "      <td>15146643.00</td>\n",
       "      <td>13994646.00</td>\n",
       "      <td>1097942.00</td>\n",
       "      <td>799538153.00</td>\n",
       "      <td>10849722.00</td>\n",
       "      <td>749039933.00</td>\n",
       "      <td>12797283.00</td>\n",
       "      <td>43324218.00</td>\n",
       "      <td>846028530.00</td>\n",
       "    </tr>\n",
       "    <tr>\n",
       "      <th>4</th>\n",
       "      <td>13114483499480700928.00</td>\n",
       "      <td>2019-04-12 20:10:00</td>\n",
       "      <td>565.00</td>\n",
       "      <td>2019-04-25 10:40:00</td>\n",
       "      <td>954.00</td>\n",
       "      <td>1089009.00</td>\n",
       "      <td>208201401415120.00</td>\n",
       "      <td>33699795932.00</td>\n",
       "      <td>35407009745539.00</td>\n",
       "      <td>D88865A</td>\n",
       "      <td>NaN</td>\n",
       "      <td>NaN</td>\n",
       "      <td>6.00</td>\n",
       "      <td>9.00</td>\n",
       "      <td>NaN</td>\n",
       "      <td>NaN</td>\n",
       "      <td>100.00</td>\n",
       "      <td>0.00</td>\n",
       "      <td>0.00</td>\n",
       "      <td>0.00</td>\n",
       "      <td>100.00</td>\n",
       "      <td>0.00</td>\n",
       "      <td>0.00</td>\n",
       "      <td>0.00</td>\n",
       "      <td>NaN</td>\n",
       "      <td>NaN</td>\n",
       "      <td>0.00</td>\n",
       "      <td>0.00</td>\n",
       "      <td>1089009389.00</td>\n",
       "      <td>Samsung</td>\n",
       "      <td>Samsung Sm-G390F</td>\n",
       "      <td>NaN</td>\n",
       "      <td>NaN</td>\n",
       "      <td>NaN</td>\n",
       "      <td>NaN</td>\n",
       "      <td>NaN</td>\n",
       "      <td>NaN</td>\n",
       "      <td>607.00</td>\n",
       "      <td>604.00</td>\n",
       "      <td>862600.00</td>\n",
       "      <td>50188.00</td>\n",
       "      <td>6248284.00</td>\n",
       "      <td>1500559.00</td>\n",
       "      <td>1936496.00</td>\n",
       "      <td>173853.00</td>\n",
       "      <td>15259380.00</td>\n",
       "      <td>18962873.00</td>\n",
       "      <td>17124581.00</td>\n",
       "      <td>415218.00</td>\n",
       "      <td>527707248.00</td>\n",
       "      <td>3529801.00</td>\n",
       "      <td>550709500.00</td>\n",
       "      <td>13910322.00</td>\n",
       "      <td>38542814.00</td>\n",
       "      <td>569138589.00</td>\n",
       "    </tr>\n",
       "  </tbody>\n",
       "</table>\n",
       "</div>"
      ],
      "text/plain": [
       "                Bearer Id  ... Total DL (Bytes)\n",
       "0 13114483460844900352.00  ...     308879636.00\n",
       "1 13114483482878900224.00  ...     653384965.00\n",
       "2 13114483484080500736.00  ...     279807335.00\n",
       "3 13114483485442799616.00  ...     846028530.00\n",
       "4 13114483499480700928.00  ...     569138589.00\n",
       "\n",
       "[5 rows x 55 columns]"
      ]
     },
     "execution_count": 109,
     "metadata": {},
     "output_type": "execute_result"
    }
   ],
   "source": [
    "data.head()"
   ]
  },
  {
   "cell_type": "code",
   "execution_count": 110,
   "metadata": {},
   "outputs": [
    {
     "data": {
      "text/plain": [
       "(150001, 55)"
      ]
     },
     "execution_count": 110,
     "metadata": {},
     "output_type": "execute_result"
    }
   ],
   "source": [
    "data.shape"
   ]
  },
  {
   "cell_type": "code",
   "execution_count": 111,
   "metadata": {},
   "outputs": [
    {
     "data": {
      "text/plain": [
       "['Bearer Id',\n",
       " 'Start',\n",
       " 'Start ms',\n",
       " 'End',\n",
       " 'End ms',\n",
       " 'Dur. (ms)',\n",
       " 'IMSI',\n",
       " 'MSISDN/Number',\n",
       " 'IMEI',\n",
       " 'Last Location Name',\n",
       " 'Avg RTT DL (ms)',\n",
       " 'Avg RTT UL (ms)',\n",
       " 'Avg Bearer TP DL (kbps)',\n",
       " 'Avg Bearer TP UL (kbps)',\n",
       " 'TCP DL Retrans. Vol (Bytes)',\n",
       " 'TCP UL Retrans. Vol (Bytes)',\n",
       " 'DL TP < 50 Kbps (%)',\n",
       " '50 Kbps < DL TP < 250 Kbps (%)',\n",
       " '250 Kbps < DL TP < 1 Mbps (%)',\n",
       " 'DL TP > 1 Mbps (%)',\n",
       " 'UL TP < 10 Kbps (%)',\n",
       " '10 Kbps < UL TP < 50 Kbps (%)',\n",
       " '50 Kbps < UL TP < 300 Kbps (%)',\n",
       " 'UL TP > 300 Kbps (%)',\n",
       " 'HTTP DL (Bytes)',\n",
       " 'HTTP UL (Bytes)',\n",
       " 'Activity Duration DL (ms)',\n",
       " 'Activity Duration UL (ms)',\n",
       " 'Dur. (ms).1',\n",
       " 'Handset Manufacturer',\n",
       " 'Handset Type',\n",
       " 'Nb of sec with 125000B < Vol DL',\n",
       " 'Nb of sec with 1250B < Vol UL < 6250B',\n",
       " 'Nb of sec with 31250B < Vol DL < 125000B',\n",
       " 'Nb of sec with 37500B < Vol UL',\n",
       " 'Nb of sec with 6250B < Vol DL < 31250B',\n",
       " 'Nb of sec with 6250B < Vol UL < 37500B',\n",
       " 'Nb of sec with Vol DL < 6250B',\n",
       " 'Nb of sec with Vol UL < 1250B',\n",
       " 'Social Media DL (Bytes)',\n",
       " 'Social Media UL (Bytes)',\n",
       " 'Google DL (Bytes)',\n",
       " 'Google UL (Bytes)',\n",
       " 'Email DL (Bytes)',\n",
       " 'Email UL (Bytes)',\n",
       " 'Youtube DL (Bytes)',\n",
       " 'Youtube UL (Bytes)',\n",
       " 'Netflix DL (Bytes)',\n",
       " 'Netflix UL (Bytes)',\n",
       " 'Gaming DL (Bytes)',\n",
       " 'Gaming UL (Bytes)',\n",
       " 'Other DL (Bytes)',\n",
       " 'Other UL (Bytes)',\n",
       " 'Total UL (Bytes)',\n",
       " 'Total DL (Bytes)']"
      ]
     },
     "execution_count": 111,
     "metadata": {},
     "output_type": "execute_result"
    }
   ],
   "source": [
    "data.columns.tolist()"
   ]
  },
  {
   "cell_type": "code",
   "execution_count": 112,
   "metadata": {},
   "outputs": [],
   "source": [
    "data_modified = data.copy()"
   ]
  },
  {
   "cell_type": "code",
   "execution_count": 113,
   "metadata": {},
   "outputs": [
    {
     "name": "stdout",
     "output_type": "stream",
     "text": [
      "<class 'pandas.core.frame.DataFrame'>\n",
      "RangeIndex: 150001 entries, 0 to 150000\n",
      "Data columns (total 55 columns):\n",
      " #   Column                                    Non-Null Count   Dtype         \n",
      "---  ------                                    --------------   -----         \n",
      " 0   Bearer Id                                 149010 non-null  float64       \n",
      " 1   Start                                     150000 non-null  datetime64[ns]\n",
      " 2   Start ms                                  150000 non-null  float64       \n",
      " 3   End                                       150000 non-null  datetime64[ns]\n",
      " 4   End ms                                    150000 non-null  float64       \n",
      " 5   Dur. (ms)                                 150000 non-null  float64       \n",
      " 6   IMSI                                      149431 non-null  float64       \n",
      " 7   MSISDN/Number                             148935 non-null  float64       \n",
      " 8   IMEI                                      149429 non-null  float64       \n",
      " 9   Last Location Name                        148848 non-null  object        \n",
      " 10  Avg RTT DL (ms)                           122172 non-null  float64       \n",
      " 11  Avg RTT UL (ms)                           122189 non-null  float64       \n",
      " 12  Avg Bearer TP DL (kbps)                   150000 non-null  float64       \n",
      " 13  Avg Bearer TP UL (kbps)                   150000 non-null  float64       \n",
      " 14  TCP DL Retrans. Vol (Bytes)               61855 non-null   float64       \n",
      " 15  TCP UL Retrans. Vol (Bytes)               53352 non-null   float64       \n",
      " 16  DL TP < 50 Kbps (%)                       149247 non-null  float64       \n",
      " 17  50 Kbps < DL TP < 250 Kbps (%)            149247 non-null  float64       \n",
      " 18  250 Kbps < DL TP < 1 Mbps (%)             149247 non-null  float64       \n",
      " 19  DL TP > 1 Mbps (%)                        149247 non-null  float64       \n",
      " 20  UL TP < 10 Kbps (%)                       149209 non-null  float64       \n",
      " 21  10 Kbps < UL TP < 50 Kbps (%)             149209 non-null  float64       \n",
      " 22  50 Kbps < UL TP < 300 Kbps (%)            149209 non-null  float64       \n",
      " 23  UL TP > 300 Kbps (%)                      149209 non-null  float64       \n",
      " 24  HTTP DL (Bytes)                           68527 non-null   float64       \n",
      " 25  HTTP UL (Bytes)                           68191 non-null   float64       \n",
      " 26  Activity Duration DL (ms)                 150000 non-null  float64       \n",
      " 27  Activity Duration UL (ms)                 150000 non-null  float64       \n",
      " 28  Dur. (ms).1                               150000 non-null  float64       \n",
      " 29  Handset Manufacturer                      149429 non-null  object        \n",
      " 30  Handset Type                              149429 non-null  object        \n",
      " 31  Nb of sec with 125000B < Vol DL           52463 non-null   float64       \n",
      " 32  Nb of sec with 1250B < Vol UL < 6250B     57107 non-null   float64       \n",
      " 33  Nb of sec with 31250B < Vol DL < 125000B  56415 non-null   float64       \n",
      " 34  Nb of sec with 37500B < Vol UL            19747 non-null   float64       \n",
      " 35  Nb of sec with 6250B < Vol DL < 31250B    61684 non-null   float64       \n",
      " 36  Nb of sec with 6250B < Vol UL < 37500B    38158 non-null   float64       \n",
      " 37  Nb of sec with Vol DL < 6250B             149246 non-null  float64       \n",
      " 38  Nb of sec with Vol UL < 1250B             149208 non-null  float64       \n",
      " 39  Social Media DL (Bytes)                   150001 non-null  float64       \n",
      " 40  Social Media UL (Bytes)                   150001 non-null  float64       \n",
      " 41  Google DL (Bytes)                         150001 non-null  float64       \n",
      " 42  Google UL (Bytes)                         150001 non-null  float64       \n",
      " 43  Email DL (Bytes)                          150001 non-null  float64       \n",
      " 44  Email UL (Bytes)                          150001 non-null  float64       \n",
      " 45  Youtube DL (Bytes)                        150001 non-null  float64       \n",
      " 46  Youtube UL (Bytes)                        150001 non-null  float64       \n",
      " 47  Netflix DL (Bytes)                        150001 non-null  float64       \n",
      " 48  Netflix UL (Bytes)                        150001 non-null  float64       \n",
      " 49  Gaming DL (Bytes)                         150001 non-null  float64       \n",
      " 50  Gaming UL (Bytes)                         150001 non-null  float64       \n",
      " 51  Other DL (Bytes)                          150001 non-null  float64       \n",
      " 52  Other UL (Bytes)                          150001 non-null  float64       \n",
      " 53  Total UL (Bytes)                          150000 non-null  float64       \n",
      " 54  Total DL (Bytes)                          150000 non-null  float64       \n",
      "dtypes: datetime64[ns](2), float64(50), object(3)\n",
      "memory usage: 62.9+ MB\n"
     ]
    }
   ],
   "source": [
    "data_modified.info()"
   ]
  },
  {
   "cell_type": "markdown",
   "metadata": {},
   "source": [
    "Rename incorrect column name"
   ]
  },
  {
   "cell_type": "code",
   "execution_count": 114,
   "metadata": {},
   "outputs": [],
   "source": [
    "data_modified.rename(columns={\"Dur. (ms)\": \"Dur. (s)\", \"Dur. (ms).1\": \"Dur. (ms)\"}, inplace=True)"
   ]
  },
  {
   "cell_type": "code",
   "execution_count": 118,
   "metadata": {},
   "outputs": [],
   "source": [
    "# data_modified.to_csv(data_dir / \"corrected_data.csv\", index=False)"
   ]
  },
  {
   "cell_type": "markdown",
   "metadata": {},
   "source": [
    "### Top 10 used handsets by customers"
   ]
  },
  {
   "cell_type": "code",
   "execution_count": 119,
   "metadata": {},
   "outputs": [],
   "source": [
    "top_10_handsets = data_modified[\"Handset Type\"].value_counts().nlargest(10)"
   ]
  },
  {
   "cell_type": "code",
   "execution_count": 120,
   "metadata": {},
   "outputs": [
    {
     "data": {
      "text/plain": [
       "Huawei B528S-23A                19752\n",
       "Apple iPhone 6S (A1688)          9419\n",
       "Apple iPhone 6 (A1586)           9023\n",
       "undefined                        8987\n",
       "Apple iPhone 7 (A1778)           6326\n",
       "Apple iPhone Se (A1723)          5187\n",
       "Apple iPhone 8 (A1905)           4993\n",
       "Apple iPhone Xr (A2105)          4568\n",
       "Samsung Galaxy S8 (Sm-G950F)     4520\n",
       "Apple iPhone X (A1901)           3813\n",
       "Name: Handset Type, dtype: int64"
      ]
     },
     "execution_count": 120,
     "metadata": {},
     "output_type": "execute_result"
    }
   ],
   "source": [
    "top_10_handsets"
   ]
  },
  {
   "cell_type": "code",
   "execution_count": 121,
   "metadata": {},
   "outputs": [
    {
     "data": {
      "image/png": "[encoded data removed]",
      "text/plain": [
       "<Figure size 1440x720 with 1 Axes>"
      ]
     },
     "metadata": {},
     "output_type": "display_data"
    }
   ],
   "source": [
    "top_10_handsets.plot(kind=\"barh\", figsize=(20, 10), title=\"Most used handsets by customers\").invert_yaxis()"
   ]
  },
  {
   "cell_type": "markdown",
   "metadata": {},
   "source": [
    "### Top 3 handset manufacturers"
   ]
  },
  {
   "cell_type": "code",
   "execution_count": 122,
   "metadata": {},
   "outputs": [],
   "source": [
    "top_3_handset_manufacturers = data_modified[\"Handset Manufacturer\"].value_counts().nlargest(3)"
   ]
  },
  {
   "cell_type": "code",
   "execution_count": 123,
   "metadata": {},
   "outputs": [
    {
     "data": {
      "text/plain": [
       "Apple      59565\n",
       "Samsung    40839\n",
       "Huawei     34423\n",
       "Name: Handset Manufacturer, dtype: int64"
      ]
     },
     "execution_count": 123,
     "metadata": {},
     "output_type": "execute_result"
    }
   ],
   "source": [
    "top_3_handset_manufacturers"
   ]
  },
  {
   "cell_type": "code",
   "execution_count": 124,
   "metadata": {},
   "outputs": [
    {
     "data": {
      "image/png": "[encoded data removed]",
      "text/plain": [
       "<Figure size 1440x720 with 1 Axes>"
      ]
     },
     "metadata": {},
     "output_type": "display_data"
    }
   ],
   "source": [
    "top_3_handset_manufacturers.plot(kind=\"barh\", figsize=(20, 10), title=\"Top 3 handsets manufacturers\").invert_yaxis()"
   ]
  },
  {
   "cell_type": "markdown",
   "metadata": {},
   "source": [
    "### Top 5 Handsets Manufactured by Apple"
   ]
  },
  {
   "cell_type": "code",
   "execution_count": 125,
   "metadata": {},
   "outputs": [],
   "source": [
    "top_5_apple_handsets = data_modified[data_modified[\"Handset Manufacturer\"] == \"Apple\"][[\"Handset Manufacturer\", \"Handset Type\"]].groupby(\"Handset Type\").count().nlargest(n=5, columns=\"Handset Manufacturer\")"
   ]
  },
  {
   "cell_type": "code",
   "execution_count": 126,
   "metadata": {},
   "outputs": [
    {
     "data": {
      "text/html": [
       "<div>\n",
       "<style scoped>\n",
       "    .dataframe tbody tr th:only-of-type {\n",
       "        vertical-align: middle;\n",
       "    }\n",
       "\n",
       "    .dataframe tbody tr th {\n",
       "        vertical-align: top;\n",
       "    }\n",
       "\n",
       "    .dataframe thead th {\n",
       "        text-align: right;\n",
       "    }\n",
       "</style>\n",
       "<table border=\"1\" class=\"dataframe\">\n",
       "  <thead>\n",
       "    <tr style=\"text-align: right;\">\n",
       "      <th></th>\n",
       "      <th>Handset Manufacturer</th>\n",
       "    </tr>\n",
       "    <tr>\n",
       "      <th>Handset Type</th>\n",
       "      <th></th>\n",
       "    </tr>\n",
       "  </thead>\n",
       "  <tbody>\n",
       "    <tr>\n",
       "      <th>Apple iPhone 6S (A1688)</th>\n",
       "      <td>9419</td>\n",
       "    </tr>\n",
       "    <tr>\n",
       "      <th>Apple iPhone 6 (A1586)</th>\n",
       "      <td>9023</td>\n",
       "    </tr>\n",
       "    <tr>\n",
       "      <th>Apple iPhone 7 (A1778)</th>\n",
       "      <td>6326</td>\n",
       "    </tr>\n",
       "    <tr>\n",
       "      <th>Apple iPhone Se (A1723)</th>\n",
       "      <td>5187</td>\n",
       "    </tr>\n",
       "    <tr>\n",
       "      <th>Apple iPhone 8 (A1905)</th>\n",
       "      <td>4993</td>\n",
       "    </tr>\n",
       "  </tbody>\n",
       "</table>\n",
       "</div>"
      ],
      "text/plain": [
       "                         Handset Manufacturer\n",
       "Handset Type                                 \n",
       "Apple iPhone 6S (A1688)                  9419\n",
       "Apple iPhone 6 (A1586)                   9023\n",
       "Apple iPhone 7 (A1778)                   6326\n",
       "Apple iPhone Se (A1723)                  5187\n",
       "Apple iPhone 8 (A1905)                   4993"
      ]
     },
     "execution_count": 126,
     "metadata": {},
     "output_type": "execute_result"
    }
   ],
   "source": [
    "top_5_apple_handsets"
   ]
  },
  {
   "cell_type": "code",
   "execution_count": 127,
   "metadata": {},
   "outputs": [
    {
     "data": {
      "image/png": "[encoded data removed]",
      "text/plain": [
       "<Figure size 1440x720 with 1 Axes>"
      ]
     },
     "metadata": {},
     "output_type": "display_data"
    }
   ],
   "source": [
    "top_5_apple_handsets.plot(kind=\"barh\", figsize=(20, 10), title=\"Top 5 Handsets Manufactured by Apple\", legend=False, xlabel=\"\").invert_yaxis()"
   ]
  },
  {
   "cell_type": "markdown",
   "metadata": {},
   "source": [
    "### Top 5 Handsets Manufactured by Samsung"
   ]
  },
  {
   "cell_type": "code",
   "execution_count": 128,
   "metadata": {},
   "outputs": [],
   "source": [
    "top_5_samsung_handsets = data_modified[data_modified[\"Handset Manufacturer\"] == \"Samsung\"][[\"Handset Manufacturer\", \"Handset Type\"]].groupby(\"Handset Type\").count().nlargest(n=5, columns=\"Handset Manufacturer\")"
   ]
  },
  {
   "cell_type": "code",
   "execution_count": 129,
   "metadata": {},
   "outputs": [
    {
     "data": {
      "text/html": [
       "<div>\n",
       "<style scoped>\n",
       "    .dataframe tbody tr th:only-of-type {\n",
       "        vertical-align: middle;\n",
       "    }\n",
       "\n",
       "    .dataframe tbody tr th {\n",
       "        vertical-align: top;\n",
       "    }\n",
       "\n",
       "    .dataframe thead th {\n",
       "        text-align: right;\n",
       "    }\n",
       "</style>\n",
       "<table border=\"1\" class=\"dataframe\">\n",
       "  <thead>\n",
       "    <tr style=\"text-align: right;\">\n",
       "      <th></th>\n",
       "      <th>Handset Manufacturer</th>\n",
       "    </tr>\n",
       "    <tr>\n",
       "      <th>Handset Type</th>\n",
       "      <th></th>\n",
       "    </tr>\n",
       "  </thead>\n",
       "  <tbody>\n",
       "    <tr>\n",
       "      <th>Samsung Galaxy S8 (Sm-G950F)</th>\n",
       "      <td>4520</td>\n",
       "    </tr>\n",
       "    <tr>\n",
       "      <th>Samsung Galaxy A5 Sm-A520F</th>\n",
       "      <td>3724</td>\n",
       "    </tr>\n",
       "    <tr>\n",
       "      <th>Samsung Galaxy J5 (Sm-J530)</th>\n",
       "      <td>3696</td>\n",
       "    </tr>\n",
       "    <tr>\n",
       "      <th>Samsung Galaxy J3 (Sm-J330)</th>\n",
       "      <td>3484</td>\n",
       "    </tr>\n",
       "    <tr>\n",
       "      <th>Samsung Galaxy S7 (Sm-G930X)</th>\n",
       "      <td>3199</td>\n",
       "    </tr>\n",
       "  </tbody>\n",
       "</table>\n",
       "</div>"
      ],
      "text/plain": [
       "                              Handset Manufacturer\n",
       "Handset Type                                      \n",
       "Samsung Galaxy S8 (Sm-G950F)                  4520\n",
       "Samsung Galaxy A5 Sm-A520F                    3724\n",
       "Samsung Galaxy J5 (Sm-J530)                   3696\n",
       "Samsung Galaxy J3 (Sm-J330)                   3484\n",
       "Samsung Galaxy S7 (Sm-G930X)                  3199"
      ]
     },
     "execution_count": 129,
     "metadata": {},
     "output_type": "execute_result"
    }
   ],
   "source": [
    "top_5_samsung_handsets"
   ]
  },
  {
   "cell_type": "code",
   "execution_count": 130,
   "metadata": {},
   "outputs": [
    {
     "data": {
      "image/png": "[encoded data removed]",
      "text/plain": [
       "<Figure size 1440x720 with 1 Axes>"
      ]
     },
     "metadata": {},
     "output_type": "display_data"
    }
   ],
   "source": [
    "top_5_samsung_handsets.plot(kind=\"barh\", figsize=(20, 10), title=\"Top 5 Handsets Manufactured by Samsung\", legend=False, xlabel=\"\").invert_yaxis()"
   ]
  },
  {
   "cell_type": "markdown",
   "metadata": {},
   "source": [
    "### Top 5 Handsets Manufactured by Huawei"
   ]
  },
  {
   "cell_type": "code",
   "execution_count": 131,
   "metadata": {},
   "outputs": [],
   "source": [
    "top_5_huawei_handsets = data_modified[data_modified[\"Handset Manufacturer\"] == \"Huawei\"][[\"Handset Manufacturer\", \"Handset Type\"]].groupby(\"Handset Type\").count().nlargest(n=5, columns=\"Handset Manufacturer\")"
   ]
  },
  {
   "cell_type": "code",
   "execution_count": 132,
   "metadata": {},
   "outputs": [
    {
     "data": {
      "text/html": [
       "<div>\n",
       "<style scoped>\n",
       "    .dataframe tbody tr th:only-of-type {\n",
       "        vertical-align: middle;\n",
       "    }\n",
       "\n",
       "    .dataframe tbody tr th {\n",
       "        vertical-align: top;\n",
       "    }\n",
       "\n",
       "    .dataframe thead th {\n",
       "        text-align: right;\n",
       "    }\n",
       "</style>\n",
       "<table border=\"1\" class=\"dataframe\">\n",
       "  <thead>\n",
       "    <tr style=\"text-align: right;\">\n",
       "      <th></th>\n",
       "      <th>Handset Manufacturer</th>\n",
       "    </tr>\n",
       "    <tr>\n",
       "      <th>Handset Type</th>\n",
       "      <th></th>\n",
       "    </tr>\n",
       "  </thead>\n",
       "  <tbody>\n",
       "    <tr>\n",
       "      <th>Huawei B528S-23A</th>\n",
       "      <td>19752</td>\n",
       "    </tr>\n",
       "    <tr>\n",
       "      <th>Huawei E5180</th>\n",
       "      <td>2079</td>\n",
       "    </tr>\n",
       "    <tr>\n",
       "      <th>Huawei P20 Lite Huawei Nova 3E</th>\n",
       "      <td>2021</td>\n",
       "    </tr>\n",
       "    <tr>\n",
       "      <th>Huawei P20</th>\n",
       "      <td>1480</td>\n",
       "    </tr>\n",
       "    <tr>\n",
       "      <th>Huawei Y6 2018</th>\n",
       "      <td>997</td>\n",
       "    </tr>\n",
       "  </tbody>\n",
       "</table>\n",
       "</div>"
      ],
      "text/plain": [
       "                                Handset Manufacturer\n",
       "Handset Type                                        \n",
       "Huawei B528S-23A                               19752\n",
       "Huawei E5180                                    2079\n",
       "Huawei P20 Lite Huawei Nova 3E                  2021\n",
       "Huawei P20                                      1480\n",
       "Huawei Y6 2018                                   997"
      ]
     },
     "execution_count": 132,
     "metadata": {},
     "output_type": "execute_result"
    }
   ],
   "source": [
    "top_5_huawei_handsets"
   ]
  },
  {
   "cell_type": "code",
   "execution_count": 133,
   "metadata": {},
   "outputs": [
    {
     "data": {
      "image/png": "[encoded data removed]",
      "text/plain": [
       "<Figure size 1440x720 with 1 Axes>"
      ]
     },
     "metadata": {},
     "output_type": "display_data"
    }
   ],
   "source": [
    "top_5_huawei_handsets.plot(kind=\"barh\", figsize=(20, 10), title=\"Top 5 Handsets Manufactured by Huawei\", legend=False, xlabel=\"\").invert_yaxis()"
   ]
  },
  {
   "cell_type": "markdown",
   "metadata": {},
   "source": [
    "Looking at the insights, TellCo should start selling Apple, Samsung and Huawei manufactured handsets by partnering with them. The marketing team can then let customers know that they're selling these handsets in order to generate more revenue. "
   ]
  },
  {
   "cell_type": "markdown",
   "metadata": {},
   "source": [
    "### Grouping values to look into sessions per user\n",
    "---"
   ]
  },
  {
   "cell_type": "code",
   "execution_count": 134,
   "metadata": {},
   "outputs": [
    {
     "data": {
      "text/html": [
       "<div>\n",
       "<style scoped>\n",
       "    .dataframe tbody tr th:only-of-type {\n",
       "        vertical-align: middle;\n",
       "    }\n",
       "\n",
       "    .dataframe tbody tr th {\n",
       "        vertical-align: top;\n",
       "    }\n",
       "\n",
       "    .dataframe thead th {\n",
       "        text-align: right;\n",
       "    }\n",
       "</style>\n",
       "<table border=\"1\" class=\"dataframe\">\n",
       "  <thead>\n",
       "    <tr style=\"text-align: right;\">\n",
       "      <th></th>\n",
       "      <th>Bearer Id</th>\n",
       "      <th>Start</th>\n",
       "      <th>Start ms</th>\n",
       "      <th>End</th>\n",
       "      <th>End ms</th>\n",
       "      <th>Dur. (s)</th>\n",
       "      <th>IMSI</th>\n",
       "      <th>MSISDN/Number</th>\n",
       "      <th>IMEI</th>\n",
       "      <th>Last Location Name</th>\n",
       "      <th>Avg RTT DL (ms)</th>\n",
       "      <th>Avg RTT UL (ms)</th>\n",
       "      <th>Avg Bearer TP DL (kbps)</th>\n",
       "      <th>Avg Bearer TP UL (kbps)</th>\n",
       "      <th>TCP DL Retrans. Vol (Bytes)</th>\n",
       "      <th>TCP UL Retrans. Vol (Bytes)</th>\n",
       "      <th>DL TP &lt; 50 Kbps (%)</th>\n",
       "      <th>50 Kbps &lt; DL TP &lt; 250 Kbps (%)</th>\n",
       "      <th>250 Kbps &lt; DL TP &lt; 1 Mbps (%)</th>\n",
       "      <th>DL TP &gt; 1 Mbps (%)</th>\n",
       "      <th>UL TP &lt; 10 Kbps (%)</th>\n",
       "      <th>10 Kbps &lt; UL TP &lt; 50 Kbps (%)</th>\n",
       "      <th>50 Kbps &lt; UL TP &lt; 300 Kbps (%)</th>\n",
       "      <th>UL TP &gt; 300 Kbps (%)</th>\n",
       "      <th>HTTP DL (Bytes)</th>\n",
       "      <th>HTTP UL (Bytes)</th>\n",
       "      <th>Activity Duration DL (ms)</th>\n",
       "      <th>Activity Duration UL (ms)</th>\n",
       "      <th>Dur. (ms)</th>\n",
       "      <th>Handset Manufacturer</th>\n",
       "      <th>Handset Type</th>\n",
       "      <th>Nb of sec with 125000B &lt; Vol DL</th>\n",
       "      <th>Nb of sec with 1250B &lt; Vol UL &lt; 6250B</th>\n",
       "      <th>Nb of sec with 31250B &lt; Vol DL &lt; 125000B</th>\n",
       "      <th>Nb of sec with 37500B &lt; Vol UL</th>\n",
       "      <th>Nb of sec with 6250B &lt; Vol DL &lt; 31250B</th>\n",
       "      <th>Nb of sec with 6250B &lt; Vol UL &lt; 37500B</th>\n",
       "      <th>Nb of sec with Vol DL &lt; 6250B</th>\n",
       "      <th>Nb of sec with Vol UL &lt; 1250B</th>\n",
       "      <th>Social Media DL (Bytes)</th>\n",
       "      <th>Social Media UL (Bytes)</th>\n",
       "      <th>Google DL (Bytes)</th>\n",
       "      <th>Google UL (Bytes)</th>\n",
       "      <th>Email DL (Bytes)</th>\n",
       "      <th>Email UL (Bytes)</th>\n",
       "      <th>Youtube DL (Bytes)</th>\n",
       "      <th>Youtube UL (Bytes)</th>\n",
       "      <th>Netflix DL (Bytes)</th>\n",
       "      <th>Netflix UL (Bytes)</th>\n",
       "      <th>Gaming DL (Bytes)</th>\n",
       "      <th>Gaming UL (Bytes)</th>\n",
       "      <th>Other DL (Bytes)</th>\n",
       "      <th>Other UL (Bytes)</th>\n",
       "      <th>Total UL (Bytes)</th>\n",
       "      <th>Total DL (Bytes)</th>\n",
       "    </tr>\n",
       "  </thead>\n",
       "  <tbody>\n",
       "    <tr>\n",
       "      <th>0</th>\n",
       "      <td>13114483460844900352.00</td>\n",
       "      <td>2019-04-04 12:01:00</td>\n",
       "      <td>770.00</td>\n",
       "      <td>2019-04-25 14:35:00</td>\n",
       "      <td>662.00</td>\n",
       "      <td>1823652.00</td>\n",
       "      <td>208201448079117.00</td>\n",
       "      <td>33664962239.00</td>\n",
       "      <td>35521209507511.00</td>\n",
       "      <td>9.16456699548519E+015</td>\n",
       "      <td>42.00</td>\n",
       "      <td>5.00</td>\n",
       "      <td>23.00</td>\n",
       "      <td>44.00</td>\n",
       "      <td>NaN</td>\n",
       "      <td>NaN</td>\n",
       "      <td>100.00</td>\n",
       "      <td>0.00</td>\n",
       "      <td>0.00</td>\n",
       "      <td>0.00</td>\n",
       "      <td>100.00</td>\n",
       "      <td>0.00</td>\n",
       "      <td>0.00</td>\n",
       "      <td>0.00</td>\n",
       "      <td>NaN</td>\n",
       "      <td>NaN</td>\n",
       "      <td>37624.00</td>\n",
       "      <td>38787.00</td>\n",
       "      <td>1823652892.00</td>\n",
       "      <td>Samsung</td>\n",
       "      <td>Samsung Galaxy A5 Sm-A520F</td>\n",
       "      <td>NaN</td>\n",
       "      <td>NaN</td>\n",
       "      <td>NaN</td>\n",
       "      <td>NaN</td>\n",
       "      <td>NaN</td>\n",
       "      <td>NaN</td>\n",
       "      <td>213.00</td>\n",
       "      <td>214.00</td>\n",
       "      <td>1545765.00</td>\n",
       "      <td>24420.00</td>\n",
       "      <td>1634479.00</td>\n",
       "      <td>1271433.00</td>\n",
       "      <td>3563542.00</td>\n",
       "      <td>137762.00</td>\n",
       "      <td>15854611.00</td>\n",
       "      <td>2501332.00</td>\n",
       "      <td>8198936.00</td>\n",
       "      <td>9656251.00</td>\n",
       "      <td>278082303.00</td>\n",
       "      <td>14344150.00</td>\n",
       "      <td>171744450.00</td>\n",
       "      <td>8814393.00</td>\n",
       "      <td>36749741.00</td>\n",
       "      <td>308879636.00</td>\n",
       "    </tr>\n",
       "    <tr>\n",
       "      <th>1</th>\n",
       "      <td>13114483482878900224.00</td>\n",
       "      <td>2019-04-09 13:04:00</td>\n",
       "      <td>235.00</td>\n",
       "      <td>2019-04-25 08:15:00</td>\n",
       "      <td>606.00</td>\n",
       "      <td>1365104.00</td>\n",
       "      <td>208201909211140.00</td>\n",
       "      <td>33681854413.00</td>\n",
       "      <td>35794009006359.00</td>\n",
       "      <td>L77566A</td>\n",
       "      <td>65.00</td>\n",
       "      <td>5.00</td>\n",
       "      <td>16.00</td>\n",
       "      <td>26.00</td>\n",
       "      <td>NaN</td>\n",
       "      <td>NaN</td>\n",
       "      <td>100.00</td>\n",
       "      <td>0.00</td>\n",
       "      <td>0.00</td>\n",
       "      <td>0.00</td>\n",
       "      <td>100.00</td>\n",
       "      <td>0.00</td>\n",
       "      <td>0.00</td>\n",
       "      <td>0.00</td>\n",
       "      <td>NaN</td>\n",
       "      <td>NaN</td>\n",
       "      <td>168.00</td>\n",
       "      <td>3560.00</td>\n",
       "      <td>1365104371.00</td>\n",
       "      <td>Samsung</td>\n",
       "      <td>Samsung Galaxy J5 (Sm-J530)</td>\n",
       "      <td>NaN</td>\n",
       "      <td>NaN</td>\n",
       "      <td>NaN</td>\n",
       "      <td>NaN</td>\n",
       "      <td>NaN</td>\n",
       "      <td>NaN</td>\n",
       "      <td>971.00</td>\n",
       "      <td>1022.00</td>\n",
       "      <td>1926113.00</td>\n",
       "      <td>7165.00</td>\n",
       "      <td>3493924.00</td>\n",
       "      <td>920172.00</td>\n",
       "      <td>629046.00</td>\n",
       "      <td>308339.00</td>\n",
       "      <td>20247395.00</td>\n",
       "      <td>19111729.00</td>\n",
       "      <td>18338413.00</td>\n",
       "      <td>17227132.00</td>\n",
       "      <td>608750074.00</td>\n",
       "      <td>1170709.00</td>\n",
       "      <td>526904238.00</td>\n",
       "      <td>15055145.00</td>\n",
       "      <td>53800391.00</td>\n",
       "      <td>653384965.00</td>\n",
       "    </tr>\n",
       "    <tr>\n",
       "      <th>2</th>\n",
       "      <td>13114483484080500736.00</td>\n",
       "      <td>2019-04-09 17:42:00</td>\n",
       "      <td>1.00</td>\n",
       "      <td>2019-04-25 11:58:00</td>\n",
       "      <td>652.00</td>\n",
       "      <td>1361762.00</td>\n",
       "      <td>208200314458056.00</td>\n",
       "      <td>33760627129.00</td>\n",
       "      <td>35281510359387.00</td>\n",
       "      <td>D42335A</td>\n",
       "      <td>NaN</td>\n",
       "      <td>NaN</td>\n",
       "      <td>6.00</td>\n",
       "      <td>9.00</td>\n",
       "      <td>NaN</td>\n",
       "      <td>NaN</td>\n",
       "      <td>100.00</td>\n",
       "      <td>0.00</td>\n",
       "      <td>0.00</td>\n",
       "      <td>0.00</td>\n",
       "      <td>100.00</td>\n",
       "      <td>0.00</td>\n",
       "      <td>0.00</td>\n",
       "      <td>0.00</td>\n",
       "      <td>NaN</td>\n",
       "      <td>NaN</td>\n",
       "      <td>0.00</td>\n",
       "      <td>0.00</td>\n",
       "      <td>1361762651.00</td>\n",
       "      <td>Samsung</td>\n",
       "      <td>Samsung Galaxy A8 (2018)</td>\n",
       "      <td>NaN</td>\n",
       "      <td>NaN</td>\n",
       "      <td>NaN</td>\n",
       "      <td>NaN</td>\n",
       "      <td>NaN</td>\n",
       "      <td>NaN</td>\n",
       "      <td>751.00</td>\n",
       "      <td>695.00</td>\n",
       "      <td>1684053.00</td>\n",
       "      <td>42224.00</td>\n",
       "      <td>8535055.00</td>\n",
       "      <td>1694064.00</td>\n",
       "      <td>2690151.00</td>\n",
       "      <td>672973.00</td>\n",
       "      <td>19725661.00</td>\n",
       "      <td>14699576.00</td>\n",
       "      <td>17587794.00</td>\n",
       "      <td>6163408.00</td>\n",
       "      <td>229584621.00</td>\n",
       "      <td>395630.00</td>\n",
       "      <td>410692588.00</td>\n",
       "      <td>4215763.00</td>\n",
       "      <td>27883638.00</td>\n",
       "      <td>279807335.00</td>\n",
       "    </tr>\n",
       "    <tr>\n",
       "      <th>3</th>\n",
       "      <td>13114483485442799616.00</td>\n",
       "      <td>2019-04-10 00:31:00</td>\n",
       "      <td>486.00</td>\n",
       "      <td>2019-04-25 07:36:00</td>\n",
       "      <td>171.00</td>\n",
       "      <td>1321509.00</td>\n",
       "      <td>208201402342131.00</td>\n",
       "      <td>33750343200.00</td>\n",
       "      <td>35356610164913.00</td>\n",
       "      <td>T21824A</td>\n",
       "      <td>NaN</td>\n",
       "      <td>NaN</td>\n",
       "      <td>44.00</td>\n",
       "      <td>44.00</td>\n",
       "      <td>NaN</td>\n",
       "      <td>NaN</td>\n",
       "      <td>100.00</td>\n",
       "      <td>0.00</td>\n",
       "      <td>0.00</td>\n",
       "      <td>0.00</td>\n",
       "      <td>100.00</td>\n",
       "      <td>0.00</td>\n",
       "      <td>0.00</td>\n",
       "      <td>0.00</td>\n",
       "      <td>NaN</td>\n",
       "      <td>NaN</td>\n",
       "      <td>3330.00</td>\n",
       "      <td>37882.00</td>\n",
       "      <td>1321509685.00</td>\n",
       "      <td>undefined</td>\n",
       "      <td>undefined</td>\n",
       "      <td>NaN</td>\n",
       "      <td>NaN</td>\n",
       "      <td>NaN</td>\n",
       "      <td>NaN</td>\n",
       "      <td>NaN</td>\n",
       "      <td>NaN</td>\n",
       "      <td>17.00</td>\n",
       "      <td>207.00</td>\n",
       "      <td>644121.00</td>\n",
       "      <td>13372.00</td>\n",
       "      <td>9023734.00</td>\n",
       "      <td>2788027.00</td>\n",
       "      <td>1439754.00</td>\n",
       "      <td>631229.00</td>\n",
       "      <td>21388122.00</td>\n",
       "      <td>15146643.00</td>\n",
       "      <td>13994646.00</td>\n",
       "      <td>1097942.00</td>\n",
       "      <td>799538153.00</td>\n",
       "      <td>10849722.00</td>\n",
       "      <td>749039933.00</td>\n",
       "      <td>12797283.00</td>\n",
       "      <td>43324218.00</td>\n",
       "      <td>846028530.00</td>\n",
       "    </tr>\n",
       "    <tr>\n",
       "      <th>4</th>\n",
       "      <td>13114483499480700928.00</td>\n",
       "      <td>2019-04-12 20:10:00</td>\n",
       "      <td>565.00</td>\n",
       "      <td>2019-04-25 10:40:00</td>\n",
       "      <td>954.00</td>\n",
       "      <td>1089009.00</td>\n",
       "      <td>208201401415120.00</td>\n",
       "      <td>33699795932.00</td>\n",
       "      <td>35407009745539.00</td>\n",
       "      <td>D88865A</td>\n",
       "      <td>NaN</td>\n",
       "      <td>NaN</td>\n",
       "      <td>6.00</td>\n",
       "      <td>9.00</td>\n",
       "      <td>NaN</td>\n",
       "      <td>NaN</td>\n",
       "      <td>100.00</td>\n",
       "      <td>0.00</td>\n",
       "      <td>0.00</td>\n",
       "      <td>0.00</td>\n",
       "      <td>100.00</td>\n",
       "      <td>0.00</td>\n",
       "      <td>0.00</td>\n",
       "      <td>0.00</td>\n",
       "      <td>NaN</td>\n",
       "      <td>NaN</td>\n",
       "      <td>0.00</td>\n",
       "      <td>0.00</td>\n",
       "      <td>1089009389.00</td>\n",
       "      <td>Samsung</td>\n",
       "      <td>Samsung Sm-G390F</td>\n",
       "      <td>NaN</td>\n",
       "      <td>NaN</td>\n",
       "      <td>NaN</td>\n",
       "      <td>NaN</td>\n",
       "      <td>NaN</td>\n",
       "      <td>NaN</td>\n",
       "      <td>607.00</td>\n",
       "      <td>604.00</td>\n",
       "      <td>862600.00</td>\n",
       "      <td>50188.00</td>\n",
       "      <td>6248284.00</td>\n",
       "      <td>1500559.00</td>\n",
       "      <td>1936496.00</td>\n",
       "      <td>173853.00</td>\n",
       "      <td>15259380.00</td>\n",
       "      <td>18962873.00</td>\n",
       "      <td>17124581.00</td>\n",
       "      <td>415218.00</td>\n",
       "      <td>527707248.00</td>\n",
       "      <td>3529801.00</td>\n",
       "      <td>550709500.00</td>\n",
       "      <td>13910322.00</td>\n",
       "      <td>38542814.00</td>\n",
       "      <td>569138589.00</td>\n",
       "    </tr>\n",
       "  </tbody>\n",
       "</table>\n",
       "</div>"
      ],
      "text/plain": [
       "                Bearer Id  ... Total DL (Bytes)\n",
       "0 13114483460844900352.00  ...     308879636.00\n",
       "1 13114483482878900224.00  ...     653384965.00\n",
       "2 13114483484080500736.00  ...     279807335.00\n",
       "3 13114483485442799616.00  ...     846028530.00\n",
       "4 13114483499480700928.00  ...     569138589.00\n",
       "\n",
       "[5 rows x 55 columns]"
      ]
     },
     "execution_count": 134,
     "metadata": {},
     "output_type": "execute_result"
    }
   ],
   "source": [
    "data_modified.head()"
   ]
  },
  {
   "cell_type": "code",
   "execution_count": 135,
   "metadata": {},
   "outputs": [],
   "source": [
    "user_agg = data_modified.groupby([\"MSISDN/Number\"], as_index=False).agg({'Bearer Id':'count', \"Dur. (s)\": \"sum\", \"Total UL (Bytes)\": \"sum\", \"Total DL (Bytes)\": \"sum\",  \"Social Media UL (Bytes)\": \"sum\", \"Social Media DL (Bytes)\": \"sum\", \"Google UL (Bytes)\": \"sum\", \"Google DL (Bytes)\": \"sum\", \"Email UL (Bytes)\": \"sum\", \"Email DL (Bytes)\": \"sum\", \"Youtube UL (Bytes)\": \"sum\", \"Youtube DL (Bytes)\": \"sum\", \"Netflix UL (Bytes)\": \"sum\", \"Netflix DL (Bytes)\": \"sum\", \"Gaming UL (Bytes)\": \"sum\", \"Gaming DL (Bytes)\": \"sum\", \"Other UL (Bytes)\": \"sum\", \"Other DL (Bytes)\": \"sum\"})\n",
    "user_agg.reset_index(drop=True, inplace=True)"
   ]
  },
  {
   "cell_type": "code",
   "execution_count": 136,
   "metadata": {},
   "outputs": [],
   "source": [
    "# change column to string to avoid numerical calculations\n",
    "user_agg[\"MSISDN/Number\"] = user_agg[\"MSISDN/Number\"].astype(str)"
   ]
  },
  {
   "cell_type": "code",
   "execution_count": 137,
   "metadata": {},
   "outputs": [
    {
     "data": {
      "text/plain": [
       "(106856, 19)"
      ]
     },
     "execution_count": 137,
     "metadata": {},
     "output_type": "execute_result"
    }
   ],
   "source": [
    "user_agg.shape"
   ]
  },
  {
   "cell_type": "code",
   "execution_count": 138,
   "metadata": {},
   "outputs": [],
   "source": [
    "user_agg.rename(columns={\"Bearer Id\": \"Session Count\"}, inplace=True)"
   ]
  },
  {
   "cell_type": "code",
   "execution_count": 139,
   "metadata": {},
   "outputs": [],
   "source": [
    "user_agg[\"Total Data Transferred\"] = user_agg[\"Total UL (Bytes)\"] + user_agg[\"Total DL (Bytes)\"]"
   ]
  },
  {
   "cell_type": "code",
   "execution_count": 140,
   "metadata": {},
   "outputs": [],
   "source": [
    "user_agg[\"Google Volume (Bytes)\"] = user_agg[\"Google UL (Bytes)\"] + user_agg[\"Google DL (Bytes)\"]\n",
    "user_agg[\"Netflix Volume (Bytes)\"] = user_agg[\"Netflix UL (Bytes)\"] + user_agg[\"Netflix DL (Bytes)\"]\n",
    "user_agg[\"Youtube Volume (Bytes)\"] = user_agg[\"Youtube UL (Bytes)\"] + user_agg[\"Youtube DL (Bytes)\"]\n",
    "user_agg[\"Gaming Volume (Bytes)\"] = user_agg[\"Gaming UL (Bytes)\"] + user_agg[\"Gaming DL (Bytes)\"]\n",
    "user_agg[\"Email Volume (Bytes)\"] = user_agg[\"Email UL (Bytes)\"] + user_agg[\"Email DL (Bytes)\"]\n",
    "user_agg[\"Social Media Volume (Bytes)\"] = user_agg[\"Social Media UL (Bytes)\"] + user_agg[\"Social Media DL (Bytes)\"]\n",
    "user_agg[\"Other Volume (Bytes)\"] = user_agg[\"Other UL (Bytes)\"] + user_agg[\"Other DL (Bytes)\"]"
   ]
  },
  {
   "cell_type": "code",
   "execution_count": 141,
   "metadata": {},
   "outputs": [],
   "source": [
    "# user_agg[\"Total Volume (Bytes)\"] = user_agg[\"Google Volume (Bytes)\"] + user_agg[\"Netflix Volume (Bytes)\"] + user_agg[\"Youtube Volume (Bytes)\"] + user_agg[\"Gaming Volume (Bytes)\"] + user_agg[\"Other Volume (Bytes)\"] + user_agg[\"Social Media Volume (Bytes)\"] + user_agg[\"Email Volume (Bytes)\"]"
   ]
  },
  {
   "cell_type": "code",
   "execution_count": 142,
   "metadata": {},
   "outputs": [
    {
     "data": {
      "text/plain": [
       "(106856, 27)"
      ]
     },
     "execution_count": 142,
     "metadata": {},
     "output_type": "execute_result"
    }
   ],
   "source": [
    "user_agg.shape"
   ]
  },
  {
   "cell_type": "code",
   "execution_count": 143,
   "metadata": {},
   "outputs": [
    {
     "data": {
      "text/html": [
       "<div>\n",
       "<style scoped>\n",
       "    .dataframe tbody tr th:only-of-type {\n",
       "        vertical-align: middle;\n",
       "    }\n",
       "\n",
       "    .dataframe tbody tr th {\n",
       "        vertical-align: top;\n",
       "    }\n",
       "\n",
       "    .dataframe thead th {\n",
       "        text-align: right;\n",
       "    }\n",
       "</style>\n",
       "<table border=\"1\" class=\"dataframe\">\n",
       "  <thead>\n",
       "    <tr style=\"text-align: right;\">\n",
       "      <th></th>\n",
       "      <th>MSISDN/Number</th>\n",
       "      <th>Session Count</th>\n",
       "      <th>Dur. (s)</th>\n",
       "      <th>Total UL (Bytes)</th>\n",
       "      <th>Total DL (Bytes)</th>\n",
       "      <th>Social Media UL (Bytes)</th>\n",
       "      <th>Social Media DL (Bytes)</th>\n",
       "      <th>Google UL (Bytes)</th>\n",
       "      <th>Google DL (Bytes)</th>\n",
       "      <th>Email UL (Bytes)</th>\n",
       "      <th>Email DL (Bytes)</th>\n",
       "      <th>Youtube UL (Bytes)</th>\n",
       "      <th>Youtube DL (Bytes)</th>\n",
       "      <th>Netflix UL (Bytes)</th>\n",
       "      <th>Netflix DL (Bytes)</th>\n",
       "      <th>Gaming UL (Bytes)</th>\n",
       "      <th>Gaming DL (Bytes)</th>\n",
       "      <th>Other UL (Bytes)</th>\n",
       "      <th>Other DL (Bytes)</th>\n",
       "      <th>Total Data Transferred</th>\n",
       "      <th>Google Volume (Bytes)</th>\n",
       "      <th>Netflix Volume (Bytes)</th>\n",
       "      <th>Youtube Volume (Bytes)</th>\n",
       "      <th>Gaming Volume (Bytes)</th>\n",
       "      <th>Email Volume (Bytes)</th>\n",
       "      <th>Social Media Volume (Bytes)</th>\n",
       "      <th>Other Volume (Bytes)</th>\n",
       "    </tr>\n",
       "  </thead>\n",
       "  <tbody>\n",
       "    <tr>\n",
       "      <th>0</th>\n",
       "      <td>33601001722.0</td>\n",
       "      <td>1</td>\n",
       "      <td>116720.00</td>\n",
       "      <td>36053108.00</td>\n",
       "      <td>842637466.00</td>\n",
       "      <td>25631.00</td>\n",
       "      <td>2206504.00</td>\n",
       "      <td>1051882.00</td>\n",
       "      <td>3337123.00</td>\n",
       "      <td>493962.00</td>\n",
       "      <td>837400.00</td>\n",
       "      <td>6724347.00</td>\n",
       "      <td>14900201.00</td>\n",
       "      <td>16915876.00</td>\n",
       "      <td>10265105.00</td>\n",
       "      <td>1367528.00</td>\n",
       "      <td>811091133.00</td>\n",
       "      <td>9473882.00</td>\n",
       "      <td>377096990.00</td>\n",
       "      <td>878690574.00</td>\n",
       "      <td>4389005.00</td>\n",
       "      <td>27180981.00</td>\n",
       "      <td>21624548.00</td>\n",
       "      <td>812458661.00</td>\n",
       "      <td>1331362.00</td>\n",
       "      <td>2232135.00</td>\n",
       "      <td>386570872.00</td>\n",
       "    </tr>\n",
       "    <tr>\n",
       "      <th>1</th>\n",
       "      <td>33601001754.0</td>\n",
       "      <td>1</td>\n",
       "      <td>181230.00</td>\n",
       "      <td>36104459.00</td>\n",
       "      <td>120755184.00</td>\n",
       "      <td>62017.00</td>\n",
       "      <td>2598548.00</td>\n",
       "      <td>1137166.00</td>\n",
       "      <td>4197697.00</td>\n",
       "      <td>478960.00</td>\n",
       "      <td>2828821.00</td>\n",
       "      <td>7107972.00</td>\n",
       "      <td>5324251.00</td>\n",
       "      <td>10451194.00</td>\n",
       "      <td>770569.00</td>\n",
       "      <td>14714780.00</td>\n",
       "      <td>105035298.00</td>\n",
       "      <td>2152370.00</td>\n",
       "      <td>279557701.00</td>\n",
       "      <td>156859643.00</td>\n",
       "      <td>5334863.00</td>\n",
       "      <td>11221763.00</td>\n",
       "      <td>12432223.00</td>\n",
       "      <td>119750078.00</td>\n",
       "      <td>3307781.00</td>\n",
       "      <td>2660565.00</td>\n",
       "      <td>281710071.00</td>\n",
       "    </tr>\n",
       "    <tr>\n",
       "      <th>2</th>\n",
       "      <td>33601002511.0</td>\n",
       "      <td>1</td>\n",
       "      <td>134969.00</td>\n",
       "      <td>39306820.00</td>\n",
       "      <td>556659663.00</td>\n",
       "      <td>47619.00</td>\n",
       "      <td>3148004.00</td>\n",
       "      <td>99643.00</td>\n",
       "      <td>3343483.00</td>\n",
       "      <td>768880.00</td>\n",
       "      <td>2436500.00</td>\n",
       "      <td>19196298.00</td>\n",
       "      <td>2137272.00</td>\n",
       "      <td>2827981.00</td>\n",
       "      <td>16525919.00</td>\n",
       "      <td>9759228.00</td>\n",
       "      <td>529068485.00</td>\n",
       "      <td>6607171.00</td>\n",
       "      <td>495086501.00</td>\n",
       "      <td>595966483.00</td>\n",
       "      <td>3443126.00</td>\n",
       "      <td>19353900.00</td>\n",
       "      <td>21333570.00</td>\n",
       "      <td>538827713.00</td>\n",
       "      <td>3205380.00</td>\n",
       "      <td>3195623.00</td>\n",
       "      <td>501693672.00</td>\n",
       "    </tr>\n",
       "    <tr>\n",
       "      <th>3</th>\n",
       "      <td>33601007832.0</td>\n",
       "      <td>1</td>\n",
       "      <td>49878.00</td>\n",
       "      <td>20327526.00</td>\n",
       "      <td>401993172.00</td>\n",
       "      <td>28825.00</td>\n",
       "      <td>251469.00</td>\n",
       "      <td>3740728.00</td>\n",
       "      <td>5937765.00</td>\n",
       "      <td>106052.00</td>\n",
       "      <td>2178618.00</td>\n",
       "      <td>2584198.00</td>\n",
       "      <td>4393123.00</td>\n",
       "      <td>784730.00</td>\n",
       "      <td>1157362.00</td>\n",
       "      <td>3051292.00</td>\n",
       "      <td>388074835.00</td>\n",
       "      <td>10031701.00</td>\n",
       "      <td>25248001.00</td>\n",
       "      <td>422320698.00</td>\n",
       "      <td>9678493.00</td>\n",
       "      <td>1942092.00</td>\n",
       "      <td>6977321.00</td>\n",
       "      <td>391126127.00</td>\n",
       "      <td>2284670.00</td>\n",
       "      <td>280294.00</td>\n",
       "      <td>35279702.00</td>\n",
       "    </tr>\n",
       "    <tr>\n",
       "      <th>4</th>\n",
       "      <td>33601008617.0</td>\n",
       "      <td>2</td>\n",
       "      <td>37104.00</td>\n",
       "      <td>94280527.00</td>\n",
       "      <td>1363130417.00</td>\n",
       "      <td>51312.00</td>\n",
       "      <td>2861230.00</td>\n",
       "      <td>4770948.00</td>\n",
       "      <td>13728668.00</td>\n",
       "      <td>1057661.00</td>\n",
       "      <td>2247808.00</td>\n",
       "      <td>31193031.00</td>\n",
       "      <td>10339971.00</td>\n",
       "      <td>24230077.00</td>\n",
       "      <td>24971647.00</td>\n",
       "      <td>5816727.00</td>\n",
       "      <td>1308981093.00</td>\n",
       "      <td>27160771.00</td>\n",
       "      <td>777643713.00</td>\n",
       "      <td>1457410944.00</td>\n",
       "      <td>18499616.00</td>\n",
       "      <td>49201724.00</td>\n",
       "      <td>41533002.00</td>\n",
       "      <td>1314797820.00</td>\n",
       "      <td>3305469.00</td>\n",
       "      <td>2912542.00</td>\n",
       "      <td>804804484.00</td>\n",
       "    </tr>\n",
       "  </tbody>\n",
       "</table>\n",
       "</div>"
      ],
      "text/plain": [
       "   MSISDN/Number  ...  Other Volume (Bytes)\n",
       "0  33601001722.0  ...          386570872.00\n",
       "1  33601001754.0  ...          281710071.00\n",
       "2  33601002511.0  ...          501693672.00\n",
       "3  33601007832.0  ...           35279702.00\n",
       "4  33601008617.0  ...          804804484.00\n",
       "\n",
       "[5 rows x 27 columns]"
      ]
     },
     "execution_count": 143,
     "metadata": {},
     "output_type": "execute_result"
    }
   ],
   "source": [
    "user_agg.head()"
   ]
  },
  {
   "cell_type": "code",
   "execution_count": 144,
   "metadata": {},
   "outputs": [],
   "source": [
    "volume_per_user = user_agg.drop(columns=[\n",
    "    \"Total UL (Bytes)\",\n",
    "    \"Total DL (Bytes)\",\n",
    "    \"Social Media UL (Bytes)\",\n",
    "    \"Social Media DL (Bytes)\",\n",
    "    \"Google UL (Bytes)\",\n",
    "    \"Google DL (Bytes)\",\n",
    "    \"Email UL (Bytes)\",\n",
    "    \"Email DL (Bytes)\",\n",
    "    \"Youtube UL (Bytes)\",\n",
    "    \"Youtube DL (Bytes)\",\n",
    "    \"Netflix UL (Bytes)\",\n",
    "    \"Netflix DL (Bytes)\",\n",
    "    \"Gaming UL (Bytes)\",\n",
    "    \"Gaming DL (Bytes)\",\n",
    "    \"Other UL (Bytes)\",\n",
    "    \"Other DL (Bytes)\"\n",
    "])"
   ]
  },
  {
   "cell_type": "code",
   "execution_count": 146,
   "metadata": {},
   "outputs": [
    {
     "data": {
      "text/html": [
       "<div>\n",
       "<style scoped>\n",
       "    .dataframe tbody tr th:only-of-type {\n",
       "        vertical-align: middle;\n",
       "    }\n",
       "\n",
       "    .dataframe tbody tr th {\n",
       "        vertical-align: top;\n",
       "    }\n",
       "\n",
       "    .dataframe thead th {\n",
       "        text-align: right;\n",
       "    }\n",
       "</style>\n",
       "<table border=\"1\" class=\"dataframe\">\n",
       "  <thead>\n",
       "    <tr style=\"text-align: right;\">\n",
       "      <th></th>\n",
       "      <th>MSISDN/Number</th>\n",
       "      <th>Session Count</th>\n",
       "      <th>Dur. (s)</th>\n",
       "      <th>Total Data Transferred</th>\n",
       "      <th>Google Volume (Bytes)</th>\n",
       "      <th>Netflix Volume (Bytes)</th>\n",
       "      <th>Youtube Volume (Bytes)</th>\n",
       "      <th>Gaming Volume (Bytes)</th>\n",
       "      <th>Email Volume (Bytes)</th>\n",
       "      <th>Social Media Volume (Bytes)</th>\n",
       "      <th>Other Volume (Bytes)</th>\n",
       "    </tr>\n",
       "  </thead>\n",
       "  <tbody>\n",
       "    <tr>\n",
       "      <th>0</th>\n",
       "      <td>33601001722.0</td>\n",
       "      <td>1</td>\n",
       "      <td>116720.00</td>\n",
       "      <td>878690574.00</td>\n",
       "      <td>4389005.00</td>\n",
       "      <td>27180981.00</td>\n",
       "      <td>21624548.00</td>\n",
       "      <td>812458661.00</td>\n",
       "      <td>1331362.00</td>\n",
       "      <td>2232135.00</td>\n",
       "      <td>386570872.00</td>\n",
       "    </tr>\n",
       "    <tr>\n",
       "      <th>1</th>\n",
       "      <td>33601001754.0</td>\n",
       "      <td>1</td>\n",
       "      <td>181230.00</td>\n",
       "      <td>156859643.00</td>\n",
       "      <td>5334863.00</td>\n",
       "      <td>11221763.00</td>\n",
       "      <td>12432223.00</td>\n",
       "      <td>119750078.00</td>\n",
       "      <td>3307781.00</td>\n",
       "      <td>2660565.00</td>\n",
       "      <td>281710071.00</td>\n",
       "    </tr>\n",
       "    <tr>\n",
       "      <th>2</th>\n",
       "      <td>33601002511.0</td>\n",
       "      <td>1</td>\n",
       "      <td>134969.00</td>\n",
       "      <td>595966483.00</td>\n",
       "      <td>3443126.00</td>\n",
       "      <td>19353900.00</td>\n",
       "      <td>21333570.00</td>\n",
       "      <td>538827713.00</td>\n",
       "      <td>3205380.00</td>\n",
       "      <td>3195623.00</td>\n",
       "      <td>501693672.00</td>\n",
       "    </tr>\n",
       "    <tr>\n",
       "      <th>3</th>\n",
       "      <td>33601007832.0</td>\n",
       "      <td>1</td>\n",
       "      <td>49878.00</td>\n",
       "      <td>422320698.00</td>\n",
       "      <td>9678493.00</td>\n",
       "      <td>1942092.00</td>\n",
       "      <td>6977321.00</td>\n",
       "      <td>391126127.00</td>\n",
       "      <td>2284670.00</td>\n",
       "      <td>280294.00</td>\n",
       "      <td>35279702.00</td>\n",
       "    </tr>\n",
       "    <tr>\n",
       "      <th>4</th>\n",
       "      <td>33601008617.0</td>\n",
       "      <td>2</td>\n",
       "      <td>37104.00</td>\n",
       "      <td>1457410944.00</td>\n",
       "      <td>18499616.00</td>\n",
       "      <td>49201724.00</td>\n",
       "      <td>41533002.00</td>\n",
       "      <td>1314797820.00</td>\n",
       "      <td>3305469.00</td>\n",
       "      <td>2912542.00</td>\n",
       "      <td>804804484.00</td>\n",
       "    </tr>\n",
       "    <tr>\n",
       "      <th>...</th>\n",
       "      <td>...</td>\n",
       "      <td>...</td>\n",
       "      <td>...</td>\n",
       "      <td>...</td>\n",
       "      <td>...</td>\n",
       "      <td>...</td>\n",
       "      <td>...</td>\n",
       "      <td>...</td>\n",
       "      <td>...</td>\n",
       "      <td>...</td>\n",
       "      <td>...</td>\n",
       "    </tr>\n",
       "    <tr>\n",
       "      <th>106851</th>\n",
       "      <td>33789996170.0</td>\n",
       "      <td>1</td>\n",
       "      <td>8810.00</td>\n",
       "      <td>714641641.00</td>\n",
       "      <td>7531269.00</td>\n",
       "      <td>14902538.00</td>\n",
       "      <td>26647843.00</td>\n",
       "      <td>660361359.00</td>\n",
       "      <td>1006915.00</td>\n",
       "      <td>300183.00</td>\n",
       "      <td>295282817.00</td>\n",
       "    </tr>\n",
       "    <tr>\n",
       "      <th>106852</th>\n",
       "      <td>33789997247.0</td>\n",
       "      <td>1</td>\n",
       "      <td>140988.00</td>\n",
       "      <td>480307335.00</td>\n",
       "      <td>5429705.00</td>\n",
       "      <td>8531060.00</td>\n",
       "      <td>19851572.00</td>\n",
       "      <td>437003292.00</td>\n",
       "      <td>2514097.00</td>\n",
       "      <td>498569.00</td>\n",
       "      <td>211115113.00</td>\n",
       "    </tr>\n",
       "    <tr>\n",
       "      <th>106853</th>\n",
       "      <td>3197020876596.0</td>\n",
       "      <td>1</td>\n",
       "      <td>877385.00</td>\n",
       "      <td>232123971.00</td>\n",
       "      <td>10438660.00</td>\n",
       "      <td>26592300.00</td>\n",
       "      <td>11959905.00</td>\n",
       "      <td>178048738.00</td>\n",
       "      <td>1520771.00</td>\n",
       "      <td>715224.00</td>\n",
       "      <td>470526473.00</td>\n",
       "    </tr>\n",
       "    <tr>\n",
       "      <th>106854</th>\n",
       "      <td>337000037000919.0</td>\n",
       "      <td>1</td>\n",
       "      <td>253030.00</td>\n",
       "      <td>596287824.00</td>\n",
       "      <td>9830617.00</td>\n",
       "      <td>30905042.00</td>\n",
       "      <td>36734940.00</td>\n",
       "      <td>510142695.00</td>\n",
       "      <td>3318582.00</td>\n",
       "      <td>521566.00</td>\n",
       "      <td>149188439.00</td>\n",
       "    </tr>\n",
       "    <tr>\n",
       "      <th>106855</th>\n",
       "      <td>882397108489451.0</td>\n",
       "      <td>1</td>\n",
       "      <td>869844.00</td>\n",
       "      <td>139153646.00</td>\n",
       "      <td>9218647.00</td>\n",
       "      <td>28846230.00</td>\n",
       "      <td>40940710.00</td>\n",
       "      <td>43070260.00</td>\n",
       "      <td>3330974.00</td>\n",
       "      <td>1546088.00</td>\n",
       "      <td>401360457.00</td>\n",
       "    </tr>\n",
       "  </tbody>\n",
       "</table>\n",
       "<p>106856 rows × 11 columns</p>\n",
       "</div>"
      ],
      "text/plain": [
       "            MSISDN/Number  ...  Other Volume (Bytes)\n",
       "0           33601001722.0  ...          386570872.00\n",
       "1           33601001754.0  ...          281710071.00\n",
       "2           33601002511.0  ...          501693672.00\n",
       "3           33601007832.0  ...           35279702.00\n",
       "4           33601008617.0  ...          804804484.00\n",
       "...                   ...  ...                   ...\n",
       "106851      33789996170.0  ...          295282817.00\n",
       "106852      33789997247.0  ...          211115113.00\n",
       "106853    3197020876596.0  ...          470526473.00\n",
       "106854  337000037000919.0  ...          149188439.00\n",
       "106855  882397108489451.0  ...          401360457.00\n",
       "\n",
       "[106856 rows x 11 columns]"
      ]
     },
     "execution_count": 146,
     "metadata": {},
     "output_type": "execute_result"
    }
   ],
   "source": [
    "volume_per_user"
   ]
  },
  {
   "cell_type": "code",
   "execution_count": 149,
   "metadata": {},
   "outputs": [],
   "source": [
    "#volume_per_user.to_csv(data_dir / \"aggregated_data.csv\", index=False)"
   ]
  },
  {
   "cell_type": "code",
   "execution_count": 60,
   "metadata": {},
   "outputs": [
    {
     "data": {
      "text/plain": [
       "(106856, 11)"
      ]
     },
     "execution_count": 60,
     "metadata": {},
     "output_type": "execute_result"
    }
   ],
   "source": [
    "volume_per_user.shape"
   ]
  },
  {
   "cell_type": "code",
   "execution_count": 61,
   "metadata": {},
   "outputs": [
    {
     "data": {
      "text/html": [
       "<div>\n",
       "<style scoped>\n",
       "    .dataframe tbody tr th:only-of-type {\n",
       "        vertical-align: middle;\n",
       "    }\n",
       "\n",
       "    .dataframe tbody tr th {\n",
       "        vertical-align: top;\n",
       "    }\n",
       "\n",
       "    .dataframe thead th {\n",
       "        text-align: right;\n",
       "    }\n",
       "</style>\n",
       "<table border=\"1\" class=\"dataframe\">\n",
       "  <thead>\n",
       "    <tr style=\"text-align: right;\">\n",
       "      <th></th>\n",
       "      <th>MSISDN/Number</th>\n",
       "      <th>Session Count</th>\n",
       "      <th>Dur. (s)</th>\n",
       "      <th>Total Data Transferred</th>\n",
       "      <th>Google Volume (Bytes)</th>\n",
       "      <th>Netflix Volume (Bytes)</th>\n",
       "      <th>Youtube Volume (Bytes)</th>\n",
       "      <th>Gaming Volume (Bytes)</th>\n",
       "      <th>Email Volume (Bytes)</th>\n",
       "      <th>Social Media Volume (Bytes)</th>\n",
       "      <th>Other Volume (Bytes)</th>\n",
       "    </tr>\n",
       "  </thead>\n",
       "  <tbody>\n",
       "    <tr>\n",
       "      <th>0</th>\n",
       "      <td>33601001722.0</td>\n",
       "      <td>1</td>\n",
       "      <td>116720.0</td>\n",
       "      <td>8.786906e+08</td>\n",
       "      <td>4389005.0</td>\n",
       "      <td>27180981.0</td>\n",
       "      <td>21624548.0</td>\n",
       "      <td>8.124587e+08</td>\n",
       "      <td>1331362.0</td>\n",
       "      <td>2232135.0</td>\n",
       "      <td>386570872.0</td>\n",
       "    </tr>\n",
       "    <tr>\n",
       "      <th>1</th>\n",
       "      <td>33601001754.0</td>\n",
       "      <td>1</td>\n",
       "      <td>181230.0</td>\n",
       "      <td>1.568596e+08</td>\n",
       "      <td>5334863.0</td>\n",
       "      <td>11221763.0</td>\n",
       "      <td>12432223.0</td>\n",
       "      <td>1.197501e+08</td>\n",
       "      <td>3307781.0</td>\n",
       "      <td>2660565.0</td>\n",
       "      <td>281710071.0</td>\n",
       "    </tr>\n",
       "    <tr>\n",
       "      <th>2</th>\n",
       "      <td>33601002511.0</td>\n",
       "      <td>1</td>\n",
       "      <td>134969.0</td>\n",
       "      <td>5.959665e+08</td>\n",
       "      <td>3443126.0</td>\n",
       "      <td>19353900.0</td>\n",
       "      <td>21333570.0</td>\n",
       "      <td>5.388277e+08</td>\n",
       "      <td>3205380.0</td>\n",
       "      <td>3195623.0</td>\n",
       "      <td>501693672.0</td>\n",
       "    </tr>\n",
       "    <tr>\n",
       "      <th>3</th>\n",
       "      <td>33601007832.0</td>\n",
       "      <td>1</td>\n",
       "      <td>49878.0</td>\n",
       "      <td>4.223207e+08</td>\n",
       "      <td>9678493.0</td>\n",
       "      <td>1942092.0</td>\n",
       "      <td>6977321.0</td>\n",
       "      <td>3.911261e+08</td>\n",
       "      <td>2284670.0</td>\n",
       "      <td>280294.0</td>\n",
       "      <td>35279702.0</td>\n",
       "    </tr>\n",
       "    <tr>\n",
       "      <th>4</th>\n",
       "      <td>33601008617.0</td>\n",
       "      <td>2</td>\n",
       "      <td>37104.0</td>\n",
       "      <td>1.457411e+09</td>\n",
       "      <td>18499616.0</td>\n",
       "      <td>49201724.0</td>\n",
       "      <td>41533002.0</td>\n",
       "      <td>1.314798e+09</td>\n",
       "      <td>3305469.0</td>\n",
       "      <td>2912542.0</td>\n",
       "      <td>804804484.0</td>\n",
       "    </tr>\n",
       "  </tbody>\n",
       "</table>\n",
       "</div>"
      ],
      "text/plain": [
       "   MSISDN/Number  ...  Other Volume (Bytes)\n",
       "0  33601001722.0  ...           386570872.0\n",
       "1  33601001754.0  ...           281710071.0\n",
       "2  33601002511.0  ...           501693672.0\n",
       "3  33601007832.0  ...            35279702.0\n",
       "4  33601008617.0  ...           804804484.0\n",
       "\n",
       "[5 rows x 11 columns]"
      ]
     },
     "execution_count": 61,
     "metadata": {},
     "output_type": "execute_result"
    }
   ],
   "source": [
    "volume_per_user.head()"
   ]
  },
  {
   "cell_type": "code",
   "execution_count": 62,
   "metadata": {},
   "outputs": [
    {
     "data": {
      "text/html": [
       "<div>\n",
       "<style scoped>\n",
       "    .dataframe tbody tr th:only-of-type {\n",
       "        vertical-align: middle;\n",
       "    }\n",
       "\n",
       "    .dataframe tbody tr th {\n",
       "        vertical-align: top;\n",
       "    }\n",
       "\n",
       "    .dataframe thead th {\n",
       "        text-align: right;\n",
       "    }\n",
       "</style>\n",
       "<table border=\"1\" class=\"dataframe\">\n",
       "  <thead>\n",
       "    <tr style=\"text-align: right;\">\n",
       "      <th></th>\n",
       "      <th>Session Count</th>\n",
       "      <th>Dur. (s)</th>\n",
       "      <th>Total Data Transferred</th>\n",
       "      <th>Google Volume (Bytes)</th>\n",
       "      <th>Netflix Volume (Bytes)</th>\n",
       "      <th>Youtube Volume (Bytes)</th>\n",
       "      <th>Gaming Volume (Bytes)</th>\n",
       "      <th>Email Volume (Bytes)</th>\n",
       "      <th>Social Media Volume (Bytes)</th>\n",
       "      <th>Other Volume (Bytes)</th>\n",
       "    </tr>\n",
       "  </thead>\n",
       "  <tbody>\n",
       "    <tr>\n",
       "      <th>count</th>\n",
       "      <td>106856.000000</td>\n",
       "      <td>1.068560e+05</td>\n",
       "      <td>1.068560e+05</td>\n",
       "      <td>1.068560e+05</td>\n",
       "      <td>1.068560e+05</td>\n",
       "      <td>1.068560e+05</td>\n",
       "      <td>1.068560e+05</td>\n",
       "      <td>1.068560e+05</td>\n",
       "      <td>1.068560e+05</td>\n",
       "      <td>1.068560e+05</td>\n",
       "    </tr>\n",
       "    <tr>\n",
       "      <th>mean</th>\n",
       "      <td>1.389777</td>\n",
       "      <td>1.461672e+05</td>\n",
       "      <td>6.909621e+08</td>\n",
       "      <td>1.088243e+07</td>\n",
       "      <td>3.153833e+07</td>\n",
       "      <td>3.155840e+07</td>\n",
       "      <td>5.997690e+08</td>\n",
       "      <td>3.148796e+06</td>\n",
       "      <td>2.547967e+06</td>\n",
       "      <td>5.985088e+08</td>\n",
       "    </tr>\n",
       "    <tr>\n",
       "      <th>std</th>\n",
       "      <td>0.809863</td>\n",
       "      <td>1.863587e+05</td>\n",
       "      <td>4.910559e+08</td>\n",
       "      <td>7.544861e+06</td>\n",
       "      <td>2.128956e+07</td>\n",
       "      <td>2.129492e+07</td>\n",
       "      <td>4.491505e+08</td>\n",
       "      <td>2.222400e+06</td>\n",
       "      <td>1.908038e+06</td>\n",
       "      <td>4.489221e+08</td>\n",
       "    </tr>\n",
       "    <tr>\n",
       "      <th>min</th>\n",
       "      <td>0.000000</td>\n",
       "      <td>7.142000e+03</td>\n",
       "      <td>3.324901e+07</td>\n",
       "      <td>4.033000e+04</td>\n",
       "      <td>1.845690e+05</td>\n",
       "      <td>7.890300e+04</td>\n",
       "      <td>3.063580e+05</td>\n",
       "      <td>1.817600e+04</td>\n",
       "      <td>1.563000e+03</td>\n",
       "      <td>1.490450e+05</td>\n",
       "    </tr>\n",
       "    <tr>\n",
       "      <th>25%</th>\n",
       "      <td>1.000000</td>\n",
       "      <td>7.130800e+04</td>\n",
       "      <td>3.585499e+08</td>\n",
       "      <td>5.942636e+06</td>\n",
       "      <td>1.855597e+07</td>\n",
       "      <td>1.863109e+07</td>\n",
       "      <td>2.880631e+08</td>\n",
       "      <td>1.674481e+06</td>\n",
       "      <td>1.211282e+06</td>\n",
       "      <td>2.855599e+08</td>\n",
       "    </tr>\n",
       "    <tr>\n",
       "      <th>50%</th>\n",
       "      <td>1.000000</td>\n",
       "      <td>1.027400e+05</td>\n",
       "      <td>6.179231e+08</td>\n",
       "      <td>9.586153e+06</td>\n",
       "      <td>2.671889e+07</td>\n",
       "      <td>2.680038e+07</td>\n",
       "      <td>5.423492e+08</td>\n",
       "      <td>2.799824e+06</td>\n",
       "      <td>2.303756e+06</td>\n",
       "      <td>5.398323e+08</td>\n",
       "    </tr>\n",
       "    <tr>\n",
       "      <th>75%</th>\n",
       "      <td>2.000000</td>\n",
       "      <td>1.727990e+05</td>\n",
       "      <td>8.574351e+08</td>\n",
       "      <td>1.321474e+07</td>\n",
       "      <td>3.797696e+07</td>\n",
       "      <td>3.792798e+07</td>\n",
       "      <td>7.773041e+08</td>\n",
       "      <td>3.847198e+06</td>\n",
       "      <td>3.307509e+06</td>\n",
       "      <td>7.753975e+08</td>\n",
       "    </tr>\n",
       "    <tr>\n",
       "      <th>max</th>\n",
       "      <td>18.000000</td>\n",
       "      <td>1.855375e+07</td>\n",
       "      <td>8.846226e+09</td>\n",
       "      <td>1.521919e+08</td>\n",
       "      <td>3.995191e+08</td>\n",
       "      <td>4.529588e+08</td>\n",
       "      <td>7.749432e+09</td>\n",
       "      <td>4.241878e+07</td>\n",
       "      <td>4.337478e+07</td>\n",
       "      <td>8.167878e+09</td>\n",
       "    </tr>\n",
       "  </tbody>\n",
       "</table>\n",
       "</div>"
      ],
      "text/plain": [
       "       Session Count  ...  Other Volume (Bytes)\n",
       "count  106856.000000  ...          1.068560e+05\n",
       "mean        1.389777  ...          5.985088e+08\n",
       "std         0.809863  ...          4.489221e+08\n",
       "min         0.000000  ...          1.490450e+05\n",
       "25%         1.000000  ...          2.855599e+08\n",
       "50%         1.000000  ...          5.398323e+08\n",
       "75%         2.000000  ...          7.753975e+08\n",
       "max        18.000000  ...          8.167878e+09\n",
       "\n",
       "[8 rows x 10 columns]"
      ]
     },
     "execution_count": 62,
     "metadata": {},
     "output_type": "execute_result"
    }
   ],
   "source": [
    "volume_per_user.describe()"
   ]
  },
  {
   "cell_type": "markdown",
   "metadata": {},
   "source": [
    "### Non graphical Univariate analysis\n",
    "---"
   ]
  },
  {
   "cell_type": "code",
   "execution_count": 63,
   "metadata": {},
   "outputs": [
    {
     "data": {
      "text/plain": [
       "['MSISDN/Number',\n",
       " 'Session Count',\n",
       " 'Dur. (s)',\n",
       " 'Total Data Transferred',\n",
       " 'Google Volume (Bytes)',\n",
       " 'Netflix Volume (Bytes)',\n",
       " 'Youtube Volume (Bytes)',\n",
       " 'Gaming Volume (Bytes)',\n",
       " 'Email Volume (Bytes)',\n",
       " 'Social Media Volume (Bytes)',\n",
       " 'Other Volume (Bytes)']"
      ]
     },
     "execution_count": 63,
     "metadata": {},
     "output_type": "execute_result"
    }
   ],
   "source": [
    "volume_per_user.columns.tolist()"
   ]
  },
  {
   "cell_type": "code",
   "execution_count": 64,
   "metadata": {},
   "outputs": [
    {
     "data": {
      "text/plain": [
       "count    106856.000000\n",
       "mean          1.389777\n",
       "std           0.809863\n",
       "min           0.000000\n",
       "25%           1.000000\n",
       "50%           1.000000\n",
       "75%           2.000000\n",
       "max          18.000000\n",
       "Name: Session Count, dtype: float64"
      ]
     },
     "execution_count": 64,
     "metadata": {},
     "output_type": "execute_result"
    }
   ],
   "source": [
    "volume_per_user[\"Session Count\"].describe()"
   ]
  },
  {
   "cell_type": "code",
   "execution_count": 65,
   "metadata": {},
   "outputs": [
    {
     "data": {
      "text/plain": [
       "count    1.068560e+05\n",
       "mean     1.461672e+05\n",
       "std      1.863587e+05\n",
       "min      7.142000e+03\n",
       "25%      7.130800e+04\n",
       "50%      1.027400e+05\n",
       "75%      1.727990e+05\n",
       "max      1.855375e+07\n",
       "Name: Dur. (s), dtype: float64"
      ]
     },
     "execution_count": 65,
     "metadata": {},
     "output_type": "execute_result"
    }
   ],
   "source": [
    "volume_per_user[\"Dur. (s)\"].describe()"
   ]
  },
  {
   "cell_type": "code",
   "execution_count": 66,
   "metadata": {},
   "outputs": [
    {
     "data": {
      "text/plain": [
       "count    1.068560e+05\n",
       "mean     6.909621e+08\n",
       "std      4.910559e+08\n",
       "min      3.324901e+07\n",
       "25%      3.585499e+08\n",
       "50%      6.179231e+08\n",
       "75%      8.574351e+08\n",
       "max      8.846226e+09\n",
       "Name: Total Data Transferred, dtype: float64"
      ]
     },
     "execution_count": 66,
     "metadata": {},
     "output_type": "execute_result"
    }
   ],
   "source": [
    "volume_per_user[\"Total Data Transferred\"].describe()"
   ]
  },
  {
   "cell_type": "code",
   "execution_count": 67,
   "metadata": {},
   "outputs": [
    {
     "data": {
      "text/plain": [
       "count    1.068560e+05\n",
       "mean     1.088243e+07\n",
       "std      7.544861e+06\n",
       "min      4.033000e+04\n",
       "25%      5.942636e+06\n",
       "50%      9.586153e+06\n",
       "75%      1.321474e+07\n",
       "max      1.521919e+08\n",
       "Name: Google Volume (Bytes), dtype: float64"
      ]
     },
     "execution_count": 67,
     "metadata": {},
     "output_type": "execute_result"
    }
   ],
   "source": [
    "volume_per_user[\"Google Volume (Bytes)\"].describe()"
   ]
  },
  {
   "cell_type": "code",
   "execution_count": 68,
   "metadata": {},
   "outputs": [
    {
     "data": {
      "text/plain": [
       "count    1.068560e+05\n",
       "mean     3.153833e+07\n",
       "std      2.128956e+07\n",
       "min      1.845690e+05\n",
       "25%      1.855597e+07\n",
       "50%      2.671889e+07\n",
       "75%      3.797696e+07\n",
       "max      3.995191e+08\n",
       "Name: Netflix Volume (Bytes), dtype: float64"
      ]
     },
     "execution_count": 68,
     "metadata": {},
     "output_type": "execute_result"
    }
   ],
   "source": [
    "volume_per_user[\"Netflix Volume (Bytes)\"].describe()"
   ]
  },
  {
   "cell_type": "code",
   "execution_count": 69,
   "metadata": {},
   "outputs": [
    {
     "data": {
      "text/plain": [
       "count    1.068560e+05\n",
       "mean     3.155840e+07\n",
       "std      2.129492e+07\n",
       "min      7.890300e+04\n",
       "25%      1.863109e+07\n",
       "50%      2.680038e+07\n",
       "75%      3.792798e+07\n",
       "max      4.529588e+08\n",
       "Name: Youtube Volume (Bytes), dtype: float64"
      ]
     },
     "execution_count": 69,
     "metadata": {},
     "output_type": "execute_result"
    }
   ],
   "source": [
    "volume_per_user[\"Youtube Volume (Bytes)\"].describe()"
   ]
  },
  {
   "cell_type": "code",
   "execution_count": 70,
   "metadata": {},
   "outputs": [
    {
     "data": {
      "text/plain": [
       "count    1.068560e+05\n",
       "mean     3.148796e+06\n",
       "std      2.222400e+06\n",
       "min      1.817600e+04\n",
       "25%      1.674481e+06\n",
       "50%      2.799824e+06\n",
       "75%      3.847198e+06\n",
       "max      4.241878e+07\n",
       "Name: Email Volume (Bytes), dtype: float64"
      ]
     },
     "execution_count": 70,
     "metadata": {},
     "output_type": "execute_result"
    }
   ],
   "source": [
    "volume_per_user[\"Email Volume (Bytes)\"].describe()"
   ]
  },
  {
   "cell_type": "code",
   "execution_count": 71,
   "metadata": {},
   "outputs": [
    {
     "data": {
      "text/plain": [
       "count    1.068560e+05\n",
       "mean     5.997690e+08\n",
       "std      4.491505e+08\n",
       "min      3.063580e+05\n",
       "25%      2.880631e+08\n",
       "50%      5.423492e+08\n",
       "75%      7.773041e+08\n",
       "max      7.749432e+09\n",
       "Name: Gaming Volume (Bytes), dtype: float64"
      ]
     },
     "execution_count": 71,
     "metadata": {},
     "output_type": "execute_result"
    }
   ],
   "source": [
    "volume_per_user[\"Gaming Volume (Bytes)\"].describe()"
   ]
  },
  {
   "cell_type": "code",
   "execution_count": 72,
   "metadata": {},
   "outputs": [
    {
     "data": {
      "text/plain": [
       "count    1.068560e+05\n",
       "mean     2.547967e+06\n",
       "std      1.908038e+06\n",
       "min      1.563000e+03\n",
       "25%      1.211282e+06\n",
       "50%      2.303756e+06\n",
       "75%      3.307509e+06\n",
       "max      4.337478e+07\n",
       "Name: Social Media Volume (Bytes), dtype: float64"
      ]
     },
     "execution_count": 72,
     "metadata": {},
     "output_type": "execute_result"
    }
   ],
   "source": [
    "volume_per_user[\"Social Media Volume (Bytes)\"].describe()"
   ]
  },
  {
   "cell_type": "code",
   "execution_count": 73,
   "metadata": {},
   "outputs": [
    {
     "data": {
      "text/plain": [
       "count    1.068560e+05\n",
       "mean     5.985088e+08\n",
       "std      4.489221e+08\n",
       "min      1.490450e+05\n",
       "25%      2.855599e+08\n",
       "50%      5.398323e+08\n",
       "75%      7.753975e+08\n",
       "max      8.167878e+09\n",
       "Name: Other Volume (Bytes), dtype: float64"
      ]
     },
     "execution_count": 73,
     "metadata": {},
     "output_type": "execute_result"
    }
   ],
   "source": [
    "volume_per_user[\"Other Volume (Bytes)\"].describe()"
   ]
  },
  {
   "cell_type": "code",
   "execution_count": 74,
   "metadata": {},
   "outputs": [],
   "source": [
    "# volume_per_user[\"Total Volume (Bytes)\"].describe()"
   ]
  },
  {
   "cell_type": "code",
   "execution_count": 75,
   "metadata": {},
   "outputs": [
    {
     "data": {
      "text/html": [
       "<div>\n",
       "<style scoped>\n",
       "    .dataframe tbody tr th:only-of-type {\n",
       "        vertical-align: middle;\n",
       "    }\n",
       "\n",
       "    .dataframe tbody tr th {\n",
       "        vertical-align: top;\n",
       "    }\n",
       "\n",
       "    .dataframe thead th {\n",
       "        text-align: right;\n",
       "    }\n",
       "</style>\n",
       "<table border=\"1\" class=\"dataframe\">\n",
       "  <thead>\n",
       "    <tr style=\"text-align: right;\">\n",
       "      <th></th>\n",
       "      <th>Session Count</th>\n",
       "      <th>Dur. (s)</th>\n",
       "      <th>Total Data Transferred</th>\n",
       "      <th>Google Volume (Bytes)</th>\n",
       "      <th>Netflix Volume (Bytes)</th>\n",
       "      <th>Youtube Volume (Bytes)</th>\n",
       "      <th>Gaming Volume (Bytes)</th>\n",
       "      <th>Email Volume (Bytes)</th>\n",
       "      <th>Social Media Volume (Bytes)</th>\n",
       "      <th>Other Volume (Bytes)</th>\n",
       "    </tr>\n",
       "  </thead>\n",
       "  <tbody>\n",
       "    <tr>\n",
       "      <th>count</th>\n",
       "      <td>106856.000000</td>\n",
       "      <td>1.068560e+05</td>\n",
       "      <td>1.068560e+05</td>\n",
       "      <td>1.068560e+05</td>\n",
       "      <td>1.068560e+05</td>\n",
       "      <td>1.068560e+05</td>\n",
       "      <td>1.068560e+05</td>\n",
       "      <td>1.068560e+05</td>\n",
       "      <td>1.068560e+05</td>\n",
       "      <td>1.068560e+05</td>\n",
       "    </tr>\n",
       "    <tr>\n",
       "      <th>mean</th>\n",
       "      <td>1.389777</td>\n",
       "      <td>1.461672e+05</td>\n",
       "      <td>6.909621e+08</td>\n",
       "      <td>1.088243e+07</td>\n",
       "      <td>3.153833e+07</td>\n",
       "      <td>3.155840e+07</td>\n",
       "      <td>5.997690e+08</td>\n",
       "      <td>3.148796e+06</td>\n",
       "      <td>2.547967e+06</td>\n",
       "      <td>5.985088e+08</td>\n",
       "    </tr>\n",
       "    <tr>\n",
       "      <th>std</th>\n",
       "      <td>0.809863</td>\n",
       "      <td>1.863587e+05</td>\n",
       "      <td>4.910559e+08</td>\n",
       "      <td>7.544861e+06</td>\n",
       "      <td>2.128956e+07</td>\n",
       "      <td>2.129492e+07</td>\n",
       "      <td>4.491505e+08</td>\n",
       "      <td>2.222400e+06</td>\n",
       "      <td>1.908038e+06</td>\n",
       "      <td>4.489221e+08</td>\n",
       "    </tr>\n",
       "    <tr>\n",
       "      <th>min</th>\n",
       "      <td>0.000000</td>\n",
       "      <td>7.142000e+03</td>\n",
       "      <td>3.324901e+07</td>\n",
       "      <td>4.033000e+04</td>\n",
       "      <td>1.845690e+05</td>\n",
       "      <td>7.890300e+04</td>\n",
       "      <td>3.063580e+05</td>\n",
       "      <td>1.817600e+04</td>\n",
       "      <td>1.563000e+03</td>\n",
       "      <td>1.490450e+05</td>\n",
       "    </tr>\n",
       "    <tr>\n",
       "      <th>25%</th>\n",
       "      <td>1.000000</td>\n",
       "      <td>7.130800e+04</td>\n",
       "      <td>3.585499e+08</td>\n",
       "      <td>5.942636e+06</td>\n",
       "      <td>1.855597e+07</td>\n",
       "      <td>1.863109e+07</td>\n",
       "      <td>2.880631e+08</td>\n",
       "      <td>1.674481e+06</td>\n",
       "      <td>1.211282e+06</td>\n",
       "      <td>2.855599e+08</td>\n",
       "    </tr>\n",
       "    <tr>\n",
       "      <th>50%</th>\n",
       "      <td>1.000000</td>\n",
       "      <td>1.027400e+05</td>\n",
       "      <td>6.179231e+08</td>\n",
       "      <td>9.586153e+06</td>\n",
       "      <td>2.671889e+07</td>\n",
       "      <td>2.680038e+07</td>\n",
       "      <td>5.423492e+08</td>\n",
       "      <td>2.799824e+06</td>\n",
       "      <td>2.303756e+06</td>\n",
       "      <td>5.398323e+08</td>\n",
       "    </tr>\n",
       "    <tr>\n",
       "      <th>75%</th>\n",
       "      <td>2.000000</td>\n",
       "      <td>1.727990e+05</td>\n",
       "      <td>8.574351e+08</td>\n",
       "      <td>1.321474e+07</td>\n",
       "      <td>3.797696e+07</td>\n",
       "      <td>3.792798e+07</td>\n",
       "      <td>7.773041e+08</td>\n",
       "      <td>3.847198e+06</td>\n",
       "      <td>3.307509e+06</td>\n",
       "      <td>7.753975e+08</td>\n",
       "    </tr>\n",
       "    <tr>\n",
       "      <th>max</th>\n",
       "      <td>18.000000</td>\n",
       "      <td>1.855375e+07</td>\n",
       "      <td>8.846226e+09</td>\n",
       "      <td>1.521919e+08</td>\n",
       "      <td>3.995191e+08</td>\n",
       "      <td>4.529588e+08</td>\n",
       "      <td>7.749432e+09</td>\n",
       "      <td>4.241878e+07</td>\n",
       "      <td>4.337478e+07</td>\n",
       "      <td>8.167878e+09</td>\n",
       "    </tr>\n",
       "  </tbody>\n",
       "</table>\n",
       "</div>"
      ],
      "text/plain": [
       "       Session Count  ...  Other Volume (Bytes)\n",
       "count  106856.000000  ...          1.068560e+05\n",
       "mean        1.389777  ...          5.985088e+08\n",
       "std         0.809863  ...          4.489221e+08\n",
       "min         0.000000  ...          1.490450e+05\n",
       "25%         1.000000  ...          2.855599e+08\n",
       "50%         1.000000  ...          5.398323e+08\n",
       "75%         2.000000  ...          7.753975e+08\n",
       "max        18.000000  ...          8.167878e+09\n",
       "\n",
       "[8 rows x 10 columns]"
      ]
     },
     "execution_count": 75,
     "metadata": {},
     "output_type": "execute_result"
    }
   ],
   "source": [
    "volume_per_user.describe()"
   ]
  },
  {
   "cell_type": "markdown",
   "metadata": {},
   "source": [
    "### Graphical Univariate analysis\n",
    "---"
   ]
  },
  {
   "cell_type": "code",
   "execution_count": 100,
   "metadata": {},
   "outputs": [
    {
     "data": {
      "text/plain": [
       "<AxesSubplot:>"
      ]
     },
     "execution_count": 100,
     "metadata": {},
     "output_type": "execute_result"
    },
    {
     "data": {
      "image/png": "[encoded data removed]",
      "text/plain": [
       "<Figure size 1440x720 with 1 Axes>"
      ]
     },
     "metadata": {},
     "output_type": "display_data"
    }
   ],
   "source": [
    "volume_per_user[\"Session Count\"].hist(bins=20, figsize=(20, 10))"
   ]
  },
  {
   "cell_type": "code",
   "execution_count": 101,
   "metadata": {},
   "outputs": [
    {
     "data": {
      "text/plain": [
       "<AxesSubplot:>"
      ]
     },
     "execution_count": 101,
     "metadata": {},
     "output_type": "execute_result"
    },
    {
     "data": {
      "image/png": "[encoded data removed]",
      "text/plain": [
       "<Figure size 1440x720 with 1 Axes>"
      ]
     },
     "metadata": {},
     "output_type": "display_data"
    }
   ],
   "source": [
    "volume_per_user[\"Dur. (s)\"].hist(bins=20, figsize=(20, 10))"
   ]
  },
  {
   "cell_type": "code",
   "execution_count": 102,
   "metadata": {},
   "outputs": [
    {
     "data": {
      "text/plain": [
       "<AxesSubplot:>"
      ]
     },
     "execution_count": 102,
     "metadata": {},
     "output_type": "execute_result"
    },
    {
     "data": {
      "image/png": "[encoded data removed]",
      "text/plain": [
       "<Figure size 1440x720 with 1 Axes>"
      ]
     },
     "metadata": {},
     "output_type": "display_data"
    }
   ],
   "source": [
    "volume_per_user[\"Total Data Transferred\"].hist(bins=20, figsize=(20, 10))"
   ]
  },
  {
   "cell_type": "code",
   "execution_count": 103,
   "metadata": {},
   "outputs": [
    {
     "data": {
      "text/plain": [
       "<AxesSubplot:>"
      ]
     },
     "execution_count": 103,
     "metadata": {},
     "output_type": "execute_result"
    },
    {
     "data": {
      "image/png": "[encoded data removed]",
      "text/plain": [
       "<Figure size 1440x720 with 1 Axes>"
      ]
     },
     "metadata": {},
     "output_type": "display_data"
    }
   ],
   "source": [
    "volume_per_user[\"Google Volume (Bytes)\"].hist(bins=20, figsize=(20, 10))"
   ]
  },
  {
   "cell_type": "code",
   "execution_count": 104,
   "metadata": {},
   "outputs": [
    {
     "data": {
      "text/plain": [
       "<AxesSubplot:>"
      ]
     },
     "execution_count": 104,
     "metadata": {},
     "output_type": "execute_result"
    },
    {
     "data": {
      "image/png": "[encoded data removed]",
      "text/plain": [
       "<Figure size 1440x720 with 1 Axes>"
      ]
     },
     "metadata": {},
     "output_type": "display_data"
    }
   ],
   "source": [
    "volume_per_user[\"Netflix Volume (Bytes)\"].hist(bins=20, figsize=(20, 10))"
   ]
  },
  {
   "cell_type": "code",
   "execution_count": 105,
   "metadata": {},
   "outputs": [
    {
     "data": {
      "text/plain": [
       "<AxesSubplot:>"
      ]
     },
     "execution_count": 105,
     "metadata": {},
     "output_type": "execute_result"
    },
    {
     "data": {
      "image/png": "[encoded data removed]",
      "text/plain": [
       "<Figure size 1440x720 with 1 Axes>"
      ]
     },
     "metadata": {},
     "output_type": "display_data"
    }
   ],
   "source": [
    "volume_per_user[\"Youtube Volume (Bytes)\"].hist(bins=20, figsize=(20, 10))"
   ]
  },
  {
   "cell_type": "code",
   "execution_count": 106,
   "metadata": {},
   "outputs": [
    {
     "data": {
      "text/plain": [
       "<AxesSubplot:>"
      ]
     },
     "execution_count": 106,
     "metadata": {},
     "output_type": "execute_result"
    },
    {
     "data": {
      "image/png": "[encoded data removed]",
      "text/plain": [
       "<Figure size 1440x720 with 1 Axes>"
      ]
     },
     "metadata": {},
     "output_type": "display_data"
    }
   ],
   "source": [
    "volume_per_user[\"Email Volume (Bytes)\"].hist(bins=20, figsize=(20, 10))"
   ]
  },
  {
   "cell_type": "code",
   "execution_count": 107,
   "metadata": {},
   "outputs": [
    {
     "data": {
      "text/plain": [
       "<AxesSubplot:>"
      ]
     },
     "execution_count": 107,
     "metadata": {},
     "output_type": "execute_result"
    },
    {
     "data": {
      "image/png": "[encoded data removed]",
      "text/plain": [
       "<Figure size 1440x720 with 1 Axes>"
      ]
     },
     "metadata": {},
     "output_type": "display_data"
    }
   ],
   "source": [
    "volume_per_user[\"Gaming Volume (Bytes)\"].hist(bins=20, figsize=(20, 10))"
   ]
  },
  {
   "cell_type": "code",
   "execution_count": 108,
   "metadata": {},
   "outputs": [
    {
     "data": {
      "text/plain": [
       "<AxesSubplot:>"
      ]
     },
     "execution_count": 108,
     "metadata": {},
     "output_type": "execute_result"
    },
    {
     "data": {
      "image/png": "[encoded data removed]",
      "text/plain": [
       "<Figure size 1440x720 with 1 Axes>"
      ]
     },
     "metadata": {},
     "output_type": "display_data"
    }
   ],
   "source": [
    "volume_per_user[\"Social Media Volume (Bytes)\"].hist(bins=20, figsize=(20, 10))"
   ]
  },
  {
   "cell_type": "code",
   "execution_count": 109,
   "metadata": {},
   "outputs": [
    {
     "data": {
      "text/plain": [
       "<AxesSubplot:>"
      ]
     },
     "execution_count": 109,
     "metadata": {},
     "output_type": "execute_result"
    },
    {
     "data": {
      "image/png": "[encoded data removed]",
      "text/plain": [
       "<Figure size 1440x720 with 1 Axes>"
      ]
     },
     "metadata": {},
     "output_type": "display_data"
    }
   ],
   "source": [
    "volume_per_user[\"Other Volume (Bytes)\"].hist(bins=20, figsize=(20, 10))"
   ]
  },
  {
   "cell_type": "code",
   "execution_count": 77,
   "metadata": {},
   "outputs": [
    {
     "data": {
      "text/plain": [
       "array([[<AxesSubplot:title={'center':'Session Count'}>,\n",
       "        <AxesSubplot:title={'center':'Dur. (s)'}>,\n",
       "        <AxesSubplot:title={'center':'Total Data Transferred'}>],\n",
       "       [<AxesSubplot:title={'center':'Google Volume (Bytes)'}>,\n",
       "        <AxesSubplot:title={'center':'Netflix Volume (Bytes)'}>,\n",
       "        <AxesSubplot:title={'center':'Youtube Volume (Bytes)'}>],\n",
       "       [<AxesSubplot:title={'center':'Gaming Volume (Bytes)'}>,\n",
       "        <AxesSubplot:title={'center':'Email Volume (Bytes)'}>,\n",
       "        <AxesSubplot:title={'center':'Social Media Volume (Bytes)'}>],\n",
       "       [<AxesSubplot:title={'center':'Other Volume (Bytes)'}>,\n",
       "        <AxesSubplot:>, <AxesSubplot:>]], dtype=object)"
      ]
     },
     "execution_count": 77,
     "metadata": {},
     "output_type": "execute_result"
    },
    {
     "data": {
      "image/png": "[encoded data removed]",
      "text/plain": [
       "<Figure size 1440x1440 with 12 Axes>"
      ]
     },
     "metadata": {},
     "output_type": "display_data"
    }
   ],
   "source": [
    "volume_per_user.hist(bins=20, figsize=(20, 20))"
   ]
  },
  {
   "cell_type": "code",
   "execution_count": 78,
   "metadata": {},
   "outputs": [
    {
     "data": {
      "text/plain": [
       "<AxesSubplot:>"
      ]
     },
     "execution_count": 78,
     "metadata": {},
     "output_type": "execute_result"
    },
    {
     "data": {
      "image/png": "[encoded data removed]",
      "text/plain": [
       "<Figure size 1440x720 with 1 Axes>"
      ]
     },
     "metadata": {},
     "output_type": "display_data"
    }
   ],
   "source": [
    "volume_per_user.boxplot(column=[\"Session Count\"], figsize=(20, 10))"
   ]
  },
  {
   "cell_type": "markdown",
   "metadata": {},
   "source": [
    "### Bivariate analysis\n",
    "---"
   ]
  },
  {
   "cell_type": "code",
   "execution_count": 113,
   "metadata": {},
   "outputs": [
    {
     "data": {
      "text/html": [
       "<div>\n",
       "<style scoped>\n",
       "    .dataframe tbody tr th:only-of-type {\n",
       "        vertical-align: middle;\n",
       "    }\n",
       "\n",
       "    .dataframe tbody tr th {\n",
       "        vertical-align: top;\n",
       "    }\n",
       "\n",
       "    .dataframe thead th {\n",
       "        text-align: right;\n",
       "    }\n",
       "</style>\n",
       "<table border=\"1\" class=\"dataframe\">\n",
       "  <thead>\n",
       "    <tr style=\"text-align: right;\">\n",
       "      <th></th>\n",
       "      <th>Session Count</th>\n",
       "      <th>Dur. (s)</th>\n",
       "      <th>Total Data Transferred</th>\n",
       "      <th>Google Volume (Bytes)</th>\n",
       "      <th>Netflix Volume (Bytes)</th>\n",
       "      <th>Youtube Volume (Bytes)</th>\n",
       "      <th>Gaming Volume (Bytes)</th>\n",
       "      <th>Email Volume (Bytes)</th>\n",
       "      <th>Social Media Volume (Bytes)</th>\n",
       "      <th>Other Volume (Bytes)</th>\n",
       "    </tr>\n",
       "  </thead>\n",
       "  <tbody>\n",
       "    <tr>\n",
       "      <th>Session Count</th>\n",
       "      <td>1.00</td>\n",
       "      <td>0.64</td>\n",
       "      <td>0.81</td>\n",
       "      <td>0.84</td>\n",
       "      <td>0.86</td>\n",
       "      <td>0.86</td>\n",
       "      <td>0.77</td>\n",
       "      <td>0.82</td>\n",
       "      <td>0.77</td>\n",
       "      <td>0.77</td>\n",
       "    </tr>\n",
       "    <tr>\n",
       "      <th>Dur. (s)</th>\n",
       "      <td>0.64</td>\n",
       "      <td>1.00</td>\n",
       "      <td>0.52</td>\n",
       "      <td>0.53</td>\n",
       "      <td>0.54</td>\n",
       "      <td>0.55</td>\n",
       "      <td>0.49</td>\n",
       "      <td>0.53</td>\n",
       "      <td>0.49</td>\n",
       "      <td>0.49</td>\n",
       "    </tr>\n",
       "    <tr>\n",
       "      <th>Total Data Transferred</th>\n",
       "      <td>0.81</td>\n",
       "      <td>0.52</td>\n",
       "      <td>1.00</td>\n",
       "      <td>0.68</td>\n",
       "      <td>0.71</td>\n",
       "      <td>0.71</td>\n",
       "      <td>1.00</td>\n",
       "      <td>0.66</td>\n",
       "      <td>0.62</td>\n",
       "      <td>0.62</td>\n",
       "    </tr>\n",
       "    <tr>\n",
       "      <th>Google Volume (Bytes)</th>\n",
       "      <td>0.84</td>\n",
       "      <td>0.53</td>\n",
       "      <td>0.68</td>\n",
       "      <td>1.00</td>\n",
       "      <td>0.72</td>\n",
       "      <td>0.72</td>\n",
       "      <td>0.64</td>\n",
       "      <td>0.69</td>\n",
       "      <td>0.64</td>\n",
       "      <td>0.64</td>\n",
       "    </tr>\n",
       "    <tr>\n",
       "      <th>Netflix Volume (Bytes)</th>\n",
       "      <td>0.86</td>\n",
       "      <td>0.54</td>\n",
       "      <td>0.71</td>\n",
       "      <td>0.72</td>\n",
       "      <td>1.00</td>\n",
       "      <td>0.74</td>\n",
       "      <td>0.66</td>\n",
       "      <td>0.71</td>\n",
       "      <td>0.66</td>\n",
       "      <td>0.66</td>\n",
       "    </tr>\n",
       "    <tr>\n",
       "      <th>Youtube Volume (Bytes)</th>\n",
       "      <td>0.86</td>\n",
       "      <td>0.55</td>\n",
       "      <td>0.71</td>\n",
       "      <td>0.72</td>\n",
       "      <td>0.74</td>\n",
       "      <td>1.00</td>\n",
       "      <td>0.66</td>\n",
       "      <td>0.71</td>\n",
       "      <td>0.66</td>\n",
       "      <td>0.66</td>\n",
       "    </tr>\n",
       "    <tr>\n",
       "      <th>Gaming Volume (Bytes)</th>\n",
       "      <td>0.77</td>\n",
       "      <td>0.49</td>\n",
       "      <td>1.00</td>\n",
       "      <td>0.64</td>\n",
       "      <td>0.66</td>\n",
       "      <td>0.66</td>\n",
       "      <td>1.00</td>\n",
       "      <td>0.63</td>\n",
       "      <td>0.59</td>\n",
       "      <td>0.59</td>\n",
       "    </tr>\n",
       "    <tr>\n",
       "      <th>Email Volume (Bytes)</th>\n",
       "      <td>0.82</td>\n",
       "      <td>0.53</td>\n",
       "      <td>0.66</td>\n",
       "      <td>0.69</td>\n",
       "      <td>0.71</td>\n",
       "      <td>0.71</td>\n",
       "      <td>0.63</td>\n",
       "      <td>1.00</td>\n",
       "      <td>0.63</td>\n",
       "      <td>0.63</td>\n",
       "    </tr>\n",
       "    <tr>\n",
       "      <th>Social Media Volume (Bytes)</th>\n",
       "      <td>0.77</td>\n",
       "      <td>0.49</td>\n",
       "      <td>0.62</td>\n",
       "      <td>0.64</td>\n",
       "      <td>0.66</td>\n",
       "      <td>0.66</td>\n",
       "      <td>0.59</td>\n",
       "      <td>0.63</td>\n",
       "      <td>1.00</td>\n",
       "      <td>0.59</td>\n",
       "    </tr>\n",
       "    <tr>\n",
       "      <th>Other Volume (Bytes)</th>\n",
       "      <td>0.77</td>\n",
       "      <td>0.49</td>\n",
       "      <td>0.62</td>\n",
       "      <td>0.64</td>\n",
       "      <td>0.66</td>\n",
       "      <td>0.66</td>\n",
       "      <td>0.59</td>\n",
       "      <td>0.63</td>\n",
       "      <td>0.59</td>\n",
       "      <td>1.00</td>\n",
       "    </tr>\n",
       "  </tbody>\n",
       "</table>\n",
       "</div>"
      ],
      "text/plain": [
       "                             Session Count  Dur. (s)  Total Data Transferred  \\\n",
       "Session Count                         1.00      0.64                    0.81   \n",
       "Dur. (s)                              0.64      1.00                    0.52   \n",
       "Total Data Transferred                0.81      0.52                    1.00   \n",
       "Google Volume (Bytes)                 0.84      0.53                    0.68   \n",
       "Netflix Volume (Bytes)                0.86      0.54                    0.71   \n",
       "Youtube Volume (Bytes)                0.86      0.55                    0.71   \n",
       "Gaming Volume (Bytes)                 0.77      0.49                    1.00   \n",
       "Email Volume (Bytes)                  0.82      0.53                    0.66   \n",
       "Social Media Volume (Bytes)           0.77      0.49                    0.62   \n",
       "Other Volume (Bytes)                  0.77      0.49                    0.62   \n",
       "\n",
       "                             Google Volume (Bytes)  Netflix Volume (Bytes)  \\\n",
       "Session Count                                 0.84                    0.86   \n",
       "Dur. (s)                                      0.53                    0.54   \n",
       "Total Data Transferred                        0.68                    0.71   \n",
       "Google Volume (Bytes)                         1.00                    0.72   \n",
       "Netflix Volume (Bytes)                        0.72                    1.00   \n",
       "Youtube Volume (Bytes)                        0.72                    0.74   \n",
       "Gaming Volume (Bytes)                         0.64                    0.66   \n",
       "Email Volume (Bytes)                          0.69                    0.71   \n",
       "Social Media Volume (Bytes)                   0.64                    0.66   \n",
       "Other Volume (Bytes)                          0.64                    0.66   \n",
       "\n",
       "                             Youtube Volume (Bytes)  Gaming Volume (Bytes)  \\\n",
       "Session Count                                  0.86                   0.77   \n",
       "Dur. (s)                                       0.55                   0.49   \n",
       "Total Data Transferred                         0.71                   1.00   \n",
       "Google Volume (Bytes)                          0.72                   0.64   \n",
       "Netflix Volume (Bytes)                         0.74                   0.66   \n",
       "Youtube Volume (Bytes)                         1.00                   0.66   \n",
       "Gaming Volume (Bytes)                          0.66                   1.00   \n",
       "Email Volume (Bytes)                           0.71                   0.63   \n",
       "Social Media Volume (Bytes)                    0.66                   0.59   \n",
       "Other Volume (Bytes)                           0.66                   0.59   \n",
       "\n",
       "                             Email Volume (Bytes)  \\\n",
       "Session Count                                0.82   \n",
       "Dur. (s)                                     0.53   \n",
       "Total Data Transferred                       0.66   \n",
       "Google Volume (Bytes)                        0.69   \n",
       "Netflix Volume (Bytes)                       0.71   \n",
       "Youtube Volume (Bytes)                       0.71   \n",
       "Gaming Volume (Bytes)                        0.63   \n",
       "Email Volume (Bytes)                         1.00   \n",
       "Social Media Volume (Bytes)                  0.63   \n",
       "Other Volume (Bytes)                         0.63   \n",
       "\n",
       "                             Social Media Volume (Bytes)  Other Volume (Bytes)  \n",
       "Session Count                                       0.77                  0.77  \n",
       "Dur. (s)                                            0.49                  0.49  \n",
       "Total Data Transferred                              0.62                  0.62  \n",
       "Google Volume (Bytes)                               0.64                  0.64  \n",
       "Netflix Volume (Bytes)                              0.66                  0.66  \n",
       "Youtube Volume (Bytes)                              0.66                  0.66  \n",
       "Gaming Volume (Bytes)                               0.59                  0.59  \n",
       "Email Volume (Bytes)                                0.63                  0.63  \n",
       "Social Media Volume (Bytes)                         1.00                  0.59  \n",
       "Other Volume (Bytes)                                0.59                  1.00  "
      ]
     },
     "execution_count": 113,
     "metadata": {},
     "output_type": "execute_result"
    }
   ],
   "source": [
    "volume_per_user.corr()"
   ]
  },
  {
   "cell_type": "code",
   "execution_count": 114,
   "metadata": {},
   "outputs": [
    {
     "data": {
      "image/png": "[encoded data removed]",
      "text/plain": [
       "<Figure size 1440x1440 with 2 Axes>"
      ]
     },
     "metadata": {},
     "output_type": "display_data"
    }
   ],
   "source": [
    "fig, ax = plt.subplots(figsize=(20, 20))\n",
    "ax = sns.heatmap(volume_per_user.corr(), cmap=\"Blues\", square=True)"
   ]
  },
  {
   "cell_type": "code",
   "execution_count": 115,
   "metadata": {},
   "outputs": [
    {
     "data": {
      "image/png": "[encoded data removed]",
      "text/plain": [
       "<Figure size 1440x720 with 1 Axes>"
      ]
     },
     "metadata": {},
     "output_type": "display_data"
    }
   ],
   "source": [
    "fig, ax = plt.subplots(figsize=(20, 10))\n",
    "ax = sns.scatterplot(x= volume_per_user[\"Gaming Volume (Bytes)\"], y= volume_per_user[\"Total Data Transferred\"])"
   ]
  },
  {
   "cell_type": "code",
   "execution_count": 116,
   "metadata": {},
   "outputs": [],
   "source": [
    "bivariate = volume_per_user.drop(columns=[\"MSISDN/Number\", \"Session Count\", \"Dur. (s)\"])"
   ]
  },
  {
   "cell_type": "code",
   "execution_count": 117,
   "metadata": {},
   "outputs": [
    {
     "data": {
      "text/html": [
       "<div>\n",
       "<style scoped>\n",
       "    .dataframe tbody tr th:only-of-type {\n",
       "        vertical-align: middle;\n",
       "    }\n",
       "\n",
       "    .dataframe tbody tr th {\n",
       "        vertical-align: top;\n",
       "    }\n",
       "\n",
       "    .dataframe thead th {\n",
       "        text-align: right;\n",
       "    }\n",
       "</style>\n",
       "<table border=\"1\" class=\"dataframe\">\n",
       "  <thead>\n",
       "    <tr style=\"text-align: right;\">\n",
       "      <th></th>\n",
       "      <th>Total Data Transferred</th>\n",
       "      <th>Google Volume (Bytes)</th>\n",
       "      <th>Netflix Volume (Bytes)</th>\n",
       "      <th>Youtube Volume (Bytes)</th>\n",
       "      <th>Gaming Volume (Bytes)</th>\n",
       "      <th>Email Volume (Bytes)</th>\n",
       "      <th>Social Media Volume (Bytes)</th>\n",
       "      <th>Other Volume (Bytes)</th>\n",
       "    </tr>\n",
       "  </thead>\n",
       "  <tbody>\n",
       "    <tr>\n",
       "      <th>0</th>\n",
       "      <td>878690574.00</td>\n",
       "      <td>4389005.00</td>\n",
       "      <td>27180981.00</td>\n",
       "      <td>21624548.00</td>\n",
       "      <td>812458661.00</td>\n",
       "      <td>1331362.00</td>\n",
       "      <td>2232135.00</td>\n",
       "      <td>386570872.00</td>\n",
       "    </tr>\n",
       "    <tr>\n",
       "      <th>1</th>\n",
       "      <td>156859643.00</td>\n",
       "      <td>5334863.00</td>\n",
       "      <td>11221763.00</td>\n",
       "      <td>12432223.00</td>\n",
       "      <td>119750078.00</td>\n",
       "      <td>3307781.00</td>\n",
       "      <td>2660565.00</td>\n",
       "      <td>281710071.00</td>\n",
       "    </tr>\n",
       "    <tr>\n",
       "      <th>2</th>\n",
       "      <td>595966483.00</td>\n",
       "      <td>3443126.00</td>\n",
       "      <td>19353900.00</td>\n",
       "      <td>21333570.00</td>\n",
       "      <td>538827713.00</td>\n",
       "      <td>3205380.00</td>\n",
       "      <td>3195623.00</td>\n",
       "      <td>501693672.00</td>\n",
       "    </tr>\n",
       "    <tr>\n",
       "      <th>3</th>\n",
       "      <td>422320698.00</td>\n",
       "      <td>9678493.00</td>\n",
       "      <td>1942092.00</td>\n",
       "      <td>6977321.00</td>\n",
       "      <td>391126127.00</td>\n",
       "      <td>2284670.00</td>\n",
       "      <td>280294.00</td>\n",
       "      <td>35279702.00</td>\n",
       "    </tr>\n",
       "    <tr>\n",
       "      <th>4</th>\n",
       "      <td>1457410944.00</td>\n",
       "      <td>18499616.00</td>\n",
       "      <td>49201724.00</td>\n",
       "      <td>41533002.00</td>\n",
       "      <td>1314797820.00</td>\n",
       "      <td>3305469.00</td>\n",
       "      <td>2912542.00</td>\n",
       "      <td>804804484.00</td>\n",
       "    </tr>\n",
       "  </tbody>\n",
       "</table>\n",
       "</div>"
      ],
      "text/plain": [
       "   Total Data Transferred  Google Volume (Bytes)  Netflix Volume (Bytes)  \\\n",
       "0            878690574.00             4389005.00             27180981.00   \n",
       "1            156859643.00             5334863.00             11221763.00   \n",
       "2            595966483.00             3443126.00             19353900.00   \n",
       "3            422320698.00             9678493.00              1942092.00   \n",
       "4           1457410944.00            18499616.00             49201724.00   \n",
       "\n",
       "   Youtube Volume (Bytes)  Gaming Volume (Bytes)  Email Volume (Bytes)  \\\n",
       "0             21624548.00           812458661.00            1331362.00   \n",
       "1             12432223.00           119750078.00            3307781.00   \n",
       "2             21333570.00           538827713.00            3205380.00   \n",
       "3              6977321.00           391126127.00            2284670.00   \n",
       "4             41533002.00          1314797820.00            3305469.00   \n",
       "\n",
       "   Social Media Volume (Bytes)  Other Volume (Bytes)  \n",
       "0                   2232135.00          386570872.00  \n",
       "1                   2660565.00          281710071.00  \n",
       "2                   3195623.00          501693672.00  \n",
       "3                    280294.00           35279702.00  \n",
       "4                   2912542.00          804804484.00  "
      ]
     },
     "execution_count": 117,
     "metadata": {},
     "output_type": "execute_result"
    }
   ],
   "source": [
    "bivariate.head()"
   ]
  },
  {
   "cell_type": "code",
   "execution_count": 118,
   "metadata": {},
   "outputs": [
    {
     "data": {
      "text/plain": [
       "<AxesSubplot:xlabel='Netflix Volume (Bytes)', ylabel='Total Data Transferred'>"
      ]
     },
     "execution_count": 118,
     "metadata": {},
     "output_type": "execute_result"
    },
    {
     "data": {
      "image/png": "[encoded data removed]",
      "text/plain": [
       "<Figure size 1440x720 with 1 Axes>"
      ]
     },
     "metadata": {},
     "output_type": "display_data"
    }
   ],
   "source": [
    "fig, ax = plt.subplots(figsize=(20, 10))\n",
    "\n",
    "sns.scatterplot(x=bivariate[\"Netflix Volume (Bytes)\"], y=bivariate[\"Total Data Transferred\"], ax=ax)"
   ]
  },
  {
   "cell_type": "markdown",
   "metadata": {},
   "source": [
    "### Decile Rank\n",
    "---"
   ]
  },
  {
   "cell_type": "code",
   "execution_count": 79,
   "metadata": {},
   "outputs": [
    {
     "data": {
      "text/html": [
       "<div>\n",
       "<style scoped>\n",
       "    .dataframe tbody tr th:only-of-type {\n",
       "        vertical-align: middle;\n",
       "    }\n",
       "\n",
       "    .dataframe tbody tr th {\n",
       "        vertical-align: top;\n",
       "    }\n",
       "\n",
       "    .dataframe thead th {\n",
       "        text-align: right;\n",
       "    }\n",
       "</style>\n",
       "<table border=\"1\" class=\"dataframe\">\n",
       "  <thead>\n",
       "    <tr style=\"text-align: right;\">\n",
       "      <th></th>\n",
       "      <th>MSISDN/Number</th>\n",
       "      <th>Session Count</th>\n",
       "      <th>Dur. (s)</th>\n",
       "      <th>Total Data Transferred</th>\n",
       "      <th>Google Volume (Bytes)</th>\n",
       "      <th>Netflix Volume (Bytes)</th>\n",
       "      <th>Youtube Volume (Bytes)</th>\n",
       "      <th>Gaming Volume (Bytes)</th>\n",
       "      <th>Email Volume (Bytes)</th>\n",
       "      <th>Social Media Volume (Bytes)</th>\n",
       "      <th>Other Volume (Bytes)</th>\n",
       "      <th>Decile Rank</th>\n",
       "    </tr>\n",
       "  </thead>\n",
       "  <tbody>\n",
       "    <tr>\n",
       "      <th>0</th>\n",
       "      <td>33601001722.0</td>\n",
       "      <td>1</td>\n",
       "      <td>116720.0</td>\n",
       "      <td>8.786906e+08</td>\n",
       "      <td>4389005.0</td>\n",
       "      <td>27180981.0</td>\n",
       "      <td>21624548.0</td>\n",
       "      <td>8.124587e+08</td>\n",
       "      <td>1331362.0</td>\n",
       "      <td>2232135.0</td>\n",
       "      <td>386570872.0</td>\n",
       "      <td>5</td>\n",
       "    </tr>\n",
       "    <tr>\n",
       "      <th>1</th>\n",
       "      <td>33601001754.0</td>\n",
       "      <td>1</td>\n",
       "      <td>181230.0</td>\n",
       "      <td>1.568596e+08</td>\n",
       "      <td>5334863.0</td>\n",
       "      <td>11221763.0</td>\n",
       "      <td>12432223.0</td>\n",
       "      <td>1.197501e+08</td>\n",
       "      <td>3307781.0</td>\n",
       "      <td>2660565.0</td>\n",
       "      <td>281710071.0</td>\n",
       "      <td>7</td>\n",
       "    </tr>\n",
       "    <tr>\n",
       "      <th>2</th>\n",
       "      <td>33601002511.0</td>\n",
       "      <td>1</td>\n",
       "      <td>134969.0</td>\n",
       "      <td>5.959665e+08</td>\n",
       "      <td>3443126.0</td>\n",
       "      <td>19353900.0</td>\n",
       "      <td>21333570.0</td>\n",
       "      <td>5.388277e+08</td>\n",
       "      <td>3205380.0</td>\n",
       "      <td>3195623.0</td>\n",
       "      <td>501693672.0</td>\n",
       "      <td>6</td>\n",
       "    </tr>\n",
       "    <tr>\n",
       "      <th>3</th>\n",
       "      <td>33601007832.0</td>\n",
       "      <td>1</td>\n",
       "      <td>49878.0</td>\n",
       "      <td>4.223207e+08</td>\n",
       "      <td>9678493.0</td>\n",
       "      <td>1942092.0</td>\n",
       "      <td>6977321.0</td>\n",
       "      <td>3.911261e+08</td>\n",
       "      <td>2284670.0</td>\n",
       "      <td>280294.0</td>\n",
       "      <td>35279702.0</td>\n",
       "      <td>1</td>\n",
       "    </tr>\n",
       "    <tr>\n",
       "      <th>4</th>\n",
       "      <td>33601008617.0</td>\n",
       "      <td>2</td>\n",
       "      <td>37104.0</td>\n",
       "      <td>1.457411e+09</td>\n",
       "      <td>18499616.0</td>\n",
       "      <td>49201724.0</td>\n",
       "      <td>41533002.0</td>\n",
       "      <td>1.314798e+09</td>\n",
       "      <td>3305469.0</td>\n",
       "      <td>2912542.0</td>\n",
       "      <td>804804484.0</td>\n",
       "      <td>1</td>\n",
       "    </tr>\n",
       "  </tbody>\n",
       "</table>\n",
       "</div>"
      ],
      "text/plain": [
       "   MSISDN/Number  Session Count  ...  Other Volume (Bytes)  Decile Rank\n",
       "0  33601001722.0              1  ...           386570872.0            5\n",
       "1  33601001754.0              1  ...           281710071.0            7\n",
       "2  33601002511.0              1  ...           501693672.0            6\n",
       "3  33601007832.0              1  ...            35279702.0            1\n",
       "4  33601008617.0              2  ...           804804484.0            1\n",
       "\n",
       "[5 rows x 12 columns]"
      ]
     },
     "execution_count": 79,
     "metadata": {},
     "output_type": "execute_result"
    }
   ],
   "source": [
    "volume_per_user[\"Decile Rank\"] = pd.qcut(volume_per_user[\"Dur. (s)\"], 10, labels=False)\n",
    "volume_per_user.head()"
   ]
  },
  {
   "cell_type": "code",
   "execution_count": 196,
   "metadata": {},
   "outputs": [
    {
     "data": {
      "text/html": [
       "<div>\n",
       "<style scoped>\n",
       "    .dataframe tbody tr th:only-of-type {\n",
       "        vertical-align: middle;\n",
       "    }\n",
       "\n",
       "    .dataframe tbody tr th {\n",
       "        vertical-align: top;\n",
       "    }\n",
       "\n",
       "    .dataframe thead th {\n",
       "        text-align: right;\n",
       "    }\n",
       "</style>\n",
       "<table border=\"1\" class=\"dataframe\">\n",
       "  <thead>\n",
       "    <tr style=\"text-align: right;\">\n",
       "      <th></th>\n",
       "      <th>MSISDN/Number</th>\n",
       "      <th>Session Count</th>\n",
       "      <th>Dur. (s)</th>\n",
       "      <th>Total Data Transferred</th>\n",
       "      <th>Google Volume (Bytes)</th>\n",
       "      <th>Netflix Volume (Bytes)</th>\n",
       "      <th>Youtube Volume (Bytes)</th>\n",
       "      <th>Gaming Volume (Bytes)</th>\n",
       "      <th>Email Volume (Bytes)</th>\n",
       "      <th>Social Media Volume (Bytes)</th>\n",
       "      <th>Other Volume (Bytes)</th>\n",
       "      <th>Decile Rank</th>\n",
       "    </tr>\n",
       "  </thead>\n",
       "  <tbody>\n",
       "    <tr>\n",
       "      <th>8</th>\n",
       "      <td>33669013307</td>\n",
       "      <td>1</td>\n",
       "      <td>767722</td>\n",
       "      <td>199593503</td>\n",
       "      <td>3793544</td>\n",
       "      <td>19965376</td>\n",
       "      <td>36068912</td>\n",
       "      <td>124373236</td>\n",
       "      <td>1055306</td>\n",
       "      <td>1252821</td>\n",
       "      <td>371687999</td>\n",
       "      <td>0</td>\n",
       "    </tr>\n",
       "    <tr>\n",
       "      <th>11</th>\n",
       "      <td>33698759051</td>\n",
       "      <td>1</td>\n",
       "      <td>778387</td>\n",
       "      <td>410517220</td>\n",
       "      <td>6134557</td>\n",
       "      <td>30899577</td>\n",
       "      <td>21482026</td>\n",
       "      <td>330372600</td>\n",
       "      <td>3295932</td>\n",
       "      <td>3345436</td>\n",
       "      <td>56842974</td>\n",
       "      <td>0</td>\n",
       "    </tr>\n",
       "    <tr>\n",
       "      <th>7</th>\n",
       "      <td>33668779552</td>\n",
       "      <td>1</td>\n",
       "      <td>780991</td>\n",
       "      <td>287850908</td>\n",
       "      <td>4850460</td>\n",
       "      <td>19664286</td>\n",
       "      <td>24448878</td>\n",
       "      <td>224103562</td>\n",
       "      <td>2953097</td>\n",
       "      <td>2330089</td>\n",
       "      <td>314117834</td>\n",
       "      <td>1</td>\n",
       "    </tr>\n",
       "    <tr>\n",
       "      <th>14</th>\n",
       "      <td>33753758738</td>\n",
       "      <td>1</td>\n",
       "      <td>780471</td>\n",
       "      <td>101047021</td>\n",
       "      <td>6491896</td>\n",
       "      <td>5557753</td>\n",
       "      <td>26558004</td>\n",
       "      <td>42366688</td>\n",
       "      <td>2653810</td>\n",
       "      <td>2066962</td>\n",
       "      <td>152500509</td>\n",
       "      <td>1</td>\n",
       "    </tr>\n",
       "    <tr>\n",
       "      <th>5</th>\n",
       "      <td>33665646348</td>\n",
       "      <td>1</td>\n",
       "      <td>848637</td>\n",
       "      <td>651527183</td>\n",
       "      <td>6532777</td>\n",
       "      <td>26779600</td>\n",
       "      <td>21981135</td>\n",
       "      <td>574923841</td>\n",
       "      <td>3780918</td>\n",
       "      <td>2697600</td>\n",
       "      <td>110548061</td>\n",
       "      <td>2</td>\n",
       "    </tr>\n",
       "  </tbody>\n",
       "</table>\n",
       "</div>"
      ],
      "text/plain": [
       "   MSISDN/Number  Session Count  Dur. (s)  Total Data Transferred  \\\n",
       "8    33669013307              1    767722               199593503   \n",
       "11   33698759051              1    778387               410517220   \n",
       "7    33668779552              1    780991               287850908   \n",
       "14   33753758738              1    780471               101047021   \n",
       "5    33665646348              1    848637               651527183   \n",
       "\n",
       "    Google Volume (Bytes)  Netflix Volume (Bytes)  Youtube Volume (Bytes)  \\\n",
       "8                 3793544                19965376                36068912   \n",
       "11                6134557                30899577                21482026   \n",
       "7                 4850460                19664286                24448878   \n",
       "14                6491896                 5557753                26558004   \n",
       "5                 6532777                26779600                21981135   \n",
       "\n",
       "    Gaming Volume (Bytes)  Email Volume (Bytes)  Social Media Volume (Bytes)  \\\n",
       "8               124373236               1055306                      1252821   \n",
       "11              330372600               3295932                      3345436   \n",
       "7               224103562               2953097                      2330089   \n",
       "14               42366688               2653810                      2066962   \n",
       "5               574923841               3780918                      2697600   \n",
       "\n",
       "    Other Volume (Bytes)  Decile Rank  \n",
       "8              371687999            0  \n",
       "11              56842974            0  \n",
       "7              314117834            1  \n",
       "14             152500509            1  \n",
       "5              110548061            2  "
      ]
     },
     "execution_count": 196,
     "metadata": {},
     "output_type": "execute_result"
    }
   ],
   "source": [
    "# top 5 decile ranks\n",
    "volume_per_user.nsmallest(columns=[\"Decile Rank\"], n=5)"
   ]
  },
  {
   "cell_type": "code",
   "execution_count": 201,
   "metadata": {},
   "outputs": [
    {
     "data": {
      "text/plain": [
       "610110723"
      ]
     },
     "execution_count": 201,
     "metadata": {},
     "output_type": "execute_result"
    }
   ],
   "source": [
    "volume_per_user.loc[volume_per_user[\"Decile Rank\"] == 0][\"Total Data Transferred\"].sum()"
   ]
  },
  {
   "cell_type": "code",
   "execution_count": 202,
   "metadata": {},
   "outputs": [
    {
     "data": {
      "text/plain": [
       "388897929"
      ]
     },
     "execution_count": 202,
     "metadata": {},
     "output_type": "execute_result"
    }
   ],
   "source": [
    "volume_per_user.loc[volume_per_user[\"Decile Rank\"] == 1][\"Total Data Transferred\"].sum()"
   ]
  },
  {
   "cell_type": "code",
   "execution_count": 203,
   "metadata": {},
   "outputs": [
    {
     "data": {
      "text/plain": [
       "651527183"
      ]
     },
     "execution_count": 203,
     "metadata": {},
     "output_type": "execute_result"
    }
   ],
   "source": [
    "volume_per_user.loc[volume_per_user[\"Decile Rank\"] == 2][\"Total Data Transferred\"].sum()"
   ]
  },
  {
   "cell_type": "code",
   "execution_count": 204,
   "metadata": {},
   "outputs": [
    {
     "data": {
      "text/plain": [
       "1417608770"
      ]
     },
     "execution_count": 204,
     "metadata": {},
     "output_type": "execute_result"
    }
   ],
   "source": [
    "volume_per_user.loc[volume_per_user[\"Decile Rank\"] == 3][\"Total Data Transferred\"].sum()"
   ]
  },
  {
   "cell_type": "code",
   "execution_count": 205,
   "metadata": {},
   "outputs": [
    {
     "data": {
      "text/plain": [
       "1738138766"
      ]
     },
     "execution_count": 205,
     "metadata": {},
     "output_type": "execute_result"
    }
   ],
   "source": [
    "volume_per_user.loc[volume_per_user[\"Decile Rank\"] == 4][\"Total Data Transferred\"].sum()"
   ]
  },
  {
   "cell_type": "markdown",
   "metadata": {},
   "source": [
    "### PCA Analysis\n",
    "---"
   ]
  },
  {
   "cell_type": "code",
   "execution_count": 80,
   "metadata": {},
   "outputs": [],
   "source": [
    "from sklearn.decomposition import PCA"
   ]
  },
  {
   "cell_type": "code",
   "execution_count": 81,
   "metadata": {},
   "outputs": [],
   "source": [
    "pca = PCA(n_components=2)"
   ]
  },
  {
   "cell_type": "code",
   "execution_count": 82,
   "metadata": {},
   "outputs": [],
   "source": [
    "principal_components = pca.fit_transform(volume_per_user)"
   ]
  },
  {
   "cell_type": "code",
   "execution_count": 83,
   "metadata": {},
   "outputs": [],
   "source": [
    "principal_df = pd.DataFrame(data = principal_components, columns = ['principal component 1', 'principal component 2'])"
   ]
  },
  {
   "cell_type": "code",
   "execution_count": 84,
   "metadata": {},
   "outputs": [
    {
     "data": {
      "text/html": [
       "<div>\n",
       "<style scoped>\n",
       "    .dataframe tbody tr th:only-of-type {\n",
       "        vertical-align: middle;\n",
       "    }\n",
       "\n",
       "    .dataframe tbody tr th {\n",
       "        vertical-align: top;\n",
       "    }\n",
       "\n",
       "    .dataframe thead th {\n",
       "        text-align: right;\n",
       "    }\n",
       "</style>\n",
       "<table border=\"1\" class=\"dataframe\">\n",
       "  <thead>\n",
       "    <tr style=\"text-align: right;\">\n",
       "      <th></th>\n",
       "      <th>principal component 1</th>\n",
       "      <th>principal component 2</th>\n",
       "    </tr>\n",
       "  </thead>\n",
       "  <tbody>\n",
       "    <tr>\n",
       "      <th>0</th>\n",
       "      <td>-1.151374e+10</td>\n",
       "      <td>1.480761e+08</td>\n",
       "    </tr>\n",
       "    <tr>\n",
       "      <th>1</th>\n",
       "      <td>-1.151374e+10</td>\n",
       "      <td>-7.831244e+08</td>\n",
       "    </tr>\n",
       "    <tr>\n",
       "      <th>2</th>\n",
       "      <td>-1.151374e+10</td>\n",
       "      <td>-1.443079e+08</td>\n",
       "    </tr>\n",
       "    <tr>\n",
       "      <th>3</th>\n",
       "      <td>-1.151373e+10</td>\n",
       "      <td>-5.657557e+08</td>\n",
       "    </tr>\n",
       "    <tr>\n",
       "      <th>4</th>\n",
       "      <td>-1.151373e+10</td>\n",
       "      <td>1.021508e+09</td>\n",
       "    </tr>\n",
       "  </tbody>\n",
       "</table>\n",
       "</div>"
      ],
      "text/plain": [
       "   principal component 1  principal component 2\n",
       "0          -1.151374e+10           1.480761e+08\n",
       "1          -1.151374e+10          -7.831244e+08\n",
       "2          -1.151374e+10          -1.443079e+08\n",
       "3          -1.151373e+10          -5.657557e+08\n",
       "4          -1.151373e+10           1.021508e+09"
      ]
     },
     "execution_count": 84,
     "metadata": {},
     "output_type": "execute_result"
    }
   ],
   "source": [
    "principal_df.head()"
   ]
  },
  {
   "cell_type": "code",
   "execution_count": null,
   "metadata": {},
   "outputs": [],
   "source": []
  }
 ],
 "metadata": {
  "interpreter": {
   "hash": "63fd5069d213b44bf678585dea6b12cceca9941eaf7f819626cde1f2670de90d"
  },
  "kernelspec": {
   "display_name": "Python 3.9.6 64-bit",
   "language": "python",
   "name": "python3"
  },
  "language_info": {
   "codemirror_mode": {
    "name": "ipython",
    "version": 3
   },
   "file_extension": ".py",
   "mimetype": "text/x-python",
   "name": "python",
   "nbconvert_exporter": "python",
   "pygments_lexer": "ipython3",
   "version": "3.9.6"
  },
  "orig_nbformat": 4
 },
 "nbformat": 4,
 "nbformat_minor": 2
}
