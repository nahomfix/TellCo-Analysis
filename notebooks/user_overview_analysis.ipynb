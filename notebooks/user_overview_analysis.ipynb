{
 "cells": [
  {
   "cell_type": "code",
   "execution_count": 1,
   "metadata": {},
   "outputs": [],
   "source": [
    "%load_ext autoreload\n",
    "%autoreload 2"
   ]
  },
  {
   "cell_type": "code",
   "execution_count": 2,
   "metadata": {},
   "outputs": [],
   "source": [
    "import sys\n",
    "sys.path.insert(0, '../scripts/')"
   ]
  },
  {
   "cell_type": "markdown",
   "metadata": {},
   "source": [
    "Import packages"
   ]
  },
  {
   "cell_type": "code",
   "execution_count": 4,
   "metadata": {},
   "outputs": [],
   "source": [
    "import pandas as pd\n",
    "import numpy as np\n",
    "import os\n",
    "import matplotlib.pyplot as plt\n",
    "import seaborn as sns\n",
    "from pathlib import Path\n",
    "%matplotlib inline"
   ]
  },
  {
   "cell_type": "markdown",
   "metadata": {},
   "source": [
    "Initalize configs"
   ]
  },
  {
   "cell_type": "code",
   "execution_count": 6,
   "metadata": {},
   "outputs": [],
   "source": [
    "pwd = Path().cwd()\n",
    "root_dir = pwd.parent\n",
    "data_dir = root_dir / \"data\"\n",
    "file_path = data_dir / \"clean_data.csv\"\n",
    "\n",
    "# sets global styling for graphs\n",
    "plt.style.use('seaborn')\n",
    "\n",
    "# to convert the scientific notation to decimal format\n",
    "# pd.set_option('display.float_format', lambda x: '%.2f' % x)\n",
    "\n",
    "# reset the decimal format back to scientific notation\n",
    "# pd.reset_option('display.float_format')"
   ]
  },
  {
   "cell_type": "code",
   "execution_count": 13,
   "metadata": {},
   "outputs": [],
   "source": [
    "# data = pd.read_csv(file_path, na_values=[\"undefined\"], keep_default_na=True, parse_dates=[\"Start\", \"End\"])\n",
    "data = pd.read_csv(file_path, parse_dates=[\"Start\", \"End\"], dtype={\"IMSI\": str, \"MSISDN/Number\": str, \"IMEI\": str, \"Last Location Name\": str})"
   ]
  },
  {
   "cell_type": "code",
   "execution_count": 14,
   "metadata": {},
   "outputs": [
    {
     "data": {
      "text/html": [
       "<div>\n",
       "<style scoped>\n",
       "    .dataframe tbody tr th:only-of-type {\n",
       "        vertical-align: middle;\n",
       "    }\n",
       "\n",
       "    .dataframe tbody tr th {\n",
       "        vertical-align: top;\n",
       "    }\n",
       "\n",
       "    .dataframe thead th {\n",
       "        text-align: right;\n",
       "    }\n",
       "</style>\n",
       "<table border=\"1\" class=\"dataframe\">\n",
       "  <thead>\n",
       "    <tr style=\"text-align: right;\">\n",
       "      <th></th>\n",
       "      <th>Bearer Id</th>\n",
       "      <th>Start</th>\n",
       "      <th>Start ms</th>\n",
       "      <th>End</th>\n",
       "      <th>End ms</th>\n",
       "      <th>Dur. (s)</th>\n",
       "      <th>IMSI</th>\n",
       "      <th>MSISDN/Number</th>\n",
       "      <th>IMEI</th>\n",
       "      <th>Last Location Name</th>\n",
       "      <th>...</th>\n",
       "      <th>Youtube DL (Bytes)</th>\n",
       "      <th>Youtube UL (Bytes)</th>\n",
       "      <th>Netflix DL (Bytes)</th>\n",
       "      <th>Netflix UL (Bytes)</th>\n",
       "      <th>Gaming DL (Bytes)</th>\n",
       "      <th>Gaming UL (Bytes)</th>\n",
       "      <th>Other DL (Bytes)</th>\n",
       "      <th>Other UL (Bytes)</th>\n",
       "      <th>Total UL (Bytes)</th>\n",
       "      <th>Total DL (Bytes)</th>\n",
       "    </tr>\n",
       "  </thead>\n",
       "  <tbody>\n",
       "    <tr>\n",
       "      <th>0</th>\n",
       "      <td>1.311448e+19</td>\n",
       "      <td>2019-04-04 12:01:00</td>\n",
       "      <td>770.0</td>\n",
       "      <td>2019-04-25 14:35:00</td>\n",
       "      <td>662.0</td>\n",
       "      <td>1823652.0</td>\n",
       "      <td>208201448079117.0</td>\n",
       "      <td>33664962239.0</td>\n",
       "      <td>35521209507511.0</td>\n",
       "      <td>9.16456699548519E+015</td>\n",
       "      <td>...</td>\n",
       "      <td>15854611.0</td>\n",
       "      <td>2501332.0</td>\n",
       "      <td>8198936.0</td>\n",
       "      <td>9656251.0</td>\n",
       "      <td>278082303.0</td>\n",
       "      <td>14344150.0</td>\n",
       "      <td>171744450.0</td>\n",
       "      <td>8814393.0</td>\n",
       "      <td>36749741.0</td>\n",
       "      <td>308879636.0</td>\n",
       "    </tr>\n",
       "    <tr>\n",
       "      <th>1</th>\n",
       "      <td>1.311448e+19</td>\n",
       "      <td>2019-04-09 13:04:00</td>\n",
       "      <td>235.0</td>\n",
       "      <td>2019-04-25 08:15:00</td>\n",
       "      <td>606.0</td>\n",
       "      <td>1365104.0</td>\n",
       "      <td>208201909211140.0</td>\n",
       "      <td>33681854413.0</td>\n",
       "      <td>35794009006359.0</td>\n",
       "      <td>L77566A</td>\n",
       "      <td>...</td>\n",
       "      <td>20247395.0</td>\n",
       "      <td>19111729.0</td>\n",
       "      <td>18338413.0</td>\n",
       "      <td>17227132.0</td>\n",
       "      <td>608750074.0</td>\n",
       "      <td>1170709.0</td>\n",
       "      <td>526904238.0</td>\n",
       "      <td>15055145.0</td>\n",
       "      <td>53800391.0</td>\n",
       "      <td>653384965.0</td>\n",
       "    </tr>\n",
       "    <tr>\n",
       "      <th>2</th>\n",
       "      <td>1.311448e+19</td>\n",
       "      <td>2019-04-09 17:42:00</td>\n",
       "      <td>1.0</td>\n",
       "      <td>2019-04-25 11:58:00</td>\n",
       "      <td>652.0</td>\n",
       "      <td>1361762.0</td>\n",
       "      <td>208200314458056.0</td>\n",
       "      <td>33760627129.0</td>\n",
       "      <td>35281510359387.0</td>\n",
       "      <td>D42335A</td>\n",
       "      <td>...</td>\n",
       "      <td>19725661.0</td>\n",
       "      <td>14699576.0</td>\n",
       "      <td>17587794.0</td>\n",
       "      <td>6163408.0</td>\n",
       "      <td>229584621.0</td>\n",
       "      <td>395630.0</td>\n",
       "      <td>410692588.0</td>\n",
       "      <td>4215763.0</td>\n",
       "      <td>27883638.0</td>\n",
       "      <td>279807335.0</td>\n",
       "    </tr>\n",
       "    <tr>\n",
       "      <th>3</th>\n",
       "      <td>1.311448e+19</td>\n",
       "      <td>2019-04-10 00:31:00</td>\n",
       "      <td>486.0</td>\n",
       "      <td>2019-04-25 07:36:00</td>\n",
       "      <td>171.0</td>\n",
       "      <td>1321509.0</td>\n",
       "      <td>208201402342131.0</td>\n",
       "      <td>33750343200.0</td>\n",
       "      <td>35356610164913.0</td>\n",
       "      <td>T21824A</td>\n",
       "      <td>...</td>\n",
       "      <td>21388122.0</td>\n",
       "      <td>15146643.0</td>\n",
       "      <td>13994646.0</td>\n",
       "      <td>1097942.0</td>\n",
       "      <td>799538153.0</td>\n",
       "      <td>10849722.0</td>\n",
       "      <td>749039933.0</td>\n",
       "      <td>12797283.0</td>\n",
       "      <td>43324218.0</td>\n",
       "      <td>846028530.0</td>\n",
       "    </tr>\n",
       "    <tr>\n",
       "      <th>4</th>\n",
       "      <td>1.311448e+19</td>\n",
       "      <td>2019-04-12 20:10:00</td>\n",
       "      <td>565.0</td>\n",
       "      <td>2019-04-25 10:40:00</td>\n",
       "      <td>954.0</td>\n",
       "      <td>1089009.0</td>\n",
       "      <td>208201401415120.0</td>\n",
       "      <td>33699795932.0</td>\n",
       "      <td>35407009745539.0</td>\n",
       "      <td>D88865A</td>\n",
       "      <td>...</td>\n",
       "      <td>15259380.0</td>\n",
       "      <td>18962873.0</td>\n",
       "      <td>17124581.0</td>\n",
       "      <td>415218.0</td>\n",
       "      <td>527707248.0</td>\n",
       "      <td>3529801.0</td>\n",
       "      <td>550709500.0</td>\n",
       "      <td>13910322.0</td>\n",
       "      <td>38542814.0</td>\n",
       "      <td>569138589.0</td>\n",
       "    </tr>\n",
       "  </tbody>\n",
       "</table>\n",
       "<p>5 rows × 55 columns</p>\n",
       "</div>"
      ],
      "text/plain": [
       "      Bearer Id               Start  Start ms                 End  End ms  \\\n",
       "0  1.311448e+19 2019-04-04 12:01:00     770.0 2019-04-25 14:35:00   662.0   \n",
       "1  1.311448e+19 2019-04-09 13:04:00     235.0 2019-04-25 08:15:00   606.0   \n",
       "2  1.311448e+19 2019-04-09 17:42:00       1.0 2019-04-25 11:58:00   652.0   \n",
       "3  1.311448e+19 2019-04-10 00:31:00     486.0 2019-04-25 07:36:00   171.0   \n",
       "4  1.311448e+19 2019-04-12 20:10:00     565.0 2019-04-25 10:40:00   954.0   \n",
       "\n",
       "    Dur. (s)               IMSI  MSISDN/Number              IMEI  \\\n",
       "0  1823652.0  208201448079117.0  33664962239.0  35521209507511.0   \n",
       "1  1365104.0  208201909211140.0  33681854413.0  35794009006359.0   \n",
       "2  1361762.0  208200314458056.0  33760627129.0  35281510359387.0   \n",
       "3  1321509.0  208201402342131.0  33750343200.0  35356610164913.0   \n",
       "4  1089009.0  208201401415120.0  33699795932.0  35407009745539.0   \n",
       "\n",
       "      Last Location Name  ...  Youtube DL (Bytes)  Youtube UL (Bytes)  \\\n",
       "0  9.16456699548519E+015  ...          15854611.0           2501332.0   \n",
       "1                L77566A  ...          20247395.0          19111729.0   \n",
       "2                D42335A  ...          19725661.0          14699576.0   \n",
       "3                T21824A  ...          21388122.0          15146643.0   \n",
       "4                D88865A  ...          15259380.0          18962873.0   \n",
       "\n",
       "   Netflix DL (Bytes)  Netflix UL (Bytes)  Gaming DL (Bytes)  \\\n",
       "0           8198936.0           9656251.0        278082303.0   \n",
       "1          18338413.0          17227132.0        608750074.0   \n",
       "2          17587794.0           6163408.0        229584621.0   \n",
       "3          13994646.0           1097942.0        799538153.0   \n",
       "4          17124581.0            415218.0        527707248.0   \n",
       "\n",
       "   Gaming UL (Bytes)  Other DL (Bytes)  Other UL (Bytes)  Total UL (Bytes)  \\\n",
       "0         14344150.0       171744450.0         8814393.0        36749741.0   \n",
       "1          1170709.0       526904238.0        15055145.0        53800391.0   \n",
       "2           395630.0       410692588.0         4215763.0        27883638.0   \n",
       "3         10849722.0       749039933.0        12797283.0        43324218.0   \n",
       "4          3529801.0       550709500.0        13910322.0        38542814.0   \n",
       "\n",
       "   Total DL (Bytes)  \n",
       "0       308879636.0  \n",
       "1       653384965.0  \n",
       "2       279807335.0  \n",
       "3       846028530.0  \n",
       "4       569138589.0  \n",
       "\n",
       "[5 rows x 55 columns]"
      ]
     },
     "execution_count": 14,
     "metadata": {},
     "output_type": "execute_result"
    }
   ],
   "source": [
    "data.head()"
   ]
  },
  {
   "cell_type": "code",
   "execution_count": 15,
   "metadata": {},
   "outputs": [
    {
     "data": {
      "text/plain": [
       "(148506, 55)"
      ]
     },
     "execution_count": 15,
     "metadata": {},
     "output_type": "execute_result"
    }
   ],
   "source": [
    "data.shape"
   ]
  },
  {
   "cell_type": "code",
   "execution_count": 16,
   "metadata": {},
   "outputs": [
    {
     "data": {
      "text/plain": [
       "['Bearer Id',\n",
       " 'Start',\n",
       " 'Start ms',\n",
       " 'End',\n",
       " 'End ms',\n",
       " 'Dur. (s)',\n",
       " 'IMSI',\n",
       " 'MSISDN/Number',\n",
       " 'IMEI',\n",
       " 'Last Location Name',\n",
       " 'Avg RTT DL (ms)',\n",
       " 'Avg RTT UL (ms)',\n",
       " 'Avg Bearer TP DL (kbps)',\n",
       " 'Avg Bearer TP UL (kbps)',\n",
       " 'TCP DL Retrans. Vol (Bytes)',\n",
       " 'TCP UL Retrans. Vol (Bytes)',\n",
       " 'DL TP < 50 Kbps (%)',\n",
       " '50 Kbps < DL TP < 250 Kbps (%)',\n",
       " '250 Kbps < DL TP < 1 Mbps (%)',\n",
       " 'DL TP > 1 Mbps (%)',\n",
       " 'UL TP < 10 Kbps (%)',\n",
       " '10 Kbps < UL TP < 50 Kbps (%)',\n",
       " '50 Kbps < UL TP < 300 Kbps (%)',\n",
       " 'UL TP > 300 Kbps (%)',\n",
       " 'HTTP DL (Bytes)',\n",
       " 'HTTP UL (Bytes)',\n",
       " 'Activity Duration DL (ms)',\n",
       " 'Activity Duration UL (ms)',\n",
       " 'Dur. (ms)',\n",
       " 'Handset Manufacturer',\n",
       " 'Handset Type',\n",
       " 'Nb of sec with 125000B < Vol DL',\n",
       " 'Nb of sec with 1250B < Vol UL < 6250B',\n",
       " 'Nb of sec with 31250B < Vol DL < 125000B',\n",
       " 'Nb of sec with 37500B < Vol UL',\n",
       " 'Nb of sec with 6250B < Vol DL < 31250B',\n",
       " 'Nb of sec with 6250B < Vol UL < 37500B',\n",
       " 'Nb of sec with Vol DL < 6250B',\n",
       " 'Nb of sec with Vol UL < 1250B',\n",
       " 'Social Media DL (Bytes)',\n",
       " 'Social Media UL (Bytes)',\n",
       " 'Google DL (Bytes)',\n",
       " 'Google UL (Bytes)',\n",
       " 'Email DL (Bytes)',\n",
       " 'Email UL (Bytes)',\n",
       " 'Youtube DL (Bytes)',\n",
       " 'Youtube UL (Bytes)',\n",
       " 'Netflix DL (Bytes)',\n",
       " 'Netflix UL (Bytes)',\n",
       " 'Gaming DL (Bytes)',\n",
       " 'Gaming UL (Bytes)',\n",
       " 'Other DL (Bytes)',\n",
       " 'Other UL (Bytes)',\n",
       " 'Total UL (Bytes)',\n",
       " 'Total DL (Bytes)']"
      ]
     },
     "execution_count": 16,
     "metadata": {},
     "output_type": "execute_result"
    }
   ],
   "source": [
    "data.columns.tolist()"
   ]
  },
  {
   "cell_type": "code",
   "execution_count": 17,
   "metadata": {},
   "outputs": [],
   "source": [
    "data_modified = data.copy()"
   ]
  },
  {
   "cell_type": "code",
   "execution_count": 18,
   "metadata": {},
   "outputs": [
    {
     "name": "stdout",
     "output_type": "stream",
     "text": [
      "<class 'pandas.core.frame.DataFrame'>\n",
      "RangeIndex: 148506 entries, 0 to 148505\n",
      "Data columns (total 55 columns):\n",
      " #   Column                                    Non-Null Count   Dtype         \n",
      "---  ------                                    --------------   -----         \n",
      " 0   Bearer Id                                 148506 non-null  float64       \n",
      " 1   Start                                     148506 non-null  datetime64[ns]\n",
      " 2   Start ms                                  148506 non-null  float64       \n",
      " 3   End                                       148506 non-null  datetime64[ns]\n",
      " 4   End ms                                    148506 non-null  float64       \n",
      " 5   Dur. (s)                                  148506 non-null  float64       \n",
      " 6   IMSI                                      148506 non-null  object        \n",
      " 7   MSISDN/Number                             148506 non-null  object        \n",
      " 8   IMEI                                      148506 non-null  object        \n",
      " 9   Last Location Name                        148506 non-null  object        \n",
      " 10  Avg RTT DL (ms)                           148506 non-null  float64       \n",
      " 11  Avg RTT UL (ms)                           148506 non-null  float64       \n",
      " 12  Avg Bearer TP DL (kbps)                   148506 non-null  float64       \n",
      " 13  Avg Bearer TP UL (kbps)                   148506 non-null  float64       \n",
      " 14  TCP DL Retrans. Vol (Bytes)               148506 non-null  float64       \n",
      " 15  TCP UL Retrans. Vol (Bytes)               148506 non-null  float64       \n",
      " 16  DL TP < 50 Kbps (%)                       148506 non-null  float64       \n",
      " 17  50 Kbps < DL TP < 250 Kbps (%)            148506 non-null  float64       \n",
      " 18  250 Kbps < DL TP < 1 Mbps (%)             148506 non-null  float64       \n",
      " 19  DL TP > 1 Mbps (%)                        148506 non-null  float64       \n",
      " 20  UL TP < 10 Kbps (%)                       148506 non-null  float64       \n",
      " 21  10 Kbps < UL TP < 50 Kbps (%)             148506 non-null  float64       \n",
      " 22  50 Kbps < UL TP < 300 Kbps (%)            148506 non-null  float64       \n",
      " 23  UL TP > 300 Kbps (%)                      148506 non-null  float64       \n",
      " 24  HTTP DL (Bytes)                           148506 non-null  float64       \n",
      " 25  HTTP UL (Bytes)                           148506 non-null  float64       \n",
      " 26  Activity Duration DL (ms)                 148506 non-null  float64       \n",
      " 27  Activity Duration UL (ms)                 148506 non-null  float64       \n",
      " 28  Dur. (ms)                                 148506 non-null  float64       \n",
      " 29  Handset Manufacturer                      148506 non-null  object        \n",
      " 30  Handset Type                              148506 non-null  object        \n",
      " 31  Nb of sec with 125000B < Vol DL           148506 non-null  float64       \n",
      " 32  Nb of sec with 1250B < Vol UL < 6250B     148506 non-null  float64       \n",
      " 33  Nb of sec with 31250B < Vol DL < 125000B  148506 non-null  float64       \n",
      " 34  Nb of sec with 37500B < Vol UL            148506 non-null  float64       \n",
      " 35  Nb of sec with 6250B < Vol DL < 31250B    148506 non-null  float64       \n",
      " 36  Nb of sec with 6250B < Vol UL < 37500B    148506 non-null  float64       \n",
      " 37  Nb of sec with Vol DL < 6250B             148506 non-null  float64       \n",
      " 38  Nb of sec with Vol UL < 1250B             148506 non-null  float64       \n",
      " 39  Social Media DL (Bytes)                   148506 non-null  float64       \n",
      " 40  Social Media UL (Bytes)                   148506 non-null  float64       \n",
      " 41  Google DL (Bytes)                         148506 non-null  float64       \n",
      " 42  Google UL (Bytes)                         148506 non-null  float64       \n",
      " 43  Email DL (Bytes)                          148506 non-null  float64       \n",
      " 44  Email UL (Bytes)                          148506 non-null  float64       \n",
      " 45  Youtube DL (Bytes)                        148506 non-null  float64       \n",
      " 46  Youtube UL (Bytes)                        148506 non-null  float64       \n",
      " 47  Netflix DL (Bytes)                        148506 non-null  float64       \n",
      " 48  Netflix UL (Bytes)                        148506 non-null  float64       \n",
      " 49  Gaming DL (Bytes)                         148506 non-null  float64       \n",
      " 50  Gaming UL (Bytes)                         148506 non-null  float64       \n",
      " 51  Other DL (Bytes)                          148506 non-null  float64       \n",
      " 52  Other UL (Bytes)                          148506 non-null  float64       \n",
      " 53  Total UL (Bytes)                          148506 non-null  float64       \n",
      " 54  Total DL (Bytes)                          148506 non-null  float64       \n",
      "dtypes: datetime64[ns](2), float64(47), object(6)\n",
      "memory usage: 62.3+ MB\n"
     ]
    }
   ],
   "source": [
    "data_modified.info()"
   ]
  },
  {
   "cell_type": "markdown",
   "metadata": {},
   "source": [
    "### Top 10 used handsets by customers"
   ]
  },
  {
   "cell_type": "code",
   "execution_count": 19,
   "metadata": {},
   "outputs": [],
   "source": [
    "top_10_handsets = data_modified[\"Handset Type\"].value_counts().nlargest(10)"
   ]
  },
  {
   "cell_type": "code",
   "execution_count": 20,
   "metadata": {},
   "outputs": [
    {
     "data": {
      "text/plain": [
       "Huawei B528S-23A                19727\n",
       "Apple iPhone 6S (A1688)          9395\n",
       "Apple iPhone 6 (A1586)           8993\n",
       "Unknown                          8904\n",
       "Apple iPhone 7 (A1778)           6279\n",
       "Apple iPhone Se (A1723)          5165\n",
       "Apple iPhone 8 (A1905)           4977\n",
       "Apple iPhone Xr (A2105)          4556\n",
       "Samsung Galaxy S8 (Sm-G950F)     4464\n",
       "Apple iPhone X (A1901)           3806\n",
       "Name: Handset Type, dtype: int64"
      ]
     },
     "execution_count": 20,
     "metadata": {},
     "output_type": "execute_result"
    }
   ],
   "source": [
    "top_10_handsets"
   ]
  },
  {
   "cell_type": "code",
   "execution_count": 21,
   "metadata": {},
   "outputs": [
    {
     "data": {
      "image/png": "[encoded data removed]",
      "text/plain": [
       "<Figure size 1440x720 with 1 Axes>"
      ]
     },
     "metadata": {},
     "output_type": "display_data"
    }
   ],
   "source": [
    "top_10_handsets.plot(kind=\"barh\", figsize=(20, 10), title=\"Most used handsets by customers\").invert_yaxis()"
   ]
  },
  {
   "cell_type": "markdown",
   "metadata": {},
   "source": [
    "### Top 3 handset manufacturers"
   ]
  },
  {
   "cell_type": "code",
   "execution_count": 22,
   "metadata": {},
   "outputs": [],
   "source": [
    "top_3_handset_manufacturers = data_modified[\"Handset Manufacturer\"].value_counts().nlargest(3)"
   ]
  },
  {
   "cell_type": "code",
   "execution_count": 23,
   "metadata": {},
   "outputs": [
    {
     "data": {
      "text/plain": [
       "Apple      59339\n",
       "Samsung    40429\n",
       "Huawei     34296\n",
       "Name: Handset Manufacturer, dtype: int64"
      ]
     },
     "execution_count": 23,
     "metadata": {},
     "output_type": "execute_result"
    }
   ],
   "source": [
    "top_3_handset_manufacturers"
   ]
  },
  {
   "cell_type": "code",
   "execution_count": 24,
   "metadata": {},
   "outputs": [
    {
     "data": {
      "image/png": "[encoded data removed]",
      "text/plain": [
       "<Figure size 1440x720 with 1 Axes>"
      ]
     },
     "metadata": {},
     "output_type": "display_data"
    }
   ],
   "source": [
    "top_3_handset_manufacturers.plot(kind=\"barh\", figsize=(20, 10), title=\"Top 3 handsets manufacturers\").invert_yaxis()"
   ]
  },
  {
   "cell_type": "markdown",
   "metadata": {},
   "source": [
    "### Top 5 Handsets Manufactured by Apple"
   ]
  },
  {
   "cell_type": "code",
   "execution_count": 25,
   "metadata": {},
   "outputs": [],
   "source": [
    "top_5_apple_handsets = data_modified[data_modified[\"Handset Manufacturer\"] == \"Apple\"][[\"Handset Manufacturer\", \"Handset Type\"]].groupby(\"Handset Type\").count().nlargest(n=5, columns=\"Handset Manufacturer\")"
   ]
  },
  {
   "cell_type": "code",
   "execution_count": 26,
   "metadata": {},
   "outputs": [
    {
     "data": {
      "text/html": [
       "<div>\n",
       "<style scoped>\n",
       "    .dataframe tbody tr th:only-of-type {\n",
       "        vertical-align: middle;\n",
       "    }\n",
       "\n",
       "    .dataframe tbody tr th {\n",
       "        vertical-align: top;\n",
       "    }\n",
       "\n",
       "    .dataframe thead th {\n",
       "        text-align: right;\n",
       "    }\n",
       "</style>\n",
       "<table border=\"1\" class=\"dataframe\">\n",
       "  <thead>\n",
       "    <tr style=\"text-align: right;\">\n",
       "      <th></th>\n",
       "      <th>Handset Manufacturer</th>\n",
       "    </tr>\n",
       "    <tr>\n",
       "      <th>Handset Type</th>\n",
       "      <th></th>\n",
       "    </tr>\n",
       "  </thead>\n",
       "  <tbody>\n",
       "    <tr>\n",
       "      <th>Apple iPhone 6S (A1688)</th>\n",
       "      <td>9395</td>\n",
       "    </tr>\n",
       "    <tr>\n",
       "      <th>Apple iPhone 6 (A1586)</th>\n",
       "      <td>8993</td>\n",
       "    </tr>\n",
       "    <tr>\n",
       "      <th>Apple iPhone 7 (A1778)</th>\n",
       "      <td>6279</td>\n",
       "    </tr>\n",
       "    <tr>\n",
       "      <th>Apple iPhone Se (A1723)</th>\n",
       "      <td>5165</td>\n",
       "    </tr>\n",
       "    <tr>\n",
       "      <th>Apple iPhone 8 (A1905)</th>\n",
       "      <td>4977</td>\n",
       "    </tr>\n",
       "  </tbody>\n",
       "</table>\n",
       "</div>"
      ],
      "text/plain": [
       "                         Handset Manufacturer\n",
       "Handset Type                                 \n",
       "Apple iPhone 6S (A1688)                  9395\n",
       "Apple iPhone 6 (A1586)                   8993\n",
       "Apple iPhone 7 (A1778)                   6279\n",
       "Apple iPhone Se (A1723)                  5165\n",
       "Apple iPhone 8 (A1905)                   4977"
      ]
     },
     "execution_count": 26,
     "metadata": {},
     "output_type": "execute_result"
    }
   ],
   "source": [
    "top_5_apple_handsets"
   ]
  },
  {
   "cell_type": "code",
   "execution_count": 27,
   "metadata": {},
   "outputs": [
    {
     "data": {
      "image/png": "[encoded data removed]",
      "text/plain": [
       "<Figure size 1440x720 with 1 Axes>"
      ]
     },
     "metadata": {},
     "output_type": "display_data"
    }
   ],
   "source": [
    "top_5_apple_handsets.plot(kind=\"barh\", figsize=(20, 10), title=\"Top 5 Handsets Manufactured by Apple\", legend=False, xlabel=\"\").invert_yaxis()"
   ]
  },
  {
   "cell_type": "markdown",
   "metadata": {},
   "source": [
    "### Top 5 Handsets Manufactured by Samsung"
   ]
  },
  {
   "cell_type": "code",
   "execution_count": 28,
   "metadata": {},
   "outputs": [],
   "source": [
    "top_5_samsung_handsets = data_modified[data_modified[\"Handset Manufacturer\"] == \"Samsung\"][[\"Handset Manufacturer\", \"Handset Type\"]].groupby(\"Handset Type\").count().nlargest(n=5, columns=\"Handset Manufacturer\")"
   ]
  },
  {
   "cell_type": "code",
   "execution_count": 29,
   "metadata": {},
   "outputs": [
    {
     "data": {
      "text/html": [
       "<div>\n",
       "<style scoped>\n",
       "    .dataframe tbody tr th:only-of-type {\n",
       "        vertical-align: middle;\n",
       "    }\n",
       "\n",
       "    .dataframe tbody tr th {\n",
       "        vertical-align: top;\n",
       "    }\n",
       "\n",
       "    .dataframe thead th {\n",
       "        text-align: right;\n",
       "    }\n",
       "</style>\n",
       "<table border=\"1\" class=\"dataframe\">\n",
       "  <thead>\n",
       "    <tr style=\"text-align: right;\">\n",
       "      <th></th>\n",
       "      <th>Handset Manufacturer</th>\n",
       "    </tr>\n",
       "    <tr>\n",
       "      <th>Handset Type</th>\n",
       "      <th></th>\n",
       "    </tr>\n",
       "  </thead>\n",
       "  <tbody>\n",
       "    <tr>\n",
       "      <th>Samsung Galaxy S8 (Sm-G950F)</th>\n",
       "      <td>4464</td>\n",
       "    </tr>\n",
       "    <tr>\n",
       "      <th>Samsung Galaxy A5 Sm-A520F</th>\n",
       "      <td>3700</td>\n",
       "    </tr>\n",
       "    <tr>\n",
       "      <th>Samsung Galaxy J5 (Sm-J530)</th>\n",
       "      <td>3675</td>\n",
       "    </tr>\n",
       "    <tr>\n",
       "      <th>Samsung Galaxy J3 (Sm-J330)</th>\n",
       "      <td>3456</td>\n",
       "    </tr>\n",
       "    <tr>\n",
       "      <th>Samsung Galaxy S7 (Sm-G930X)</th>\n",
       "      <td>3171</td>\n",
       "    </tr>\n",
       "  </tbody>\n",
       "</table>\n",
       "</div>"
      ],
      "text/plain": [
       "                              Handset Manufacturer\n",
       "Handset Type                                      \n",
       "Samsung Galaxy S8 (Sm-G950F)                  4464\n",
       "Samsung Galaxy A5 Sm-A520F                    3700\n",
       "Samsung Galaxy J5 (Sm-J530)                   3675\n",
       "Samsung Galaxy J3 (Sm-J330)                   3456\n",
       "Samsung Galaxy S7 (Sm-G930X)                  3171"
      ]
     },
     "execution_count": 29,
     "metadata": {},
     "output_type": "execute_result"
    }
   ],
   "source": [
    "top_5_samsung_handsets"
   ]
  },
  {
   "cell_type": "code",
   "execution_count": 30,
   "metadata": {},
   "outputs": [
    {
     "data": {
      "image/png": "[encoded data removed]",
      "text/plain": [
       "<Figure size 1440x720 with 1 Axes>"
      ]
     },
     "metadata": {},
     "output_type": "display_data"
    }
   ],
   "source": [
    "top_5_samsung_handsets.plot(kind=\"barh\", figsize=(20, 10), title=\"Top 5 Handsets Manufactured by Samsung\", legend=False, xlabel=\"\").invert_yaxis()"
   ]
  },
  {
   "cell_type": "markdown",
   "metadata": {},
   "source": [
    "### Top 5 Handsets Manufactured by Huawei"
   ]
  },
  {
   "cell_type": "code",
   "execution_count": 31,
   "metadata": {},
   "outputs": [],
   "source": [
    "top_5_huawei_handsets = data_modified[data_modified[\"Handset Manufacturer\"] == \"Huawei\"][[\"Handset Manufacturer\", \"Handset Type\"]].groupby(\"Handset Type\").count().nlargest(n=5, columns=\"Handset Manufacturer\")"
   ]
  },
  {
   "cell_type": "code",
   "execution_count": 32,
   "metadata": {},
   "outputs": [
    {
     "data": {
      "text/html": [
       "<div>\n",
       "<style scoped>\n",
       "    .dataframe tbody tr th:only-of-type {\n",
       "        vertical-align: middle;\n",
       "    }\n",
       "\n",
       "    .dataframe tbody tr th {\n",
       "        vertical-align: top;\n",
       "    }\n",
       "\n",
       "    .dataframe thead th {\n",
       "        text-align: right;\n",
       "    }\n",
       "</style>\n",
       "<table border=\"1\" class=\"dataframe\">\n",
       "  <thead>\n",
       "    <tr style=\"text-align: right;\">\n",
       "      <th></th>\n",
       "      <th>Handset Manufacturer</th>\n",
       "    </tr>\n",
       "    <tr>\n",
       "      <th>Handset Type</th>\n",
       "      <th></th>\n",
       "    </tr>\n",
       "  </thead>\n",
       "  <tbody>\n",
       "    <tr>\n",
       "      <th>Huawei B528S-23A</th>\n",
       "      <td>19727</td>\n",
       "    </tr>\n",
       "    <tr>\n",
       "      <th>Huawei E5180</th>\n",
       "      <td>2074</td>\n",
       "    </tr>\n",
       "    <tr>\n",
       "      <th>Huawei P20 Lite Huawei Nova 3E</th>\n",
       "      <td>2012</td>\n",
       "    </tr>\n",
       "    <tr>\n",
       "      <th>Huawei P20</th>\n",
       "      <td>1475</td>\n",
       "    </tr>\n",
       "    <tr>\n",
       "      <th>Huawei Y6 2018</th>\n",
       "      <td>996</td>\n",
       "    </tr>\n",
       "  </tbody>\n",
       "</table>\n",
       "</div>"
      ],
      "text/plain": [
       "                                Handset Manufacturer\n",
       "Handset Type                                        \n",
       "Huawei B528S-23A                               19727\n",
       "Huawei E5180                                    2074\n",
       "Huawei P20 Lite Huawei Nova 3E                  2012\n",
       "Huawei P20                                      1475\n",
       "Huawei Y6 2018                                   996"
      ]
     },
     "execution_count": 32,
     "metadata": {},
     "output_type": "execute_result"
    }
   ],
   "source": [
    "top_5_huawei_handsets"
   ]
  },
  {
   "cell_type": "code",
   "execution_count": 33,
   "metadata": {},
   "outputs": [
    {
     "data": {
      "image/png": "[encoded data removed]",
      "text/plain": [
       "<Figure size 1440x720 with 1 Axes>"
      ]
     },
     "metadata": {},
     "output_type": "display_data"
    }
   ],
   "source": [
    "top_5_huawei_handsets.plot(kind=\"barh\", figsize=(20, 10), title=\"Top 5 Handsets Manufactured by Huawei\", legend=False, xlabel=\"\").invert_yaxis()"
   ]
  },
  {
   "cell_type": "markdown",
   "metadata": {},
   "source": [
    "Looking at the insights, TellCo should start selling Apple, Samsung and Huawei manufactured handsets by partnering with them. The marketing team can then let customers know that they're selling these handsets in order to generate more revenue. "
   ]
  },
  {
   "cell_type": "markdown",
   "metadata": {},
   "source": [
    "### Grouping values to look into sessions per user\n",
    "---"
   ]
  },
  {
   "cell_type": "code",
   "execution_count": 34,
   "metadata": {},
   "outputs": [
    {
     "data": {
      "text/html": [
       "<div>\n",
       "<style scoped>\n",
       "    .dataframe tbody tr th:only-of-type {\n",
       "        vertical-align: middle;\n",
       "    }\n",
       "\n",
       "    .dataframe tbody tr th {\n",
       "        vertical-align: top;\n",
       "    }\n",
       "\n",
       "    .dataframe thead th {\n",
       "        text-align: right;\n",
       "    }\n",
       "</style>\n",
       "<table border=\"1\" class=\"dataframe\">\n",
       "  <thead>\n",
       "    <tr style=\"text-align: right;\">\n",
       "      <th></th>\n",
       "      <th>Bearer Id</th>\n",
       "      <th>Start</th>\n",
       "      <th>Start ms</th>\n",
       "      <th>End</th>\n",
       "      <th>End ms</th>\n",
       "      <th>Dur. (s)</th>\n",
       "      <th>IMSI</th>\n",
       "      <th>MSISDN/Number</th>\n",
       "      <th>IMEI</th>\n",
       "      <th>Last Location Name</th>\n",
       "      <th>...</th>\n",
       "      <th>Youtube DL (Bytes)</th>\n",
       "      <th>Youtube UL (Bytes)</th>\n",
       "      <th>Netflix DL (Bytes)</th>\n",
       "      <th>Netflix UL (Bytes)</th>\n",
       "      <th>Gaming DL (Bytes)</th>\n",
       "      <th>Gaming UL (Bytes)</th>\n",
       "      <th>Other DL (Bytes)</th>\n",
       "      <th>Other UL (Bytes)</th>\n",
       "      <th>Total UL (Bytes)</th>\n",
       "      <th>Total DL (Bytes)</th>\n",
       "    </tr>\n",
       "  </thead>\n",
       "  <tbody>\n",
       "    <tr>\n",
       "      <th>0</th>\n",
       "      <td>1.311448e+19</td>\n",
       "      <td>2019-04-04 12:01:00</td>\n",
       "      <td>770.0</td>\n",
       "      <td>2019-04-25 14:35:00</td>\n",
       "      <td>662.0</td>\n",
       "      <td>1823652.0</td>\n",
       "      <td>208201448079117.0</td>\n",
       "      <td>33664962239.0</td>\n",
       "      <td>35521209507511.0</td>\n",
       "      <td>9.16456699548519E+015</td>\n",
       "      <td>...</td>\n",
       "      <td>15854611.0</td>\n",
       "      <td>2501332.0</td>\n",
       "      <td>8198936.0</td>\n",
       "      <td>9656251.0</td>\n",
       "      <td>278082303.0</td>\n",
       "      <td>14344150.0</td>\n",
       "      <td>171744450.0</td>\n",
       "      <td>8814393.0</td>\n",
       "      <td>36749741.0</td>\n",
       "      <td>308879636.0</td>\n",
       "    </tr>\n",
       "    <tr>\n",
       "      <th>1</th>\n",
       "      <td>1.311448e+19</td>\n",
       "      <td>2019-04-09 13:04:00</td>\n",
       "      <td>235.0</td>\n",
       "      <td>2019-04-25 08:15:00</td>\n",
       "      <td>606.0</td>\n",
       "      <td>1365104.0</td>\n",
       "      <td>208201909211140.0</td>\n",
       "      <td>33681854413.0</td>\n",
       "      <td>35794009006359.0</td>\n",
       "      <td>L77566A</td>\n",
       "      <td>...</td>\n",
       "      <td>20247395.0</td>\n",
       "      <td>19111729.0</td>\n",
       "      <td>18338413.0</td>\n",
       "      <td>17227132.0</td>\n",
       "      <td>608750074.0</td>\n",
       "      <td>1170709.0</td>\n",
       "      <td>526904238.0</td>\n",
       "      <td>15055145.0</td>\n",
       "      <td>53800391.0</td>\n",
       "      <td>653384965.0</td>\n",
       "    </tr>\n",
       "    <tr>\n",
       "      <th>2</th>\n",
       "      <td>1.311448e+19</td>\n",
       "      <td>2019-04-09 17:42:00</td>\n",
       "      <td>1.0</td>\n",
       "      <td>2019-04-25 11:58:00</td>\n",
       "      <td>652.0</td>\n",
       "      <td>1361762.0</td>\n",
       "      <td>208200314458056.0</td>\n",
       "      <td>33760627129.0</td>\n",
       "      <td>35281510359387.0</td>\n",
       "      <td>D42335A</td>\n",
       "      <td>...</td>\n",
       "      <td>19725661.0</td>\n",
       "      <td>14699576.0</td>\n",
       "      <td>17587794.0</td>\n",
       "      <td>6163408.0</td>\n",
       "      <td>229584621.0</td>\n",
       "      <td>395630.0</td>\n",
       "      <td>410692588.0</td>\n",
       "      <td>4215763.0</td>\n",
       "      <td>27883638.0</td>\n",
       "      <td>279807335.0</td>\n",
       "    </tr>\n",
       "    <tr>\n",
       "      <th>3</th>\n",
       "      <td>1.311448e+19</td>\n",
       "      <td>2019-04-10 00:31:00</td>\n",
       "      <td>486.0</td>\n",
       "      <td>2019-04-25 07:36:00</td>\n",
       "      <td>171.0</td>\n",
       "      <td>1321509.0</td>\n",
       "      <td>208201402342131.0</td>\n",
       "      <td>33750343200.0</td>\n",
       "      <td>35356610164913.0</td>\n",
       "      <td>T21824A</td>\n",
       "      <td>...</td>\n",
       "      <td>21388122.0</td>\n",
       "      <td>15146643.0</td>\n",
       "      <td>13994646.0</td>\n",
       "      <td>1097942.0</td>\n",
       "      <td>799538153.0</td>\n",
       "      <td>10849722.0</td>\n",
       "      <td>749039933.0</td>\n",
       "      <td>12797283.0</td>\n",
       "      <td>43324218.0</td>\n",
       "      <td>846028530.0</td>\n",
       "    </tr>\n",
       "    <tr>\n",
       "      <th>4</th>\n",
       "      <td>1.311448e+19</td>\n",
       "      <td>2019-04-12 20:10:00</td>\n",
       "      <td>565.0</td>\n",
       "      <td>2019-04-25 10:40:00</td>\n",
       "      <td>954.0</td>\n",
       "      <td>1089009.0</td>\n",
       "      <td>208201401415120.0</td>\n",
       "      <td>33699795932.0</td>\n",
       "      <td>35407009745539.0</td>\n",
       "      <td>D88865A</td>\n",
       "      <td>...</td>\n",
       "      <td>15259380.0</td>\n",
       "      <td>18962873.0</td>\n",
       "      <td>17124581.0</td>\n",
       "      <td>415218.0</td>\n",
       "      <td>527707248.0</td>\n",
       "      <td>3529801.0</td>\n",
       "      <td>550709500.0</td>\n",
       "      <td>13910322.0</td>\n",
       "      <td>38542814.0</td>\n",
       "      <td>569138589.0</td>\n",
       "    </tr>\n",
       "  </tbody>\n",
       "</table>\n",
       "<p>5 rows × 55 columns</p>\n",
       "</div>"
      ],
      "text/plain": [
       "      Bearer Id               Start  Start ms                 End  End ms  \\\n",
       "0  1.311448e+19 2019-04-04 12:01:00     770.0 2019-04-25 14:35:00   662.0   \n",
       "1  1.311448e+19 2019-04-09 13:04:00     235.0 2019-04-25 08:15:00   606.0   \n",
       "2  1.311448e+19 2019-04-09 17:42:00       1.0 2019-04-25 11:58:00   652.0   \n",
       "3  1.311448e+19 2019-04-10 00:31:00     486.0 2019-04-25 07:36:00   171.0   \n",
       "4  1.311448e+19 2019-04-12 20:10:00     565.0 2019-04-25 10:40:00   954.0   \n",
       "\n",
       "    Dur. (s)               IMSI  MSISDN/Number              IMEI  \\\n",
       "0  1823652.0  208201448079117.0  33664962239.0  35521209507511.0   \n",
       "1  1365104.0  208201909211140.0  33681854413.0  35794009006359.0   \n",
       "2  1361762.0  208200314458056.0  33760627129.0  35281510359387.0   \n",
       "3  1321509.0  208201402342131.0  33750343200.0  35356610164913.0   \n",
       "4  1089009.0  208201401415120.0  33699795932.0  35407009745539.0   \n",
       "\n",
       "      Last Location Name  ...  Youtube DL (Bytes)  Youtube UL (Bytes)  \\\n",
       "0  9.16456699548519E+015  ...          15854611.0           2501332.0   \n",
       "1                L77566A  ...          20247395.0          19111729.0   \n",
       "2                D42335A  ...          19725661.0          14699576.0   \n",
       "3                T21824A  ...          21388122.0          15146643.0   \n",
       "4                D88865A  ...          15259380.0          18962873.0   \n",
       "\n",
       "   Netflix DL (Bytes)  Netflix UL (Bytes)  Gaming DL (Bytes)  \\\n",
       "0           8198936.0           9656251.0        278082303.0   \n",
       "1          18338413.0          17227132.0        608750074.0   \n",
       "2          17587794.0           6163408.0        229584621.0   \n",
       "3          13994646.0           1097942.0        799538153.0   \n",
       "4          17124581.0            415218.0        527707248.0   \n",
       "\n",
       "   Gaming UL (Bytes)  Other DL (Bytes)  Other UL (Bytes)  Total UL (Bytes)  \\\n",
       "0         14344150.0       171744450.0         8814393.0        36749741.0   \n",
       "1          1170709.0       526904238.0        15055145.0        53800391.0   \n",
       "2           395630.0       410692588.0         4215763.0        27883638.0   \n",
       "3         10849722.0       749039933.0        12797283.0        43324218.0   \n",
       "4          3529801.0       550709500.0        13910322.0        38542814.0   \n",
       "\n",
       "   Total DL (Bytes)  \n",
       "0       308879636.0  \n",
       "1       653384965.0  \n",
       "2       279807335.0  \n",
       "3       846028530.0  \n",
       "4       569138589.0  \n",
       "\n",
       "[5 rows x 55 columns]"
      ]
     },
     "execution_count": 34,
     "metadata": {},
     "output_type": "execute_result"
    }
   ],
   "source": [
    "data_modified.head()"
   ]
  },
  {
   "cell_type": "code",
   "execution_count": 35,
   "metadata": {},
   "outputs": [],
   "source": [
    "user_agg = data_modified.groupby([\"MSISDN/Number\"], as_index=False).agg({'Bearer Id':'count', \"Dur. (s)\": \"sum\", \"Total UL (Bytes)\": \"sum\", \"Total DL (Bytes)\": \"sum\",  \"Social Media UL (Bytes)\": \"sum\", \"Social Media DL (Bytes)\": \"sum\", \"Google UL (Bytes)\": \"sum\", \"Google DL (Bytes)\": \"sum\", \"Email UL (Bytes)\": \"sum\", \"Email DL (Bytes)\": \"sum\", \"Youtube UL (Bytes)\": \"sum\", \"Youtube DL (Bytes)\": \"sum\", \"Netflix UL (Bytes)\": \"sum\", \"Netflix DL (Bytes)\": \"sum\", \"Gaming UL (Bytes)\": \"sum\", \"Gaming DL (Bytes)\": \"sum\", \"Other UL (Bytes)\": \"sum\", \"Other DL (Bytes)\": \"sum\"})\n",
    "user_agg.reset_index(drop=True, inplace=True)"
   ]
  },
  {
   "cell_type": "code",
   "execution_count": 36,
   "metadata": {},
   "outputs": [
    {
     "data": {
      "text/plain": [
       "(106471, 19)"
      ]
     },
     "execution_count": 36,
     "metadata": {},
     "output_type": "execute_result"
    }
   ],
   "source": [
    "user_agg.shape"
   ]
  },
  {
   "cell_type": "code",
   "execution_count": 37,
   "metadata": {},
   "outputs": [],
   "source": [
    "user_agg.rename(columns={\"Bearer Id\": \"Session Count\"}, inplace=True)"
   ]
  },
  {
   "cell_type": "code",
   "execution_count": 38,
   "metadata": {},
   "outputs": [],
   "source": [
    "user_agg[\"Total Data Transferred\"] = user_agg[\"Total UL (Bytes)\"] + user_agg[\"Total DL (Bytes)\"]"
   ]
  },
  {
   "cell_type": "code",
   "execution_count": 39,
   "metadata": {},
   "outputs": [],
   "source": [
    "user_agg[\"Google Volume (Bytes)\"] = user_agg[\"Google UL (Bytes)\"] + user_agg[\"Google DL (Bytes)\"]\n",
    "user_agg[\"Netflix Volume (Bytes)\"] = user_agg[\"Netflix UL (Bytes)\"] + user_agg[\"Netflix DL (Bytes)\"]\n",
    "user_agg[\"Youtube Volume (Bytes)\"] = user_agg[\"Youtube UL (Bytes)\"] + user_agg[\"Youtube DL (Bytes)\"]\n",
    "user_agg[\"Gaming Volume (Bytes)\"] = user_agg[\"Gaming UL (Bytes)\"] + user_agg[\"Gaming DL (Bytes)\"]\n",
    "user_agg[\"Email Volume (Bytes)\"] = user_agg[\"Email UL (Bytes)\"] + user_agg[\"Email DL (Bytes)\"]\n",
    "user_agg[\"Social Media Volume (Bytes)\"] = user_agg[\"Social Media UL (Bytes)\"] + user_agg[\"Social Media DL (Bytes)\"]\n",
    "user_agg[\"Other Volume (Bytes)\"] = user_agg[\"Other UL (Bytes)\"] + user_agg[\"Other DL (Bytes)\"]"
   ]
  },
  {
   "cell_type": "code",
   "execution_count": 40,
   "metadata": {},
   "outputs": [],
   "source": [
    "# user_agg[\"Total Volume (Bytes)\"] = user_agg[\"Google Volume (Bytes)\"] + user_agg[\"Netflix Volume (Bytes)\"] + user_agg[\"Youtube Volume (Bytes)\"] + user_agg[\"Gaming Volume (Bytes)\"] + user_agg[\"Other Volume (Bytes)\"] + user_agg[\"Social Media Volume (Bytes)\"] + user_agg[\"Email Volume (Bytes)\"]"
   ]
  },
  {
   "cell_type": "code",
   "execution_count": 41,
   "metadata": {},
   "outputs": [
    {
     "data": {
      "text/plain": [
       "(106471, 27)"
      ]
     },
     "execution_count": 41,
     "metadata": {},
     "output_type": "execute_result"
    }
   ],
   "source": [
    "user_agg.shape"
   ]
  },
  {
   "cell_type": "code",
   "execution_count": 42,
   "metadata": {},
   "outputs": [
    {
     "data": {
      "text/html": [
       "<div>\n",
       "<style scoped>\n",
       "    .dataframe tbody tr th:only-of-type {\n",
       "        vertical-align: middle;\n",
       "    }\n",
       "\n",
       "    .dataframe tbody tr th {\n",
       "        vertical-align: top;\n",
       "    }\n",
       "\n",
       "    .dataframe thead th {\n",
       "        text-align: right;\n",
       "    }\n",
       "</style>\n",
       "<table border=\"1\" class=\"dataframe\">\n",
       "  <thead>\n",
       "    <tr style=\"text-align: right;\">\n",
       "      <th></th>\n",
       "      <th>MSISDN/Number</th>\n",
       "      <th>Session Count</th>\n",
       "      <th>Dur. (s)</th>\n",
       "      <th>Total UL (Bytes)</th>\n",
       "      <th>Total DL (Bytes)</th>\n",
       "      <th>Social Media UL (Bytes)</th>\n",
       "      <th>Social Media DL (Bytes)</th>\n",
       "      <th>Google UL (Bytes)</th>\n",
       "      <th>Google DL (Bytes)</th>\n",
       "      <th>Email UL (Bytes)</th>\n",
       "      <th>...</th>\n",
       "      <th>Other UL (Bytes)</th>\n",
       "      <th>Other DL (Bytes)</th>\n",
       "      <th>Total Data Transferred</th>\n",
       "      <th>Google Volume (Bytes)</th>\n",
       "      <th>Netflix Volume (Bytes)</th>\n",
       "      <th>Youtube Volume (Bytes)</th>\n",
       "      <th>Gaming Volume (Bytes)</th>\n",
       "      <th>Email Volume (Bytes)</th>\n",
       "      <th>Social Media Volume (Bytes)</th>\n",
       "      <th>Other Volume (Bytes)</th>\n",
       "    </tr>\n",
       "  </thead>\n",
       "  <tbody>\n",
       "    <tr>\n",
       "      <th>0</th>\n",
       "      <td>3197020876596.0</td>\n",
       "      <td>1</td>\n",
       "      <td>877385.0</td>\n",
       "      <td>37295915.0</td>\n",
       "      <td>194828056.0</td>\n",
       "      <td>46628.0</td>\n",
       "      <td>668596.0</td>\n",
       "      <td>1865881.0</td>\n",
       "      <td>8572779.0</td>\n",
       "      <td>678492.0</td>\n",
       "      <td>...</td>\n",
       "      <td>2848373.0</td>\n",
       "      <td>467678100.0</td>\n",
       "      <td>232123971.0</td>\n",
       "      <td>10438660.0</td>\n",
       "      <td>26592300.0</td>\n",
       "      <td>11959905.0</td>\n",
       "      <td>178048738.0</td>\n",
       "      <td>1520771.0</td>\n",
       "      <td>715224.0</td>\n",
       "      <td>470526473.0</td>\n",
       "    </tr>\n",
       "    <tr>\n",
       "      <th>1</th>\n",
       "      <td>33601001722.0</td>\n",
       "      <td>1</td>\n",
       "      <td>116720.0</td>\n",
       "      <td>36053108.0</td>\n",
       "      <td>842637466.0</td>\n",
       "      <td>25631.0</td>\n",
       "      <td>2206504.0</td>\n",
       "      <td>1051882.0</td>\n",
       "      <td>3337123.0</td>\n",
       "      <td>493962.0</td>\n",
       "      <td>...</td>\n",
       "      <td>9473882.0</td>\n",
       "      <td>377096990.0</td>\n",
       "      <td>878690574.0</td>\n",
       "      <td>4389005.0</td>\n",
       "      <td>27180981.0</td>\n",
       "      <td>21624548.0</td>\n",
       "      <td>812458661.0</td>\n",
       "      <td>1331362.0</td>\n",
       "      <td>2232135.0</td>\n",
       "      <td>386570872.0</td>\n",
       "    </tr>\n",
       "    <tr>\n",
       "      <th>2</th>\n",
       "      <td>33601001754.0</td>\n",
       "      <td>1</td>\n",
       "      <td>181230.0</td>\n",
       "      <td>36104459.0</td>\n",
       "      <td>120755184.0</td>\n",
       "      <td>62017.0</td>\n",
       "      <td>2598548.0</td>\n",
       "      <td>1137166.0</td>\n",
       "      <td>4197697.0</td>\n",
       "      <td>478960.0</td>\n",
       "      <td>...</td>\n",
       "      <td>2152370.0</td>\n",
       "      <td>279557701.0</td>\n",
       "      <td>156859643.0</td>\n",
       "      <td>5334863.0</td>\n",
       "      <td>11221763.0</td>\n",
       "      <td>12432223.0</td>\n",
       "      <td>119750078.0</td>\n",
       "      <td>3307781.0</td>\n",
       "      <td>2660565.0</td>\n",
       "      <td>281710071.0</td>\n",
       "    </tr>\n",
       "    <tr>\n",
       "      <th>3</th>\n",
       "      <td>33601002511.0</td>\n",
       "      <td>1</td>\n",
       "      <td>134969.0</td>\n",
       "      <td>39306820.0</td>\n",
       "      <td>556659663.0</td>\n",
       "      <td>47619.0</td>\n",
       "      <td>3148004.0</td>\n",
       "      <td>99643.0</td>\n",
       "      <td>3343483.0</td>\n",
       "      <td>768880.0</td>\n",
       "      <td>...</td>\n",
       "      <td>6607171.0</td>\n",
       "      <td>495086501.0</td>\n",
       "      <td>595966483.0</td>\n",
       "      <td>3443126.0</td>\n",
       "      <td>19353900.0</td>\n",
       "      <td>21333570.0</td>\n",
       "      <td>538827713.0</td>\n",
       "      <td>3205380.0</td>\n",
       "      <td>3195623.0</td>\n",
       "      <td>501693672.0</td>\n",
       "    </tr>\n",
       "    <tr>\n",
       "      <th>4</th>\n",
       "      <td>33601007832.0</td>\n",
       "      <td>1</td>\n",
       "      <td>49878.0</td>\n",
       "      <td>20327526.0</td>\n",
       "      <td>401993172.0</td>\n",
       "      <td>28825.0</td>\n",
       "      <td>251469.0</td>\n",
       "      <td>3740728.0</td>\n",
       "      <td>5937765.0</td>\n",
       "      <td>106052.0</td>\n",
       "      <td>...</td>\n",
       "      <td>10031701.0</td>\n",
       "      <td>25248001.0</td>\n",
       "      <td>422320698.0</td>\n",
       "      <td>9678493.0</td>\n",
       "      <td>1942092.0</td>\n",
       "      <td>6977321.0</td>\n",
       "      <td>391126127.0</td>\n",
       "      <td>2284670.0</td>\n",
       "      <td>280294.0</td>\n",
       "      <td>35279702.0</td>\n",
       "    </tr>\n",
       "  </tbody>\n",
       "</table>\n",
       "<p>5 rows × 27 columns</p>\n",
       "</div>"
      ],
      "text/plain": [
       "     MSISDN/Number  Session Count  Dur. (s)  Total UL (Bytes)  \\\n",
       "0  3197020876596.0              1  877385.0        37295915.0   \n",
       "1    33601001722.0              1  116720.0        36053108.0   \n",
       "2    33601001754.0              1  181230.0        36104459.0   \n",
       "3    33601002511.0              1  134969.0        39306820.0   \n",
       "4    33601007832.0              1   49878.0        20327526.0   \n",
       "\n",
       "   Total DL (Bytes)  Social Media UL (Bytes)  Social Media DL (Bytes)  \\\n",
       "0       194828056.0                  46628.0                 668596.0   \n",
       "1       842637466.0                  25631.0                2206504.0   \n",
       "2       120755184.0                  62017.0                2598548.0   \n",
       "3       556659663.0                  47619.0                3148004.0   \n",
       "4       401993172.0                  28825.0                 251469.0   \n",
       "\n",
       "   Google UL (Bytes)  Google DL (Bytes)  Email UL (Bytes)  ...  \\\n",
       "0          1865881.0          8572779.0          678492.0  ...   \n",
       "1          1051882.0          3337123.0          493962.0  ...   \n",
       "2          1137166.0          4197697.0          478960.0  ...   \n",
       "3            99643.0          3343483.0          768880.0  ...   \n",
       "4          3740728.0          5937765.0          106052.0  ...   \n",
       "\n",
       "   Other UL (Bytes)  Other DL (Bytes)  Total Data Transferred  \\\n",
       "0         2848373.0       467678100.0             232123971.0   \n",
       "1         9473882.0       377096990.0             878690574.0   \n",
       "2         2152370.0       279557701.0             156859643.0   \n",
       "3         6607171.0       495086501.0             595966483.0   \n",
       "4        10031701.0        25248001.0             422320698.0   \n",
       "\n",
       "   Google Volume (Bytes)  Netflix Volume (Bytes)  Youtube Volume (Bytes)  \\\n",
       "0             10438660.0              26592300.0              11959905.0   \n",
       "1              4389005.0              27180981.0              21624548.0   \n",
       "2              5334863.0              11221763.0              12432223.0   \n",
       "3              3443126.0              19353900.0              21333570.0   \n",
       "4              9678493.0               1942092.0               6977321.0   \n",
       "\n",
       "   Gaming Volume (Bytes)  Email Volume (Bytes)  Social Media Volume (Bytes)  \\\n",
       "0            178048738.0             1520771.0                     715224.0   \n",
       "1            812458661.0             1331362.0                    2232135.0   \n",
       "2            119750078.0             3307781.0                    2660565.0   \n",
       "3            538827713.0             3205380.0                    3195623.0   \n",
       "4            391126127.0             2284670.0                     280294.0   \n",
       "\n",
       "   Other Volume (Bytes)  \n",
       "0           470526473.0  \n",
       "1           386570872.0  \n",
       "2           281710071.0  \n",
       "3           501693672.0  \n",
       "4            35279702.0  \n",
       "\n",
       "[5 rows x 27 columns]"
      ]
     },
     "execution_count": 42,
     "metadata": {},
     "output_type": "execute_result"
    }
   ],
   "source": [
    "user_agg.head()"
   ]
  },
  {
   "cell_type": "code",
   "execution_count": 43,
   "metadata": {},
   "outputs": [],
   "source": [
    "volume_per_user = user_agg.drop(columns=[\n",
    "    \"Total UL (Bytes)\",\n",
    "    \"Total DL (Bytes)\",\n",
    "    \"Social Media UL (Bytes)\",\n",
    "    \"Social Media DL (Bytes)\",\n",
    "    \"Google UL (Bytes)\",\n",
    "    \"Google DL (Bytes)\",\n",
    "    \"Email UL (Bytes)\",\n",
    "    \"Email DL (Bytes)\",\n",
    "    \"Youtube UL (Bytes)\",\n",
    "    \"Youtube DL (Bytes)\",\n",
    "    \"Netflix UL (Bytes)\",\n",
    "    \"Netflix DL (Bytes)\",\n",
    "    \"Gaming UL (Bytes)\",\n",
    "    \"Gaming DL (Bytes)\",\n",
    "    \"Other UL (Bytes)\",\n",
    "    \"Other DL (Bytes)\"\n",
    "])"
   ]
  },
  {
   "cell_type": "code",
   "execution_count": 44,
   "metadata": {},
   "outputs": [
    {
     "data": {
      "text/html": [
       "<div>\n",
       "<style scoped>\n",
       "    .dataframe tbody tr th:only-of-type {\n",
       "        vertical-align: middle;\n",
       "    }\n",
       "\n",
       "    .dataframe tbody tr th {\n",
       "        vertical-align: top;\n",
       "    }\n",
       "\n",
       "    .dataframe thead th {\n",
       "        text-align: right;\n",
       "    }\n",
       "</style>\n",
       "<table border=\"1\" class=\"dataframe\">\n",
       "  <thead>\n",
       "    <tr style=\"text-align: right;\">\n",
       "      <th></th>\n",
       "      <th>MSISDN/Number</th>\n",
       "      <th>Session Count</th>\n",
       "      <th>Dur. (s)</th>\n",
       "      <th>Total Data Transferred</th>\n",
       "      <th>Google Volume (Bytes)</th>\n",
       "      <th>Netflix Volume (Bytes)</th>\n",
       "      <th>Youtube Volume (Bytes)</th>\n",
       "      <th>Gaming Volume (Bytes)</th>\n",
       "      <th>Email Volume (Bytes)</th>\n",
       "      <th>Social Media Volume (Bytes)</th>\n",
       "      <th>Other Volume (Bytes)</th>\n",
       "    </tr>\n",
       "  </thead>\n",
       "  <tbody>\n",
       "    <tr>\n",
       "      <th>0</th>\n",
       "      <td>3197020876596.0</td>\n",
       "      <td>1</td>\n",
       "      <td>877385.0</td>\n",
       "      <td>2.321240e+08</td>\n",
       "      <td>10438660.0</td>\n",
       "      <td>26592300.0</td>\n",
       "      <td>11959905.0</td>\n",
       "      <td>178048738.0</td>\n",
       "      <td>1520771.0</td>\n",
       "      <td>715224.0</td>\n",
       "      <td>4.705265e+08</td>\n",
       "    </tr>\n",
       "    <tr>\n",
       "      <th>1</th>\n",
       "      <td>33601001722.0</td>\n",
       "      <td>1</td>\n",
       "      <td>116720.0</td>\n",
       "      <td>8.786906e+08</td>\n",
       "      <td>4389005.0</td>\n",
       "      <td>27180981.0</td>\n",
       "      <td>21624548.0</td>\n",
       "      <td>812458661.0</td>\n",
       "      <td>1331362.0</td>\n",
       "      <td>2232135.0</td>\n",
       "      <td>3.865709e+08</td>\n",
       "    </tr>\n",
       "    <tr>\n",
       "      <th>2</th>\n",
       "      <td>33601001754.0</td>\n",
       "      <td>1</td>\n",
       "      <td>181230.0</td>\n",
       "      <td>1.568596e+08</td>\n",
       "      <td>5334863.0</td>\n",
       "      <td>11221763.0</td>\n",
       "      <td>12432223.0</td>\n",
       "      <td>119750078.0</td>\n",
       "      <td>3307781.0</td>\n",
       "      <td>2660565.0</td>\n",
       "      <td>2.817101e+08</td>\n",
       "    </tr>\n",
       "    <tr>\n",
       "      <th>3</th>\n",
       "      <td>33601002511.0</td>\n",
       "      <td>1</td>\n",
       "      <td>134969.0</td>\n",
       "      <td>5.959665e+08</td>\n",
       "      <td>3443126.0</td>\n",
       "      <td>19353900.0</td>\n",
       "      <td>21333570.0</td>\n",
       "      <td>538827713.0</td>\n",
       "      <td>3205380.0</td>\n",
       "      <td>3195623.0</td>\n",
       "      <td>5.016937e+08</td>\n",
       "    </tr>\n",
       "    <tr>\n",
       "      <th>4</th>\n",
       "      <td>33601007832.0</td>\n",
       "      <td>1</td>\n",
       "      <td>49878.0</td>\n",
       "      <td>4.223207e+08</td>\n",
       "      <td>9678493.0</td>\n",
       "      <td>1942092.0</td>\n",
       "      <td>6977321.0</td>\n",
       "      <td>391126127.0</td>\n",
       "      <td>2284670.0</td>\n",
       "      <td>280294.0</td>\n",
       "      <td>3.527970e+07</td>\n",
       "    </tr>\n",
       "    <tr>\n",
       "      <th>...</th>\n",
       "      <td>...</td>\n",
       "      <td>...</td>\n",
       "      <td>...</td>\n",
       "      <td>...</td>\n",
       "      <td>...</td>\n",
       "      <td>...</td>\n",
       "      <td>...</td>\n",
       "      <td>...</td>\n",
       "      <td>...</td>\n",
       "      <td>...</td>\n",
       "      <td>...</td>\n",
       "    </tr>\n",
       "    <tr>\n",
       "      <th>106466</th>\n",
       "      <td>33789967113.0</td>\n",
       "      <td>1</td>\n",
       "      <td>160461.0</td>\n",
       "      <td>2.081231e+08</td>\n",
       "      <td>9892882.0</td>\n",
       "      <td>30370302.0</td>\n",
       "      <td>28226479.0</td>\n",
       "      <td>134815919.0</td>\n",
       "      <td>3396607.0</td>\n",
       "      <td>1413370.0</td>\n",
       "      <td>4.081072e+08</td>\n",
       "    </tr>\n",
       "    <tr>\n",
       "      <th>106467</th>\n",
       "      <td>33789980299.0</td>\n",
       "      <td>2</td>\n",
       "      <td>210389.0</td>\n",
       "      <td>1.094693e+09</td>\n",
       "      <td>10246473.0</td>\n",
       "      <td>51950311.0</td>\n",
       "      <td>38012812.0</td>\n",
       "      <td>972344996.0</td>\n",
       "      <td>5315327.0</td>\n",
       "      <td>4250312.0</td>\n",
       "      <td>1.075140e+09</td>\n",
       "    </tr>\n",
       "    <tr>\n",
       "      <th>106468</th>\n",
       "      <td>33789996170.0</td>\n",
       "      <td>1</td>\n",
       "      <td>8810.0</td>\n",
       "      <td>7.146416e+08</td>\n",
       "      <td>7531269.0</td>\n",
       "      <td>14902538.0</td>\n",
       "      <td>26647843.0</td>\n",
       "      <td>660361359.0</td>\n",
       "      <td>1006915.0</td>\n",
       "      <td>300183.0</td>\n",
       "      <td>2.952828e+08</td>\n",
       "    </tr>\n",
       "    <tr>\n",
       "      <th>106469</th>\n",
       "      <td>33789997247.0</td>\n",
       "      <td>1</td>\n",
       "      <td>140988.0</td>\n",
       "      <td>4.803073e+08</td>\n",
       "      <td>5429705.0</td>\n",
       "      <td>8531060.0</td>\n",
       "      <td>19851572.0</td>\n",
       "      <td>437003292.0</td>\n",
       "      <td>2514097.0</td>\n",
       "      <td>498569.0</td>\n",
       "      <td>2.111151e+08</td>\n",
       "    </tr>\n",
       "    <tr>\n",
       "      <th>106470</th>\n",
       "      <td>882397108489451.0</td>\n",
       "      <td>1</td>\n",
       "      <td>869844.0</td>\n",
       "      <td>1.391536e+08</td>\n",
       "      <td>9218647.0</td>\n",
       "      <td>28846230.0</td>\n",
       "      <td>40940710.0</td>\n",
       "      <td>43070260.0</td>\n",
       "      <td>3330974.0</td>\n",
       "      <td>1546088.0</td>\n",
       "      <td>4.013605e+08</td>\n",
       "    </tr>\n",
       "  </tbody>\n",
       "</table>\n",
       "<p>106471 rows × 11 columns</p>\n",
       "</div>"
      ],
      "text/plain": [
       "            MSISDN/Number  Session Count  Dur. (s)  Total Data Transferred  \\\n",
       "0         3197020876596.0              1  877385.0            2.321240e+08   \n",
       "1           33601001722.0              1  116720.0            8.786906e+08   \n",
       "2           33601001754.0              1  181230.0            1.568596e+08   \n",
       "3           33601002511.0              1  134969.0            5.959665e+08   \n",
       "4           33601007832.0              1   49878.0            4.223207e+08   \n",
       "...                   ...            ...       ...                     ...   \n",
       "106466      33789967113.0              1  160461.0            2.081231e+08   \n",
       "106467      33789980299.0              2  210389.0            1.094693e+09   \n",
       "106468      33789996170.0              1    8810.0            7.146416e+08   \n",
       "106469      33789997247.0              1  140988.0            4.803073e+08   \n",
       "106470  882397108489451.0              1  869844.0            1.391536e+08   \n",
       "\n",
       "        Google Volume (Bytes)  Netflix Volume (Bytes)  Youtube Volume (Bytes)  \\\n",
       "0                  10438660.0              26592300.0              11959905.0   \n",
       "1                   4389005.0              27180981.0              21624548.0   \n",
       "2                   5334863.0              11221763.0              12432223.0   \n",
       "3                   3443126.0              19353900.0              21333570.0   \n",
       "4                   9678493.0               1942092.0               6977321.0   \n",
       "...                       ...                     ...                     ...   \n",
       "106466              9892882.0              30370302.0              28226479.0   \n",
       "106467             10246473.0              51950311.0              38012812.0   \n",
       "106468              7531269.0              14902538.0              26647843.0   \n",
       "106469              5429705.0               8531060.0              19851572.0   \n",
       "106470              9218647.0              28846230.0              40940710.0   \n",
       "\n",
       "        Gaming Volume (Bytes)  Email Volume (Bytes)  \\\n",
       "0                 178048738.0             1520771.0   \n",
       "1                 812458661.0             1331362.0   \n",
       "2                 119750078.0             3307781.0   \n",
       "3                 538827713.0             3205380.0   \n",
       "4                 391126127.0             2284670.0   \n",
       "...                       ...                   ...   \n",
       "106466            134815919.0             3396607.0   \n",
       "106467            972344996.0             5315327.0   \n",
       "106468            660361359.0             1006915.0   \n",
       "106469            437003292.0             2514097.0   \n",
       "106470             43070260.0             3330974.0   \n",
       "\n",
       "        Social Media Volume (Bytes)  Other Volume (Bytes)  \n",
       "0                          715224.0          4.705265e+08  \n",
       "1                         2232135.0          3.865709e+08  \n",
       "2                         2660565.0          2.817101e+08  \n",
       "3                         3195623.0          5.016937e+08  \n",
       "4                          280294.0          3.527970e+07  \n",
       "...                             ...                   ...  \n",
       "106466                    1413370.0          4.081072e+08  \n",
       "106467                    4250312.0          1.075140e+09  \n",
       "106468                     300183.0          2.952828e+08  \n",
       "106469                     498569.0          2.111151e+08  \n",
       "106470                    1546088.0          4.013605e+08  \n",
       "\n",
       "[106471 rows x 11 columns]"
      ]
     },
     "execution_count": 44,
     "metadata": {},
     "output_type": "execute_result"
    }
   ],
   "source": [
    "volume_per_user"
   ]
  },
  {
   "cell_type": "code",
   "execution_count": 45,
   "metadata": {},
   "outputs": [],
   "source": [
    "volume_per_user.to_csv(data_dir / \"volume_per_user.csv\", index=False)"
   ]
  },
  {
   "cell_type": "code",
   "execution_count": 46,
   "metadata": {},
   "outputs": [
    {
     "data": {
      "text/plain": [
       "(106471, 11)"
      ]
     },
     "execution_count": 46,
     "metadata": {},
     "output_type": "execute_result"
    }
   ],
   "source": [
    "volume_per_user.shape"
   ]
  },
  {
   "cell_type": "code",
   "execution_count": 47,
   "metadata": {},
   "outputs": [
    {
     "data": {
      "text/html": [
       "<div>\n",
       "<style scoped>\n",
       "    .dataframe tbody tr th:only-of-type {\n",
       "        vertical-align: middle;\n",
       "    }\n",
       "\n",
       "    .dataframe tbody tr th {\n",
       "        vertical-align: top;\n",
       "    }\n",
       "\n",
       "    .dataframe thead th {\n",
       "        text-align: right;\n",
       "    }\n",
       "</style>\n",
       "<table border=\"1\" class=\"dataframe\">\n",
       "  <thead>\n",
       "    <tr style=\"text-align: right;\">\n",
       "      <th></th>\n",
       "      <th>MSISDN/Number</th>\n",
       "      <th>Session Count</th>\n",
       "      <th>Dur. (s)</th>\n",
       "      <th>Total Data Transferred</th>\n",
       "      <th>Google Volume (Bytes)</th>\n",
       "      <th>Netflix Volume (Bytes)</th>\n",
       "      <th>Youtube Volume (Bytes)</th>\n",
       "      <th>Gaming Volume (Bytes)</th>\n",
       "      <th>Email Volume (Bytes)</th>\n",
       "      <th>Social Media Volume (Bytes)</th>\n",
       "      <th>Other Volume (Bytes)</th>\n",
       "    </tr>\n",
       "  </thead>\n",
       "  <tbody>\n",
       "    <tr>\n",
       "      <th>0</th>\n",
       "      <td>3197020876596.0</td>\n",
       "      <td>1</td>\n",
       "      <td>877385.0</td>\n",
       "      <td>232123971.0</td>\n",
       "      <td>10438660.0</td>\n",
       "      <td>26592300.0</td>\n",
       "      <td>11959905.0</td>\n",
       "      <td>178048738.0</td>\n",
       "      <td>1520771.0</td>\n",
       "      <td>715224.0</td>\n",
       "      <td>470526473.0</td>\n",
       "    </tr>\n",
       "    <tr>\n",
       "      <th>1</th>\n",
       "      <td>33601001722.0</td>\n",
       "      <td>1</td>\n",
       "      <td>116720.0</td>\n",
       "      <td>878690574.0</td>\n",
       "      <td>4389005.0</td>\n",
       "      <td>27180981.0</td>\n",
       "      <td>21624548.0</td>\n",
       "      <td>812458661.0</td>\n",
       "      <td>1331362.0</td>\n",
       "      <td>2232135.0</td>\n",
       "      <td>386570872.0</td>\n",
       "    </tr>\n",
       "    <tr>\n",
       "      <th>2</th>\n",
       "      <td>33601001754.0</td>\n",
       "      <td>1</td>\n",
       "      <td>181230.0</td>\n",
       "      <td>156859643.0</td>\n",
       "      <td>5334863.0</td>\n",
       "      <td>11221763.0</td>\n",
       "      <td>12432223.0</td>\n",
       "      <td>119750078.0</td>\n",
       "      <td>3307781.0</td>\n",
       "      <td>2660565.0</td>\n",
       "      <td>281710071.0</td>\n",
       "    </tr>\n",
       "    <tr>\n",
       "      <th>3</th>\n",
       "      <td>33601002511.0</td>\n",
       "      <td>1</td>\n",
       "      <td>134969.0</td>\n",
       "      <td>595966483.0</td>\n",
       "      <td>3443126.0</td>\n",
       "      <td>19353900.0</td>\n",
       "      <td>21333570.0</td>\n",
       "      <td>538827713.0</td>\n",
       "      <td>3205380.0</td>\n",
       "      <td>3195623.0</td>\n",
       "      <td>501693672.0</td>\n",
       "    </tr>\n",
       "    <tr>\n",
       "      <th>4</th>\n",
       "      <td>33601007832.0</td>\n",
       "      <td>1</td>\n",
       "      <td>49878.0</td>\n",
       "      <td>422320698.0</td>\n",
       "      <td>9678493.0</td>\n",
       "      <td>1942092.0</td>\n",
       "      <td>6977321.0</td>\n",
       "      <td>391126127.0</td>\n",
       "      <td>2284670.0</td>\n",
       "      <td>280294.0</td>\n",
       "      <td>35279702.0</td>\n",
       "    </tr>\n",
       "  </tbody>\n",
       "</table>\n",
       "</div>"
      ],
      "text/plain": [
       "     MSISDN/Number  Session Count  Dur. (s)  Total Data Transferred  \\\n",
       "0  3197020876596.0              1  877385.0             232123971.0   \n",
       "1    33601001722.0              1  116720.0             878690574.0   \n",
       "2    33601001754.0              1  181230.0             156859643.0   \n",
       "3    33601002511.0              1  134969.0             595966483.0   \n",
       "4    33601007832.0              1   49878.0             422320698.0   \n",
       "\n",
       "   Google Volume (Bytes)  Netflix Volume (Bytes)  Youtube Volume (Bytes)  \\\n",
       "0             10438660.0              26592300.0              11959905.0   \n",
       "1              4389005.0              27180981.0              21624548.0   \n",
       "2              5334863.0              11221763.0              12432223.0   \n",
       "3              3443126.0              19353900.0              21333570.0   \n",
       "4              9678493.0               1942092.0               6977321.0   \n",
       "\n",
       "   Gaming Volume (Bytes)  Email Volume (Bytes)  Social Media Volume (Bytes)  \\\n",
       "0            178048738.0             1520771.0                     715224.0   \n",
       "1            812458661.0             1331362.0                    2232135.0   \n",
       "2            119750078.0             3307781.0                    2660565.0   \n",
       "3            538827713.0             3205380.0                    3195623.0   \n",
       "4            391126127.0             2284670.0                     280294.0   \n",
       "\n",
       "   Other Volume (Bytes)  \n",
       "0           470526473.0  \n",
       "1           386570872.0  \n",
       "2           281710071.0  \n",
       "3           501693672.0  \n",
       "4            35279702.0  "
      ]
     },
     "execution_count": 47,
     "metadata": {},
     "output_type": "execute_result"
    }
   ],
   "source": [
    "volume_per_user.head()"
   ]
  },
  {
   "cell_type": "code",
   "execution_count": 48,
   "metadata": {},
   "outputs": [
    {
     "data": {
      "text/html": [
       "<div>\n",
       "<style scoped>\n",
       "    .dataframe tbody tr th:only-of-type {\n",
       "        vertical-align: middle;\n",
       "    }\n",
       "\n",
       "    .dataframe tbody tr th {\n",
       "        vertical-align: top;\n",
       "    }\n",
       "\n",
       "    .dataframe thead th {\n",
       "        text-align: right;\n",
       "    }\n",
       "</style>\n",
       "<table border=\"1\" class=\"dataframe\">\n",
       "  <thead>\n",
       "    <tr style=\"text-align: right;\">\n",
       "      <th></th>\n",
       "      <th>Session Count</th>\n",
       "      <th>Dur. (s)</th>\n",
       "      <th>Total Data Transferred</th>\n",
       "      <th>Google Volume (Bytes)</th>\n",
       "      <th>Netflix Volume (Bytes)</th>\n",
       "      <th>Youtube Volume (Bytes)</th>\n",
       "      <th>Gaming Volume (Bytes)</th>\n",
       "      <th>Email Volume (Bytes)</th>\n",
       "      <th>Social Media Volume (Bytes)</th>\n",
       "      <th>Other Volume (Bytes)</th>\n",
       "    </tr>\n",
       "  </thead>\n",
       "  <tbody>\n",
       "    <tr>\n",
       "      <th>count</th>\n",
       "      <td>106471.000000</td>\n",
       "      <td>1.064710e+05</td>\n",
       "      <td>1.064710e+05</td>\n",
       "      <td>1.064710e+05</td>\n",
       "      <td>1.064710e+05</td>\n",
       "      <td>1.064710e+05</td>\n",
       "      <td>1.064710e+05</td>\n",
       "      <td>1.064710e+05</td>\n",
       "      <td>1.064710e+05</td>\n",
       "      <td>1.064710e+05</td>\n",
       "    </tr>\n",
       "    <tr>\n",
       "      <th>mean</th>\n",
       "      <td>1.394802</td>\n",
       "      <td>1.465715e+05</td>\n",
       "      <td>6.915199e+08</td>\n",
       "      <td>1.089070e+07</td>\n",
       "      <td>3.156318e+07</td>\n",
       "      <td>3.158172e+07</td>\n",
       "      <td>6.002585e+08</td>\n",
       "      <td>3.151121e+06</td>\n",
       "      <td>2.549791e+06</td>\n",
       "      <td>5.989493e+08</td>\n",
       "    </tr>\n",
       "    <tr>\n",
       "      <th>std</th>\n",
       "      <td>0.806994</td>\n",
       "      <td>1.865627e+05</td>\n",
       "      <td>4.915267e+08</td>\n",
       "      <td>7.552384e+06</td>\n",
       "      <td>2.130939e+07</td>\n",
       "      <td>2.131551e+07</td>\n",
       "      <td>4.495611e+08</td>\n",
       "      <td>2.224563e+06</td>\n",
       "      <td>1.909685e+06</td>\n",
       "      <td>4.492890e+08</td>\n",
       "    </tr>\n",
       "    <tr>\n",
       "      <th>min</th>\n",
       "      <td>1.000000</td>\n",
       "      <td>7.142000e+03</td>\n",
       "      <td>3.324901e+07</td>\n",
       "      <td>4.033000e+04</td>\n",
       "      <td>1.845690e+05</td>\n",
       "      <td>7.890300e+04</td>\n",
       "      <td>3.063580e+05</td>\n",
       "      <td>1.817600e+04</td>\n",
       "      <td>1.563000e+03</td>\n",
       "      <td>1.490450e+05</td>\n",
       "    </tr>\n",
       "    <tr>\n",
       "      <th>25%</th>\n",
       "      <td>1.000000</td>\n",
       "      <td>7.239950e+04</td>\n",
       "      <td>3.587652e+08</td>\n",
       "      <td>5.945632e+06</td>\n",
       "      <td>1.857011e+07</td>\n",
       "      <td>1.863663e+07</td>\n",
       "      <td>2.882493e+08</td>\n",
       "      <td>1.675398e+06</td>\n",
       "      <td>1.211936e+06</td>\n",
       "      <td>2.858747e+08</td>\n",
       "    </tr>\n",
       "    <tr>\n",
       "      <th>50%</th>\n",
       "      <td>1.000000</td>\n",
       "      <td>1.031370e+05</td>\n",
       "      <td>6.183269e+08</td>\n",
       "      <td>9.592577e+06</td>\n",
       "      <td>2.673116e+07</td>\n",
       "      <td>2.681633e+07</td>\n",
       "      <td>5.426773e+08</td>\n",
       "      <td>2.801129e+06</td>\n",
       "      <td>2.305229e+06</td>\n",
       "      <td>5.401097e+08</td>\n",
       "    </tr>\n",
       "    <tr>\n",
       "      <th>75%</th>\n",
       "      <td>2.000000</td>\n",
       "      <td>1.727990e+05</td>\n",
       "      <td>8.578732e+08</td>\n",
       "      <td>1.322318e+07</td>\n",
       "      <td>3.800233e+07</td>\n",
       "      <td>3.795666e+07</td>\n",
       "      <td>7.777045e+08</td>\n",
       "      <td>3.848998e+06</td>\n",
       "      <td>3.309043e+06</td>\n",
       "      <td>7.756466e+08</td>\n",
       "    </tr>\n",
       "    <tr>\n",
       "      <th>max</th>\n",
       "      <td>18.000000</td>\n",
       "      <td>1.855375e+07</td>\n",
       "      <td>8.846226e+09</td>\n",
       "      <td>1.521919e+08</td>\n",
       "      <td>3.995191e+08</td>\n",
       "      <td>4.529588e+08</td>\n",
       "      <td>7.749432e+09</td>\n",
       "      <td>4.241878e+07</td>\n",
       "      <td>4.337478e+07</td>\n",
       "      <td>8.167878e+09</td>\n",
       "    </tr>\n",
       "  </tbody>\n",
       "</table>\n",
       "</div>"
      ],
      "text/plain": [
       "       Session Count      Dur. (s)  Total Data Transferred  \\\n",
       "count  106471.000000  1.064710e+05            1.064710e+05   \n",
       "mean        1.394802  1.465715e+05            6.915199e+08   \n",
       "std         0.806994  1.865627e+05            4.915267e+08   \n",
       "min         1.000000  7.142000e+03            3.324901e+07   \n",
       "25%         1.000000  7.239950e+04            3.587652e+08   \n",
       "50%         1.000000  1.031370e+05            6.183269e+08   \n",
       "75%         2.000000  1.727990e+05            8.578732e+08   \n",
       "max        18.000000  1.855375e+07            8.846226e+09   \n",
       "\n",
       "       Google Volume (Bytes)  Netflix Volume (Bytes)  Youtube Volume (Bytes)  \\\n",
       "count           1.064710e+05            1.064710e+05            1.064710e+05   \n",
       "mean            1.089070e+07            3.156318e+07            3.158172e+07   \n",
       "std             7.552384e+06            2.130939e+07            2.131551e+07   \n",
       "min             4.033000e+04            1.845690e+05            7.890300e+04   \n",
       "25%             5.945632e+06            1.857011e+07            1.863663e+07   \n",
       "50%             9.592577e+06            2.673116e+07            2.681633e+07   \n",
       "75%             1.322318e+07            3.800233e+07            3.795666e+07   \n",
       "max             1.521919e+08            3.995191e+08            4.529588e+08   \n",
       "\n",
       "       Gaming Volume (Bytes)  Email Volume (Bytes)  \\\n",
       "count           1.064710e+05          1.064710e+05   \n",
       "mean            6.002585e+08          3.151121e+06   \n",
       "std             4.495611e+08          2.224563e+06   \n",
       "min             3.063580e+05          1.817600e+04   \n",
       "25%             2.882493e+08          1.675398e+06   \n",
       "50%             5.426773e+08          2.801129e+06   \n",
       "75%             7.777045e+08          3.848998e+06   \n",
       "max             7.749432e+09          4.241878e+07   \n",
       "\n",
       "       Social Media Volume (Bytes)  Other Volume (Bytes)  \n",
       "count                 1.064710e+05          1.064710e+05  \n",
       "mean                  2.549791e+06          5.989493e+08  \n",
       "std                   1.909685e+06          4.492890e+08  \n",
       "min                   1.563000e+03          1.490450e+05  \n",
       "25%                   1.211936e+06          2.858747e+08  \n",
       "50%                   2.305229e+06          5.401097e+08  \n",
       "75%                   3.309043e+06          7.756466e+08  \n",
       "max                   4.337478e+07          8.167878e+09  "
      ]
     },
     "execution_count": 48,
     "metadata": {},
     "output_type": "execute_result"
    }
   ],
   "source": [
    "volume_per_user.describe()"
   ]
  },
  {
   "cell_type": "markdown",
   "metadata": {},
   "source": [
    "### Non graphical Univariate analysis\n",
    "---"
   ]
  },
  {
   "cell_type": "code",
   "execution_count": 49,
   "metadata": {},
   "outputs": [
    {
     "data": {
      "text/plain": [
       "['MSISDN/Number',\n",
       " 'Session Count',\n",
       " 'Dur. (s)',\n",
       " 'Total Data Transferred',\n",
       " 'Google Volume (Bytes)',\n",
       " 'Netflix Volume (Bytes)',\n",
       " 'Youtube Volume (Bytes)',\n",
       " 'Gaming Volume (Bytes)',\n",
       " 'Email Volume (Bytes)',\n",
       " 'Social Media Volume (Bytes)',\n",
       " 'Other Volume (Bytes)']"
      ]
     },
     "execution_count": 49,
     "metadata": {},
     "output_type": "execute_result"
    }
   ],
   "source": [
    "volume_per_user.columns.tolist()"
   ]
  },
  {
   "cell_type": "code",
   "execution_count": 50,
   "metadata": {},
   "outputs": [
    {
     "data": {
      "text/plain": [
       "count    106471.000000\n",
       "mean          1.394802\n",
       "std           0.806994\n",
       "min           1.000000\n",
       "25%           1.000000\n",
       "50%           1.000000\n",
       "75%           2.000000\n",
       "max          18.000000\n",
       "Name: Session Count, dtype: float64"
      ]
     },
     "execution_count": 50,
     "metadata": {},
     "output_type": "execute_result"
    }
   ],
   "source": [
    "volume_per_user[\"Session Count\"].describe()"
   ]
  },
  {
   "cell_type": "code",
   "execution_count": 51,
   "metadata": {},
   "outputs": [
    {
     "data": {
      "text/plain": [
       "count    1.064710e+05\n",
       "mean     1.465715e+05\n",
       "std      1.865627e+05\n",
       "min      7.142000e+03\n",
       "25%      7.239950e+04\n",
       "50%      1.031370e+05\n",
       "75%      1.727990e+05\n",
       "max      1.855375e+07\n",
       "Name: Dur. (s), dtype: float64"
      ]
     },
     "execution_count": 51,
     "metadata": {},
     "output_type": "execute_result"
    }
   ],
   "source": [
    "volume_per_user[\"Dur. (s)\"].describe()"
   ]
  },
  {
   "cell_type": "code",
   "execution_count": 52,
   "metadata": {},
   "outputs": [
    {
     "data": {
      "text/plain": [
       "count    1.064710e+05\n",
       "mean     6.915199e+08\n",
       "std      4.915267e+08\n",
       "min      3.324901e+07\n",
       "25%      3.587652e+08\n",
       "50%      6.183269e+08\n",
       "75%      8.578732e+08\n",
       "max      8.846226e+09\n",
       "Name: Total Data Transferred, dtype: float64"
      ]
     },
     "execution_count": 52,
     "metadata": {},
     "output_type": "execute_result"
    }
   ],
   "source": [
    "volume_per_user[\"Total Data Transferred\"].describe()"
   ]
  },
  {
   "cell_type": "code",
   "execution_count": 53,
   "metadata": {},
   "outputs": [
    {
     "data": {
      "text/plain": [
       "count    1.064710e+05\n",
       "mean     1.089070e+07\n",
       "std      7.552384e+06\n",
       "min      4.033000e+04\n",
       "25%      5.945632e+06\n",
       "50%      9.592577e+06\n",
       "75%      1.322318e+07\n",
       "max      1.521919e+08\n",
       "Name: Google Volume (Bytes), dtype: float64"
      ]
     },
     "execution_count": 53,
     "metadata": {},
     "output_type": "execute_result"
    }
   ],
   "source": [
    "volume_per_user[\"Google Volume (Bytes)\"].describe()"
   ]
  },
  {
   "cell_type": "code",
   "execution_count": 54,
   "metadata": {},
   "outputs": [
    {
     "data": {
      "text/plain": [
       "count    1.064710e+05\n",
       "mean     3.156318e+07\n",
       "std      2.130939e+07\n",
       "min      1.845690e+05\n",
       "25%      1.857011e+07\n",
       "50%      2.673116e+07\n",
       "75%      3.800233e+07\n",
       "max      3.995191e+08\n",
       "Name: Netflix Volume (Bytes), dtype: float64"
      ]
     },
     "execution_count": 54,
     "metadata": {},
     "output_type": "execute_result"
    }
   ],
   "source": [
    "volume_per_user[\"Netflix Volume (Bytes)\"].describe()"
   ]
  },
  {
   "cell_type": "code",
   "execution_count": 55,
   "metadata": {},
   "outputs": [
    {
     "data": {
      "text/plain": [
       "count    1.064710e+05\n",
       "mean     3.158172e+07\n",
       "std      2.131551e+07\n",
       "min      7.890300e+04\n",
       "25%      1.863663e+07\n",
       "50%      2.681633e+07\n",
       "75%      3.795666e+07\n",
       "max      4.529588e+08\n",
       "Name: Youtube Volume (Bytes), dtype: float64"
      ]
     },
     "execution_count": 55,
     "metadata": {},
     "output_type": "execute_result"
    }
   ],
   "source": [
    "volume_per_user[\"Youtube Volume (Bytes)\"].describe()"
   ]
  },
  {
   "cell_type": "code",
   "execution_count": 56,
   "metadata": {},
   "outputs": [
    {
     "data": {
      "text/plain": [
       "count    1.064710e+05\n",
       "mean     3.151121e+06\n",
       "std      2.224563e+06\n",
       "min      1.817600e+04\n",
       "25%      1.675398e+06\n",
       "50%      2.801129e+06\n",
       "75%      3.848998e+06\n",
       "max      4.241878e+07\n",
       "Name: Email Volume (Bytes), dtype: float64"
      ]
     },
     "execution_count": 56,
     "metadata": {},
     "output_type": "execute_result"
    }
   ],
   "source": [
    "volume_per_user[\"Email Volume (Bytes)\"].describe()"
   ]
  },
  {
   "cell_type": "code",
   "execution_count": 57,
   "metadata": {},
   "outputs": [
    {
     "data": {
      "text/plain": [
       "count    1.064710e+05\n",
       "mean     6.002585e+08\n",
       "std      4.495611e+08\n",
       "min      3.063580e+05\n",
       "25%      2.882493e+08\n",
       "50%      5.426773e+08\n",
       "75%      7.777045e+08\n",
       "max      7.749432e+09\n",
       "Name: Gaming Volume (Bytes), dtype: float64"
      ]
     },
     "execution_count": 57,
     "metadata": {},
     "output_type": "execute_result"
    }
   ],
   "source": [
    "volume_per_user[\"Gaming Volume (Bytes)\"].describe()"
   ]
  },
  {
   "cell_type": "code",
   "execution_count": 58,
   "metadata": {},
   "outputs": [
    {
     "data": {
      "text/plain": [
       "count    1.064710e+05\n",
       "mean     2.549791e+06\n",
       "std      1.909685e+06\n",
       "min      1.563000e+03\n",
       "25%      1.211936e+06\n",
       "50%      2.305229e+06\n",
       "75%      3.309043e+06\n",
       "max      4.337478e+07\n",
       "Name: Social Media Volume (Bytes), dtype: float64"
      ]
     },
     "execution_count": 58,
     "metadata": {},
     "output_type": "execute_result"
    }
   ],
   "source": [
    "volume_per_user[\"Social Media Volume (Bytes)\"].describe()"
   ]
  },
  {
   "cell_type": "code",
   "execution_count": 59,
   "metadata": {},
   "outputs": [
    {
     "data": {
      "text/plain": [
       "count    1.064710e+05\n",
       "mean     5.989493e+08\n",
       "std      4.492890e+08\n",
       "min      1.490450e+05\n",
       "25%      2.858747e+08\n",
       "50%      5.401097e+08\n",
       "75%      7.756466e+08\n",
       "max      8.167878e+09\n",
       "Name: Other Volume (Bytes), dtype: float64"
      ]
     },
     "execution_count": 59,
     "metadata": {},
     "output_type": "execute_result"
    }
   ],
   "source": [
    "volume_per_user[\"Other Volume (Bytes)\"].describe()"
   ]
  },
  {
   "cell_type": "code",
   "execution_count": 60,
   "metadata": {},
   "outputs": [],
   "source": [
    "# volume_per_user[\"Total Volume (Bytes)\"].describe()"
   ]
  },
  {
   "cell_type": "code",
   "execution_count": 61,
   "metadata": {},
   "outputs": [
    {
     "data": {
      "text/html": [
       "<div>\n",
       "<style scoped>\n",
       "    .dataframe tbody tr th:only-of-type {\n",
       "        vertical-align: middle;\n",
       "    }\n",
       "\n",
       "    .dataframe tbody tr th {\n",
       "        vertical-align: top;\n",
       "    }\n",
       "\n",
       "    .dataframe thead th {\n",
       "        text-align: right;\n",
       "    }\n",
       "</style>\n",
       "<table border=\"1\" class=\"dataframe\">\n",
       "  <thead>\n",
       "    <tr style=\"text-align: right;\">\n",
       "      <th></th>\n",
       "      <th>Session Count</th>\n",
       "      <th>Dur. (s)</th>\n",
       "      <th>Total Data Transferred</th>\n",
       "      <th>Google Volume (Bytes)</th>\n",
       "      <th>Netflix Volume (Bytes)</th>\n",
       "      <th>Youtube Volume (Bytes)</th>\n",
       "      <th>Gaming Volume (Bytes)</th>\n",
       "      <th>Email Volume (Bytes)</th>\n",
       "      <th>Social Media Volume (Bytes)</th>\n",
       "      <th>Other Volume (Bytes)</th>\n",
       "    </tr>\n",
       "  </thead>\n",
       "  <tbody>\n",
       "    <tr>\n",
       "      <th>count</th>\n",
       "      <td>106471.000000</td>\n",
       "      <td>1.064710e+05</td>\n",
       "      <td>1.064710e+05</td>\n",
       "      <td>1.064710e+05</td>\n",
       "      <td>1.064710e+05</td>\n",
       "      <td>1.064710e+05</td>\n",
       "      <td>1.064710e+05</td>\n",
       "      <td>1.064710e+05</td>\n",
       "      <td>1.064710e+05</td>\n",
       "      <td>1.064710e+05</td>\n",
       "    </tr>\n",
       "    <tr>\n",
       "      <th>mean</th>\n",
       "      <td>1.394802</td>\n",
       "      <td>1.465715e+05</td>\n",
       "      <td>6.915199e+08</td>\n",
       "      <td>1.089070e+07</td>\n",
       "      <td>3.156318e+07</td>\n",
       "      <td>3.158172e+07</td>\n",
       "      <td>6.002585e+08</td>\n",
       "      <td>3.151121e+06</td>\n",
       "      <td>2.549791e+06</td>\n",
       "      <td>5.989493e+08</td>\n",
       "    </tr>\n",
       "    <tr>\n",
       "      <th>std</th>\n",
       "      <td>0.806994</td>\n",
       "      <td>1.865627e+05</td>\n",
       "      <td>4.915267e+08</td>\n",
       "      <td>7.552384e+06</td>\n",
       "      <td>2.130939e+07</td>\n",
       "      <td>2.131551e+07</td>\n",
       "      <td>4.495611e+08</td>\n",
       "      <td>2.224563e+06</td>\n",
       "      <td>1.909685e+06</td>\n",
       "      <td>4.492890e+08</td>\n",
       "    </tr>\n",
       "    <tr>\n",
       "      <th>min</th>\n",
       "      <td>1.000000</td>\n",
       "      <td>7.142000e+03</td>\n",
       "      <td>3.324901e+07</td>\n",
       "      <td>4.033000e+04</td>\n",
       "      <td>1.845690e+05</td>\n",
       "      <td>7.890300e+04</td>\n",
       "      <td>3.063580e+05</td>\n",
       "      <td>1.817600e+04</td>\n",
       "      <td>1.563000e+03</td>\n",
       "      <td>1.490450e+05</td>\n",
       "    </tr>\n",
       "    <tr>\n",
       "      <th>25%</th>\n",
       "      <td>1.000000</td>\n",
       "      <td>7.239950e+04</td>\n",
       "      <td>3.587652e+08</td>\n",
       "      <td>5.945632e+06</td>\n",
       "      <td>1.857011e+07</td>\n",
       "      <td>1.863663e+07</td>\n",
       "      <td>2.882493e+08</td>\n",
       "      <td>1.675398e+06</td>\n",
       "      <td>1.211936e+06</td>\n",
       "      <td>2.858747e+08</td>\n",
       "    </tr>\n",
       "    <tr>\n",
       "      <th>50%</th>\n",
       "      <td>1.000000</td>\n",
       "      <td>1.031370e+05</td>\n",
       "      <td>6.183269e+08</td>\n",
       "      <td>9.592577e+06</td>\n",
       "      <td>2.673116e+07</td>\n",
       "      <td>2.681633e+07</td>\n",
       "      <td>5.426773e+08</td>\n",
       "      <td>2.801129e+06</td>\n",
       "      <td>2.305229e+06</td>\n",
       "      <td>5.401097e+08</td>\n",
       "    </tr>\n",
       "    <tr>\n",
       "      <th>75%</th>\n",
       "      <td>2.000000</td>\n",
       "      <td>1.727990e+05</td>\n",
       "      <td>8.578732e+08</td>\n",
       "      <td>1.322318e+07</td>\n",
       "      <td>3.800233e+07</td>\n",
       "      <td>3.795666e+07</td>\n",
       "      <td>7.777045e+08</td>\n",
       "      <td>3.848998e+06</td>\n",
       "      <td>3.309043e+06</td>\n",
       "      <td>7.756466e+08</td>\n",
       "    </tr>\n",
       "    <tr>\n",
       "      <th>max</th>\n",
       "      <td>18.000000</td>\n",
       "      <td>1.855375e+07</td>\n",
       "      <td>8.846226e+09</td>\n",
       "      <td>1.521919e+08</td>\n",
       "      <td>3.995191e+08</td>\n",
       "      <td>4.529588e+08</td>\n",
       "      <td>7.749432e+09</td>\n",
       "      <td>4.241878e+07</td>\n",
       "      <td>4.337478e+07</td>\n",
       "      <td>8.167878e+09</td>\n",
       "    </tr>\n",
       "  </tbody>\n",
       "</table>\n",
       "</div>"
      ],
      "text/plain": [
       "       Session Count      Dur. (s)  Total Data Transferred  \\\n",
       "count  106471.000000  1.064710e+05            1.064710e+05   \n",
       "mean        1.394802  1.465715e+05            6.915199e+08   \n",
       "std         0.806994  1.865627e+05            4.915267e+08   \n",
       "min         1.000000  7.142000e+03            3.324901e+07   \n",
       "25%         1.000000  7.239950e+04            3.587652e+08   \n",
       "50%         1.000000  1.031370e+05            6.183269e+08   \n",
       "75%         2.000000  1.727990e+05            8.578732e+08   \n",
       "max        18.000000  1.855375e+07            8.846226e+09   \n",
       "\n",
       "       Google Volume (Bytes)  Netflix Volume (Bytes)  Youtube Volume (Bytes)  \\\n",
       "count           1.064710e+05            1.064710e+05            1.064710e+05   \n",
       "mean            1.089070e+07            3.156318e+07            3.158172e+07   \n",
       "std             7.552384e+06            2.130939e+07            2.131551e+07   \n",
       "min             4.033000e+04            1.845690e+05            7.890300e+04   \n",
       "25%             5.945632e+06            1.857011e+07            1.863663e+07   \n",
       "50%             9.592577e+06            2.673116e+07            2.681633e+07   \n",
       "75%             1.322318e+07            3.800233e+07            3.795666e+07   \n",
       "max             1.521919e+08            3.995191e+08            4.529588e+08   \n",
       "\n",
       "       Gaming Volume (Bytes)  Email Volume (Bytes)  \\\n",
       "count           1.064710e+05          1.064710e+05   \n",
       "mean            6.002585e+08          3.151121e+06   \n",
       "std             4.495611e+08          2.224563e+06   \n",
       "min             3.063580e+05          1.817600e+04   \n",
       "25%             2.882493e+08          1.675398e+06   \n",
       "50%             5.426773e+08          2.801129e+06   \n",
       "75%             7.777045e+08          3.848998e+06   \n",
       "max             7.749432e+09          4.241878e+07   \n",
       "\n",
       "       Social Media Volume (Bytes)  Other Volume (Bytes)  \n",
       "count                 1.064710e+05          1.064710e+05  \n",
       "mean                  2.549791e+06          5.989493e+08  \n",
       "std                   1.909685e+06          4.492890e+08  \n",
       "min                   1.563000e+03          1.490450e+05  \n",
       "25%                   1.211936e+06          2.858747e+08  \n",
       "50%                   2.305229e+06          5.401097e+08  \n",
       "75%                   3.309043e+06          7.756466e+08  \n",
       "max                   4.337478e+07          8.167878e+09  "
      ]
     },
     "execution_count": 61,
     "metadata": {},
     "output_type": "execute_result"
    }
   ],
   "source": [
    "volume_per_user.describe()"
   ]
  },
  {
   "cell_type": "markdown",
   "metadata": {},
   "source": [
    "### Graphical Univariate analysis\n",
    "---"
   ]
  },
  {
   "cell_type": "code",
   "execution_count": 62,
   "metadata": {},
   "outputs": [
    {
     "data": {
      "text/plain": [
       "<AxesSubplot:>"
      ]
     },
     "execution_count": 62,
     "metadata": {},
     "output_type": "execute_result"
    },
    {
     "data": {
      "image/png": "[encoded data removed]",
      "text/plain": [
       "<Figure size 1440x720 with 1 Axes>"
      ]
     },
     "metadata": {},
     "output_type": "display_data"
    }
   ],
   "source": [
    "volume_per_user[\"Session Count\"].hist(bins=20, figsize=(20, 10))"
   ]
  },
  {
   "cell_type": "code",
   "execution_count": 63,
   "metadata": {},
   "outputs": [
    {
     "data": {
      "text/plain": [
       "<AxesSubplot:>"
      ]
     },
     "execution_count": 63,
     "metadata": {},
     "output_type": "execute_result"
    },
    {
     "data": {
      "image/png": "[encoded data removed]",
      "text/plain": [
       "<Figure size 1440x720 with 1 Axes>"
      ]
     },
     "metadata": {},
     "output_type": "display_data"
    }
   ],
   "source": [
    "volume_per_user[\"Dur. (s)\"].hist(bins=20, figsize=(20, 10))"
   ]
  },
  {
   "cell_type": "code",
   "execution_count": 64,
   "metadata": {},
   "outputs": [
    {
     "data": {
      "text/plain": [
       "<AxesSubplot:>"
      ]
     },
     "execution_count": 64,
     "metadata": {},
     "output_type": "execute_result"
    },
    {
     "data": {
      "image/png": "[encoded data removed]",
      "text/plain": [
       "<Figure size 1440x720 with 1 Axes>"
      ]
     },
     "metadata": {},
     "output_type": "display_data"
    }
   ],
   "source": [
    "volume_per_user[\"Total Data Transferred\"].hist(bins=20, figsize=(20, 10))"
   ]
  },
  {
   "cell_type": "code",
   "execution_count": 65,
   "metadata": {},
   "outputs": [
    {
     "data": {
      "text/plain": [
       "<AxesSubplot:>"
      ]
     },
     "execution_count": 65,
     "metadata": {},
     "output_type": "execute_result"
    },
    {
     "data": {
      "image/png": "[encoded data removed]",
      "text/plain": [
       "<Figure size 1440x720 with 1 Axes>"
      ]
     },
     "metadata": {},
     "output_type": "display_data"
    }
   ],
   "source": [
    "volume_per_user[\"Google Volume (Bytes)\"].hist(bins=20, figsize=(20, 10))"
   ]
  },
  {
   "cell_type": "code",
   "execution_count": 66,
   "metadata": {},
   "outputs": [
    {
     "data": {
      "text/plain": [
       "<AxesSubplot:>"
      ]
     },
     "execution_count": 66,
     "metadata": {},
     "output_type": "execute_result"
    },
    {
     "data": {
      "image/png": "[encoded data removed]",
      "text/plain": [
       "<Figure size 1440x720 with 1 Axes>"
      ]
     },
     "metadata": {},
     "output_type": "display_data"
    }
   ],
   "source": [
    "volume_per_user[\"Netflix Volume (Bytes)\"].hist(bins=20, figsize=(20, 10))"
   ]
  },
  {
   "cell_type": "code",
   "execution_count": 67,
   "metadata": {},
   "outputs": [
    {
     "data": {
      "text/plain": [
       "<AxesSubplot:>"
      ]
     },
     "execution_count": 67,
     "metadata": {},
     "output_type": "execute_result"
    },
    {
     "data": {
      "image/png": "[encoded data removed]",
      "text/plain": [
       "<Figure size 1440x720 with 1 Axes>"
      ]
     },
     "metadata": {},
     "output_type": "display_data"
    }
   ],
   "source": [
    "volume_per_user[\"Youtube Volume (Bytes)\"].hist(bins=20, figsize=(20, 10))"
   ]
  },
  {
   "cell_type": "code",
   "execution_count": 68,
   "metadata": {},
   "outputs": [
    {
     "data": {
      "text/plain": [
       "<AxesSubplot:>"
      ]
     },
     "execution_count": 68,
     "metadata": {},
     "output_type": "execute_result"
    },
    {
     "data": {
      "image/png": "[encoded data removed]",
      "text/plain": [
       "<Figure size 1440x720 with 1 Axes>"
      ]
     },
     "metadata": {},
     "output_type": "display_data"
    }
   ],
   "source": [
    "volume_per_user[\"Email Volume (Bytes)\"].hist(bins=20, figsize=(20, 10))"
   ]
  },
  {
   "cell_type": "code",
   "execution_count": 69,
   "metadata": {},
   "outputs": [
    {
     "data": {
      "text/plain": [
       "<AxesSubplot:>"
      ]
     },
     "execution_count": 69,
     "metadata": {},
     "output_type": "execute_result"
    },
    {
     "data": {
      "image/png": "[encoded data removed]",
      "text/plain": [
       "<Figure size 1440x720 with 1 Axes>"
      ]
     },
     "metadata": {},
     "output_type": "display_data"
    }
   ],
   "source": [
    "volume_per_user[\"Gaming Volume (Bytes)\"].hist(bins=20, figsize=(20, 10))"
   ]
  },
  {
   "cell_type": "code",
   "execution_count": 70,
   "metadata": {},
   "outputs": [
    {
     "data": {
      "text/plain": [
       "<AxesSubplot:>"
      ]
     },
     "execution_count": 70,
     "metadata": {},
     "output_type": "execute_result"
    },
    {
     "data": {
      "image/png": "[encoded data removed]",
      "text/plain": [
       "<Figure size 1440x720 with 1 Axes>"
      ]
     },
     "metadata": {},
     "output_type": "display_data"
    }
   ],
   "source": [
    "volume_per_user[\"Social Media Volume (Bytes)\"].hist(bins=20, figsize=(20, 10))"
   ]
  },
  {
   "cell_type": "code",
   "execution_count": 71,
   "metadata": {},
   "outputs": [
    {
     "data": {
      "text/plain": [
       "<AxesSubplot:>"
      ]
     },
     "execution_count": 71,
     "metadata": {},
     "output_type": "execute_result"
    },
    {
     "data": {
      "image/png": "[encoded data removed]",
      "text/plain": [
       "<Figure size 1440x720 with 1 Axes>"
      ]
     },
     "metadata": {},
     "output_type": "display_data"
    }
   ],
   "source": [
    "volume_per_user[\"Other Volume (Bytes)\"].hist(bins=20, figsize=(20, 10))"
   ]
  },
  {
   "cell_type": "code",
   "execution_count": 72,
   "metadata": {},
   "outputs": [
    {
     "data": {
      "text/plain": [
       "array([[<AxesSubplot:title={'center':'Session Count'}>,\n",
       "        <AxesSubplot:title={'center':'Dur. (s)'}>,\n",
       "        <AxesSubplot:title={'center':'Total Data Transferred'}>],\n",
       "       [<AxesSubplot:title={'center':'Google Volume (Bytes)'}>,\n",
       "        <AxesSubplot:title={'center':'Netflix Volume (Bytes)'}>,\n",
       "        <AxesSubplot:title={'center':'Youtube Volume (Bytes)'}>],\n",
       "       [<AxesSubplot:title={'center':'Gaming Volume (Bytes)'}>,\n",
       "        <AxesSubplot:title={'center':'Email Volume (Bytes)'}>,\n",
       "        <AxesSubplot:title={'center':'Social Media Volume (Bytes)'}>],\n",
       "       [<AxesSubplot:title={'center':'Other Volume (Bytes)'}>,\n",
       "        <AxesSubplot:>, <AxesSubplot:>]], dtype=object)"
      ]
     },
     "execution_count": 72,
     "metadata": {},
     "output_type": "execute_result"
    },
    {
     "data": {
      "image/png": "[encoded data removed]",
      "text/plain": [
       "<Figure size 1440x1440 with 12 Axes>"
      ]
     },
     "metadata": {},
     "output_type": "display_data"
    }
   ],
   "source": [
    "volume_per_user.hist(bins=20, figsize=(20, 20))"
   ]
  },
  {
   "cell_type": "code",
   "execution_count": 73,
   "metadata": {},
   "outputs": [
    {
     "data": {
      "text/plain": [
       "<AxesSubplot:>"
      ]
     },
     "execution_count": 73,
     "metadata": {},
     "output_type": "execute_result"
    },
    {
     "data": {
      "image/png": "[encoded data removed]",
      "text/plain": [
       "<Figure size 1440x720 with 1 Axes>"
      ]
     },
     "metadata": {},
     "output_type": "display_data"
    }
   ],
   "source": [
    "volume_per_user.boxplot(column=[\"Session Count\"], figsize=(20, 10))"
   ]
  },
  {
   "cell_type": "markdown",
   "metadata": {},
   "source": [
    "### Bivariate analysis\n",
    "---"
   ]
  },
  {
   "cell_type": "code",
   "execution_count": 74,
   "metadata": {},
   "outputs": [
    {
     "data": {
      "text/html": [
       "<div>\n",
       "<style scoped>\n",
       "    .dataframe tbody tr th:only-of-type {\n",
       "        vertical-align: middle;\n",
       "    }\n",
       "\n",
       "    .dataframe tbody tr th {\n",
       "        vertical-align: top;\n",
       "    }\n",
       "\n",
       "    .dataframe thead th {\n",
       "        text-align: right;\n",
       "    }\n",
       "</style>\n",
       "<table border=\"1\" class=\"dataframe\">\n",
       "  <thead>\n",
       "    <tr style=\"text-align: right;\">\n",
       "      <th></th>\n",
       "      <th>Session Count</th>\n",
       "      <th>Dur. (s)</th>\n",
       "      <th>Total Data Transferred</th>\n",
       "      <th>Google Volume (Bytes)</th>\n",
       "      <th>Netflix Volume (Bytes)</th>\n",
       "      <th>Youtube Volume (Bytes)</th>\n",
       "      <th>Gaming Volume (Bytes)</th>\n",
       "      <th>Email Volume (Bytes)</th>\n",
       "      <th>Social Media Volume (Bytes)</th>\n",
       "      <th>Other Volume (Bytes)</th>\n",
       "    </tr>\n",
       "  </thead>\n",
       "  <tbody>\n",
       "    <tr>\n",
       "      <th>Session Count</th>\n",
       "      <td>1.000000</td>\n",
       "      <td>0.635745</td>\n",
       "      <td>0.808832</td>\n",
       "      <td>0.837265</td>\n",
       "      <td>0.858160</td>\n",
       "      <td>0.858583</td>\n",
       "      <td>0.766758</td>\n",
       "      <td>0.821877</td>\n",
       "      <td>0.768767</td>\n",
       "      <td>0.768540</td>\n",
       "    </tr>\n",
       "    <tr>\n",
       "      <th>Dur. (s)</th>\n",
       "      <td>0.635745</td>\n",
       "      <td>1.000000</td>\n",
       "      <td>0.516191</td>\n",
       "      <td>0.533923</td>\n",
       "      <td>0.540650</td>\n",
       "      <td>0.551889</td>\n",
       "      <td>0.489468</td>\n",
       "      <td>0.527374</td>\n",
       "      <td>0.488301</td>\n",
       "      <td>0.486661</td>\n",
       "    </tr>\n",
       "    <tr>\n",
       "      <th>Total Data Transferred</th>\n",
       "      <td>0.808832</td>\n",
       "      <td>0.516191</td>\n",
       "      <td>1.000000</td>\n",
       "      <td>0.682134</td>\n",
       "      <td>0.705300</td>\n",
       "      <td>0.705372</td>\n",
       "      <td>0.997002</td>\n",
       "      <td>0.664134</td>\n",
       "      <td>0.624422</td>\n",
       "      <td>0.619392</td>\n",
       "    </tr>\n",
       "    <tr>\n",
       "      <th>Google Volume (Bytes)</th>\n",
       "      <td>0.837265</td>\n",
       "      <td>0.533923</td>\n",
       "      <td>0.682134</td>\n",
       "      <td>1.000000</td>\n",
       "      <td>0.716565</td>\n",
       "      <td>0.718962</td>\n",
       "      <td>0.642442</td>\n",
       "      <td>0.688822</td>\n",
       "      <td>0.643505</td>\n",
       "      <td>0.643191</td>\n",
       "    </tr>\n",
       "    <tr>\n",
       "      <th>Netflix Volume (Bytes)</th>\n",
       "      <td>0.858160</td>\n",
       "      <td>0.540650</td>\n",
       "      <td>0.705300</td>\n",
       "      <td>0.716565</td>\n",
       "      <td>1.000000</td>\n",
       "      <td>0.738730</td>\n",
       "      <td>0.657669</td>\n",
       "      <td>0.705898</td>\n",
       "      <td>0.660356</td>\n",
       "      <td>0.656256</td>\n",
       "    </tr>\n",
       "    <tr>\n",
       "      <th>Youtube Volume (Bytes)</th>\n",
       "      <td>0.858583</td>\n",
       "      <td>0.551889</td>\n",
       "      <td>0.705372</td>\n",
       "      <td>0.718962</td>\n",
       "      <td>0.738730</td>\n",
       "      <td>1.000000</td>\n",
       "      <td>0.657735</td>\n",
       "      <td>0.705034</td>\n",
       "      <td>0.659871</td>\n",
       "      <td>0.660772</td>\n",
       "    </tr>\n",
       "    <tr>\n",
       "      <th>Gaming Volume (Bytes)</th>\n",
       "      <td>0.766758</td>\n",
       "      <td>0.489468</td>\n",
       "      <td>0.997002</td>\n",
       "      <td>0.642442</td>\n",
       "      <td>0.657669</td>\n",
       "      <td>0.657735</td>\n",
       "      <td>1.000000</td>\n",
       "      <td>0.627846</td>\n",
       "      <td>0.590531</td>\n",
       "      <td>0.586746</td>\n",
       "    </tr>\n",
       "    <tr>\n",
       "      <th>Email Volume (Bytes)</th>\n",
       "      <td>0.821877</td>\n",
       "      <td>0.527374</td>\n",
       "      <td>0.664134</td>\n",
       "      <td>0.688822</td>\n",
       "      <td>0.705898</td>\n",
       "      <td>0.705034</td>\n",
       "      <td>0.627846</td>\n",
       "      <td>1.000000</td>\n",
       "      <td>0.634498</td>\n",
       "      <td>0.631448</td>\n",
       "    </tr>\n",
       "    <tr>\n",
       "      <th>Social Media Volume (Bytes)</th>\n",
       "      <td>0.768767</td>\n",
       "      <td>0.488301</td>\n",
       "      <td>0.624422</td>\n",
       "      <td>0.643505</td>\n",
       "      <td>0.660356</td>\n",
       "      <td>0.659871</td>\n",
       "      <td>0.590531</td>\n",
       "      <td>0.634498</td>\n",
       "      <td>1.000000</td>\n",
       "      <td>0.592088</td>\n",
       "    </tr>\n",
       "    <tr>\n",
       "      <th>Other Volume (Bytes)</th>\n",
       "      <td>0.768540</td>\n",
       "      <td>0.486661</td>\n",
       "      <td>0.619392</td>\n",
       "      <td>0.643191</td>\n",
       "      <td>0.656256</td>\n",
       "      <td>0.660772</td>\n",
       "      <td>0.586746</td>\n",
       "      <td>0.631448</td>\n",
       "      <td>0.592088</td>\n",
       "      <td>1.000000</td>\n",
       "    </tr>\n",
       "  </tbody>\n",
       "</table>\n",
       "</div>"
      ],
      "text/plain": [
       "                             Session Count  Dur. (s)  Total Data Transferred  \\\n",
       "Session Count                     1.000000  0.635745                0.808832   \n",
       "Dur. (s)                          0.635745  1.000000                0.516191   \n",
       "Total Data Transferred            0.808832  0.516191                1.000000   \n",
       "Google Volume (Bytes)             0.837265  0.533923                0.682134   \n",
       "Netflix Volume (Bytes)            0.858160  0.540650                0.705300   \n",
       "Youtube Volume (Bytes)            0.858583  0.551889                0.705372   \n",
       "Gaming Volume (Bytes)             0.766758  0.489468                0.997002   \n",
       "Email Volume (Bytes)              0.821877  0.527374                0.664134   \n",
       "Social Media Volume (Bytes)       0.768767  0.488301                0.624422   \n",
       "Other Volume (Bytes)              0.768540  0.486661                0.619392   \n",
       "\n",
       "                             Google Volume (Bytes)  Netflix Volume (Bytes)  \\\n",
       "Session Count                             0.837265                0.858160   \n",
       "Dur. (s)                                  0.533923                0.540650   \n",
       "Total Data Transferred                    0.682134                0.705300   \n",
       "Google Volume (Bytes)                     1.000000                0.716565   \n",
       "Netflix Volume (Bytes)                    0.716565                1.000000   \n",
       "Youtube Volume (Bytes)                    0.718962                0.738730   \n",
       "Gaming Volume (Bytes)                     0.642442                0.657669   \n",
       "Email Volume (Bytes)                      0.688822                0.705898   \n",
       "Social Media Volume (Bytes)               0.643505                0.660356   \n",
       "Other Volume (Bytes)                      0.643191                0.656256   \n",
       "\n",
       "                             Youtube Volume (Bytes)  Gaming Volume (Bytes)  \\\n",
       "Session Count                              0.858583               0.766758   \n",
       "Dur. (s)                                   0.551889               0.489468   \n",
       "Total Data Transferred                     0.705372               0.997002   \n",
       "Google Volume (Bytes)                      0.718962               0.642442   \n",
       "Netflix Volume (Bytes)                     0.738730               0.657669   \n",
       "Youtube Volume (Bytes)                     1.000000               0.657735   \n",
       "Gaming Volume (Bytes)                      0.657735               1.000000   \n",
       "Email Volume (Bytes)                       0.705034               0.627846   \n",
       "Social Media Volume (Bytes)                0.659871               0.590531   \n",
       "Other Volume (Bytes)                       0.660772               0.586746   \n",
       "\n",
       "                             Email Volume (Bytes)  \\\n",
       "Session Count                            0.821877   \n",
       "Dur. (s)                                 0.527374   \n",
       "Total Data Transferred                   0.664134   \n",
       "Google Volume (Bytes)                    0.688822   \n",
       "Netflix Volume (Bytes)                   0.705898   \n",
       "Youtube Volume (Bytes)                   0.705034   \n",
       "Gaming Volume (Bytes)                    0.627846   \n",
       "Email Volume (Bytes)                     1.000000   \n",
       "Social Media Volume (Bytes)              0.634498   \n",
       "Other Volume (Bytes)                     0.631448   \n",
       "\n",
       "                             Social Media Volume (Bytes)  Other Volume (Bytes)  \n",
       "Session Count                                   0.768767              0.768540  \n",
       "Dur. (s)                                        0.488301              0.486661  \n",
       "Total Data Transferred                          0.624422              0.619392  \n",
       "Google Volume (Bytes)                           0.643505              0.643191  \n",
       "Netflix Volume (Bytes)                          0.660356              0.656256  \n",
       "Youtube Volume (Bytes)                          0.659871              0.660772  \n",
       "Gaming Volume (Bytes)                           0.590531              0.586746  \n",
       "Email Volume (Bytes)                            0.634498              0.631448  \n",
       "Social Media Volume (Bytes)                     1.000000              0.592088  \n",
       "Other Volume (Bytes)                            0.592088              1.000000  "
      ]
     },
     "execution_count": 74,
     "metadata": {},
     "output_type": "execute_result"
    }
   ],
   "source": [
    "volume_per_user.corr()"
   ]
  },
  {
   "cell_type": "code",
   "execution_count": 75,
   "metadata": {},
   "outputs": [
    {
     "data": {
      "image/png": "[encoded data removed]",
      "text/plain": [
       "<Figure size 1440x1440 with 2 Axes>"
      ]
     },
     "metadata": {},
     "output_type": "display_data"
    }
   ],
   "source": [
    "fig, ax = plt.subplots(figsize=(20, 20))\n",
    "ax = sns.heatmap(volume_per_user.corr(), cmap=\"Blues\", square=True)"
   ]
  },
  {
   "cell_type": "code",
   "execution_count": 76,
   "metadata": {},
   "outputs": [
    {
     "data": {
      "image/png": "[encoded data removed]",
      "text/plain": [
       "<Figure size 1440x720 with 1 Axes>"
      ]
     },
     "metadata": {},
     "output_type": "display_data"
    }
   ],
   "source": [
    "fig, ax = plt.subplots(figsize=(20, 10))\n",
    "ax = sns.scatterplot(x= volume_per_user[\"Gaming Volume (Bytes)\"], y= volume_per_user[\"Total Data Transferred\"])"
   ]
  },
  {
   "cell_type": "code",
   "execution_count": 77,
   "metadata": {},
   "outputs": [],
   "source": [
    "bivariate = volume_per_user.drop(columns=[\"MSISDN/Number\", \"Session Count\", \"Dur. (s)\"])"
   ]
  },
  {
   "cell_type": "code",
   "execution_count": 78,
   "metadata": {},
   "outputs": [
    {
     "data": {
      "text/html": [
       "<div>\n",
       "<style scoped>\n",
       "    .dataframe tbody tr th:only-of-type {\n",
       "        vertical-align: middle;\n",
       "    }\n",
       "\n",
       "    .dataframe tbody tr th {\n",
       "        vertical-align: top;\n",
       "    }\n",
       "\n",
       "    .dataframe thead th {\n",
       "        text-align: right;\n",
       "    }\n",
       "</style>\n",
       "<table border=\"1\" class=\"dataframe\">\n",
       "  <thead>\n",
       "    <tr style=\"text-align: right;\">\n",
       "      <th></th>\n",
       "      <th>Total Data Transferred</th>\n",
       "      <th>Google Volume (Bytes)</th>\n",
       "      <th>Netflix Volume (Bytes)</th>\n",
       "      <th>Youtube Volume (Bytes)</th>\n",
       "      <th>Gaming Volume (Bytes)</th>\n",
       "      <th>Email Volume (Bytes)</th>\n",
       "      <th>Social Media Volume (Bytes)</th>\n",
       "      <th>Other Volume (Bytes)</th>\n",
       "    </tr>\n",
       "  </thead>\n",
       "  <tbody>\n",
       "    <tr>\n",
       "      <th>0</th>\n",
       "      <td>232123971.0</td>\n",
       "      <td>10438660.0</td>\n",
       "      <td>26592300.0</td>\n",
       "      <td>11959905.0</td>\n",
       "      <td>178048738.0</td>\n",
       "      <td>1520771.0</td>\n",
       "      <td>715224.0</td>\n",
       "      <td>470526473.0</td>\n",
       "    </tr>\n",
       "    <tr>\n",
       "      <th>1</th>\n",
       "      <td>878690574.0</td>\n",
       "      <td>4389005.0</td>\n",
       "      <td>27180981.0</td>\n",
       "      <td>21624548.0</td>\n",
       "      <td>812458661.0</td>\n",
       "      <td>1331362.0</td>\n",
       "      <td>2232135.0</td>\n",
       "      <td>386570872.0</td>\n",
       "    </tr>\n",
       "    <tr>\n",
       "      <th>2</th>\n",
       "      <td>156859643.0</td>\n",
       "      <td>5334863.0</td>\n",
       "      <td>11221763.0</td>\n",
       "      <td>12432223.0</td>\n",
       "      <td>119750078.0</td>\n",
       "      <td>3307781.0</td>\n",
       "      <td>2660565.0</td>\n",
       "      <td>281710071.0</td>\n",
       "    </tr>\n",
       "    <tr>\n",
       "      <th>3</th>\n",
       "      <td>595966483.0</td>\n",
       "      <td>3443126.0</td>\n",
       "      <td>19353900.0</td>\n",
       "      <td>21333570.0</td>\n",
       "      <td>538827713.0</td>\n",
       "      <td>3205380.0</td>\n",
       "      <td>3195623.0</td>\n",
       "      <td>501693672.0</td>\n",
       "    </tr>\n",
       "    <tr>\n",
       "      <th>4</th>\n",
       "      <td>422320698.0</td>\n",
       "      <td>9678493.0</td>\n",
       "      <td>1942092.0</td>\n",
       "      <td>6977321.0</td>\n",
       "      <td>391126127.0</td>\n",
       "      <td>2284670.0</td>\n",
       "      <td>280294.0</td>\n",
       "      <td>35279702.0</td>\n",
       "    </tr>\n",
       "  </tbody>\n",
       "</table>\n",
       "</div>"
      ],
      "text/plain": [
       "   Total Data Transferred  Google Volume (Bytes)  Netflix Volume (Bytes)  \\\n",
       "0             232123971.0             10438660.0              26592300.0   \n",
       "1             878690574.0              4389005.0              27180981.0   \n",
       "2             156859643.0              5334863.0              11221763.0   \n",
       "3             595966483.0              3443126.0              19353900.0   \n",
       "4             422320698.0              9678493.0               1942092.0   \n",
       "\n",
       "   Youtube Volume (Bytes)  Gaming Volume (Bytes)  Email Volume (Bytes)  \\\n",
       "0              11959905.0            178048738.0             1520771.0   \n",
       "1              21624548.0            812458661.0             1331362.0   \n",
       "2              12432223.0            119750078.0             3307781.0   \n",
       "3              21333570.0            538827713.0             3205380.0   \n",
       "4               6977321.0            391126127.0             2284670.0   \n",
       "\n",
       "   Social Media Volume (Bytes)  Other Volume (Bytes)  \n",
       "0                     715224.0           470526473.0  \n",
       "1                    2232135.0           386570872.0  \n",
       "2                    2660565.0           281710071.0  \n",
       "3                    3195623.0           501693672.0  \n",
       "4                     280294.0            35279702.0  "
      ]
     },
     "execution_count": 78,
     "metadata": {},
     "output_type": "execute_result"
    }
   ],
   "source": [
    "bivariate.head()"
   ]
  },
  {
   "cell_type": "code",
   "execution_count": 79,
   "metadata": {},
   "outputs": [
    {
     "data": {
      "text/plain": [
       "<AxesSubplot:xlabel='Netflix Volume (Bytes)', ylabel='Total Data Transferred'>"
      ]
     },
     "execution_count": 79,
     "metadata": {},
     "output_type": "execute_result"
    },
    {
     "data": {
      "image/png": "[encoded data removed]",
      "text/plain": [
       "<Figure size 1440x720 with 1 Axes>"
      ]
     },
     "metadata": {},
     "output_type": "display_data"
    }
   ],
   "source": [
    "fig, ax = plt.subplots(figsize=(20, 10))\n",
    "\n",
    "sns.scatterplot(x=bivariate[\"Netflix Volume (Bytes)\"], y=bivariate[\"Total Data Transferred\"], ax=ax)"
   ]
  },
  {
   "cell_type": "markdown",
   "metadata": {},
   "source": [
    "### Decile Rank\n",
    "---"
   ]
  },
  {
   "cell_type": "code",
   "execution_count": 80,
   "metadata": {},
   "outputs": [
    {
     "data": {
      "text/html": [
       "<div>\n",
       "<style scoped>\n",
       "    .dataframe tbody tr th:only-of-type {\n",
       "        vertical-align: middle;\n",
       "    }\n",
       "\n",
       "    .dataframe tbody tr th {\n",
       "        vertical-align: top;\n",
       "    }\n",
       "\n",
       "    .dataframe thead th {\n",
       "        text-align: right;\n",
       "    }\n",
       "</style>\n",
       "<table border=\"1\" class=\"dataframe\">\n",
       "  <thead>\n",
       "    <tr style=\"text-align: right;\">\n",
       "      <th></th>\n",
       "      <th>MSISDN/Number</th>\n",
       "      <th>Session Count</th>\n",
       "      <th>Dur. (s)</th>\n",
       "      <th>Total Data Transferred</th>\n",
       "      <th>Google Volume (Bytes)</th>\n",
       "      <th>Netflix Volume (Bytes)</th>\n",
       "      <th>Youtube Volume (Bytes)</th>\n",
       "      <th>Gaming Volume (Bytes)</th>\n",
       "      <th>Email Volume (Bytes)</th>\n",
       "      <th>Social Media Volume (Bytes)</th>\n",
       "      <th>Other Volume (Bytes)</th>\n",
       "      <th>Decile Rank</th>\n",
       "    </tr>\n",
       "  </thead>\n",
       "  <tbody>\n",
       "    <tr>\n",
       "      <th>0</th>\n",
       "      <td>3197020876596.0</td>\n",
       "      <td>1</td>\n",
       "      <td>877385.0</td>\n",
       "      <td>232123971.0</td>\n",
       "      <td>10438660.0</td>\n",
       "      <td>26592300.0</td>\n",
       "      <td>11959905.0</td>\n",
       "      <td>178048738.0</td>\n",
       "      <td>1520771.0</td>\n",
       "      <td>715224.0</td>\n",
       "      <td>470526473.0</td>\n",
       "      <td>9</td>\n",
       "    </tr>\n",
       "    <tr>\n",
       "      <th>1</th>\n",
       "      <td>33601001722.0</td>\n",
       "      <td>1</td>\n",
       "      <td>116720.0</td>\n",
       "      <td>878690574.0</td>\n",
       "      <td>4389005.0</td>\n",
       "      <td>27180981.0</td>\n",
       "      <td>21624548.0</td>\n",
       "      <td>812458661.0</td>\n",
       "      <td>1331362.0</td>\n",
       "      <td>2232135.0</td>\n",
       "      <td>386570872.0</td>\n",
       "      <td>5</td>\n",
       "    </tr>\n",
       "    <tr>\n",
       "      <th>2</th>\n",
       "      <td>33601001754.0</td>\n",
       "      <td>1</td>\n",
       "      <td>181230.0</td>\n",
       "      <td>156859643.0</td>\n",
       "      <td>5334863.0</td>\n",
       "      <td>11221763.0</td>\n",
       "      <td>12432223.0</td>\n",
       "      <td>119750078.0</td>\n",
       "      <td>3307781.0</td>\n",
       "      <td>2660565.0</td>\n",
       "      <td>281710071.0</td>\n",
       "      <td>7</td>\n",
       "    </tr>\n",
       "    <tr>\n",
       "      <th>3</th>\n",
       "      <td>33601002511.0</td>\n",
       "      <td>1</td>\n",
       "      <td>134969.0</td>\n",
       "      <td>595966483.0</td>\n",
       "      <td>3443126.0</td>\n",
       "      <td>19353900.0</td>\n",
       "      <td>21333570.0</td>\n",
       "      <td>538827713.0</td>\n",
       "      <td>3205380.0</td>\n",
       "      <td>3195623.0</td>\n",
       "      <td>501693672.0</td>\n",
       "      <td>6</td>\n",
       "    </tr>\n",
       "    <tr>\n",
       "      <th>4</th>\n",
       "      <td>33601007832.0</td>\n",
       "      <td>1</td>\n",
       "      <td>49878.0</td>\n",
       "      <td>422320698.0</td>\n",
       "      <td>9678493.0</td>\n",
       "      <td>1942092.0</td>\n",
       "      <td>6977321.0</td>\n",
       "      <td>391126127.0</td>\n",
       "      <td>2284670.0</td>\n",
       "      <td>280294.0</td>\n",
       "      <td>35279702.0</td>\n",
       "      <td>1</td>\n",
       "    </tr>\n",
       "  </tbody>\n",
       "</table>\n",
       "</div>"
      ],
      "text/plain": [
       "     MSISDN/Number  Session Count  Dur. (s)  Total Data Transferred  \\\n",
       "0  3197020876596.0              1  877385.0             232123971.0   \n",
       "1    33601001722.0              1  116720.0             878690574.0   \n",
       "2    33601001754.0              1  181230.0             156859643.0   \n",
       "3    33601002511.0              1  134969.0             595966483.0   \n",
       "4    33601007832.0              1   49878.0             422320698.0   \n",
       "\n",
       "   Google Volume (Bytes)  Netflix Volume (Bytes)  Youtube Volume (Bytes)  \\\n",
       "0             10438660.0              26592300.0              11959905.0   \n",
       "1              4389005.0              27180981.0              21624548.0   \n",
       "2              5334863.0              11221763.0              12432223.0   \n",
       "3              3443126.0              19353900.0              21333570.0   \n",
       "4              9678493.0               1942092.0               6977321.0   \n",
       "\n",
       "   Gaming Volume (Bytes)  Email Volume (Bytes)  Social Media Volume (Bytes)  \\\n",
       "0            178048738.0             1520771.0                     715224.0   \n",
       "1            812458661.0             1331362.0                    2232135.0   \n",
       "2            119750078.0             3307781.0                    2660565.0   \n",
       "3            538827713.0             3205380.0                    3195623.0   \n",
       "4            391126127.0             2284670.0                     280294.0   \n",
       "\n",
       "   Other Volume (Bytes)  Decile Rank  \n",
       "0           470526473.0            9  \n",
       "1           386570872.0            5  \n",
       "2           281710071.0            7  \n",
       "3           501693672.0            6  \n",
       "4            35279702.0            1  "
      ]
     },
     "execution_count": 80,
     "metadata": {},
     "output_type": "execute_result"
    }
   ],
   "source": [
    "volume_per_user[\"Decile Rank\"] = pd.qcut(volume_per_user[\"Dur. (s)\"], 10, labels=False)\n",
    "volume_per_user.head()"
   ]
  },
  {
   "cell_type": "code",
   "execution_count": 81,
   "metadata": {},
   "outputs": [
    {
     "data": {
      "text/html": [
       "<div>\n",
       "<style scoped>\n",
       "    .dataframe tbody tr th:only-of-type {\n",
       "        vertical-align: middle;\n",
       "    }\n",
       "\n",
       "    .dataframe tbody tr th {\n",
       "        vertical-align: top;\n",
       "    }\n",
       "\n",
       "    .dataframe thead th {\n",
       "        text-align: right;\n",
       "    }\n",
       "</style>\n",
       "<table border=\"1\" class=\"dataframe\">\n",
       "  <thead>\n",
       "    <tr style=\"text-align: right;\">\n",
       "      <th></th>\n",
       "      <th>MSISDN/Number</th>\n",
       "      <th>Session Count</th>\n",
       "      <th>Dur. (s)</th>\n",
       "      <th>Total Data Transferred</th>\n",
       "      <th>Google Volume (Bytes)</th>\n",
       "      <th>Netflix Volume (Bytes)</th>\n",
       "      <th>Youtube Volume (Bytes)</th>\n",
       "      <th>Gaming Volume (Bytes)</th>\n",
       "      <th>Email Volume (Bytes)</th>\n",
       "      <th>Social Media Volume (Bytes)</th>\n",
       "      <th>Other Volume (Bytes)</th>\n",
       "      <th>Decile Rank</th>\n",
       "    </tr>\n",
       "  </thead>\n",
       "  <tbody>\n",
       "    <tr>\n",
       "      <th>19</th>\n",
       "      <td>33601032846.0</td>\n",
       "      <td>1</td>\n",
       "      <td>21785.0</td>\n",
       "      <td>718452416.0</td>\n",
       "      <td>11768393.0</td>\n",
       "      <td>22990886.0</td>\n",
       "      <td>27463430.0</td>\n",
       "      <td>642930568.0</td>\n",
       "      <td>1711577.0</td>\n",
       "      <td>2251393.0</td>\n",
       "      <td>784538885.0</td>\n",
       "      <td>0</td>\n",
       "    </tr>\n",
       "    <tr>\n",
       "      <th>31</th>\n",
       "      <td>33601050219.0</td>\n",
       "      <td>1</td>\n",
       "      <td>29046.0</td>\n",
       "      <td>175382988.0</td>\n",
       "      <td>6537984.0</td>\n",
       "      <td>39801437.0</td>\n",
       "      <td>32612727.0</td>\n",
       "      <td>78201262.0</td>\n",
       "      <td>3406173.0</td>\n",
       "      <td>1335354.0</td>\n",
       "      <td>299239344.0</td>\n",
       "      <td>0</td>\n",
       "    </tr>\n",
       "    <tr>\n",
       "      <th>37</th>\n",
       "      <td>33601062786.0</td>\n",
       "      <td>1</td>\n",
       "      <td>10532.0</td>\n",
       "      <td>769716233.0</td>\n",
       "      <td>5032487.0</td>\n",
       "      <td>36026341.0</td>\n",
       "      <td>10683217.0</td>\n",
       "      <td>708855040.0</td>\n",
       "      <td>2104404.0</td>\n",
       "      <td>2186275.0</td>\n",
       "      <td>354876626.0</td>\n",
       "      <td>0</td>\n",
       "    </tr>\n",
       "    <tr>\n",
       "      <th>40</th>\n",
       "      <td>33601070798.0</td>\n",
       "      <td>1</td>\n",
       "      <td>12842.0</td>\n",
       "      <td>692598460.0</td>\n",
       "      <td>7475575.0</td>\n",
       "      <td>14777307.0</td>\n",
       "      <td>24903986.0</td>\n",
       "      <td>637463946.0</td>\n",
       "      <td>2968665.0</td>\n",
       "      <td>982717.0</td>\n",
       "      <td>299028176.0</td>\n",
       "      <td>0</td>\n",
       "    </tr>\n",
       "    <tr>\n",
       "      <th>62</th>\n",
       "      <td>33601121112.0</td>\n",
       "      <td>1</td>\n",
       "      <td>12921.0</td>\n",
       "      <td>406230342.0</td>\n",
       "      <td>13668175.0</td>\n",
       "      <td>9046771.0</td>\n",
       "      <td>29134624.0</td>\n",
       "      <td>335125533.0</td>\n",
       "      <td>2787889.0</td>\n",
       "      <td>2422990.0</td>\n",
       "      <td>205211582.0</td>\n",
       "      <td>0</td>\n",
       "    </tr>\n",
       "  </tbody>\n",
       "</table>\n",
       "</div>"
      ],
      "text/plain": [
       "    MSISDN/Number  Session Count  Dur. (s)  Total Data Transferred  \\\n",
       "19  33601032846.0              1   21785.0             718452416.0   \n",
       "31  33601050219.0              1   29046.0             175382988.0   \n",
       "37  33601062786.0              1   10532.0             769716233.0   \n",
       "40  33601070798.0              1   12842.0             692598460.0   \n",
       "62  33601121112.0              1   12921.0             406230342.0   \n",
       "\n",
       "    Google Volume (Bytes)  Netflix Volume (Bytes)  Youtube Volume (Bytes)  \\\n",
       "19             11768393.0              22990886.0              27463430.0   \n",
       "31              6537984.0              39801437.0              32612727.0   \n",
       "37              5032487.0              36026341.0              10683217.0   \n",
       "40              7475575.0              14777307.0              24903986.0   \n",
       "62             13668175.0               9046771.0              29134624.0   \n",
       "\n",
       "    Gaming Volume (Bytes)  Email Volume (Bytes)  Social Media Volume (Bytes)  \\\n",
       "19            642930568.0             1711577.0                    2251393.0   \n",
       "31             78201262.0             3406173.0                    1335354.0   \n",
       "37            708855040.0             2104404.0                    2186275.0   \n",
       "40            637463946.0             2968665.0                     982717.0   \n",
       "62            335125533.0             2787889.0                    2422990.0   \n",
       "\n",
       "    Other Volume (Bytes)  Decile Rank  \n",
       "19           784538885.0            0  \n",
       "31           299239344.0            0  \n",
       "37           354876626.0            0  \n",
       "40           299028176.0            0  \n",
       "62           205211582.0            0  "
      ]
     },
     "execution_count": 81,
     "metadata": {},
     "output_type": "execute_result"
    }
   ],
   "source": [
    "# top 5 decile ranks\n",
    "volume_per_user.nsmallest(columns=[\"Decile Rank\"], n=5)"
   ]
  },
  {
   "cell_type": "code",
   "execution_count": 82,
   "metadata": {},
   "outputs": [
    {
     "data": {
      "text/plain": [
       "5426098958377.0"
      ]
     },
     "execution_count": 82,
     "metadata": {},
     "output_type": "execute_result"
    }
   ],
   "source": [
    "volume_per_user.loc[volume_per_user[\"Decile Rank\"] == 0][\"Total Data Transferred\"].sum()"
   ]
  },
  {
   "cell_type": "code",
   "execution_count": 83,
   "metadata": {},
   "outputs": [
    {
     "data": {
      "text/plain": [
       "6103710205566.0"
      ]
     },
     "execution_count": 83,
     "metadata": {},
     "output_type": "execute_result"
    }
   ],
   "source": [
    "volume_per_user.loc[volume_per_user[\"Decile Rank\"] == 1][\"Total Data Transferred\"].sum()"
   ]
  },
  {
   "cell_type": "code",
   "execution_count": 84,
   "metadata": {},
   "outputs": [
    {
     "data": {
      "text/plain": [
       "6463458931666.0"
      ]
     },
     "execution_count": 84,
     "metadata": {},
     "output_type": "execute_result"
    }
   ],
   "source": [
    "volume_per_user.loc[volume_per_user[\"Decile Rank\"] == 2][\"Total Data Transferred\"].sum()"
   ]
  },
  {
   "cell_type": "code",
   "execution_count": 85,
   "metadata": {},
   "outputs": [
    {
     "data": {
      "text/plain": [
       "5926922191229.0"
      ]
     },
     "execution_count": 85,
     "metadata": {},
     "output_type": "execute_result"
    }
   ],
   "source": [
    "volume_per_user.loc[volume_per_user[\"Decile Rank\"] == 3][\"Total Data Transferred\"].sum()"
   ]
  },
  {
   "cell_type": "code",
   "execution_count": 86,
   "metadata": {},
   "outputs": [
    {
     "data": {
      "text/plain": [
       "5252112256482.0"
      ]
     },
     "execution_count": 86,
     "metadata": {},
     "output_type": "execute_result"
    }
   ],
   "source": [
    "volume_per_user.loc[volume_per_user[\"Decile Rank\"] == 4][\"Total Data Transferred\"].sum()"
   ]
  },
  {
   "cell_type": "markdown",
   "metadata": {},
   "source": [
    "### PCA Analysis\n",
    "---"
   ]
  },
  {
   "cell_type": "code",
   "execution_count": 87,
   "metadata": {},
   "outputs": [],
   "source": [
    "from sklearn.decomposition import PCA"
   ]
  },
  {
   "cell_type": "code",
   "execution_count": 88,
   "metadata": {},
   "outputs": [],
   "source": [
    "pca = PCA(n_components=2)"
   ]
  },
  {
   "cell_type": "code",
   "execution_count": 89,
   "metadata": {},
   "outputs": [],
   "source": [
    "principal_components = pca.fit_transform(volume_per_user)"
   ]
  },
  {
   "cell_type": "code",
   "execution_count": 90,
   "metadata": {},
   "outputs": [],
   "source": [
    "principal_df = pd.DataFrame(data = principal_components, columns = ['principal component 1', 'principal component 2'])"
   ]
  },
  {
   "cell_type": "code",
   "execution_count": 91,
   "metadata": {},
   "outputs": [
    {
     "data": {
      "text/html": [
       "<div>\n",
       "<style scoped>\n",
       "    .dataframe tbody tr th:only-of-type {\n",
       "        vertical-align: middle;\n",
       "    }\n",
       "\n",
       "    .dataframe tbody tr th {\n",
       "        vertical-align: top;\n",
       "    }\n",
       "\n",
       "    .dataframe thead th {\n",
       "        text-align: right;\n",
       "    }\n",
       "</style>\n",
       "<table border=\"1\" class=\"dataframe\">\n",
       "  <thead>\n",
       "    <tr style=\"text-align: right;\">\n",
       "      <th></th>\n",
       "      <th>principal component 1</th>\n",
       "      <th>principal component 2</th>\n",
       "    </tr>\n",
       "  </thead>\n",
       "  <tbody>\n",
       "    <tr>\n",
       "      <th>0</th>\n",
       "      <td>3.151865e+12</td>\n",
       "      <td>-6.080635e+08</td>\n",
       "    </tr>\n",
       "    <tr>\n",
       "      <th>1</th>\n",
       "      <td>-1.155511e+10</td>\n",
       "      <td>1.471932e+08</td>\n",
       "    </tr>\n",
       "    <tr>\n",
       "      <th>2</th>\n",
       "      <td>-1.155511e+10</td>\n",
       "      <td>-7.839837e+08</td>\n",
       "    </tr>\n",
       "    <tr>\n",
       "      <th>3</th>\n",
       "      <td>-1.155511e+10</td>\n",
       "      <td>-1.451732e+08</td>\n",
       "    </tr>\n",
       "    <tr>\n",
       "      <th>4</th>\n",
       "      <td>-1.155511e+10</td>\n",
       "      <td>-5.666395e+08</td>\n",
       "    </tr>\n",
       "  </tbody>\n",
       "</table>\n",
       "</div>"
      ],
      "text/plain": [
       "   principal component 1  principal component 2\n",
       "0           3.151865e+12          -6.080635e+08\n",
       "1          -1.155511e+10           1.471932e+08\n",
       "2          -1.155511e+10          -7.839837e+08\n",
       "3          -1.155511e+10          -1.451732e+08\n",
       "4          -1.155511e+10          -5.666395e+08"
      ]
     },
     "execution_count": 91,
     "metadata": {},
     "output_type": "execute_result"
    }
   ],
   "source": [
    "principal_df.head()"
   ]
  },
  {
   "cell_type": "code",
   "execution_count": null,
   "metadata": {},
   "outputs": [],
   "source": []
  }
 ],
 "metadata": {
  "interpreter": {
   "hash": "63fd5069d213b44bf678585dea6b12cceca9941eaf7f819626cde1f2670de90d"
  },
  "kernelspec": {
   "display_name": "Python 3.9.6 64-bit",
   "language": "python",
   "name": "python3"
  },
  "language_info": {
   "codemirror_mode": {
    "name": "ipython",
    "version": 3
   },
   "file_extension": ".py",
   "mimetype": "text/x-python",
   "name": "python",
   "nbconvert_exporter": "python",
   "pygments_lexer": "ipython3",
   "version": "3.9.6"
  },
  "orig_nbformat": 4
 },
 "nbformat": 4,
 "nbformat_minor": 2
}
