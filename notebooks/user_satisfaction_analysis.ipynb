{
 "cells": [
  {
   "cell_type": "code",
   "execution_count": 61,
   "metadata": {},
   "outputs": [],
   "source": [
    "import pandas as pd\n",
    "import numpy as np\n",
    "import os\n",
    "import matplotlib.pyplot as plt\n",
    "import seaborn as sns\n",
    "from sklearn.preprocessing import MinMaxScaler\n",
    "from sklearn.cluster import KMeans\n",
    "from sklearn.metrics.pairwise import euclidean_distances\n",
    "%matplotlib inline"
   ]
  },
  {
   "cell_type": "code",
   "execution_count": 62,
   "metadata": {},
   "outputs": [],
   "source": [
    "pwd = os.getcwd()\n",
    "file_path = os.path.join(pwd, os.pardir, 'data/clean_data.csv')"
   ]
  },
  {
   "cell_type": "code",
   "execution_count": 63,
   "metadata": {},
   "outputs": [],
   "source": [
    "data = pd.read_csv(file_path, parse_dates=[\"Start\", \"End\"])"
   ]
  },
  {
   "cell_type": "code",
   "execution_count": 64,
   "metadata": {},
   "outputs": [],
   "source": [
    "data_modified = data.copy()"
   ]
  },
  {
   "cell_type": "code",
   "execution_count": 65,
   "metadata": {},
   "outputs": [],
   "source": [
    "user_agg_engagement = data_modified.groupby([\"MSISDN/Number\"], as_index=False).agg({'Bearer Id':'count', \"Dur. (s)\": \"sum\", \"Total UL (Bytes)\": \"sum\", \"Total DL (Bytes)\": \"sum\",  \"Social Media UL (Bytes)\": \"sum\", \"Social Media DL (Bytes)\": \"sum\", \"Google UL (Bytes)\": \"sum\", \"Google DL (Bytes)\": \"sum\", \"Email UL (Bytes)\": \"sum\", \"Email DL (Bytes)\": \"sum\", \"Youtube UL (Bytes)\": \"sum\", \"Youtube DL (Bytes)\": \"sum\", \"Netflix UL (Bytes)\": \"sum\", \"Netflix DL (Bytes)\": \"sum\", \"Gaming UL (Bytes)\": \"sum\", \"Gaming DL (Bytes)\": \"sum\", \"Other UL (Bytes)\": \"sum\", \"Other DL (Bytes)\": \"sum\"})\n",
    "user_agg_engagement.reset_index(drop=True, inplace=True)"
   ]
  },
  {
   "cell_type": "code",
   "execution_count": 66,
   "metadata": {},
   "outputs": [],
   "source": [
    "user_agg_engagement[\"MSISDN/Number\"] = user_agg_engagement[\"MSISDN/Number\"].astype(str)"
   ]
  },
  {
   "cell_type": "code",
   "execution_count": 67,
   "metadata": {},
   "outputs": [],
   "source": [
    "user_agg_engagement.rename(columns={\"Bearer Id\": \"Session Count\"}, inplace=True)"
   ]
  },
  {
   "cell_type": "code",
   "execution_count": 68,
   "metadata": {},
   "outputs": [],
   "source": [
    "user_agg_engagement[\"Total Data Transferred\"] = user_agg_engagement[\"Total UL (Bytes)\"] + user_agg_engagement[\"Total DL (Bytes)\"]"
   ]
  },
  {
   "cell_type": "code",
   "execution_count": 69,
   "metadata": {},
   "outputs": [],
   "source": [
    "user_agg_engagement[\"Google Volume (Bytes)\"] = user_agg_engagement[\"Google UL (Bytes)\"] + user_agg_engagement[\"Google DL (Bytes)\"]\n",
    "user_agg_engagement[\"Netflix Volume (Bytes)\"] = user_agg_engagement[\"Netflix UL (Bytes)\"] + user_agg_engagement[\"Netflix DL (Bytes)\"]\n",
    "user_agg_engagement[\"Youtube Volume (Bytes)\"] = user_agg_engagement[\"Youtube UL (Bytes)\"] + user_agg_engagement[\"Youtube DL (Bytes)\"]\n",
    "user_agg_engagement[\"Gaming Volume (Bytes)\"] = user_agg_engagement[\"Gaming UL (Bytes)\"] + user_agg_engagement[\"Gaming DL (Bytes)\"]\n",
    "user_agg_engagement[\"Email Volume (Bytes)\"] = user_agg_engagement[\"Email UL (Bytes)\"] + user_agg_engagement[\"Email DL (Bytes)\"]\n",
    "user_agg_engagement[\"Social Media Volume (Bytes)\"] = user_agg_engagement[\"Social Media UL (Bytes)\"] + user_agg_engagement[\"Social Media DL (Bytes)\"]\n",
    "user_agg_engagement[\"Other Volume (Bytes)\"] = user_agg_engagement[\"Other UL (Bytes)\"] + user_agg_engagement[\"Other DL (Bytes)\"]"
   ]
  },
  {
   "cell_type": "code",
   "execution_count": 70,
   "metadata": {},
   "outputs": [],
   "source": [
    "volume_per_user = user_agg_engagement.drop(columns=[\n",
    "    \"Total UL (Bytes)\",\n",
    "    \"Total DL (Bytes)\",\n",
    "    \"Social Media UL (Bytes)\",\n",
    "    \"Social Media DL (Bytes)\",\n",
    "    \"Google UL (Bytes)\",\n",
    "    \"Google DL (Bytes)\",\n",
    "    \"Email UL (Bytes)\",\n",
    "    \"Email DL (Bytes)\",\n",
    "    \"Youtube UL (Bytes)\",\n",
    "    \"Youtube DL (Bytes)\",\n",
    "    \"Netflix UL (Bytes)\",\n",
    "    \"Netflix DL (Bytes)\",\n",
    "    \"Gaming UL (Bytes)\",\n",
    "    \"Gaming DL (Bytes)\",\n",
    "    \"Other UL (Bytes)\",\n",
    "    \"Other DL (Bytes)\"\n",
    "])"
   ]
  },
  {
   "cell_type": "code",
   "execution_count": 71,
   "metadata": {},
   "outputs": [],
   "source": [
    "# to convert the scientific notation to decimal format\n",
    "pd.set_option('display.float_format', lambda x: '%.2f' % x)"
   ]
  },
  {
   "cell_type": "code",
   "execution_count": 72,
   "metadata": {},
   "outputs": [
    {
     "data": {
      "text/html": [
       "<div>\n",
       "<style scoped>\n",
       "    .dataframe tbody tr th:only-of-type {\n",
       "        vertical-align: middle;\n",
       "    }\n",
       "\n",
       "    .dataframe tbody tr th {\n",
       "        vertical-align: top;\n",
       "    }\n",
       "\n",
       "    .dataframe thead th {\n",
       "        text-align: right;\n",
       "    }\n",
       "</style>\n",
       "<table border=\"1\" class=\"dataframe\">\n",
       "  <thead>\n",
       "    <tr style=\"text-align: right;\">\n",
       "      <th></th>\n",
       "      <th>MSISDN/Number</th>\n",
       "      <th>Session Count</th>\n",
       "      <th>Dur. (s)</th>\n",
       "      <th>Total Data Transferred</th>\n",
       "      <th>Google Volume (Bytes)</th>\n",
       "      <th>Netflix Volume (Bytes)</th>\n",
       "      <th>Youtube Volume (Bytes)</th>\n",
       "      <th>Gaming Volume (Bytes)</th>\n",
       "      <th>Email Volume (Bytes)</th>\n",
       "      <th>Social Media Volume (Bytes)</th>\n",
       "      <th>Other Volume (Bytes)</th>\n",
       "    </tr>\n",
       "  </thead>\n",
       "  <tbody>\n",
       "    <tr>\n",
       "      <th>0</th>\n",
       "      <td>33601001722.0</td>\n",
       "      <td>1</td>\n",
       "      <td>116720.00</td>\n",
       "      <td>878690574.00</td>\n",
       "      <td>4389005.00</td>\n",
       "      <td>27180981.00</td>\n",
       "      <td>21624548.00</td>\n",
       "      <td>812458661.00</td>\n",
       "      <td>1331362.00</td>\n",
       "      <td>2232135.00</td>\n",
       "      <td>386570872.00</td>\n",
       "    </tr>\n",
       "    <tr>\n",
       "      <th>1</th>\n",
       "      <td>33601001754.0</td>\n",
       "      <td>1</td>\n",
       "      <td>181230.00</td>\n",
       "      <td>156859643.00</td>\n",
       "      <td>5334863.00</td>\n",
       "      <td>11221763.00</td>\n",
       "      <td>12432223.00</td>\n",
       "      <td>119750078.00</td>\n",
       "      <td>3307781.00</td>\n",
       "      <td>2660565.00</td>\n",
       "      <td>281710071.00</td>\n",
       "    </tr>\n",
       "    <tr>\n",
       "      <th>2</th>\n",
       "      <td>33601002511.0</td>\n",
       "      <td>1</td>\n",
       "      <td>134969.00</td>\n",
       "      <td>595966483.00</td>\n",
       "      <td>3443126.00</td>\n",
       "      <td>19353900.00</td>\n",
       "      <td>21333570.00</td>\n",
       "      <td>538827713.00</td>\n",
       "      <td>3205380.00</td>\n",
       "      <td>3195623.00</td>\n",
       "      <td>501693672.00</td>\n",
       "    </tr>\n",
       "    <tr>\n",
       "      <th>3</th>\n",
       "      <td>33601007832.0</td>\n",
       "      <td>1</td>\n",
       "      <td>49878.00</td>\n",
       "      <td>422320698.00</td>\n",
       "      <td>9678493.00</td>\n",
       "      <td>1942092.00</td>\n",
       "      <td>6977321.00</td>\n",
       "      <td>391126127.00</td>\n",
       "      <td>2284670.00</td>\n",
       "      <td>280294.00</td>\n",
       "      <td>35279702.00</td>\n",
       "    </tr>\n",
       "    <tr>\n",
       "      <th>4</th>\n",
       "      <td>33601008617.0</td>\n",
       "      <td>2</td>\n",
       "      <td>37104.00</td>\n",
       "      <td>1457410944.00</td>\n",
       "      <td>18499616.00</td>\n",
       "      <td>49201724.00</td>\n",
       "      <td>41533002.00</td>\n",
       "      <td>1314797820.00</td>\n",
       "      <td>3305469.00</td>\n",
       "      <td>2912542.00</td>\n",
       "      <td>804804484.00</td>\n",
       "    </tr>\n",
       "  </tbody>\n",
       "</table>\n",
       "</div>"
      ],
      "text/plain": [
       "   MSISDN/Number  Session Count  Dur. (s)  Total Data Transferred  \\\n",
       "0  33601001722.0              1 116720.00            878690574.00   \n",
       "1  33601001754.0              1 181230.00            156859643.00   \n",
       "2  33601002511.0              1 134969.00            595966483.00   \n",
       "3  33601007832.0              1  49878.00            422320698.00   \n",
       "4  33601008617.0              2  37104.00           1457410944.00   \n",
       "\n",
       "   Google Volume (Bytes)  Netflix Volume (Bytes)  Youtube Volume (Bytes)  \\\n",
       "0             4389005.00             27180981.00             21624548.00   \n",
       "1             5334863.00             11221763.00             12432223.00   \n",
       "2             3443126.00             19353900.00             21333570.00   \n",
       "3             9678493.00              1942092.00              6977321.00   \n",
       "4            18499616.00             49201724.00             41533002.00   \n",
       "\n",
       "   Gaming Volume (Bytes)  Email Volume (Bytes)  Social Media Volume (Bytes)  \\\n",
       "0           812458661.00            1331362.00                   2232135.00   \n",
       "1           119750078.00            3307781.00                   2660565.00   \n",
       "2           538827713.00            3205380.00                   3195623.00   \n",
       "3           391126127.00            2284670.00                    280294.00   \n",
       "4          1314797820.00            3305469.00                   2912542.00   \n",
       "\n",
       "   Other Volume (Bytes)  \n",
       "0          386570872.00  \n",
       "1          281710071.00  \n",
       "2          501693672.00  \n",
       "3           35279702.00  \n",
       "4          804804484.00  "
      ]
     },
     "execution_count": 72,
     "metadata": {},
     "output_type": "execute_result"
    }
   ],
   "source": [
    "volume_per_user.head()"
   ]
  },
  {
   "cell_type": "code",
   "execution_count": 73,
   "metadata": {},
   "outputs": [],
   "source": [
    "plt.style.use('seaborn')"
   ]
  },
  {
   "cell_type": "code",
   "execution_count": 74,
   "metadata": {},
   "outputs": [],
   "source": [
    "kmeans = KMeans(n_clusters=3)"
   ]
  },
  {
   "cell_type": "code",
   "execution_count": 75,
   "metadata": {},
   "outputs": [],
   "source": [
    "engagement_metrics = volume_per_user[[\"Session Count\", \"Dur. (s)\", \"Total Data Transferred\"]]"
   ]
  },
  {
   "cell_type": "code",
   "execution_count": 76,
   "metadata": {},
   "outputs": [
    {
     "data": {
      "text/html": [
       "<div>\n",
       "<style scoped>\n",
       "    .dataframe tbody tr th:only-of-type {\n",
       "        vertical-align: middle;\n",
       "    }\n",
       "\n",
       "    .dataframe tbody tr th {\n",
       "        vertical-align: top;\n",
       "    }\n",
       "\n",
       "    .dataframe thead th {\n",
       "        text-align: right;\n",
       "    }\n",
       "</style>\n",
       "<table border=\"1\" class=\"dataframe\">\n",
       "  <thead>\n",
       "    <tr style=\"text-align: right;\">\n",
       "      <th></th>\n",
       "      <th>Session Count</th>\n",
       "      <th>Dur. (s)</th>\n",
       "      <th>Total Data Transferred</th>\n",
       "    </tr>\n",
       "  </thead>\n",
       "  <tbody>\n",
       "    <tr>\n",
       "      <th>0</th>\n",
       "      <td>1</td>\n",
       "      <td>116720.00</td>\n",
       "      <td>878690574.00</td>\n",
       "    </tr>\n",
       "    <tr>\n",
       "      <th>1</th>\n",
       "      <td>1</td>\n",
       "      <td>181230.00</td>\n",
       "      <td>156859643.00</td>\n",
       "    </tr>\n",
       "    <tr>\n",
       "      <th>2</th>\n",
       "      <td>1</td>\n",
       "      <td>134969.00</td>\n",
       "      <td>595966483.00</td>\n",
       "    </tr>\n",
       "    <tr>\n",
       "      <th>3</th>\n",
       "      <td>1</td>\n",
       "      <td>49878.00</td>\n",
       "      <td>422320698.00</td>\n",
       "    </tr>\n",
       "    <tr>\n",
       "      <th>4</th>\n",
       "      <td>2</td>\n",
       "      <td>37104.00</td>\n",
       "      <td>1457410944.00</td>\n",
       "    </tr>\n",
       "    <tr>\n",
       "      <th>...</th>\n",
       "      <td>...</td>\n",
       "      <td>...</td>\n",
       "      <td>...</td>\n",
       "    </tr>\n",
       "    <tr>\n",
       "      <th>106466</th>\n",
       "      <td>1</td>\n",
       "      <td>8810.00</td>\n",
       "      <td>714641641.00</td>\n",
       "    </tr>\n",
       "    <tr>\n",
       "      <th>106467</th>\n",
       "      <td>1</td>\n",
       "      <td>140988.00</td>\n",
       "      <td>480307335.00</td>\n",
       "    </tr>\n",
       "    <tr>\n",
       "      <th>106468</th>\n",
       "      <td>1</td>\n",
       "      <td>877385.00</td>\n",
       "      <td>232123971.00</td>\n",
       "    </tr>\n",
       "    <tr>\n",
       "      <th>106469</th>\n",
       "      <td>1</td>\n",
       "      <td>253030.00</td>\n",
       "      <td>596287824.00</td>\n",
       "    </tr>\n",
       "    <tr>\n",
       "      <th>106470</th>\n",
       "      <td>1</td>\n",
       "      <td>869844.00</td>\n",
       "      <td>139153646.00</td>\n",
       "    </tr>\n",
       "  </tbody>\n",
       "</table>\n",
       "<p>106471 rows × 3 columns</p>\n",
       "</div>"
      ],
      "text/plain": [
       "        Session Count  Dur. (s)  Total Data Transferred\n",
       "0                   1 116720.00            878690574.00\n",
       "1                   1 181230.00            156859643.00\n",
       "2                   1 134969.00            595966483.00\n",
       "3                   1  49878.00            422320698.00\n",
       "4                   2  37104.00           1457410944.00\n",
       "...               ...       ...                     ...\n",
       "106466              1   8810.00            714641641.00\n",
       "106467              1 140988.00            480307335.00\n",
       "106468              1 877385.00            232123971.00\n",
       "106469              1 253030.00            596287824.00\n",
       "106470              1 869844.00            139153646.00\n",
       "\n",
       "[106471 rows x 3 columns]"
      ]
     },
     "execution_count": 76,
     "metadata": {},
     "output_type": "execute_result"
    }
   ],
   "source": [
    "engagement_metrics"
   ]
  },
  {
   "cell_type": "code",
   "execution_count": 77,
   "metadata": {},
   "outputs": [
    {
     "data": {
      "text/plain": [
       "array([0, 1, 0, ..., 1, 0, 1])"
      ]
     },
     "execution_count": 77,
     "metadata": {},
     "output_type": "execute_result"
    }
   ],
   "source": [
    "kmeans.fit_predict(engagement_metrics)"
   ]
  },
  {
   "cell_type": "code",
   "execution_count": 78,
   "metadata": {},
   "outputs": [
    {
     "data": {
      "text/plain": [
       "array([[1.38820006e+00, 1.39101407e+05, 8.27260962e+08],\n",
       "       [1.06058568e+00, 1.08950848e+05, 3.33201023e+08],\n",
       "       [3.12626890e+00, 3.74741022e+05, 1.84150621e+09]])"
      ]
     },
     "execution_count": 78,
     "metadata": {},
     "output_type": "execute_result"
    }
   ],
   "source": [
    "kmeans.cluster_centers_"
   ]
  },
  {
   "cell_type": "code",
   "execution_count": 79,
   "metadata": {},
   "outputs": [
    {
     "data": {
      "text/plain": [
       "array([1.38820006e+00, 1.39101407e+05, 8.27260962e+08])"
      ]
     },
     "execution_count": 79,
     "metadata": {},
     "output_type": "execute_result"
    }
   ],
   "source": [
    "kmeans.cluster_centers_[0]"
   ]
  },
  {
   "cell_type": "code",
   "execution_count": 165,
   "metadata": {},
   "outputs": [],
   "source": [
    "least_eng = kmeans.cluster_centers_[0]\n",
    "eng_distances = []\n",
    "for index,row in engagement_metrics.iterrows():\n",
    "    x = row['Session Count']\n",
    "    y = row['Dur. (s)']\n",
    "    z = row['Total Data Transferred']\n",
    "\n",
    "    ec_dis = ( (x - least_eng[0])**2 + (y - least_eng[1])**2 + (z - least_eng[2])**2)**0.5\n",
    "\n",
    "    eng_distances.append(ec_dis)"
   ]
  },
  {
   "cell_type": "code",
   "execution_count": 86,
   "metadata": {},
   "outputs": [],
   "source": [
    "user_agg = data_modified.groupby([\"MSISDN/Number\"], as_index=False).agg({'TCP DL Retrans. Vol (Bytes)':'sum', \"TCP UL Retrans. Vol (Bytes)\": \"sum\", \"Avg RTT DL (ms)\": \"sum\", \"Avg RTT UL (ms)\": \"sum\",  \"Avg Bearer TP DL (kbps)\": \"sum\", \"Avg Bearer TP UL (kbps)\": \"sum\", 'Handset Type': 'first' })\n",
    "user_agg.reset_index(drop=True, inplace=True)"
   ]
  },
  {
   "cell_type": "code",
   "execution_count": 87,
   "metadata": {},
   "outputs": [],
   "source": [
    "user_agg[\"MSISDN/Number\"] = user_agg[\"MSISDN/Number\"].astype(str)"
   ]
  },
  {
   "cell_type": "code",
   "execution_count": 88,
   "metadata": {},
   "outputs": [],
   "source": [
    "transmission_per_user = pd.DataFrame()\n",
    "transmission_per_user[\"MSISDN/Number\"] = user_agg[\"MSISDN/Number\"]\n",
    "transmission_per_user[\"Average TCP Retransmission\"] = user_agg[\"TCP DL Retrans. Vol (Bytes)\"] + user_agg[\"TCP UL Retrans. Vol (Bytes)\"]\n",
    "transmission_per_user[\"Average RTT\"] = user_agg[\"Avg RTT DL (ms)\"] + user_agg[\"Avg RTT UL (ms)\"]\n",
    "transmission_per_user[\"Average throughput\"] = user_agg[\"Avg Bearer TP DL (kbps)\"] + user_agg[\"Avg Bearer TP UL (kbps)\"]\n",
    "transmission_per_user[\"Handset Type\"] = user_agg[\"Handset Type\"]"
   ]
  },
  {
   "cell_type": "code",
   "execution_count": 89,
   "metadata": {},
   "outputs": [
    {
     "data": {
      "text/html": [
       "<div>\n",
       "<style scoped>\n",
       "    .dataframe tbody tr th:only-of-type {\n",
       "        vertical-align: middle;\n",
       "    }\n",
       "\n",
       "    .dataframe tbody tr th {\n",
       "        vertical-align: top;\n",
       "    }\n",
       "\n",
       "    .dataframe thead th {\n",
       "        text-align: right;\n",
       "    }\n",
       "</style>\n",
       "<table border=\"1\" class=\"dataframe\">\n",
       "  <thead>\n",
       "    <tr style=\"text-align: right;\">\n",
       "      <th></th>\n",
       "      <th>MSISDN/Number</th>\n",
       "      <th>Average TCP Retransmission</th>\n",
       "      <th>Average RTT</th>\n",
       "      <th>Average throughput</th>\n",
       "      <th>Handset Type</th>\n",
       "    </tr>\n",
       "  </thead>\n",
       "  <tbody>\n",
       "    <tr>\n",
       "      <th>0</th>\n",
       "      <td>33601001722.0</td>\n",
       "      <td>21777861.00</td>\n",
       "      <td>46.00</td>\n",
       "      <td>76.00</td>\n",
       "      <td>Huawei P20 Lite Huawei Nova 3E</td>\n",
       "    </tr>\n",
       "    <tr>\n",
       "      <th>1</th>\n",
       "      <td>33601001754.0</td>\n",
       "      <td>21777861.00</td>\n",
       "      <td>31.00</td>\n",
       "      <td>99.00</td>\n",
       "      <td>Apple iPhone 7 (A1778)</td>\n",
       "    </tr>\n",
       "    <tr>\n",
       "      <th>2</th>\n",
       "      <td>33601002511.0</td>\n",
       "      <td>21777861.00</td>\n",
       "      <td>124.00</td>\n",
       "      <td>97.00</td>\n",
       "      <td>Unknown</td>\n",
       "    </tr>\n",
       "    <tr>\n",
       "      <th>3</th>\n",
       "      <td>33601007832.0</td>\n",
       "      <td>772118.00</td>\n",
       "      <td>84.00</td>\n",
       "      <td>248.00</td>\n",
       "      <td>Apple iPhone 5S (A1457)</td>\n",
       "    </tr>\n",
       "    <tr>\n",
       "      <th>4</th>\n",
       "      <td>33601008617.0</td>\n",
       "      <td>31148693.00</td>\n",
       "      <td>119.00</td>\n",
       "      <td>56844.00</td>\n",
       "      <td>Apple iPhone Se (A1723)</td>\n",
       "    </tr>\n",
       "  </tbody>\n",
       "</table>\n",
       "</div>"
      ],
      "text/plain": [
       "   MSISDN/Number  Average TCP Retransmission  Average RTT  Average throughput  \\\n",
       "0  33601001722.0                 21777861.00        46.00               76.00   \n",
       "1  33601001754.0                 21777861.00        31.00               99.00   \n",
       "2  33601002511.0                 21777861.00       124.00               97.00   \n",
       "3  33601007832.0                   772118.00        84.00              248.00   \n",
       "4  33601008617.0                 31148693.00       119.00            56844.00   \n",
       "\n",
       "                     Handset Type  \n",
       "0  Huawei P20 Lite Huawei Nova 3E  \n",
       "1          Apple iPhone 7 (A1778)  \n",
       "2                         Unknown  \n",
       "3         Apple iPhone 5S (A1457)  \n",
       "4         Apple iPhone Se (A1723)  "
      ]
     },
     "execution_count": 89,
     "metadata": {},
     "output_type": "execute_result"
    }
   ],
   "source": [
    "transmission_per_user.head()"
   ]
  },
  {
   "cell_type": "code",
   "execution_count": 96,
   "metadata": {},
   "outputs": [
    {
     "data": {
      "text/plain": [
       "array([0, 0, 0, ..., 0, 0, 0])"
      ]
     },
     "execution_count": 96,
     "metadata": {},
     "output_type": "execute_result"
    }
   ],
   "source": [
    "experience_kmeans = KMeans(n_clusters=3)\n",
    "experience_y_predicted = experience_kmeans.fit_predict(transmission_per_user[[\"Average TCP Retransmission\",\"Average RTT\", \"Average throughput\"]])\n",
    "experience_y_predicted"
   ]
  },
  {
   "cell_type": "code",
   "execution_count": 97,
   "metadata": {},
   "outputs": [
    {
     "data": {
      "text/plain": [
       "array([2.27285454e+07, 1.72102346e+02, 2.05841226e+04])"
      ]
     },
     "execution_count": 97,
     "metadata": {},
     "output_type": "execute_result"
    }
   ],
   "source": [
    "experience_kmeans.cluster_centers_[0]"
   ]
  },
  {
   "cell_type": "code",
   "execution_count": 98,
   "metadata": {},
   "outputs": [],
   "source": [
    "exp_metrics = transmission_per_user[[\"Average TCP Retransmission\",\"Average RTT\", \"Average throughput\"]]"
   ]
  },
  {
   "cell_type": "code",
   "execution_count": 166,
   "metadata": {},
   "outputs": [],
   "source": [
    "least_exp = kmeans.cluster_centers_[0]\n",
    "exp_distances = []\n",
    "for index,row in exp_metrics.iterrows():\n",
    "    x = row['Average TCP Retransmission']\n",
    "    y = row['Average RTT']\n",
    "    z = row['Average throughput']\n",
    "\n",
    "    ec_dis = ( (x - least_exp[0])**2 + (y - least_exp[1])**2 + (z - least_exp[2])**2)**0.5\n",
    "\n",
    "    exp_distances.append(ec_dis)"
   ]
  },
  {
   "cell_type": "code",
   "execution_count": 124,
   "metadata": {},
   "outputs": [],
   "source": [
    "satisfaction = pd.DataFrame({\"eng_score\": eng_distances, \"exp_score\": exp_distances})"
   ]
  },
  {
   "cell_type": "code",
   "execution_count": 127,
   "metadata": {},
   "outputs": [],
   "source": [
    "satisfaction[\"MSISDN/Number\"] = volume_per_user[\"MSISDN/Number\"]"
   ]
  },
  {
   "cell_type": "code",
   "execution_count": 128,
   "metadata": {},
   "outputs": [
    {
     "data": {
      "text/html": [
       "<div>\n",
       "<style scoped>\n",
       "    .dataframe tbody tr th:only-of-type {\n",
       "        vertical-align: middle;\n",
       "    }\n",
       "\n",
       "    .dataframe tbody tr th {\n",
       "        vertical-align: top;\n",
       "    }\n",
       "\n",
       "    .dataframe thead th {\n",
       "        text-align: right;\n",
       "    }\n",
       "</style>\n",
       "<table border=\"1\" class=\"dataframe\">\n",
       "  <thead>\n",
       "    <tr style=\"text-align: right;\">\n",
       "      <th></th>\n",
       "      <th>eng_score</th>\n",
       "      <th>exp_score</th>\n",
       "      <th>MSISDN/Number</th>\n",
       "    </tr>\n",
       "  </thead>\n",
       "  <tbody>\n",
       "    <tr>\n",
       "      <th>0</th>\n",
       "      <td>51429616.39</td>\n",
       "      <td>827547502.45</td>\n",
       "      <td>33601001722.0</td>\n",
       "    </tr>\n",
       "    <tr>\n",
       "      <th>1</th>\n",
       "      <td>670401320.81</td>\n",
       "      <td>827547479.46</td>\n",
       "      <td>33601001754.0</td>\n",
       "    </tr>\n",
       "    <tr>\n",
       "      <th>2</th>\n",
       "      <td>231294479.52</td>\n",
       "      <td>827547481.44</td>\n",
       "      <td>33601002511.0</td>\n",
       "    </tr>\n",
       "    <tr>\n",
       "      <th>3</th>\n",
       "      <td>404940274.31</td>\n",
       "      <td>827261086.49</td>\n",
       "      <td>33601007832.0</td>\n",
       "    </tr>\n",
       "    <tr>\n",
       "      <th>4</th>\n",
       "      <td>630149989.77</td>\n",
       "      <td>827790380.43</td>\n",
       "      <td>33601008617.0</td>\n",
       "    </tr>\n",
       "  </tbody>\n",
       "</table>\n",
       "</div>"
      ],
      "text/plain": [
       "     eng_score    exp_score  MSISDN/Number\n",
       "0  51429616.39 827547502.45  33601001722.0\n",
       "1 670401320.81 827547479.46  33601001754.0\n",
       "2 231294479.52 827547481.44  33601002511.0\n",
       "3 404940274.31 827261086.49  33601007832.0\n",
       "4 630149989.77 827790380.43  33601008617.0"
      ]
     },
     "execution_count": 128,
     "metadata": {},
     "output_type": "execute_result"
    }
   ],
   "source": [
    "satisfaction.head()"
   ]
  },
  {
   "cell_type": "code",
   "execution_count": 133,
   "metadata": {},
   "outputs": [],
   "source": [
    "cols = satisfaction.loc[: , \"eng_score\":\"exp_score\"]\n",
    "satisfaction[\"satisfaction_score\"] = cols.mean(axis=1)"
   ]
  },
  {
   "cell_type": "code",
   "execution_count": 134,
   "metadata": {},
   "outputs": [
    {
     "data": {
      "text/html": [
       "<div>\n",
       "<style scoped>\n",
       "    .dataframe tbody tr th:only-of-type {\n",
       "        vertical-align: middle;\n",
       "    }\n",
       "\n",
       "    .dataframe tbody tr th {\n",
       "        vertical-align: top;\n",
       "    }\n",
       "\n",
       "    .dataframe thead th {\n",
       "        text-align: right;\n",
       "    }\n",
       "</style>\n",
       "<table border=\"1\" class=\"dataframe\">\n",
       "  <thead>\n",
       "    <tr style=\"text-align: right;\">\n",
       "      <th></th>\n",
       "      <th>eng_score</th>\n",
       "      <th>exp_score</th>\n",
       "      <th>MSISDN/Number</th>\n",
       "      <th>satisfaction_score</th>\n",
       "    </tr>\n",
       "  </thead>\n",
       "  <tbody>\n",
       "    <tr>\n",
       "      <th>0</th>\n",
       "      <td>51429616.39</td>\n",
       "      <td>827547502.45</td>\n",
       "      <td>33601001722.0</td>\n",
       "      <td>439488559.42</td>\n",
       "    </tr>\n",
       "    <tr>\n",
       "      <th>1</th>\n",
       "      <td>670401320.81</td>\n",
       "      <td>827547479.46</td>\n",
       "      <td>33601001754.0</td>\n",
       "      <td>748974400.13</td>\n",
       "    </tr>\n",
       "    <tr>\n",
       "      <th>2</th>\n",
       "      <td>231294479.52</td>\n",
       "      <td>827547481.44</td>\n",
       "      <td>33601002511.0</td>\n",
       "      <td>529420980.48</td>\n",
       "    </tr>\n",
       "    <tr>\n",
       "      <th>3</th>\n",
       "      <td>404940274.31</td>\n",
       "      <td>827261086.49</td>\n",
       "      <td>33601007832.0</td>\n",
       "      <td>616100680.40</td>\n",
       "    </tr>\n",
       "    <tr>\n",
       "      <th>4</th>\n",
       "      <td>630149989.77</td>\n",
       "      <td>827790380.43</td>\n",
       "      <td>33601008617.0</td>\n",
       "      <td>728970185.10</td>\n",
       "    </tr>\n",
       "  </tbody>\n",
       "</table>\n",
       "</div>"
      ],
      "text/plain": [
       "     eng_score    exp_score  MSISDN/Number  satisfaction_score\n",
       "0  51429616.39 827547502.45  33601001722.0        439488559.42\n",
       "1 670401320.81 827547479.46  33601001754.0        748974400.13\n",
       "2 231294479.52 827547481.44  33601002511.0        529420980.48\n",
       "3 404940274.31 827261086.49  33601007832.0        616100680.40\n",
       "4 630149989.77 827790380.43  33601008617.0        728970185.10"
      ]
     },
     "execution_count": 134,
     "metadata": {},
     "output_type": "execute_result"
    }
   ],
   "source": [
    "satisfaction.head()"
   ]
  },
  {
   "cell_type": "code",
   "execution_count": 137,
   "metadata": {},
   "outputs": [
    {
     "data": {
      "text/html": [
       "<div>\n",
       "<style scoped>\n",
       "    .dataframe tbody tr th:only-of-type {\n",
       "        vertical-align: middle;\n",
       "    }\n",
       "\n",
       "    .dataframe tbody tr th {\n",
       "        vertical-align: top;\n",
       "    }\n",
       "\n",
       "    .dataframe thead th {\n",
       "        text-align: right;\n",
       "    }\n",
       "</style>\n",
       "<table border=\"1\" class=\"dataframe\">\n",
       "  <thead>\n",
       "    <tr style=\"text-align: right;\">\n",
       "      <th></th>\n",
       "      <th>eng_score</th>\n",
       "      <th>exp_score</th>\n",
       "      <th>MSISDN/Number</th>\n",
       "      <th>satisfaction_score</th>\n",
       "    </tr>\n",
       "  </thead>\n",
       "  <tbody>\n",
       "    <tr>\n",
       "      <th>66616</th>\n",
       "      <td>1378226388.64</td>\n",
       "      <td>8395030813.93</td>\n",
       "      <td>33667725464.0</td>\n",
       "      <td>4886628601.28</td>\n",
       "    </tr>\n",
       "    <tr>\n",
       "      <th>6404</th>\n",
       "      <td>8018971553.84</td>\n",
       "      <td>837894589.76</td>\n",
       "      <td>33614892860.0</td>\n",
       "      <td>4428433071.80</td>\n",
       "    </tr>\n",
       "    <tr>\n",
       "      <th>33988</th>\n",
       "      <td>825570617.25</td>\n",
       "      <td>7984807945.08</td>\n",
       "      <td>33659084281.0</td>\n",
       "      <td>4405189281.17</td>\n",
       "    </tr>\n",
       "    <tr>\n",
       "      <th>42210</th>\n",
       "      <td>1344899092.64</td>\n",
       "      <td>7421138802.07</td>\n",
       "      <td>33660977522.0</td>\n",
       "      <td>4383018947.35</td>\n",
       "    </tr>\n",
       "    <tr>\n",
       "      <th>92584</th>\n",
       "      <td>7687518434.37</td>\n",
       "      <td>864698849.65</td>\n",
       "      <td>33760536639.0</td>\n",
       "      <td>4276108642.01</td>\n",
       "    </tr>\n",
       "    <tr>\n",
       "      <th>13123</th>\n",
       "      <td>7672381858.26</td>\n",
       "      <td>868387358.80</td>\n",
       "      <td>33625779332.0</td>\n",
       "      <td>4270384608.53</td>\n",
       "    </tr>\n",
       "    <tr>\n",
       "      <th>97859</th>\n",
       "      <td>2435679933.13</td>\n",
       "      <td>5937821372.65</td>\n",
       "      <td>33762644658.0</td>\n",
       "      <td>4186750652.89</td>\n",
       "    </tr>\n",
       "    <tr>\n",
       "      <th>13467</th>\n",
       "      <td>7143911538.74</td>\n",
       "      <td>861012788.29</td>\n",
       "      <td>33626320676.0</td>\n",
       "      <td>4002462163.52</td>\n",
       "    </tr>\n",
       "    <tr>\n",
       "      <th>76077</th>\n",
       "      <td>7063851227.03</td>\n",
       "      <td>844068022.33</td>\n",
       "      <td>33675877202.0</td>\n",
       "      <td>3953959624.68</td>\n",
       "    </tr>\n",
       "    <tr>\n",
       "      <th>36909</th>\n",
       "      <td>6878602924.04</td>\n",
       "      <td>831915070.17</td>\n",
       "      <td>33659725664.0</td>\n",
       "      <td>3855258997.11</td>\n",
       "    </tr>\n",
       "  </tbody>\n",
       "</table>\n",
       "</div>"
      ],
      "text/plain": [
       "          eng_score     exp_score  MSISDN/Number  satisfaction_score\n",
       "66616 1378226388.64 8395030813.93  33667725464.0       4886628601.28\n",
       "6404  8018971553.84  837894589.76  33614892860.0       4428433071.80\n",
       "33988  825570617.25 7984807945.08  33659084281.0       4405189281.17\n",
       "42210 1344899092.64 7421138802.07  33660977522.0       4383018947.35\n",
       "92584 7687518434.37  864698849.65  33760536639.0       4276108642.01\n",
       "13123 7672381858.26  868387358.80  33625779332.0       4270384608.53\n",
       "97859 2435679933.13 5937821372.65  33762644658.0       4186750652.89\n",
       "13467 7143911538.74  861012788.29  33626320676.0       4002462163.52\n",
       "76077 7063851227.03  844068022.33  33675877202.0       3953959624.68\n",
       "36909 6878602924.04  831915070.17  33659725664.0       3855258997.11"
      ]
     },
     "execution_count": 137,
     "metadata": {},
     "output_type": "execute_result"
    }
   ],
   "source": [
    "top_10_satisfied_customers = satisfaction.nlargest(n=10, columns=[\"satisfaction_score\"])\n",
    "top_10_satisfied_customers"
   ]
  },
  {
   "cell_type": "code",
   "execution_count": 154,
   "metadata": {},
   "outputs": [
    {
     "data": {
      "image/png": "[encoded data removed]",
      "text/plain": [
       "<Figure size 1440x720 with 1 Axes>"
      ]
     },
     "metadata": {},
     "output_type": "display_data"
    }
   ],
   "source": [
    "top_10_satisfied_customers.plot(kind=\"barh\", figsize=(20, 10), x=\"MSISDN/Number\", y=\"satisfaction_score\").invert_yaxis()"
   ]
  },
  {
   "cell_type": "code",
   "execution_count": 156,
   "metadata": {},
   "outputs": [
    {
     "data": {
      "text/plain": [
       "array([1, 0, 1, ..., 0, 1, 0])"
      ]
     },
     "execution_count": 156,
     "metadata": {},
     "output_type": "execute_result"
    }
   ],
   "source": [
    "satisfaction_kmeans = KMeans(n_clusters=2)\n",
    "satisfaction_kmeans.fit_predict(satisfaction[[\"eng_score\", \"exp_score\"]])"
   ]
  },
  {
   "cell_type": "code",
   "execution_count": 157,
   "metadata": {},
   "outputs": [],
   "source": [
    "satisfaction[\"Cluster\"] = satisfaction_kmeans.labels_"
   ]
  },
  {
   "cell_type": "code",
   "execution_count": 158,
   "metadata": {},
   "outputs": [
    {
     "data": {
      "text/html": [
       "<div>\n",
       "<style scoped>\n",
       "    .dataframe tbody tr th:only-of-type {\n",
       "        vertical-align: middle;\n",
       "    }\n",
       "\n",
       "    .dataframe tbody tr th {\n",
       "        vertical-align: top;\n",
       "    }\n",
       "\n",
       "    .dataframe thead th {\n",
       "        text-align: right;\n",
       "    }\n",
       "</style>\n",
       "<table border=\"1\" class=\"dataframe\">\n",
       "  <thead>\n",
       "    <tr style=\"text-align: right;\">\n",
       "      <th></th>\n",
       "      <th>eng_score</th>\n",
       "      <th>exp_score</th>\n",
       "      <th>MSISDN/Number</th>\n",
       "      <th>satisfaction_score</th>\n",
       "      <th>Cluster</th>\n",
       "    </tr>\n",
       "  </thead>\n",
       "  <tbody>\n",
       "    <tr>\n",
       "      <th>0</th>\n",
       "      <td>51429616.39</td>\n",
       "      <td>827547502.45</td>\n",
       "      <td>33601001722.0</td>\n",
       "      <td>439488559.42</td>\n",
       "      <td>1</td>\n",
       "    </tr>\n",
       "    <tr>\n",
       "      <th>1</th>\n",
       "      <td>670401320.81</td>\n",
       "      <td>827547479.46</td>\n",
       "      <td>33601001754.0</td>\n",
       "      <td>748974400.13</td>\n",
       "      <td>0</td>\n",
       "    </tr>\n",
       "    <tr>\n",
       "      <th>2</th>\n",
       "      <td>231294479.52</td>\n",
       "      <td>827547481.44</td>\n",
       "      <td>33601002511.0</td>\n",
       "      <td>529420980.48</td>\n",
       "      <td>1</td>\n",
       "    </tr>\n",
       "    <tr>\n",
       "      <th>3</th>\n",
       "      <td>404940274.31</td>\n",
       "      <td>827261086.49</td>\n",
       "      <td>33601007832.0</td>\n",
       "      <td>616100680.40</td>\n",
       "      <td>1</td>\n",
       "    </tr>\n",
       "    <tr>\n",
       "      <th>4</th>\n",
       "      <td>630149989.77</td>\n",
       "      <td>827790380.43</td>\n",
       "      <td>33601008617.0</td>\n",
       "      <td>728970185.10</td>\n",
       "      <td>0</td>\n",
       "    </tr>\n",
       "    <tr>\n",
       "      <th>...</th>\n",
       "      <td>...</td>\n",
       "      <td>...</td>\n",
       "      <td>...</td>\n",
       "      <td>...</td>\n",
       "      <td>...</td>\n",
       "    </tr>\n",
       "    <tr>\n",
       "      <th>106466</th>\n",
       "      <td>112619396.85</td>\n",
       "      <td>827250637.90</td>\n",
       "      <td>33789996170.0</td>\n",
       "      <td>469935017.38</td>\n",
       "      <td>1</td>\n",
       "    </tr>\n",
       "    <tr>\n",
       "      <th>106467</th>\n",
       "      <td>346953627.49</td>\n",
       "      <td>827547462.46</td>\n",
       "      <td>33789997247.0</td>\n",
       "      <td>587250544.97</td>\n",
       "      <td>1</td>\n",
       "    </tr>\n",
       "    <tr>\n",
       "      <th>106468</th>\n",
       "      <td>595137449.41</td>\n",
       "      <td>827547577.41</td>\n",
       "      <td>3197020876596.0</td>\n",
       "      <td>711342513.41</td>\n",
       "      <td>0</td>\n",
       "    </tr>\n",
       "    <tr>\n",
       "      <th>106469</th>\n",
       "      <td>230973166.58</td>\n",
       "      <td>827547545.42</td>\n",
       "      <td>337000037000919.0</td>\n",
       "      <td>529260356.00</td>\n",
       "      <td>1</td>\n",
       "    </tr>\n",
       "    <tr>\n",
       "      <th>106470</th>\n",
       "      <td>688107704.49</td>\n",
       "      <td>827547576.41</td>\n",
       "      <td>882397108489451.0</td>\n",
       "      <td>757827640.45</td>\n",
       "      <td>0</td>\n",
       "    </tr>\n",
       "  </tbody>\n",
       "</table>\n",
       "<p>106471 rows × 5 columns</p>\n",
       "</div>"
      ],
      "text/plain": [
       "          eng_score    exp_score      MSISDN/Number  satisfaction_score  \\\n",
       "0       51429616.39 827547502.45      33601001722.0        439488559.42   \n",
       "1      670401320.81 827547479.46      33601001754.0        748974400.13   \n",
       "2      231294479.52 827547481.44      33601002511.0        529420980.48   \n",
       "3      404940274.31 827261086.49      33601007832.0        616100680.40   \n",
       "4      630149989.77 827790380.43      33601008617.0        728970185.10   \n",
       "...             ...          ...                ...                 ...   \n",
       "106466 112619396.85 827250637.90      33789996170.0        469935017.38   \n",
       "106467 346953627.49 827547462.46      33789997247.0        587250544.97   \n",
       "106468 595137449.41 827547577.41    3197020876596.0        711342513.41   \n",
       "106469 230973166.58 827547545.42  337000037000919.0        529260356.00   \n",
       "106470 688107704.49 827547576.41  882397108489451.0        757827640.45   \n",
       "\n",
       "        Cluster  \n",
       "0             1  \n",
       "1             0  \n",
       "2             1  \n",
       "3             1  \n",
       "4             0  \n",
       "...         ...  \n",
       "106466        1  \n",
       "106467        1  \n",
       "106468        0  \n",
       "106469        1  \n",
       "106470        0  \n",
       "\n",
       "[106471 rows x 5 columns]"
      ]
     },
     "execution_count": 158,
     "metadata": {},
     "output_type": "execute_result"
    }
   ],
   "source": [
    "satisfaction"
   ]
  },
  {
   "cell_type": "code",
   "execution_count": 159,
   "metadata": {},
   "outputs": [],
   "source": [
    "satisfation_agg = satisfaction.groupby(by=\"Cluster\").agg({\"eng_score\": \"sum\", \"exp_score\": \"sum\"})"
   ]
  },
  {
   "cell_type": "code",
   "execution_count": 160,
   "metadata": {},
   "outputs": [
    {
     "data": {
      "text/html": [
       "<div>\n",
       "<style scoped>\n",
       "    .dataframe tbody tr th:only-of-type {\n",
       "        vertical-align: middle;\n",
       "    }\n",
       "\n",
       "    .dataframe tbody tr th {\n",
       "        vertical-align: top;\n",
       "    }\n",
       "\n",
       "    .dataframe thead th {\n",
       "        text-align: right;\n",
       "    }\n",
       "</style>\n",
       "<table border=\"1\" class=\"dataframe\">\n",
       "  <thead>\n",
       "    <tr style=\"text-align: right;\">\n",
       "      <th></th>\n",
       "      <th>eng_score</th>\n",
       "      <th>exp_score</th>\n",
       "    </tr>\n",
       "    <tr>\n",
       "      <th>Cluster</th>\n",
       "      <th></th>\n",
       "      <th></th>\n",
       "    </tr>\n",
       "  </thead>\n",
       "  <tbody>\n",
       "    <tr>\n",
       "      <th>0</th>\n",
       "      <td>27698415448599.50</td>\n",
       "      <td>33371047486592.13</td>\n",
       "    </tr>\n",
       "    <tr>\n",
       "      <th>1</th>\n",
       "      <td>13042885749309.34</td>\n",
       "      <td>55384637543759.84</td>\n",
       "    </tr>\n",
       "  </tbody>\n",
       "</table>\n",
       "</div>"
      ],
      "text/plain": [
       "                eng_score         exp_score\n",
       "Cluster                                    \n",
       "0       27698415448599.50 33371047486592.13\n",
       "1       13042885749309.34 55384637543759.84"
      ]
     },
     "execution_count": 160,
     "metadata": {},
     "output_type": "execute_result"
    }
   ],
   "source": [
    "satisfation_agg"
   ]
  },
  {
   "cell_type": "code",
   "execution_count": 163,
   "metadata": {},
   "outputs": [],
   "source": [
    "final_table = satisfaction[[\"MSISDN/Number\", \"eng_score\", \"exp_score\", \"satisfaction_score\"]]"
   ]
  },
  {
   "cell_type": "code",
   "execution_count": 164,
   "metadata": {},
   "outputs": [
    {
     "data": {
      "text/html": [
       "<div>\n",
       "<style scoped>\n",
       "    .dataframe tbody tr th:only-of-type {\n",
       "        vertical-align: middle;\n",
       "    }\n",
       "\n",
       "    .dataframe tbody tr th {\n",
       "        vertical-align: top;\n",
       "    }\n",
       "\n",
       "    .dataframe thead th {\n",
       "        text-align: right;\n",
       "    }\n",
       "</style>\n",
       "<table border=\"1\" class=\"dataframe\">\n",
       "  <thead>\n",
       "    <tr style=\"text-align: right;\">\n",
       "      <th></th>\n",
       "      <th>MSISDN/Number</th>\n",
       "      <th>eng_score</th>\n",
       "      <th>exp_score</th>\n",
       "      <th>satisfaction_score</th>\n",
       "    </tr>\n",
       "  </thead>\n",
       "  <tbody>\n",
       "    <tr>\n",
       "      <th>0</th>\n",
       "      <td>33601001722.0</td>\n",
       "      <td>51429616.39</td>\n",
       "      <td>827547502.45</td>\n",
       "      <td>439488559.42</td>\n",
       "    </tr>\n",
       "    <tr>\n",
       "      <th>1</th>\n",
       "      <td>33601001754.0</td>\n",
       "      <td>670401320.81</td>\n",
       "      <td>827547479.46</td>\n",
       "      <td>748974400.13</td>\n",
       "    </tr>\n",
       "    <tr>\n",
       "      <th>2</th>\n",
       "      <td>33601002511.0</td>\n",
       "      <td>231294479.52</td>\n",
       "      <td>827547481.44</td>\n",
       "      <td>529420980.48</td>\n",
       "    </tr>\n",
       "    <tr>\n",
       "      <th>3</th>\n",
       "      <td>33601007832.0</td>\n",
       "      <td>404940274.31</td>\n",
       "      <td>827261086.49</td>\n",
       "      <td>616100680.40</td>\n",
       "    </tr>\n",
       "    <tr>\n",
       "      <th>4</th>\n",
       "      <td>33601008617.0</td>\n",
       "      <td>630149989.77</td>\n",
       "      <td>827790380.43</td>\n",
       "      <td>728970185.10</td>\n",
       "    </tr>\n",
       "    <tr>\n",
       "      <th>...</th>\n",
       "      <td>...</td>\n",
       "      <td>...</td>\n",
       "      <td>...</td>\n",
       "      <td>...</td>\n",
       "    </tr>\n",
       "    <tr>\n",
       "      <th>106466</th>\n",
       "      <td>33789996170.0</td>\n",
       "      <td>112619396.85</td>\n",
       "      <td>827250637.90</td>\n",
       "      <td>469935017.38</td>\n",
       "    </tr>\n",
       "    <tr>\n",
       "      <th>106467</th>\n",
       "      <td>33789997247.0</td>\n",
       "      <td>346953627.49</td>\n",
       "      <td>827547462.46</td>\n",
       "      <td>587250544.97</td>\n",
       "    </tr>\n",
       "    <tr>\n",
       "      <th>106468</th>\n",
       "      <td>3197020876596.0</td>\n",
       "      <td>595137449.41</td>\n",
       "      <td>827547577.41</td>\n",
       "      <td>711342513.41</td>\n",
       "    </tr>\n",
       "    <tr>\n",
       "      <th>106469</th>\n",
       "      <td>337000037000919.0</td>\n",
       "      <td>230973166.58</td>\n",
       "      <td>827547545.42</td>\n",
       "      <td>529260356.00</td>\n",
       "    </tr>\n",
       "    <tr>\n",
       "      <th>106470</th>\n",
       "      <td>882397108489451.0</td>\n",
       "      <td>688107704.49</td>\n",
       "      <td>827547576.41</td>\n",
       "      <td>757827640.45</td>\n",
       "    </tr>\n",
       "  </tbody>\n",
       "</table>\n",
       "<p>106471 rows × 4 columns</p>\n",
       "</div>"
      ],
      "text/plain": [
       "            MSISDN/Number    eng_score    exp_score  satisfaction_score\n",
       "0           33601001722.0  51429616.39 827547502.45        439488559.42\n",
       "1           33601001754.0 670401320.81 827547479.46        748974400.13\n",
       "2           33601002511.0 231294479.52 827547481.44        529420980.48\n",
       "3           33601007832.0 404940274.31 827261086.49        616100680.40\n",
       "4           33601008617.0 630149989.77 827790380.43        728970185.10\n",
       "...                   ...          ...          ...                 ...\n",
       "106466      33789996170.0 112619396.85 827250637.90        469935017.38\n",
       "106467      33789997247.0 346953627.49 827547462.46        587250544.97\n",
       "106468    3197020876596.0 595137449.41 827547577.41        711342513.41\n",
       "106469  337000037000919.0 230973166.58 827547545.42        529260356.00\n",
       "106470  882397108489451.0 688107704.49 827547576.41        757827640.45\n",
       "\n",
       "[106471 rows x 4 columns]"
      ]
     },
     "execution_count": 164,
     "metadata": {},
     "output_type": "execute_result"
    }
   ],
   "source": [
    "final_table"
   ]
  }
 ],
 "metadata": {
  "interpreter": {
   "hash": "63fd5069d213b44bf678585dea6b12cceca9941eaf7f819626cde1f2670de90d"
  },
  "kernelspec": {
   "display_name": "Python 3.9.6 64-bit",
   "language": "python",
   "name": "python3"
  },
  "language_info": {
   "codemirror_mode": {
    "name": "ipython",
    "version": 3
   },
   "file_extension": ".py",
   "mimetype": "text/x-python",
   "name": "python",
   "nbconvert_exporter": "python",
   "pygments_lexer": "ipython3",
   "version": "3.9.6"
  },
  "orig_nbformat": 4
 },
 "nbformat": 4,
 "nbformat_minor": 2
}
